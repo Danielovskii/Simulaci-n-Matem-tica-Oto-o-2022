{
 "cells": [
  {
   "cell_type": "markdown",
   "id": "9ea011cf",
   "metadata": {},
   "source": [
    "# Proyecto 1: Ajuste de curvas para encontrar modelos que nos permitan predecir precios de empresas \n",
    "## Simulación Matemática O2022"
   ]
  },
  {
   "cell_type": "markdown",
   "id": "dd14421e",
   "metadata": {},
   "source": [
    "---"
   ]
  },
  {
   "cell_type": "markdown",
   "id": "ce3d8ddd",
   "metadata": {},
   "source": [
    "## Integrantes:\n",
    "- Maximiliano Jiménez Ramírez\n",
    "- Daniel Ramos Van Der Hoek\n",
    "- Daniel Sánchez López\n"
   ]
  },
  {
   "cell_type": "markdown",
   "id": "2e0358f3",
   "metadata": {},
   "source": [
    "---"
   ]
  },
  {
   "cell_type": "markdown",
   "id": "8fe2a978",
   "metadata": {},
   "source": [
    "## Objetivos:"
   ]
  },
  {
   "cell_type": "markdown",
   "id": "7d1761b5",
   "metadata": {},
   "source": [
    "**Obejtivo general:**\n",
    "\n",
    "En este proyecto, utilizaremos el ***ajuste de curvas*** para encontrar modelos representativos que nos permitan predecir el precio de las acciones de 5 empresas para los siguientes 4 meses, así como utilizar el ajuste de curvas para proponer modelos representativos que mejor se ajusten a los precios de cada empresa, y poder así, obtener las predicciones más precisas posibles. Las empresas presentadas en este proyecto cotizan en la Bolsa de Valores de Nueva York. Las empresas son las siguientes:\n",
    "\n",
    "1. Apple Inc (AAPL)\n",
    "2. Microsoft Corp (MSFT)\n",
    "3. Nike Inc (NKE)\n",
    "4. Starbucks Corp (SBUX)\n",
    "5. Tesla Inc (TSLA)\n",
    "\n",
    "**Objetivos específicos:**\n",
    "\n",
    "Los datos van a ser obtenidos de páginas financieras, usaremos Yahoo Finance e Investing.com y también nos estaremos apoyando de Factset, y de la página de la NYSE (New York Stock Exchange). Todos los datos sobre los precios de las acciones obtenidos, los acomodaremos en un archivo de excel al que llamaremos, ***PreciosProyecto1.xlsx***. De este archivo de excel nos apoyaremos en la codificación del proyecto.\n",
    "\n",
    "Se analizará cada empresa por separado, proponiendo diferentes modelos para cada una de las empresas.\n",
    "\n",
    "Vamos a utilizar los precios al cierre por mes, ya que vamos a obtener una buena representación del ajuste de curvas, y la interpretación de los resultados va a ser más rápida, aparte de que si usamos los precios diarios, tendríamos una gran cantidad de datos y necesitaríamos modelos de mayor grado. Por lo que al momento de codificar, podemos tener problemas con la graficación de los puntos y de los modelos.\n",
    "\n",
    "Se van a proponer modelos con polinomios de grado 3 como mínimo grado, y modelos con polinomios de grado 7 como máximo, ya que consideramos que, de usar modelos con grados mayores, podríamos estar realizando un sobreajuste (*overfitting*), aparte que consideramos que para los propósitos que tiene este proyecto, un polinomio de grado 7 va a ser suficiente para obtener un modelo representativo."
   ]
  },
  {
   "cell_type": "markdown",
   "id": "66b0b297",
   "metadata": {},
   "source": [
    "---"
   ]
  },
  {
   "cell_type": "markdown",
   "id": "a5440f92",
   "metadata": {},
   "source": [
    "# Apple Inc.\n",
    "\n",
    "Empezaremos por orden alfabético, por lo tanto, la primera empresa que utilizaremos será Apple.\n",
    "\n",
    "Los datos de los precios de la accción de Apple en los últimos meses se obtuvieron de *Investing.com* y se cotejaron con *Factset* para verificar los datos."
   ]
  },
  {
   "cell_type": "markdown",
   "id": "2e69d064",
   "metadata": {},
   "source": [
    "Primero importamos las librerías para trabajar en el tema de ajuste de curvas. Las librerías que utilzaremos serán:\n",
    "- Numpy\n",
    "- Pandas\n",
    "- Matplotlib (Pyplot)\n",
    "- Scipy (optimize)"
   ]
  },
  {
   "cell_type": "markdown",
   "id": "415f6246",
   "metadata": {},
   "source": [
    "**Modelo que representa el problema:**\n",
    "\n",
    "Se va a realizar el ajuste de curvas.\n",
    "Necesitamos las librerías para poder trabajar con ajuste de curvas. Necesitaremos un archivo de excel donde están los precios de la acción de cada empresa y leeremos el archivo de excel utilizando `pandas`. Después vamos a usar `numpy` para ordenar los datos de los precios de las acciones como un arreglo numérico y de esta manera poder trabajar con los datos. Después utilizaremos funciones de python junto con operaciones de álgebra lineal para definir los modelos para realizar el ajuste de curvas. Y al final usaremos `scipy.optimize` para encontrar las betas o los pesos de cada modelo. Y por último usaremos la librería de `matplotlib` para graficar los resultados obtenidos"
   ]
  },
  {
   "cell_type": "code",
   "execution_count": 1,
   "id": "0872a823",
   "metadata": {},
   "outputs": [],
   "source": [
    "# Importar librerias\n",
    "\n",
    "import numpy as np\n",
    "import pandas as pd\n",
    "import matplotlib.pyplot as plt\n",
    "import scipy.optimize as opt"
   ]
  },
  {
   "cell_type": "markdown",
   "id": "5f67f8f1",
   "metadata": {},
   "source": [
    "- Utilizamos la librería de Pandas `pd.read_excel` para leer el archivo de excel"
   ]
  },
  {
   "cell_type": "code",
   "execution_count": 2,
   "id": "3d8f9104",
   "metadata": {},
   "outputs": [],
   "source": [
    "data1 = pd.read_excel('PreciosProyecto1.xlsx')"
   ]
  },
  {
   "cell_type": "markdown",
   "id": "b6d3958b",
   "metadata": {},
   "source": [
    "- Leemos la variable `data1` "
   ]
  },
  {
   "cell_type": "code",
   "execution_count": 3,
   "id": "45a33420",
   "metadata": {
    "scrolled": true
   },
   "outputs": [
    {
     "data": {
      "text/html": [
       "<div>\n",
       "<style scoped>\n",
       "    .dataframe tbody tr th:only-of-type {\n",
       "        vertical-align: middle;\n",
       "    }\n",
       "\n",
       "    .dataframe tbody tr th {\n",
       "        vertical-align: top;\n",
       "    }\n",
       "\n",
       "    .dataframe thead th {\n",
       "        text-align: right;\n",
       "    }\n",
       "</style>\n",
       "<table border=\"1\" class=\"dataframe\">\n",
       "  <thead>\n",
       "    <tr style=\"text-align: right;\">\n",
       "      <th></th>\n",
       "      <th>Fecha</th>\n",
       "      <th>Precios Apple</th>\n",
       "      <th>Unnamed: 2</th>\n",
       "      <th>Fecha.1</th>\n",
       "      <th>Precios Microsoft</th>\n",
       "      <th>Unnamed: 5</th>\n",
       "      <th>Fecha.2</th>\n",
       "      <th>Precios Nike</th>\n",
       "      <th>Unnamed: 8</th>\n",
       "      <th>Fecha.3</th>\n",
       "      <th>Precios Starbucks</th>\n",
       "      <th>Unnamed: 11</th>\n",
       "      <th>Fecha.4</th>\n",
       "      <th>Precios Tesla</th>\n",
       "    </tr>\n",
       "  </thead>\n",
       "  <tbody>\n",
       "    <tr>\n",
       "      <th>0</th>\n",
       "      <td>01 de enero de 2021</td>\n",
       "      <td>131.96</td>\n",
       "      <td>NaN</td>\n",
       "      <td>01 de enero de 2021</td>\n",
       "      <td>231.96</td>\n",
       "      <td>NaN</td>\n",
       "      <td>01 de enero de 2021</td>\n",
       "      <td>133.59</td>\n",
       "      <td>NaN</td>\n",
       "      <td>01 de enero de 2021</td>\n",
       "      <td>96.81</td>\n",
       "      <td>NaN</td>\n",
       "      <td>01 de enero de 2021</td>\n",
       "      <td>264.51</td>\n",
       "    </tr>\n",
       "    <tr>\n",
       "      <th>1</th>\n",
       "      <td>01 de febrero de 2021</td>\n",
       "      <td>121.26</td>\n",
       "      <td>NaN</td>\n",
       "      <td>01 de febrero de 2021</td>\n",
       "      <td>232.38</td>\n",
       "      <td>NaN</td>\n",
       "      <td>01 de febrero de 2021</td>\n",
       "      <td>134.78</td>\n",
       "      <td>NaN</td>\n",
       "      <td>01 de febrero de 2021</td>\n",
       "      <td>108.03</td>\n",
       "      <td>NaN</td>\n",
       "      <td>01 de febrero de 2021</td>\n",
       "      <td>225.17</td>\n",
       "    </tr>\n",
       "    <tr>\n",
       "      <th>2</th>\n",
       "      <td>01 de marzo de 2021</td>\n",
       "      <td>122.15</td>\n",
       "      <td>NaN</td>\n",
       "      <td>01 de marzo de 2021</td>\n",
       "      <td>235.77</td>\n",
       "      <td>NaN</td>\n",
       "      <td>01 de marzo de 2021</td>\n",
       "      <td>132.89</td>\n",
       "      <td>NaN</td>\n",
       "      <td>01 de marzo de 2021</td>\n",
       "      <td>109.27</td>\n",
       "      <td>NaN</td>\n",
       "      <td>01 de marzo de 2021</td>\n",
       "      <td>222.64</td>\n",
       "    </tr>\n",
       "    <tr>\n",
       "      <th>3</th>\n",
       "      <td>01 de abril de 2021</td>\n",
       "      <td>131.46</td>\n",
       "      <td>NaN</td>\n",
       "      <td>01 de abril de 2021</td>\n",
       "      <td>252.18</td>\n",
       "      <td>NaN</td>\n",
       "      <td>01 de abril de 2021</td>\n",
       "      <td>132.62</td>\n",
       "      <td>NaN</td>\n",
       "      <td>01 de abril de 2021</td>\n",
       "      <td>114.49</td>\n",
       "      <td>NaN</td>\n",
       "      <td>01 de abril de 2021</td>\n",
       "      <td>236.48</td>\n",
       "    </tr>\n",
       "    <tr>\n",
       "      <th>4</th>\n",
       "      <td>01 de mayo de 2021</td>\n",
       "      <td>124.61</td>\n",
       "      <td>NaN</td>\n",
       "      <td>01 de mayo de 2021</td>\n",
       "      <td>249.68</td>\n",
       "      <td>NaN</td>\n",
       "      <td>01 de mayo de 2021</td>\n",
       "      <td>136.46</td>\n",
       "      <td>NaN</td>\n",
       "      <td>01 de mayo de 2021</td>\n",
       "      <td>113.88</td>\n",
       "      <td>NaN</td>\n",
       "      <td>01 de mayo de 2021</td>\n",
       "      <td>208.41</td>\n",
       "    </tr>\n",
       "    <tr>\n",
       "      <th>5</th>\n",
       "      <td>01 de junio de 2021</td>\n",
       "      <td>136.96</td>\n",
       "      <td>NaN</td>\n",
       "      <td>01 de junio de 2021</td>\n",
       "      <td>270.90</td>\n",
       "      <td>NaN</td>\n",
       "      <td>01 de junio de 2021</td>\n",
       "      <td>154.49</td>\n",
       "      <td>NaN</td>\n",
       "      <td>01 de junio de 2021</td>\n",
       "      <td>111.81</td>\n",
       "      <td>NaN</td>\n",
       "      <td>01 de junio de 2021</td>\n",
       "      <td>226.57</td>\n",
       "    </tr>\n",
       "    <tr>\n",
       "      <th>6</th>\n",
       "      <td>01 de julio de 2021</td>\n",
       "      <td>145.86</td>\n",
       "      <td>NaN</td>\n",
       "      <td>01 de julio de 2021</td>\n",
       "      <td>284.91</td>\n",
       "      <td>NaN</td>\n",
       "      <td>01 de julio de 2021</td>\n",
       "      <td>167.51</td>\n",
       "      <td>NaN</td>\n",
       "      <td>01 de julio de 2021</td>\n",
       "      <td>121.43</td>\n",
       "      <td>NaN</td>\n",
       "      <td>01 de julio de 2021</td>\n",
       "      <td>229.07</td>\n",
       "    </tr>\n",
       "    <tr>\n",
       "      <th>7</th>\n",
       "      <td>01 de agosto de 2021</td>\n",
       "      <td>151.83</td>\n",
       "      <td>NaN</td>\n",
       "      <td>01 de agosto de 2021</td>\n",
       "      <td>301.88</td>\n",
       "      <td>NaN</td>\n",
       "      <td>01 de agosto de 2021</td>\n",
       "      <td>164.74</td>\n",
       "      <td>NaN</td>\n",
       "      <td>01 de agosto de 2021</td>\n",
       "      <td>117.49</td>\n",
       "      <td>NaN</td>\n",
       "      <td>01 de agosto de 2021</td>\n",
       "      <td>245.24</td>\n",
       "    </tr>\n",
       "    <tr>\n",
       "      <th>8</th>\n",
       "      <td>01 de septiembre de 2021</td>\n",
       "      <td>141.50</td>\n",
       "      <td>NaN</td>\n",
       "      <td>01 de septiembre de 2021</td>\n",
       "      <td>281.92</td>\n",
       "      <td>NaN</td>\n",
       "      <td>01 de septiembre de 2021</td>\n",
       "      <td>145.23</td>\n",
       "      <td>NaN</td>\n",
       "      <td>01 de septiembre de 2021</td>\n",
       "      <td>110.31</td>\n",
       "      <td>NaN</td>\n",
       "      <td>01 de septiembre de 2021</td>\n",
       "      <td>258.49</td>\n",
       "    </tr>\n",
       "    <tr>\n",
       "      <th>9</th>\n",
       "      <td>01 de octubre de 2021</td>\n",
       "      <td>149.80</td>\n",
       "      <td>NaN</td>\n",
       "      <td>01 de octubre de 2021</td>\n",
       "      <td>331.62</td>\n",
       "      <td>NaN</td>\n",
       "      <td>01 de octubre de 2021</td>\n",
       "      <td>167.29</td>\n",
       "      <td>NaN</td>\n",
       "      <td>01 de octubre de 2021</td>\n",
       "      <td>106.07</td>\n",
       "      <td>NaN</td>\n",
       "      <td>01 de octubre de 2021</td>\n",
       "      <td>371.33</td>\n",
       "    </tr>\n",
       "    <tr>\n",
       "      <th>10</th>\n",
       "      <td>01 de noviembre de 2021</td>\n",
       "      <td>165.30</td>\n",
       "      <td>NaN</td>\n",
       "      <td>01 de noviembre de 2021</td>\n",
       "      <td>330.59</td>\n",
       "      <td>NaN</td>\n",
       "      <td>01 de noviembre de 2021</td>\n",
       "      <td>169.24</td>\n",
       "      <td>NaN</td>\n",
       "      <td>01 de noviembre de 2021</td>\n",
       "      <td>109.64</td>\n",
       "      <td>NaN</td>\n",
       "      <td>01 de noviembre de 2021</td>\n",
       "      <td>381.59</td>\n",
       "    </tr>\n",
       "    <tr>\n",
       "      <th>11</th>\n",
       "      <td>01 de diciembre 2021</td>\n",
       "      <td>177.57</td>\n",
       "      <td>NaN</td>\n",
       "      <td>01 de diciembre 2021</td>\n",
       "      <td>336.32</td>\n",
       "      <td>NaN</td>\n",
       "      <td>01 de diciembre 2021</td>\n",
       "      <td>166.67</td>\n",
       "      <td>NaN</td>\n",
       "      <td>01 de diciembre 2021</td>\n",
       "      <td>116.97</td>\n",
       "      <td>NaN</td>\n",
       "      <td>01 de diciembre 2021</td>\n",
       "      <td>352.26</td>\n",
       "    </tr>\n",
       "    <tr>\n",
       "      <th>12</th>\n",
       "      <td>01 de enero de 2022</td>\n",
       "      <td>174.78</td>\n",
       "      <td>NaN</td>\n",
       "      <td>01 de enero de 2022</td>\n",
       "      <td>310.98</td>\n",
       "      <td>NaN</td>\n",
       "      <td>01 de enero de 2022</td>\n",
       "      <td>148.07</td>\n",
       "      <td>NaN</td>\n",
       "      <td>01 de enero de 2022</td>\n",
       "      <td>98.32</td>\n",
       "      <td>NaN</td>\n",
       "      <td>01 de enero de 2022</td>\n",
       "      <td>312.24</td>\n",
       "    </tr>\n",
       "    <tr>\n",
       "      <th>13</th>\n",
       "      <td>01 de febrero de 2022</td>\n",
       "      <td>165.12</td>\n",
       "      <td>NaN</td>\n",
       "      <td>01 de febrero de 2022</td>\n",
       "      <td>298.79</td>\n",
       "      <td>NaN</td>\n",
       "      <td>01 de febrero de 2022</td>\n",
       "      <td>136.55</td>\n",
       "      <td>NaN</td>\n",
       "      <td>01 de febrero de 2022</td>\n",
       "      <td>91.79</td>\n",
       "      <td>NaN</td>\n",
       "      <td>01 de febrero de 2022</td>\n",
       "      <td>290.14</td>\n",
       "    </tr>\n",
       "    <tr>\n",
       "      <th>14</th>\n",
       "      <td>01 de marzo de 2022</td>\n",
       "      <td>174.61</td>\n",
       "      <td>NaN</td>\n",
       "      <td>01 de marzo de 2022</td>\n",
       "      <td>308.31</td>\n",
       "      <td>NaN</td>\n",
       "      <td>01 de marzo de 2022</td>\n",
       "      <td>134.56</td>\n",
       "      <td>NaN</td>\n",
       "      <td>01 de marzo de 2022</td>\n",
       "      <td>90.97</td>\n",
       "      <td>NaN</td>\n",
       "      <td>01 de marzo de 2022</td>\n",
       "      <td>359.20</td>\n",
       "    </tr>\n",
       "    <tr>\n",
       "      <th>15</th>\n",
       "      <td>01 de abril de 2022</td>\n",
       "      <td>157.65</td>\n",
       "      <td>NaN</td>\n",
       "      <td>01 de abril de 2022</td>\n",
       "      <td>277.52</td>\n",
       "      <td>NaN</td>\n",
       "      <td>01 de abril de 2022</td>\n",
       "      <td>124.70</td>\n",
       "      <td>NaN</td>\n",
       "      <td>01 de abril de 2022</td>\n",
       "      <td>74.64</td>\n",
       "      <td>NaN</td>\n",
       "      <td>01 de abril de 2022</td>\n",
       "      <td>290.25</td>\n",
       "    </tr>\n",
       "    <tr>\n",
       "      <th>16</th>\n",
       "      <td>01 de mayo de 2022</td>\n",
       "      <td>148.84</td>\n",
       "      <td>NaN</td>\n",
       "      <td>01 de mayo de 2022</td>\n",
       "      <td>271.87</td>\n",
       "      <td>NaN</td>\n",
       "      <td>01 de mayo de 2022</td>\n",
       "      <td>118.85</td>\n",
       "      <td>NaN</td>\n",
       "      <td>01 de mayo de 2022</td>\n",
       "      <td>78.50</td>\n",
       "      <td>NaN</td>\n",
       "      <td>01 de mayo de 2022</td>\n",
       "      <td>252.75</td>\n",
       "    </tr>\n",
       "    <tr>\n",
       "      <th>17</th>\n",
       "      <td>01 de junio de 2022</td>\n",
       "      <td>136.72</td>\n",
       "      <td>NaN</td>\n",
       "      <td>01 de junio de 2022</td>\n",
       "      <td>256.83</td>\n",
       "      <td>NaN</td>\n",
       "      <td>01 de junio de 2022</td>\n",
       "      <td>102.20</td>\n",
       "      <td>NaN</td>\n",
       "      <td>01 de junio de 2022</td>\n",
       "      <td>76.39</td>\n",
       "      <td>NaN</td>\n",
       "      <td>01 de junio de 2022</td>\n",
       "      <td>224.47</td>\n",
       "    </tr>\n",
       "    <tr>\n",
       "      <th>18</th>\n",
       "      <td>01 de julio de 2022</td>\n",
       "      <td>162.51</td>\n",
       "      <td>NaN</td>\n",
       "      <td>01 de julio de 2022</td>\n",
       "      <td>280.56</td>\n",
       "      <td>NaN</td>\n",
       "      <td>01 de julio de 2022</td>\n",
       "      <td>114.92</td>\n",
       "      <td>NaN</td>\n",
       "      <td>01 de julio de 2022</td>\n",
       "      <td>84.78</td>\n",
       "      <td>NaN</td>\n",
       "      <td>01 de julio de 2022</td>\n",
       "      <td>297.15</td>\n",
       "    </tr>\n",
       "    <tr>\n",
       "      <th>19</th>\n",
       "      <td>01 de agosto de 2022</td>\n",
       "      <td>157.22</td>\n",
       "      <td>NaN</td>\n",
       "      <td>01 de agosto de 2022</td>\n",
       "      <td>261.47</td>\n",
       "      <td>NaN</td>\n",
       "      <td>01 de agosto de 2022</td>\n",
       "      <td>106.45</td>\n",
       "      <td>NaN</td>\n",
       "      <td>01 de agosto de 2022</td>\n",
       "      <td>84.07</td>\n",
       "      <td>NaN</td>\n",
       "      <td>01 de agosto de 2022</td>\n",
       "      <td>275.61</td>\n",
       "    </tr>\n",
       "    <tr>\n",
       "      <th>20</th>\n",
       "      <td>01 de septiembre de 2022</td>\n",
       "      <td>156.91</td>\n",
       "      <td>NaN</td>\n",
       "      <td>01 de septiembre de 2022</td>\n",
       "      <td>237.92</td>\n",
       "      <td>NaN</td>\n",
       "      <td>01 de septiembre de 2022</td>\n",
       "      <td>97.02</td>\n",
       "      <td>NaN</td>\n",
       "      <td>01 de septiembre de 2022</td>\n",
       "      <td>84.17</td>\n",
       "      <td>NaN</td>\n",
       "      <td>01 de septiembre de 2022</td>\n",
       "      <td>282.80</td>\n",
       "    </tr>\n",
       "  </tbody>\n",
       "</table>\n",
       "</div>"
      ],
      "text/plain": [
       "                       Fecha  Precios Apple  Unnamed: 2  \\\n",
       "0        01 de enero de 2021         131.96         NaN   \n",
       "1      01 de febrero de 2021         121.26         NaN   \n",
       "2        01 de marzo de 2021         122.15         NaN   \n",
       "3        01 de abril de 2021         131.46         NaN   \n",
       "4         01 de mayo de 2021         124.61         NaN   \n",
       "5        01 de junio de 2021         136.96         NaN   \n",
       "6        01 de julio de 2021         145.86         NaN   \n",
       "7       01 de agosto de 2021         151.83         NaN   \n",
       "8   01 de septiembre de 2021         141.50         NaN   \n",
       "9      01 de octubre de 2021         149.80         NaN   \n",
       "10   01 de noviembre de 2021         165.30         NaN   \n",
       "11      01 de diciembre 2021         177.57         NaN   \n",
       "12       01 de enero de 2022         174.78         NaN   \n",
       "13     01 de febrero de 2022         165.12         NaN   \n",
       "14       01 de marzo de 2022         174.61         NaN   \n",
       "15       01 de abril de 2022         157.65         NaN   \n",
       "16        01 de mayo de 2022         148.84         NaN   \n",
       "17       01 de junio de 2022         136.72         NaN   \n",
       "18       01 de julio de 2022         162.51         NaN   \n",
       "19      01 de agosto de 2022         157.22         NaN   \n",
       "20  01 de septiembre de 2022         156.91         NaN   \n",
       "\n",
       "                     Fecha.1  Precios Microsoft  Unnamed: 5  \\\n",
       "0        01 de enero de 2021             231.96         NaN   \n",
       "1      01 de febrero de 2021             232.38         NaN   \n",
       "2        01 de marzo de 2021             235.77         NaN   \n",
       "3        01 de abril de 2021             252.18         NaN   \n",
       "4         01 de mayo de 2021             249.68         NaN   \n",
       "5        01 de junio de 2021             270.90         NaN   \n",
       "6        01 de julio de 2021             284.91         NaN   \n",
       "7       01 de agosto de 2021             301.88         NaN   \n",
       "8   01 de septiembre de 2021             281.92         NaN   \n",
       "9      01 de octubre de 2021             331.62         NaN   \n",
       "10   01 de noviembre de 2021             330.59         NaN   \n",
       "11      01 de diciembre 2021             336.32         NaN   \n",
       "12       01 de enero de 2022             310.98         NaN   \n",
       "13     01 de febrero de 2022             298.79         NaN   \n",
       "14       01 de marzo de 2022             308.31         NaN   \n",
       "15       01 de abril de 2022             277.52         NaN   \n",
       "16        01 de mayo de 2022             271.87         NaN   \n",
       "17       01 de junio de 2022             256.83         NaN   \n",
       "18       01 de julio de 2022             280.56         NaN   \n",
       "19      01 de agosto de 2022             261.47         NaN   \n",
       "20  01 de septiembre de 2022             237.92         NaN   \n",
       "\n",
       "                     Fecha.2  Precios Nike  Unnamed: 8  \\\n",
       "0        01 de enero de 2021        133.59         NaN   \n",
       "1      01 de febrero de 2021        134.78         NaN   \n",
       "2        01 de marzo de 2021        132.89         NaN   \n",
       "3        01 de abril de 2021        132.62         NaN   \n",
       "4         01 de mayo de 2021        136.46         NaN   \n",
       "5        01 de junio de 2021        154.49         NaN   \n",
       "6        01 de julio de 2021        167.51         NaN   \n",
       "7       01 de agosto de 2021        164.74         NaN   \n",
       "8   01 de septiembre de 2021        145.23         NaN   \n",
       "9      01 de octubre de 2021        167.29         NaN   \n",
       "10   01 de noviembre de 2021        169.24         NaN   \n",
       "11      01 de diciembre 2021        166.67         NaN   \n",
       "12       01 de enero de 2022        148.07         NaN   \n",
       "13     01 de febrero de 2022        136.55         NaN   \n",
       "14       01 de marzo de 2022        134.56         NaN   \n",
       "15       01 de abril de 2022        124.70         NaN   \n",
       "16        01 de mayo de 2022        118.85         NaN   \n",
       "17       01 de junio de 2022        102.20         NaN   \n",
       "18       01 de julio de 2022        114.92         NaN   \n",
       "19      01 de agosto de 2022        106.45         NaN   \n",
       "20  01 de septiembre de 2022         97.02         NaN   \n",
       "\n",
       "                     Fecha.3  Precios Starbucks  Unnamed: 11  \\\n",
       "0        01 de enero de 2021              96.81          NaN   \n",
       "1      01 de febrero de 2021             108.03          NaN   \n",
       "2        01 de marzo de 2021             109.27          NaN   \n",
       "3        01 de abril de 2021             114.49          NaN   \n",
       "4         01 de mayo de 2021             113.88          NaN   \n",
       "5        01 de junio de 2021             111.81          NaN   \n",
       "6        01 de julio de 2021             121.43          NaN   \n",
       "7       01 de agosto de 2021             117.49          NaN   \n",
       "8   01 de septiembre de 2021             110.31          NaN   \n",
       "9      01 de octubre de 2021             106.07          NaN   \n",
       "10   01 de noviembre de 2021             109.64          NaN   \n",
       "11      01 de diciembre 2021             116.97          NaN   \n",
       "12       01 de enero de 2022              98.32          NaN   \n",
       "13     01 de febrero de 2022              91.79          NaN   \n",
       "14       01 de marzo de 2022              90.97          NaN   \n",
       "15       01 de abril de 2022              74.64          NaN   \n",
       "16        01 de mayo de 2022              78.50          NaN   \n",
       "17       01 de junio de 2022              76.39          NaN   \n",
       "18       01 de julio de 2022              84.78          NaN   \n",
       "19      01 de agosto de 2022              84.07          NaN   \n",
       "20  01 de septiembre de 2022              84.17          NaN   \n",
       "\n",
       "                     Fecha.4  Precios Tesla  \n",
       "0        01 de enero de 2021         264.51  \n",
       "1      01 de febrero de 2021         225.17  \n",
       "2        01 de marzo de 2021         222.64  \n",
       "3        01 de abril de 2021         236.48  \n",
       "4         01 de mayo de 2021         208.41  \n",
       "5        01 de junio de 2021         226.57  \n",
       "6        01 de julio de 2021         229.07  \n",
       "7       01 de agosto de 2021         245.24  \n",
       "8   01 de septiembre de 2021         258.49  \n",
       "9      01 de octubre de 2021         371.33  \n",
       "10   01 de noviembre de 2021         381.59  \n",
       "11      01 de diciembre 2021         352.26  \n",
       "12       01 de enero de 2022         312.24  \n",
       "13     01 de febrero de 2022         290.14  \n",
       "14       01 de marzo de 2022         359.20  \n",
       "15       01 de abril de 2022         290.25  \n",
       "16        01 de mayo de 2022         252.75  \n",
       "17       01 de junio de 2022         224.47  \n",
       "18       01 de julio de 2022         297.15  \n",
       "19      01 de agosto de 2022         275.61  \n",
       "20  01 de septiembre de 2022         282.80  "
      ]
     },
     "execution_count": 3,
     "metadata": {},
     "output_type": "execute_result"
    }
   ],
   "source": [
    "data1"
   ]
  },
  {
   "cell_type": "markdown",
   "id": "8faa8de0",
   "metadata": {},
   "source": [
    "- Convertimos los datos de Apple a una lista, llamando dicha lista como `dataAAPL`"
   ]
  },
  {
   "cell_type": "code",
   "execution_count": 4,
   "id": "74384c64",
   "metadata": {
    "scrolled": true
   },
   "outputs": [
    {
     "data": {
      "text/plain": [
       "0     131.96\n",
       "1     121.26\n",
       "2     122.15\n",
       "3     131.46\n",
       "4     124.61\n",
       "5     136.96\n",
       "6     145.86\n",
       "7     151.83\n",
       "8     141.50\n",
       "9     149.80\n",
       "10    165.30\n",
       "11    177.57\n",
       "12    174.78\n",
       "13    165.12\n",
       "14    174.61\n",
       "15    157.65\n",
       "16    148.84\n",
       "17    136.72\n",
       "18    162.51\n",
       "19    157.22\n",
       "20    156.91\n",
       "Name: Precios Apple, dtype: float64"
      ]
     },
     "execution_count": 4,
     "metadata": {},
     "output_type": "execute_result"
    }
   ],
   "source": [
    "dataAAPL = data1[\"Precios Apple\"]     \n",
    "dataAAPL"
   ]
  },
  {
   "cell_type": "markdown",
   "id": "899c590e",
   "metadata": {},
   "source": [
    "- Convertimos la lista a un arreglo de Numpy, para poder manejar los datos y poder realizar el proceso de ajuste de curvas"
   ]
  },
  {
   "cell_type": "code",
   "execution_count": 5,
   "id": "1c091b69",
   "metadata": {},
   "outputs": [],
   "source": [
    "dataApple = np.array([dataAAPL])"
   ]
  },
  {
   "cell_type": "markdown",
   "id": "4b9b946f",
   "metadata": {},
   "source": [
    "**Empezamos proponiendo un modelo con polinomio de grado 3**"
   ]
  },
  {
   "cell_type": "markdown",
   "id": "870073f7",
   "metadata": {},
   "source": [
    "Graficamos los puntos que son los precios de la acción de Apple en los últimos meses\n",
    "\n",
    "Para ello definimos las siguientes variables:\n",
    "- ***m:*** Número de puntos o de datos\n",
    "- ***x:*** Un linspace para graficar los puntos en base al número de datos\n",
    "- ***y:*** Los puntos \"reales\" que representan los precios de la acción\n",
    "\n",
    "Graficamos utilizando `%Matplotlib inline`, `plt.figure`, `plt.scatter`, y `plt.grid`"
   ]
  },
  {
   "cell_type": "code",
   "execution_count": 6,
   "id": "e4960eab",
   "metadata": {
    "scrolled": false
   },
   "outputs": [
    {
     "data": {
      "image/png": "[encoded data removed]",
      "text/plain": [
       "<Figure size 432x288 with 1 Axes>"
      ]
     },
     "metadata": {
      "needs_background": "light"
     },
     "output_type": "display_data"
    }
   ],
   "source": [
    "m = 21\n",
    "x = np.linspace(0, 20, m)\n",
    "y = dataApple\n",
    "\n",
    "%matplotlib inline\n",
    "plt.figure()\n",
    "plt.scatter(x, y, s = 100)\n",
    "plt.grid()"
   ]
  },
  {
   "cell_type": "markdown",
   "id": "eb590514",
   "metadata": {},
   "source": [
    "- Esta es la distribución de los precio de la acción de Apple, a simple vista podemos interpretar que el precio de Apple ha presentado mucha volatilidad en los últimos meses"
   ]
  },
  {
   "cell_type": "markdown",
   "id": "ce7a09ef",
   "metadata": {},
   "source": [
    "- A continuación, definimos una función para optimizar los puntos de los precios con un modelo con un polinomio de grado 3."
   ]
  },
  {
   "cell_type": "code",
   "execution_count": 7,
   "id": "9f703434",
   "metadata": {},
   "outputs": [],
   "source": [
    "def funcion_precios(beta, X, y) :\n",
    "    beta = np.reshape(beta, [4, -1])\n",
    "    pred = X @ beta\n",
    "    return ((y - pred).T @ (y - pred))[0][0]"
   ]
  },
  {
   "cell_type": "markdown",
   "id": "7366be78",
   "metadata": {},
   "source": [
    "- Creamos la matriz X para un polinomio de grado 3"
   ]
  },
  {
   "cell_type": "code",
   "execution_count": 8,
   "id": "f520a971",
   "metadata": {
    "scrolled": true
   },
   "outputs": [
    {
     "data": {
      "text/plain": [
       "array([[1.000e+00, 0.000e+00, 0.000e+00, 0.000e+00],\n",
       "       [1.000e+00, 1.000e+00, 1.000e+00, 1.000e+00],\n",
       "       [1.000e+00, 2.000e+00, 4.000e+00, 8.000e+00],\n",
       "       [1.000e+00, 3.000e+00, 9.000e+00, 2.700e+01],\n",
       "       [1.000e+00, 4.000e+00, 1.600e+01, 6.400e+01],\n",
       "       [1.000e+00, 5.000e+00, 2.500e+01, 1.250e+02],\n",
       "       [1.000e+00, 6.000e+00, 3.600e+01, 2.160e+02],\n",
       "       [1.000e+00, 7.000e+00, 4.900e+01, 3.430e+02],\n",
       "       [1.000e+00, 8.000e+00, 6.400e+01, 5.120e+02],\n",
       "       [1.000e+00, 9.000e+00, 8.100e+01, 7.290e+02],\n",
       "       [1.000e+00, 1.000e+01, 1.000e+02, 1.000e+03],\n",
       "       [1.000e+00, 1.100e+01, 1.210e+02, 1.331e+03],\n",
       "       [1.000e+00, 1.200e+01, 1.440e+02, 1.728e+03],\n",
       "       [1.000e+00, 1.300e+01, 1.690e+02, 2.197e+03],\n",
       "       [1.000e+00, 1.400e+01, 1.960e+02, 2.744e+03],\n",
       "       [1.000e+00, 1.500e+01, 2.250e+02, 3.375e+03],\n",
       "       [1.000e+00, 1.600e+01, 2.560e+02, 4.096e+03],\n",
       "       [1.000e+00, 1.700e+01, 2.890e+02, 4.913e+03],\n",
       "       [1.000e+00, 1.800e+01, 3.240e+02, 5.832e+03],\n",
       "       [1.000e+00, 1.900e+01, 3.610e+02, 6.859e+03],\n",
       "       [1.000e+00, 2.000e+01, 4.000e+02, 8.000e+03]])"
      ]
     },
     "execution_count": 8,
     "metadata": {},
     "output_type": "execute_result"
    }
   ],
   "source": [
    "# Creamos la matriz X\n",
    "\n",
    "ones = np.ones([m, 1])\n",
    "x_1 = np.reshape(x, [m, -1])\n",
    "x_2 = np.reshape(x**2, [m, -1])\n",
    "x_3 = np.reshape(x**3, [m, -1])\n",
    "X = np.hstack((ones, x_1, x_2, x_3))\n",
    "X"
   ]
  },
  {
   "cell_type": "markdown",
   "id": "94b247d8",
   "metadata": {},
   "source": [
    "A continuación definimos nuestros *vectores/matrices*:\n",
    "- Beta inicial\n",
    "- y"
   ]
  },
  {
   "cell_type": "code",
   "execution_count": 9,
   "id": "9449e205",
   "metadata": {},
   "outputs": [],
   "source": [
    "beta_inicial = np.random.rand(4)\n",
    "y = np.reshape(y, [m, -1])"
   ]
  },
  {
   "cell_type": "markdown",
   "id": "e51819eb",
   "metadata": {},
   "source": [
    "- Obtenemos nuestra multiplicación algebráica de la matriz transpuesta de los precios menos nuestra predicción, por la matriz de los precios menos nuestra predicción."
   ]
  },
  {
   "cell_type": "code",
   "execution_count": 10,
   "id": "1878d92d",
   "metadata": {},
   "outputs": [
    {
     "data": {
      "text/plain": [
       "57536182.777817056"
      ]
     },
     "execution_count": 10,
     "metadata": {},
     "output_type": "execute_result"
    }
   ],
   "source": [
    "funcion_precios(beta_inicial, X, y)"
   ]
  },
  {
   "cell_type": "markdown",
   "id": "5b3d2525",
   "metadata": {},
   "source": [
    "- Obtenemos los valores o los pesos para cada variable de nuestro modelo de polinomio de grado 3 propuesto utilizando la librería `scipy.optimize`"
   ]
  },
  {
   "cell_type": "code",
   "execution_count": 11,
   "id": "b6dab9c7",
   "metadata": {},
   "outputs": [
    {
     "data": {
      "text/plain": [
       "      fun: 1999.5255033411363\n",
       " hess_inv: array([[ 2.72021578e-01, -9.90103008e-02,  9.64614976e-03,\n",
       "        -2.74483868e-04],\n",
       "       [-9.90103008e-02,  5.35863869e-02, -6.08473568e-03,\n",
       "         1.87965210e-04],\n",
       "       [ 9.64614976e-03, -6.08473568e-03,  7.44614690e-04,\n",
       "        -2.40775222e-05],\n",
       "       [-2.74483868e-04,  1.87965210e-04, -2.40775222e-05,\n",
       "         8.02583969e-07]])\n",
       "      jac: array([ 0.00000000e+00,  0.00000000e+00,  0.00000000e+00, -1.52587891e-05])\n",
       "  message: 'Desired error not necessarily achieved due to precision loss.'\n",
       "     nfev: 172\n",
       "      nit: 5\n",
       "     njev: 34\n",
       "   status: 2\n",
       "  success: False\n",
       "        x: array([ 1.21180358e+02,  2.79213110e+00,  2.52957801e-01, -1.63833092e-02])"
      ]
     },
     "execution_count": 11,
     "metadata": {},
     "output_type": "execute_result"
    }
   ],
   "source": [
    "sol = opt.minimize(funcion_precios, \n",
    "                  beta_inicial,\n",
    "                  args = (X, y))\n",
    "sol"
   ]
  },
  {
   "cell_type": "markdown",
   "id": "b05aa098",
   "metadata": {},
   "source": [
    "- Acomodamos los resultados de nuestro modelo"
   ]
  },
  {
   "cell_type": "code",
   "execution_count": 12,
   "id": "c0541eb7",
   "metadata": {
    "scrolled": true
   },
   "outputs": [
    {
     "data": {
      "text/plain": [
       "array([121.18035822, 124.20906381, 127.64538516, 131.39102239,\n",
       "       135.34767566, 139.41704511, 143.50083089, 147.50073314,\n",
       "       151.318452  , 154.85568763, 158.01414016, 160.69550974,\n",
       "       162.80149651, 164.23380063, 164.89412222, 164.68416145,\n",
       "       163.50561845, 161.26019337, 157.84958635, 153.17549754,\n",
       "       147.13962709])"
      ]
     },
     "execution_count": 12,
     "metadata": {},
     "output_type": "execute_result"
    }
   ],
   "source": [
    "y_predA1 = X @ sol.x\n",
    "y_predA1"
   ]
  },
  {
   "cell_type": "markdown",
   "id": "6c78cb5b",
   "metadata": {},
   "source": [
    "- Repetimos el mismo proceso para los demás modelos que vamos a proponer"
   ]
  },
  {
   "cell_type": "markdown",
   "id": "542fdbdf",
   "metadata": {},
   "source": [
    "**Modelo con polinomio de grado 4**"
   ]
  },
  {
   "cell_type": "code",
   "execution_count": 13,
   "id": "462423d1",
   "metadata": {},
   "outputs": [],
   "source": [
    "def funcion_precios(beta, X, y) :\n",
    "    beta = np.reshape(beta, [5, -1])\n",
    "    pred = X @ beta\n",
    "    return ((y - pred).T @ (y - pred))[0][0]"
   ]
  },
  {
   "cell_type": "code",
   "execution_count": 14,
   "id": "75574d5f",
   "metadata": {},
   "outputs": [
    {
     "data": {
      "text/plain": [
       "array([[1.00000e+00, 0.00000e+00, 0.00000e+00, 0.00000e+00, 0.00000e+00],\n",
       "       [1.00000e+00, 1.00000e+00, 1.00000e+00, 1.00000e+00, 1.00000e+00],\n",
       "       [1.00000e+00, 2.00000e+00, 4.00000e+00, 8.00000e+00, 1.60000e+01],\n",
       "       [1.00000e+00, 3.00000e+00, 9.00000e+00, 2.70000e+01, 8.10000e+01],\n",
       "       [1.00000e+00, 4.00000e+00, 1.60000e+01, 6.40000e+01, 2.56000e+02],\n",
       "       [1.00000e+00, 5.00000e+00, 2.50000e+01, 1.25000e+02, 6.25000e+02],\n",
       "       [1.00000e+00, 6.00000e+00, 3.60000e+01, 2.16000e+02, 1.29600e+03],\n",
       "       [1.00000e+00, 7.00000e+00, 4.90000e+01, 3.43000e+02, 2.40100e+03],\n",
       "       [1.00000e+00, 8.00000e+00, 6.40000e+01, 5.12000e+02, 4.09600e+03],\n",
       "       [1.00000e+00, 9.00000e+00, 8.10000e+01, 7.29000e+02, 6.56100e+03],\n",
       "       [1.00000e+00, 1.00000e+01, 1.00000e+02, 1.00000e+03, 1.00000e+04],\n",
       "       [1.00000e+00, 1.10000e+01, 1.21000e+02, 1.33100e+03, 1.46410e+04],\n",
       "       [1.00000e+00, 1.20000e+01, 1.44000e+02, 1.72800e+03, 2.07360e+04],\n",
       "       [1.00000e+00, 1.30000e+01, 1.69000e+02, 2.19700e+03, 2.85610e+04],\n",
       "       [1.00000e+00, 1.40000e+01, 1.96000e+02, 2.74400e+03, 3.84160e+04],\n",
       "       [1.00000e+00, 1.50000e+01, 2.25000e+02, 3.37500e+03, 5.06250e+04],\n",
       "       [1.00000e+00, 1.60000e+01, 2.56000e+02, 4.09600e+03, 6.55360e+04],\n",
       "       [1.00000e+00, 1.70000e+01, 2.89000e+02, 4.91300e+03, 8.35210e+04],\n",
       "       [1.00000e+00, 1.80000e+01, 3.24000e+02, 5.83200e+03, 1.04976e+05],\n",
       "       [1.00000e+00, 1.90000e+01, 3.61000e+02, 6.85900e+03, 1.30321e+05],\n",
       "       [1.00000e+00, 2.00000e+01, 4.00000e+02, 8.00000e+03, 1.60000e+05]])"
      ]
     },
     "execution_count": 14,
     "metadata": {},
     "output_type": "execute_result"
    }
   ],
   "source": [
    "# Creamos la matriz X\n",
    "\n",
    "ones = np.ones([m, 1])\n",
    "x_1 = np.reshape(x, [m, -1])\n",
    "x_2 = np.reshape(x**2, [m, -1])\n",
    "x_3 = np.reshape(x**3, [m, -1])\n",
    "x_4 = np.reshape(x**4, [m, -1])\n",
    "X = np.hstack((ones, x_1, x_2, x_3, x_4))\n",
    "X"
   ]
  },
  {
   "cell_type": "code",
   "execution_count": 15,
   "id": "43fbd564",
   "metadata": {},
   "outputs": [],
   "source": [
    "beta_inicial = np.random.rand(5)\n",
    "y = np.reshape(y, [m, -1])"
   ]
  },
  {
   "cell_type": "code",
   "execution_count": 16,
   "id": "a403e8cf",
   "metadata": {},
   "outputs": [
    {
     "data": {
      "text/plain": [
       "3254925821.8685775"
      ]
     },
     "execution_count": 16,
     "metadata": {},
     "output_type": "execute_result"
    }
   ],
   "source": [
    "funcion_precios(beta_inicial, X, y)"
   ]
  },
  {
   "cell_type": "code",
   "execution_count": 17,
   "id": "b2bc8f6b",
   "metadata": {},
   "outputs": [
    {
     "data": {
      "text/plain": [
       "      fun: 1209.8704302082233\n",
       " hess_inv: array([[ 3.54228495e-01, -2.04321070e-01,  3.46977045e-02,\n",
       "        -2.25297604e-03,  4.94590635e-05],\n",
       "       [-2.04321070e-01,  1.88500048e-01, -3.81791137e-02,\n",
       "         2.72271759e-03, -6.33653413e-05],\n",
       "       [ 3.46977045e-02, -3.81791137e-02,  8.37960533e-03,\n",
       "        -6.27080031e-04,  1.50743323e-05],\n",
       "       [-2.25297604e-03,  2.72271759e-03, -6.27080031e-04,\n",
       "         4.84272811e-05, -1.19056437e-06],\n",
       "       [ 4.94590635e-05, -6.33653413e-05,  1.50743323e-05,\n",
       "        -1.19056437e-06,  2.97628611e-08]])\n",
       "      jac: array([-0.00030518, -0.00268555,  0.00086975,  0.00035095,  0.00765991])\n",
       "  message: 'Desired error not necessarily achieved due to precision loss.'\n",
       "     nfev: 270\n",
       "      nit: 7\n",
       "     njev: 43\n",
       "   status: 2\n",
       "  success: False\n",
       "        x: array([ 1.32520063e+02, -1.17383278e+01,  3.71002267e+00, -2.89437134e-01,\n",
       "        6.82633461e-03])"
      ]
     },
     "execution_count": 17,
     "metadata": {},
     "output_type": "execute_result"
    }
   ],
   "source": [
    "import scipy.optimize as opt\n",
    "sol = opt.minimize(funcion_precios, \n",
    "                  beta_inicial,\n",
    "                  args = (X, y))\n",
    "sol"
   ]
  },
  {
   "cell_type": "code",
   "execution_count": 18,
   "id": "97d9e0bf",
   "metadata": {
    "scrolled": true
   },
   "outputs": [
    {
     "data": {
      "text/plain": [
       "array([132.5200627 , 124.20914675, 121.67722201, 123.43341373,\n",
       "       128.15067918, 134.66580766, 141.97942051, 149.25597108,\n",
       "       155.82374478, 161.17485902, 164.96526326, 167.01473899,\n",
       "       167.30689972, 165.98919101, 163.37289041, 159.93310756,\n",
       "       156.30878408, 153.30269364, 151.88144194, 153.17546672,\n",
       "       158.47903773])"
      ]
     },
     "execution_count": 18,
     "metadata": {},
     "output_type": "execute_result"
    }
   ],
   "source": [
    "y_predA2 = X @ sol.x\n",
    "y_predA2"
   ]
  },
  {
   "cell_type": "markdown",
   "id": "5ee94ce7",
   "metadata": {},
   "source": [
    "**Modelo con polinomio de grado 5**"
   ]
  },
  {
   "cell_type": "code",
   "execution_count": 19,
   "id": "755bcb14",
   "metadata": {},
   "outputs": [],
   "source": [
    "def funcion_precios(beta, X, y) :\n",
    "    beta = np.reshape(beta, [6, -1])\n",
    "    pred = X @ beta\n",
    "    return ((y - pred).T @ (y - pred))[0][0]"
   ]
  },
  {
   "cell_type": "code",
   "execution_count": 20,
   "id": "ebc27fdf",
   "metadata": {},
   "outputs": [
    {
     "data": {
      "text/plain": [
       "array([[1.000000e+00, 0.000000e+00, 0.000000e+00, 0.000000e+00,\n",
       "        0.000000e+00, 0.000000e+00],\n",
       "       [1.000000e+00, 1.000000e+00, 1.000000e+00, 1.000000e+00,\n",
       "        1.000000e+00, 1.000000e+00],\n",
       "       [1.000000e+00, 2.000000e+00, 4.000000e+00, 8.000000e+00,\n",
       "        1.600000e+01, 3.200000e+01],\n",
       "       [1.000000e+00, 3.000000e+00, 9.000000e+00, 2.700000e+01,\n",
       "        8.100000e+01, 2.430000e+02],\n",
       "       [1.000000e+00, 4.000000e+00, 1.600000e+01, 6.400000e+01,\n",
       "        2.560000e+02, 1.024000e+03],\n",
       "       [1.000000e+00, 5.000000e+00, 2.500000e+01, 1.250000e+02,\n",
       "        6.250000e+02, 3.125000e+03],\n",
       "       [1.000000e+00, 6.000000e+00, 3.600000e+01, 2.160000e+02,\n",
       "        1.296000e+03, 7.776000e+03],\n",
       "       [1.000000e+00, 7.000000e+00, 4.900000e+01, 3.430000e+02,\n",
       "        2.401000e+03, 1.680700e+04],\n",
       "       [1.000000e+00, 8.000000e+00, 6.400000e+01, 5.120000e+02,\n",
       "        4.096000e+03, 3.276800e+04],\n",
       "       [1.000000e+00, 9.000000e+00, 8.100000e+01, 7.290000e+02,\n",
       "        6.561000e+03, 5.904900e+04],\n",
       "       [1.000000e+00, 1.000000e+01, 1.000000e+02, 1.000000e+03,\n",
       "        1.000000e+04, 1.000000e+05],\n",
       "       [1.000000e+00, 1.100000e+01, 1.210000e+02, 1.331000e+03,\n",
       "        1.464100e+04, 1.610510e+05],\n",
       "       [1.000000e+00, 1.200000e+01, 1.440000e+02, 1.728000e+03,\n",
       "        2.073600e+04, 2.488320e+05],\n",
       "       [1.000000e+00, 1.300000e+01, 1.690000e+02, 2.197000e+03,\n",
       "        2.856100e+04, 3.712930e+05],\n",
       "       [1.000000e+00, 1.400000e+01, 1.960000e+02, 2.744000e+03,\n",
       "        3.841600e+04, 5.378240e+05],\n",
       "       [1.000000e+00, 1.500000e+01, 2.250000e+02, 3.375000e+03,\n",
       "        5.062500e+04, 7.593750e+05],\n",
       "       [1.000000e+00, 1.600000e+01, 2.560000e+02, 4.096000e+03,\n",
       "        6.553600e+04, 1.048576e+06],\n",
       "       [1.000000e+00, 1.700000e+01, 2.890000e+02, 4.913000e+03,\n",
       "        8.352100e+04, 1.419857e+06],\n",
       "       [1.000000e+00, 1.800000e+01, 3.240000e+02, 5.832000e+03,\n",
       "        1.049760e+05, 1.889568e+06],\n",
       "       [1.000000e+00, 1.900000e+01, 3.610000e+02, 6.859000e+03,\n",
       "        1.303210e+05, 2.476099e+06],\n",
       "       [1.000000e+00, 2.000000e+01, 4.000000e+02, 8.000000e+03,\n",
       "        1.600000e+05, 3.200000e+06]])"
      ]
     },
     "execution_count": 20,
     "metadata": {},
     "output_type": "execute_result"
    }
   ],
   "source": [
    "# Creamos la matriz X\n",
    "\n",
    "ones = np.ones([m, 1])\n",
    "x_1 = np.reshape(x, [m, -1])\n",
    "x_2 = np.reshape(x**2, [m, -1])\n",
    "x_3 = np.reshape(x**3, [m, -1])\n",
    "x_4 = np.reshape(x**4, [m, -1])\n",
    "x_5 = np.reshape(x**5, [m, -1])\n",
    "X = np.hstack((ones, x_1, x_2, x_3, x_4, x_5))\n",
    "X"
   ]
  },
  {
   "cell_type": "code",
   "execution_count": 21,
   "id": "6dd58091",
   "metadata": {},
   "outputs": [],
   "source": [
    "beta_inicial = np.random.rand(6)\n",
    "y = np.reshape(y, [m, -1])"
   ]
  },
  {
   "cell_type": "code",
   "execution_count": 22,
   "id": "ee11d70c",
   "metadata": {},
   "outputs": [
    {
     "data": {
      "text/plain": [
       "5010009304843.578"
      ]
     },
     "execution_count": 22,
     "metadata": {},
     "output_type": "execute_result"
    }
   ],
   "source": [
    "funcion_precios(beta_inicial, X, y)"
   ]
  },
  {
   "cell_type": "code",
   "execution_count": 23,
   "id": "87e24b27",
   "metadata": {
    "scrolled": true
   },
   "outputs": [
    {
     "data": {
      "text/plain": [
       "      fun: 1179.4031062289187\n",
       " hess_inv: array([[ 4.16967989e-01, -3.45370327e-01,  8.87767198e-02,\n",
       "        -9.69715813e-03,  4.72439140e-04, -8.45590629e-06],\n",
       "       [-3.45370327e-01,  5.05580036e-01, -1.59753568e-01,\n",
       "         1.94584559e-02, -1.01431841e-03,  1.90111442e-05],\n",
       "       [ 8.87767197e-02, -1.59753568e-01,  5.49970574e-02,\n",
       "        -7.04470335e-03,  3.79748494e-04, -7.29065484e-06],\n",
       "       [-9.69715813e-03,  1.94584559e-02, -7.04470335e-03,\n",
       "         9.31946588e-04, -5.13968730e-05,  1.00375652e-06],\n",
       "       [ 4.72439140e-04, -1.01431841e-03,  3.79748494e-04,\n",
       "        -5.13968730e-05,  2.88280828e-06, -5.70406975e-08],\n",
       "       [-8.45590629e-06,  1.90111442e-05, -7.29065484e-06,\n",
       "         1.00375652e-06, -5.70406975e-08,  1.14042167e-09]])\n",
       "      jac: array([2.60009766e-02, 1.97143555e-02, 1.76269531e-01, 4.28584290e+00,\n",
       "       8.36090851e+01, 1.62712720e+03])\n",
       "  message: 'Desired error not necessarily achieved due to precision loss.'\n",
       "     nfev: 271\n",
       "      nit: 8\n",
       "     njev: 37\n",
       "   status: 2\n",
       "  success: False\n",
       "        x: array([ 1.31880180e+02, -1.02867400e+01,  3.15227608e+00, -2.12581714e-01,\n",
       "        2.45668680e-03,  8.73911993e-05])"
      ]
     },
     "execution_count": 23,
     "metadata": {},
     "output_type": "execute_result"
    }
   ],
   "source": [
    "sol = opt.minimize(funcion_precios, \n",
    "                  beta_inicial,\n",
    "                  args = (X, y))\n",
    "sol"
   ]
  },
  {
   "cell_type": "code",
   "execution_count": 24,
   "id": "fe9f0188",
   "metadata": {
    "scrolled": true
   },
   "outputs": [
    {
     "data": {
      "text/plain": [
       "array([131.88017966, 124.5356781 , 122.25725375, 123.87096574,\n",
       "       128.28280756, 134.489194  , 141.58744815, 148.78628825,\n",
       "       155.41631472, 160.94049707, 164.96466084, 167.24797454,\n",
       "       167.7134366 , 166.45836234, 163.76487087, 160.11037206,\n",
       "       156.17805348, 152.86736733, 151.30451741, 152.85294604,\n",
       "       159.12382103])"
      ]
     },
     "execution_count": 24,
     "metadata": {},
     "output_type": "execute_result"
    }
   ],
   "source": [
    "y_predA3 = X @ sol.x\n",
    "y_predA3"
   ]
  },
  {
   "cell_type": "markdown",
   "id": "f790f7f0",
   "metadata": {},
   "source": [
    "**Modelo con polinomio de grado 6**"
   ]
  },
  {
   "cell_type": "code",
   "execution_count": 25,
   "id": "8aa6c433",
   "metadata": {},
   "outputs": [],
   "source": [
    "def funcion_precios(beta, X, y) :\n",
    "    beta = np.reshape(beta, [7, -1])\n",
    "    pred = X @ beta\n",
    "    return ((y - pred).T @ (y - pred))[0][0]"
   ]
  },
  {
   "cell_type": "code",
   "execution_count": 26,
   "id": "c6d0fd33",
   "metadata": {},
   "outputs": [
    {
     "data": {
      "text/plain": [
       "array([[1.0000000e+00, 0.0000000e+00, 0.0000000e+00, 0.0000000e+00,\n",
       "        0.0000000e+00, 0.0000000e+00, 0.0000000e+00],\n",
       "       [1.0000000e+00, 1.0000000e+00, 1.0000000e+00, 1.0000000e+00,\n",
       "        1.0000000e+00, 1.0000000e+00, 1.0000000e+00],\n",
       "       [1.0000000e+00, 2.0000000e+00, 4.0000000e+00, 8.0000000e+00,\n",
       "        1.6000000e+01, 3.2000000e+01, 6.4000000e+01],\n",
       "       [1.0000000e+00, 3.0000000e+00, 9.0000000e+00, 2.7000000e+01,\n",
       "        8.1000000e+01, 2.4300000e+02, 7.2900000e+02],\n",
       "       [1.0000000e+00, 4.0000000e+00, 1.6000000e+01, 6.4000000e+01,\n",
       "        2.5600000e+02, 1.0240000e+03, 4.0960000e+03],\n",
       "       [1.0000000e+00, 5.0000000e+00, 2.5000000e+01, 1.2500000e+02,\n",
       "        6.2500000e+02, 3.1250000e+03, 1.5625000e+04],\n",
       "       [1.0000000e+00, 6.0000000e+00, 3.6000000e+01, 2.1600000e+02,\n",
       "        1.2960000e+03, 7.7760000e+03, 4.6656000e+04],\n",
       "       [1.0000000e+00, 7.0000000e+00, 4.9000000e+01, 3.4300000e+02,\n",
       "        2.4010000e+03, 1.6807000e+04, 1.1764900e+05],\n",
       "       [1.0000000e+00, 8.0000000e+00, 6.4000000e+01, 5.1200000e+02,\n",
       "        4.0960000e+03, 3.2768000e+04, 2.6214400e+05],\n",
       "       [1.0000000e+00, 9.0000000e+00, 8.1000000e+01, 7.2900000e+02,\n",
       "        6.5610000e+03, 5.9049000e+04, 5.3144100e+05],\n",
       "       [1.0000000e+00, 1.0000000e+01, 1.0000000e+02, 1.0000000e+03,\n",
       "        1.0000000e+04, 1.0000000e+05, 1.0000000e+06],\n",
       "       [1.0000000e+00, 1.1000000e+01, 1.2100000e+02, 1.3310000e+03,\n",
       "        1.4641000e+04, 1.6105100e+05, 1.7715610e+06],\n",
       "       [1.0000000e+00, 1.2000000e+01, 1.4400000e+02, 1.7280000e+03,\n",
       "        2.0736000e+04, 2.4883200e+05, 2.9859840e+06],\n",
       "       [1.0000000e+00, 1.3000000e+01, 1.6900000e+02, 2.1970000e+03,\n",
       "        2.8561000e+04, 3.7129300e+05, 4.8268090e+06],\n",
       "       [1.0000000e+00, 1.4000000e+01, 1.9600000e+02, 2.7440000e+03,\n",
       "        3.8416000e+04, 5.3782400e+05, 7.5295360e+06],\n",
       "       [1.0000000e+00, 1.5000000e+01, 2.2500000e+02, 3.3750000e+03,\n",
       "        5.0625000e+04, 7.5937500e+05, 1.1390625e+07],\n",
       "       [1.0000000e+00, 1.6000000e+01, 2.5600000e+02, 4.0960000e+03,\n",
       "        6.5536000e+04, 1.0485760e+06, 1.6777216e+07],\n",
       "       [1.0000000e+00, 1.7000000e+01, 2.8900000e+02, 4.9130000e+03,\n",
       "        8.3521000e+04, 1.4198570e+06, 2.4137569e+07],\n",
       "       [1.0000000e+00, 1.8000000e+01, 3.2400000e+02, 5.8320000e+03,\n",
       "        1.0497600e+05, 1.8895680e+06, 3.4012224e+07],\n",
       "       [1.0000000e+00, 1.9000000e+01, 3.6100000e+02, 6.8590000e+03,\n",
       "        1.3032100e+05, 2.4760990e+06, 4.7045881e+07],\n",
       "       [1.0000000e+00, 2.0000000e+01, 4.0000000e+02, 8.0000000e+03,\n",
       "        1.6000000e+05, 3.2000000e+06, 6.4000000e+07]])"
      ]
     },
     "execution_count": 26,
     "metadata": {},
     "output_type": "execute_result"
    }
   ],
   "source": [
    "# Creamos la matriz X\n",
    "\n",
    "ones = np.ones([m, 1])\n",
    "x_1 = np.reshape(x, [m, -1])\n",
    "x_2 = np.reshape(x**2, [m, -1])\n",
    "x_3 = np.reshape(x**3, [m, -1])\n",
    "x_4 = np.reshape(x**4, [m, -1])\n",
    "x_5 = np.reshape(x**5, [m, -1])\n",
    "x_6 = np.reshape(x**6, [m, -1])\n",
    "X = np.hstack((ones, x_1, x_2, x_3, x_4, x_5, x_6))\n",
    "X"
   ]
  },
  {
   "cell_type": "code",
   "execution_count": 27,
   "id": "d855d485",
   "metadata": {},
   "outputs": [
    {
     "data": {
      "text/plain": [
       "2279568225527663.5"
      ]
     },
     "execution_count": 27,
     "metadata": {},
     "output_type": "execute_result"
    }
   ],
   "source": [
    "beta_inicial = np.random.rand(7)\n",
    "y = np.reshape(y, [m, -1])\n",
    "funcion_precios(beta_inicial, X, y)"
   ]
  },
  {
   "cell_type": "code",
   "execution_count": 28,
   "id": "8a626d16",
   "metadata": {},
   "outputs": [
    {
     "data": {
      "text/plain": [
       "      fun: 108931.75930706381\n",
       " hess_inv: array([[ 9.99887704e-01, -9.51773494e-04, -4.50076148e-03,\n",
       "        -1.29276579e-02,  2.33893539e-03, -1.39884802e-04,\n",
       "         2.77687857e-06],\n",
       "       [-9.51773494e-04,  9.95103932e-01, -2.19675346e-02,\n",
       "        -6.54672138e-02,  1.04150339e-02, -5.81911901e-04,\n",
       "         1.10737297e-05],\n",
       "       [-4.50076148e-03, -2.19675346e-02,  9.02029165e-01,\n",
       "        -2.94884431e-01,  3.41783355e-02, -1.68097856e-03,\n",
       "         2.98496947e-05],\n",
       "       [-1.29276579e-02, -6.54672138e-02, -2.94884431e-01,\n",
       "         1.01952458e-01, -1.20384557e-02,  5.97647276e-04,\n",
       "        -1.06725863e-05],\n",
       "       [ 2.33893539e-03,  1.04150339e-02,  3.41783355e-02,\n",
       "        -1.20384557e-02,  1.43003971e-03, -7.12086013e-05,\n",
       "         1.27394762e-06],\n",
       "       [-1.39884802e-04, -5.81911901e-04, -1.68097856e-03,\n",
       "         5.97647276e-04, -7.12086013e-05,  3.55127328e-06,\n",
       "        -6.35936992e-08],\n",
       "       [ 2.77687857e-06,  1.10737297e-05,  2.98496947e-05,\n",
       "        -1.06725863e-05,  1.27394762e-06, -6.35936992e-08,\n",
       "         1.13946696e-09]])\n",
       "      jac: array([-3.46865234e+01,  8.78288086e+03,  1.17521901e+05,  1.44328547e+06,\n",
       "        1.63692683e+07,  1.46047484e+08,  2.37623257e+08])\n",
       "  message: 'Desired error not necessarily achieved due to precision loss.'\n",
       "     nfev: 428\n",
       "      nit: 4\n",
       "     njev: 52\n",
       "   status: 2\n",
       "  success: False\n",
       "        x: array([ 2.28322149e-01,  6.00423818e-01,  1.14733429e+00,  2.48226377e+00,\n",
       "       -4.78432437e-01,  3.02931557e-02, -6.35889654e-04])"
      ]
     },
     "execution_count": 28,
     "metadata": {},
     "output_type": "execute_result"
    }
   ],
   "source": [
    "sol = opt.minimize(funcion_precios, \n",
    "                  beta_inicial,\n",
    "                  args = (X, y))\n",
    "sol"
   ]
  },
  {
   "cell_type": "code",
   "execution_count": 29,
   "id": "0973a146",
   "metadata": {},
   "outputs": [
    {
     "data": {
      "text/plain": [
       "array([2.28322149e-01, 4.00956886e+00, 1.91503822e+01, 4.75213699e+01,\n",
       "       8.57891308e+01, 1.27906832e+02, 1.67146946e+02, 1.97676146e+02,\n",
       "       2.15672363e+02, 2.19983999e+02, 2.12331302e+02, 1.97049903e+02,\n",
       "       1.80376506e+02, 1.69276739e+02, 1.69815175e+02, 1.85067492e+02,\n",
       "       2.12574815e+02, 2.41340199e+02, 2.48367284e+02, 1.94741100e+02,\n",
       "       2.12510435e+01])"
      ]
     },
     "execution_count": 29,
     "metadata": {},
     "output_type": "execute_result"
    }
   ],
   "source": [
    "y_predA4 = X @ sol.x\n",
    "y_predA4"
   ]
  },
  {
   "cell_type": "markdown",
   "id": "d81d40d6",
   "metadata": {},
   "source": [
    "**Polinomio de grado 7**"
   ]
  },
  {
   "cell_type": "code",
   "execution_count": 30,
   "id": "98289680",
   "metadata": {},
   "outputs": [],
   "source": [
    "# Creamos la función de precios\n",
    "\n",
    "def funcion_precios(beta, X, y) :\n",
    "    beta = np.reshape(beta, [8, -1])\n",
    "    pred = X @ beta\n",
    "    return ((y - pred).T @ (y - pred))[0][0]"
   ]
  },
  {
   "cell_type": "code",
   "execution_count": 31,
   "id": "468a91e3",
   "metadata": {},
   "outputs": [
    {
     "data": {
      "text/plain": [
       "array([[1.00000000e+00, 0.00000000e+00, 0.00000000e+00, 0.00000000e+00,\n",
       "        0.00000000e+00, 0.00000000e+00, 0.00000000e+00, 0.00000000e+00],\n",
       "       [1.00000000e+00, 1.00000000e+00, 1.00000000e+00, 1.00000000e+00,\n",
       "        1.00000000e+00, 1.00000000e+00, 1.00000000e+00, 1.00000000e+00],\n",
       "       [1.00000000e+00, 2.00000000e+00, 4.00000000e+00, 8.00000000e+00,\n",
       "        1.60000000e+01, 3.20000000e+01, 6.40000000e+01, 1.28000000e+02],\n",
       "       [1.00000000e+00, 3.00000000e+00, 9.00000000e+00, 2.70000000e+01,\n",
       "        8.10000000e+01, 2.43000000e+02, 7.29000000e+02, 2.18700000e+03],\n",
       "       [1.00000000e+00, 4.00000000e+00, 1.60000000e+01, 6.40000000e+01,\n",
       "        2.56000000e+02, 1.02400000e+03, 4.09600000e+03, 1.63840000e+04],\n",
       "       [1.00000000e+00, 5.00000000e+00, 2.50000000e+01, 1.25000000e+02,\n",
       "        6.25000000e+02, 3.12500000e+03, 1.56250000e+04, 7.81250000e+04],\n",
       "       [1.00000000e+00, 6.00000000e+00, 3.60000000e+01, 2.16000000e+02,\n",
       "        1.29600000e+03, 7.77600000e+03, 4.66560000e+04, 2.79936000e+05],\n",
       "       [1.00000000e+00, 7.00000000e+00, 4.90000000e+01, 3.43000000e+02,\n",
       "        2.40100000e+03, 1.68070000e+04, 1.17649000e+05, 8.23543000e+05],\n",
       "       [1.00000000e+00, 8.00000000e+00, 6.40000000e+01, 5.12000000e+02,\n",
       "        4.09600000e+03, 3.27680000e+04, 2.62144000e+05, 2.09715200e+06],\n",
       "       [1.00000000e+00, 9.00000000e+00, 8.10000000e+01, 7.29000000e+02,\n",
       "        6.56100000e+03, 5.90490000e+04, 5.31441000e+05, 4.78296900e+06],\n",
       "       [1.00000000e+00, 1.00000000e+01, 1.00000000e+02, 1.00000000e+03,\n",
       "        1.00000000e+04, 1.00000000e+05, 1.00000000e+06, 1.00000000e+07],\n",
       "       [1.00000000e+00, 1.10000000e+01, 1.21000000e+02, 1.33100000e+03,\n",
       "        1.46410000e+04, 1.61051000e+05, 1.77156100e+06, 1.94871710e+07],\n",
       "       [1.00000000e+00, 1.20000000e+01, 1.44000000e+02, 1.72800000e+03,\n",
       "        2.07360000e+04, 2.48832000e+05, 2.98598400e+06, 3.58318080e+07],\n",
       "       [1.00000000e+00, 1.30000000e+01, 1.69000000e+02, 2.19700000e+03,\n",
       "        2.85610000e+04, 3.71293000e+05, 4.82680900e+06, 6.27485170e+07],\n",
       "       [1.00000000e+00, 1.40000000e+01, 1.96000000e+02, 2.74400000e+03,\n",
       "        3.84160000e+04, 5.37824000e+05, 7.52953600e+06, 1.05413504e+08],\n",
       "       [1.00000000e+00, 1.50000000e+01, 2.25000000e+02, 3.37500000e+03,\n",
       "        5.06250000e+04, 7.59375000e+05, 1.13906250e+07, 1.70859375e+08],\n",
       "       [1.00000000e+00, 1.60000000e+01, 2.56000000e+02, 4.09600000e+03,\n",
       "        6.55360000e+04, 1.04857600e+06, 1.67772160e+07, 2.68435456e+08],\n",
       "       [1.00000000e+00, 1.70000000e+01, 2.89000000e+02, 4.91300000e+03,\n",
       "        8.35210000e+04, 1.41985700e+06, 2.41375690e+07, 4.10338673e+08],\n",
       "       [1.00000000e+00, 1.80000000e+01, 3.24000000e+02, 5.83200000e+03,\n",
       "        1.04976000e+05, 1.88956800e+06, 3.40122240e+07, 6.12220032e+08],\n",
       "       [1.00000000e+00, 1.90000000e+01, 3.61000000e+02, 6.85900000e+03,\n",
       "        1.30321000e+05, 2.47609900e+06, 4.70458810e+07, 8.93871739e+08],\n",
       "       [1.00000000e+00, 2.00000000e+01, 4.00000000e+02, 8.00000000e+03,\n",
       "        1.60000000e+05, 3.20000000e+06, 6.40000000e+07, 1.28000000e+09]])"
      ]
     },
     "execution_count": 31,
     "metadata": {},
     "output_type": "execute_result"
    }
   ],
   "source": [
    "# Creamos la matriz X\n",
    "\n",
    "ones = np.ones([m, 1])\n",
    "x_1 = np.reshape(x, [m, -1])\n",
    "x_2 = np.reshape(x**2, [m, -1])\n",
    "x_3 = np.reshape(x**3, [m, -1])\n",
    "x_4 = np.reshape(x**4, [m, -1])\n",
    "x_5 = np.reshape(x**5, [m, -1])\n",
    "x_6 = np.reshape(x**6, [m, -1])\n",
    "x_7 = np.reshape(x**7, [m, -1])\n",
    "X = np.hstack((ones, x_1, x_2, x_3, x_4, x_5, x_6, x_7))\n",
    "X"
   ]
  },
  {
   "cell_type": "code",
   "execution_count": 32,
   "id": "e39c38a6",
   "metadata": {},
   "outputs": [
    {
     "data": {
      "text/plain": [
       "1.4719271108795928e+16"
      ]
     },
     "execution_count": 32,
     "metadata": {},
     "output_type": "execute_result"
    }
   ],
   "source": [
    "beta_inicial = np.random.rand(8)\n",
    "y = np.reshape(y, [m, -1])\n",
    "funcion_precios(beta_inicial, X, y)"
   ]
  },
  {
   "cell_type": "code",
   "execution_count": 33,
   "id": "e0cc2464",
   "metadata": {},
   "outputs": [
    {
     "data": {
      "text/plain": [
       "      fun: 1501969.8111127606\n",
       " hess_inv: array([[ 9.99999999e-01, -8.95505783e-09, -8.49465113e-08,\n",
       "        -7.53157216e-07, -5.73214824e-06, -2.96979293e-05,\n",
       "         3.13982215e-06, -8.35818396e-08],\n",
       "       [-8.95505783e-09,  9.99999913e-01, -8.22408901e-07,\n",
       "        -7.29196021e-06, -5.55019695e-05, -2.87620238e-04,\n",
       "         2.91791734e-05, -7.50188806e-07],\n",
       "       [-8.49465113e-08, -8.22408901e-07,  9.99992198e-01,\n",
       "        -6.91793763e-05, -5.26620017e-04, -2.73011307e-03,\n",
       "         2.59291155e-04, -6.39574590e-06],\n",
       "       [-7.53157216e-07, -7.29196021e-06, -6.91793763e-05,\n",
       "         9.99386509e-01, -4.67114652e-03, -2.42322406e-02,\n",
       "         2.03972810e-03, -4.71230639e-05],\n",
       "       [-5.73214824e-06, -5.55019695e-05, -5.26620017e-04,\n",
       "        -4.67114652e-03,  9.64418263e-01, -1.84829271e-01,\n",
       "         1.15614379e-02, -2.36721926e-04],\n",
       "       [-2.96979293e-05, -2.87620238e-04, -2.73011307e-03,\n",
       "        -2.42322406e-02, -1.84829271e-01,  3.60621508e-02,\n",
       "        -2.26918738e-03,  4.65997821e-05],\n",
       "       [ 3.13982215e-06,  2.91791734e-05,  2.59291155e-04,\n",
       "         2.03972810e-03,  1.15614379e-02, -2.26918738e-03,\n",
       "         1.43064811e-04, -2.94080284e-06],\n",
       "       [-8.35818396e-08, -7.50188806e-07, -6.39574590e-06,\n",
       "        -4.71230639e-05, -2.36721926e-04,  4.65997821e-05,\n",
       "        -2.94080284e-06,  6.04793913e-08]])\n",
       "      jac: array([-3.01178125e+03, -2.17472500e+04, -1.83378625e+05, -1.24610181e+06,\n",
       "       -2.92366134e+06,  8.18949218e+07,  1.12050641e+09,  1.48639819e+10])\n",
       "  message: 'Desired error not necessarily achieved due to precision loss.'\n",
       "     nfev: 534\n",
       "      nit: 3\n",
       "     njev: 58\n",
       "   status: 2\n",
       "  success: False\n",
       "        x: array([ 3.95922537e-01,  3.55092029e-01,  8.03962384e-01,  9.27268858e-01,\n",
       "        2.72411329e-01, -9.06148082e-02,  6.96907463e-03, -1.62338672e-04])"
      ]
     },
     "execution_count": 33,
     "metadata": {},
     "output_type": "execute_result"
    }
   ],
   "source": [
    "sol = opt.minimize(funcion_precios, \n",
    "                  beta_inicial,\n",
    "                  args = (X, y))\n",
    "sol"
   ]
  },
  {
   "cell_type": "code",
   "execution_count": 34,
   "id": "bd3f0a42",
   "metadata": {},
   "outputs": [
    {
     "data": {
      "text/plain": [
       "array([ 3.95922537e-01,  2.67084907e+00,  1.36242558e+01,  3.85044593e+01,\n",
       "        7.68582054e+01,  1.21473937e+02,  1.59888236e+02,  1.77637247e+02,\n",
       "        1.62434908e+02,  1.08459782e+02,  1.99323275e+01, -8.68356028e+01,\n",
       "       -1.83737209e+02, -2.34331322e+02, -2.01285315e+02, -5.86185059e+01,\n",
       "        1.90435724e+02,  4.89130943e+02,  6.95653606e+02,  5.43495735e+02,\n",
       "       -4.07063843e+02])"
      ]
     },
     "execution_count": 34,
     "metadata": {},
     "output_type": "execute_result"
    }
   ],
   "source": [
    "y_predA5 = X @ sol.x\n",
    "y_predA5"
   ]
  },
  {
   "cell_type": "markdown",
   "id": "c928efb5",
   "metadata": {},
   "source": [
    "**Solución y visualización del problema de optimización:**\n",
    "\n",
    "- Ya que obtuvimos los 5 modelos, pasamos a graficar cada uno, junto con los precios de la acción de Apple"
   ]
  },
  {
   "cell_type": "code",
   "execution_count": 35,
   "id": "a3c84158",
   "metadata": {
    "scrolled": true
   },
   "outputs": [
    {
     "data": {
      "image/png": "[encoded data removed]",
      "text/plain": [
       "<Figure size 432x288 with 1 Axes>"
      ]
     },
     "metadata": {
      "needs_background": "light"
     },
     "output_type": "display_data"
    }
   ],
   "source": [
    "x = np.linspace(0, 20, m)\n",
    "y = dataApple\n",
    "\n",
    "plt.figure()\n",
    "plt.scatter(x, y, s = 50)\n",
    "plt.plot(x, y_predA1, \"b\")\n",
    "plt.plot(x, y_predA2, \"r\")\n",
    "plt.plot(x, y_predA3, \"g\")\n",
    "plt.plot(x, y_predA4, \"black\")\n",
    "plt.plot(x, y_predA5, \"y\")\n",
    "plt.grid()"
   ]
  },
  {
   "cell_type": "markdown",
   "id": "43d08b63",
   "metadata": {},
   "source": [
    "## Análisis de resultados:\n",
    "\n",
    "Obtenemos la siguiente gráfica. Esta gráfica no representa los precios de la acción de Apple, sólo se puede observar una tendencia bajista de la curva del modelo con polinomio de grado 7, que es la curva amarilla `y_predA5`\n",
    "\n",
    "Esto puede ser un sobreajuste (*overfitting*) de la función a los puntos reales, por lo que este modelo no es un modelo de los precios de la acción de Apple, y no nos servirá para predecir los precios de los siguientes tres meses."
   ]
  },
  {
   "cell_type": "markdown",
   "id": "62533a00",
   "metadata": {},
   "source": [
    "- Vamos a volver a graficar los precios y los modelos propuestos, esta vez ingorando el modelo `y_predA5`"
   ]
  },
  {
   "cell_type": "code",
   "execution_count": 36,
   "id": "bdcdf062",
   "metadata": {},
   "outputs": [
    {
     "data": {
      "image/png": "[encoded data removed]",
      "text/plain": [
       "<Figure size 432x288 with 1 Axes>"
      ]
     },
     "metadata": {
      "needs_background": "light"
     },
     "output_type": "display_data"
    }
   ],
   "source": [
    "x = np.linspace(0, 20, m)\n",
    "y = dataApple\n",
    "\n",
    "plt.figure()\n",
    "plt.scatter(x, y, s = 50)\n",
    "plt.plot(x, y_predA1, \"b\")\n",
    "plt.plot(x, y_predA2, \"r\")\n",
    "plt.plot(x, y_predA3, \"g\")\n",
    "plt.plot(x, y_predA4, \"black\")\n",
    "#plt.plot(x, y_predA5, \"y\")\n",
    "plt.grid()"
   ]
  },
  {
   "cell_type": "markdown",
   "id": "a43b2d17",
   "metadata": {},
   "source": [
    "## Análisis de resultados:\n",
    "\n",
    "- Obtenemos el siguiente gráfico. El modelo `y_predA4` que es un polinomio de grado 6 no es un modelo representativo de los precios de la acción de Apple, ya que la función se aleja demasiado de los precios y no pasa cerca de casi ninguno de los precios. Por lo tanto no es un buen modelo.\n",
    "\n",
    "- A continuación vamos a graficar los primeros tres modelos, que son `y_predA1`, `y_predA2`, y `y_predA3`, junto con los precios de la acción de Apple"
   ]
  },
  {
   "cell_type": "code",
   "execution_count": 37,
   "id": "2653ba4d",
   "metadata": {},
   "outputs": [
    {
     "data": {
      "image/png": "[encoded data removed]",
      "text/plain": [
       "<Figure size 432x288 with 1 Axes>"
      ]
     },
     "metadata": {
      "needs_background": "light"
     },
     "output_type": "display_data"
    }
   ],
   "source": [
    "x = np.linspace(0, 20, m)\n",
    "y = dataApple\n",
    "\n",
    "plt.figure()\n",
    "plt.scatter(x, y, s = 50)\n",
    "plt.plot(x, y_predA1, \"b\")\n",
    "plt.plot(x, y_predA2, \"r\")\n",
    "plt.plot(x, y_predA3, \"g\")\n",
    "#plt.plot(x, y_predA4, \"black\")\n",
    "#plt.plot(x, y_predA5, \"y\")\n",
    "plt.grid()"
   ]
  },
  {
   "cell_type": "markdown",
   "id": "d61a84cd",
   "metadata": {},
   "source": [
    "## Análisis de resultados:\n",
    "\n",
    "- Obtenemos el siguiente gráfico. Ahora sí obtenemos tres modelos que pueden ser representativos para los precios de la acción de Apple. \n",
    "\n",
    "- A simple vista podemos identificar que los modelos `y_predA2`, y `y_predA3` (*que son los modelos con polinomios de grado 4 y 5, respectivamente*), se ajustan o se acercan a la mayoría de los precios de las acciones de Apple, a comparación del modelo `y_predA1`, que es el modelo con polinomio de grado 3.\n",
    "\n",
    "- Entonces podemos determinar que ambos modelos `y_predA2` y `y_predA3` son los mejores modelos que podemos utilizar para predecir los precios de las acciones de Apple en los siguientes meses hasta el final del año.\n",
    "\n",
    "1. Modelo `y_predA2`: \n",
    "- $ y = 6.82629654e-03x^4 -2.89435350e-01x^3 + 3.70998894e+00x^2 -1.17380690e+01x + 1.32519412e+02 $\n",
    "\n",
    "2. Modelo `y_predA3`:\n",
    "- $ y = 1.00666709e-04x^5 + 1.71549588e-03x^4 -1.97717959e-01x^3 + 3.02738060e+00x^2 -9.90479912e+00x + 1.31771324e+02 $\n",
    "\n",
    "- Ahora daremos valores aleatorios a las variables para predecir los precios de la acción de Apple dentro de los siguientes 4 meses, es decir, del día de hoy hasta el 01 de enero de 2022."
   ]
  },
  {
   "cell_type": "markdown",
   "id": "21fc3cf0",
   "metadata": {},
   "source": [
    "- **Predicción de precios utilizando el polinomio de grado 4 `y_predA2`**\n",
    "\n",
    "Tenemos que x es un arreglo de numpy con los siguientes valores:"
   ]
  },
  {
   "cell_type": "code",
   "execution_count": 113,
   "id": "22a9a6be",
   "metadata": {},
   "outputs": [
    {
     "data": {
      "text/plain": [
       "array([ 0.,  1.,  2.,  3.,  4.,  5.,  6.,  7.,  8.,  9., 10., 11., 12.,\n",
       "       13., 14., 15., 16., 17., 18., 19., 20.])"
      ]
     },
     "execution_count": 113,
     "metadata": {},
     "output_type": "execute_result"
    }
   ],
   "source": [
    "x"
   ]
  },
  {
   "cell_type": "markdown",
   "id": "544886b5",
   "metadata": {},
   "source": [
    "Por lo que para predecir los precios de la acción de Apple en los siguientes meses, usaremos para los siguientes valores para x; $ x = 21, x = 22, x = 23, x = 24 $"
   ]
  },
  {
   "cell_type": "markdown",
   "id": "b7a8b474",
   "metadata": {},
   "source": [
    "Para esto vamos a necesitar la librería de sympy"
   ]
  },
  {
   "cell_type": "code",
   "execution_count": 134,
   "id": "70bb78a4",
   "metadata": {},
   "outputs": [
    {
     "data": {
      "text/latex": [
       "$\\displaystyle 169.24928658574$"
      ],
      "text/plain": [
       "169.249286585740"
      ]
     },
     "execution_count": 134,
     "metadata": {},
     "output_type": "execute_result"
    }
   ],
   "source": [
    "import sympy as sp\n",
    "sp.var('x')\n",
    "\n",
    "y = 6.82629654e-03*x**4 -2.89435350e-01*x**3 + 3.70998894e+00*x**2 -1.17380690e+01*x + 1.32519412e+02\n",
    "preciosA1 = y.subs(x, 21)\n",
    "preciosA1"
   ]
  },
  {
   "cell_type": "code",
   "execution_count": 126,
   "id": "a5543171",
   "metadata": {},
   "outputs": [
    {
     "data": {
      "text/latex": [
       "$\\displaystyle 187.10985643424$"
      ],
      "text/plain": [
       "187.109856434240"
      ]
     },
     "execution_count": 126,
     "metadata": {},
     "output_type": "execute_result"
    }
   ],
   "source": [
    "preciosA2 = y.subs(x, 22)\n",
    "preciosA2"
   ]
  },
  {
   "cell_type": "code",
   "execution_count": 127,
   "id": "cfae2b83",
   "metadata": {},
   "outputs": [
    {
     "data": {
      "text/latex": [
       "$\\displaystyle 213.845720860141$"
      ],
      "text/plain": [
       "213.845720860141"
      ]
     },
     "execution_count": 127,
     "metadata": {},
     "output_type": "execute_result"
    }
   ],
   "source": [
    "preciosA3 = y.subs(x, 23)\n",
    "preciosA3"
   ]
  },
  {
   "cell_type": "code",
   "execution_count": 128,
   "id": "e4accd5e",
   "metadata": {},
   "outputs": [
    {
     "data": {
      "text/latex": [
       "$\\displaystyle 251.40646789504$"
      ],
      "text/plain": [
       "251.406467895040"
      ]
     },
     "execution_count": 128,
     "metadata": {},
     "output_type": "execute_result"
    }
   ],
   "source": [
    "preciosA4 = y.subs(x, 24)\n",
    "preciosA4"
   ]
  },
  {
   "cell_type": "markdown",
   "id": "0a9503f5",
   "metadata": {},
   "source": [
    "**Obtenemos la siguiente predicción de los precios**\n",
    "- Octubre = 169.25 USD\n",
    "- Noviembre = 187.11 USD\n",
    "- Diciembre = 213.85 USD\n",
    "- Enero = 251.41 USD"
   ]
  },
  {
   "cell_type": "markdown",
   "id": "2a18ef44",
   "metadata": {},
   "source": [
    "- **Predicción de precios utilizando el polinomio de grado 4 `y_predA3`**"
   ]
  },
  {
   "cell_type": "code",
   "execution_count": 129,
   "id": "7e83f709",
   "metadata": {},
   "outputs": [
    {
     "data": {
      "text/latex": [
       "$\\displaystyle 172.543729912889$"
      ],
      "text/plain": [
       "172.543729912889"
      ]
     },
     "execution_count": 129,
     "metadata": {},
     "output_type": "execute_result"
    }
   ],
   "source": [
    "y2 = 1.00666709e-04*x**5 + 1.71549588e-03*x**4 -1.97717959e-01*x**3 + 3.02738060e+00*x**2 -9.90479912e+00*x + 1.31771324e+02\n",
    "preciosA5 = y2.subs(x, 21)\n",
    "preciosA5"
   ]
  },
  {
   "cell_type": "code",
   "execution_count": 130,
   "id": "5d554768",
   "metadata": {},
   "outputs": [
    {
     "data": {
      "text/latex": [
       "$\\displaystyle 194.481502030368$"
      ],
      "text/plain": [
       "194.481502030368"
      ]
     },
     "execution_count": 130,
     "metadata": {},
     "output_type": "execute_result"
    }
   ],
   "source": [
    "preciosA6 = y2.subs(x, 22)\n",
    "preciosA6"
   ]
  },
  {
   "cell_type": "code",
   "execution_count": 131,
   "id": "bb0bf479",
   "metadata": {},
   "outputs": [
    {
     "data": {
      "text/latex": [
       "$\\displaystyle 227.802424847267$"
      ],
      "text/plain": [
       "227.802424847267"
      ]
     },
     "execution_count": 131,
     "metadata": {},
     "output_type": "execute_result"
    }
   ],
   "source": [
    "preciosA7 = y2.subs(x, 23)\n",
    "preciosA7"
   ]
  },
  {
   "cell_type": "code",
   "execution_count": 132,
   "id": "13e44f04",
   "metadata": {},
   "outputs": [
    {
     "data": {
      "text/latex": [
       "$\\displaystyle 275.305819671296$"
      ],
      "text/plain": [
       "275.305819671296"
      ]
     },
     "execution_count": 132,
     "metadata": {},
     "output_type": "execute_result"
    }
   ],
   "source": [
    "preciosA8 = y2.subs(x, 24)\n",
    "preciosA8"
   ]
  },
  {
   "cell_type": "markdown",
   "id": "e5a14a7e",
   "metadata": {},
   "source": [
    "**Obtenemos la siguiente predicción de los precios**\n",
    "- Octubre = 172.54 USD\n",
    "- Noviembre = 194.78 USD\n",
    "- Diciembre = 227.80 USD\n",
    "- Enero = 275.31 USD"
   ]
  },
  {
   "cell_type": "markdown",
   "id": "88ba383c",
   "metadata": {},
   "source": [
    "## Conlcusiones\n",
    "\n",
    "Podemos ver que según esta predicción, los precios van subiendo y tenemos una tendencia alcista. Esto se debe a que en nuestro modelo solo tenemos dos variables $x$ y $y$, para hacer una predicción precisa tendríamos que tener en cuenta variables como el riesgo. Aparte de que el comportamiento de la bolsa llega a ser impredecible, y también influyen factores externos del mercado de acciones como tal, por ejemplo la guerra entre Rusia y Ucrania, todos esos factores influyen en los precios de las acciones de las empresas. Este comportamiento se ve reflejado en todas las empresas del trabajo"
   ]
  },
  {
   "cell_type": "markdown",
   "id": "a644add7",
   "metadata": {},
   "source": [
    "---"
   ]
  },
  {
   "cell_type": "markdown",
   "id": "d617ab4d",
   "metadata": {},
   "source": [
    "# Microsoft Corp.\n",
    "\n",
    "Los datos de los precios de la accción de Microsoft en los últimos meses se obtuvieron de *Investing.com* y se cotejaron con *Factset* para verificar los datos.\n",
    "\n",
    "El procedimiento para obtener los modelos será el mismo que se utilizó con Apple, por lo que omitiremos la explicación de cada línea de código.\n",
    "\n",
    "Para Microsoft vamos a empezar con un modelo con polinomio de grado 6, y llegaremos hasta un modelo con polinomio de grado 10. Esto con el objetivo de verificar si se sigue presentado un sobreajuste mientras más variables tengamos en nuestra función, ya que, como sucedió con los modelos propuestos para los precios de Apple, cuando llegamos al polinomio de grado 6, el modelo ya no era útil.\n",
    "\n",
    "Por lo que cuando obtengamos el modelo con polinomio de grado 6, graficaremos los precios y el modelo. Si el gráfico obtenido es igual al que obtuvimos con el `y_predA5`, en vez de aumentar de grado en los modelos, disminuiremos las variables para obtener modelos que sean más útiles y representativos.\n",
    "\n",
    "Si el polinomio con grado 6 es útil y puede ser representativo, aumentaremos las variables con los siguientes modelos como lo planteamos originalmente."
   ]
  },
  {
   "cell_type": "markdown",
   "id": "b87a0899",
   "metadata": {},
   "source": [
    "**Modelo que representa el problema:**\n",
    "\n",
    "Se va a realizar el ajuste de curvas.\n",
    "Necesitamos las librerías para poder trabajar con ajuste de curvas. Necesitaremos un archivo de excel donde están los precios de la acción de cada empresa y leeremos el archivo de excel utilizando `pandas`. Después vamos a usar `numpy` para ordenar los datos de los precios de las acciones como un arreglo numérico y de esta manera poder trabajar con los datos. Después utilizaremos funciones de python junto con operaciones de álgebra lineal para definir los modelos para realizar el ajuste de curvas. Y al final usaremos `scipy.optimize` para encontrar las betas o los pesos de cada modelo. Y por último usaremos la librería de `matplotlib` para graficar los resultados obtenidos"
   ]
  },
  {
   "cell_type": "markdown",
   "id": "e5166e1b",
   "metadata": {},
   "source": [
    "**Vamos a leer el archivo de excel y definir una nueva variable con los precios de Microsoft Corp, a los cuáles los convertiremos en un arreglo de Numpy para poder trabajar con el ajuste de curvas**"
   ]
  },
  {
   "cell_type": "code",
   "execution_count": 38,
   "id": "5c18f58e",
   "metadata": {},
   "outputs": [],
   "source": [
    "# Volvemos a importar las librerías\n",
    "\n",
    "import numpy as np\n",
    "import pandas as pd\n",
    "import matplotlib.pyplot as plt\n",
    "import scipy.optimize as opt"
   ]
  },
  {
   "cell_type": "code",
   "execution_count": 39,
   "id": "4f539e69",
   "metadata": {},
   "outputs": [],
   "source": [
    "data2 = pd.read_excel('PreciosProyecto1.xlsx')"
   ]
  },
  {
   "cell_type": "code",
   "execution_count": 40,
   "id": "bda88291",
   "metadata": {},
   "outputs": [
    {
     "data": {
      "text/html": [
       "<div>\n",
       "<style scoped>\n",
       "    .dataframe tbody tr th:only-of-type {\n",
       "        vertical-align: middle;\n",
       "    }\n",
       "\n",
       "    .dataframe tbody tr th {\n",
       "        vertical-align: top;\n",
       "    }\n",
       "\n",
       "    .dataframe thead th {\n",
       "        text-align: right;\n",
       "    }\n",
       "</style>\n",
       "<table border=\"1\" class=\"dataframe\">\n",
       "  <thead>\n",
       "    <tr style=\"text-align: right;\">\n",
       "      <th></th>\n",
       "      <th>Fecha</th>\n",
       "      <th>Precios Apple</th>\n",
       "      <th>Unnamed: 2</th>\n",
       "      <th>Fecha.1</th>\n",
       "      <th>Precios Microsoft</th>\n",
       "      <th>Unnamed: 5</th>\n",
       "      <th>Fecha.2</th>\n",
       "      <th>Precios Nike</th>\n",
       "      <th>Unnamed: 8</th>\n",
       "      <th>Fecha.3</th>\n",
       "      <th>Precios Starbucks</th>\n",
       "      <th>Unnamed: 11</th>\n",
       "      <th>Fecha.4</th>\n",
       "      <th>Precios Tesla</th>\n",
       "    </tr>\n",
       "  </thead>\n",
       "  <tbody>\n",
       "    <tr>\n",
       "      <th>0</th>\n",
       "      <td>01 de enero de 2021</td>\n",
       "      <td>131.96</td>\n",
       "      <td>NaN</td>\n",
       "      <td>01 de enero de 2021</td>\n",
       "      <td>231.96</td>\n",
       "      <td>NaN</td>\n",
       "      <td>01 de enero de 2021</td>\n",
       "      <td>133.59</td>\n",
       "      <td>NaN</td>\n",
       "      <td>01 de enero de 2021</td>\n",
       "      <td>96.81</td>\n",
       "      <td>NaN</td>\n",
       "      <td>01 de enero de 2021</td>\n",
       "      <td>264.51</td>\n",
       "    </tr>\n",
       "    <tr>\n",
       "      <th>1</th>\n",
       "      <td>01 de febrero de 2021</td>\n",
       "      <td>121.26</td>\n",
       "      <td>NaN</td>\n",
       "      <td>01 de febrero de 2021</td>\n",
       "      <td>232.38</td>\n",
       "      <td>NaN</td>\n",
       "      <td>01 de febrero de 2021</td>\n",
       "      <td>134.78</td>\n",
       "      <td>NaN</td>\n",
       "      <td>01 de febrero de 2021</td>\n",
       "      <td>108.03</td>\n",
       "      <td>NaN</td>\n",
       "      <td>01 de febrero de 2021</td>\n",
       "      <td>225.17</td>\n",
       "    </tr>\n",
       "    <tr>\n",
       "      <th>2</th>\n",
       "      <td>01 de marzo de 2021</td>\n",
       "      <td>122.15</td>\n",
       "      <td>NaN</td>\n",
       "      <td>01 de marzo de 2021</td>\n",
       "      <td>235.77</td>\n",
       "      <td>NaN</td>\n",
       "      <td>01 de marzo de 2021</td>\n",
       "      <td>132.89</td>\n",
       "      <td>NaN</td>\n",
       "      <td>01 de marzo de 2021</td>\n",
       "      <td>109.27</td>\n",
       "      <td>NaN</td>\n",
       "      <td>01 de marzo de 2021</td>\n",
       "      <td>222.64</td>\n",
       "    </tr>\n",
       "    <tr>\n",
       "      <th>3</th>\n",
       "      <td>01 de abril de 2021</td>\n",
       "      <td>131.46</td>\n",
       "      <td>NaN</td>\n",
       "      <td>01 de abril de 2021</td>\n",
       "      <td>252.18</td>\n",
       "      <td>NaN</td>\n",
       "      <td>01 de abril de 2021</td>\n",
       "      <td>132.62</td>\n",
       "      <td>NaN</td>\n",
       "      <td>01 de abril de 2021</td>\n",
       "      <td>114.49</td>\n",
       "      <td>NaN</td>\n",
       "      <td>01 de abril de 2021</td>\n",
       "      <td>236.48</td>\n",
       "    </tr>\n",
       "    <tr>\n",
       "      <th>4</th>\n",
       "      <td>01 de mayo de 2021</td>\n",
       "      <td>124.61</td>\n",
       "      <td>NaN</td>\n",
       "      <td>01 de mayo de 2021</td>\n",
       "      <td>249.68</td>\n",
       "      <td>NaN</td>\n",
       "      <td>01 de mayo de 2021</td>\n",
       "      <td>136.46</td>\n",
       "      <td>NaN</td>\n",
       "      <td>01 de mayo de 2021</td>\n",
       "      <td>113.88</td>\n",
       "      <td>NaN</td>\n",
       "      <td>01 de mayo de 2021</td>\n",
       "      <td>208.41</td>\n",
       "    </tr>\n",
       "    <tr>\n",
       "      <th>5</th>\n",
       "      <td>01 de junio de 2021</td>\n",
       "      <td>136.96</td>\n",
       "      <td>NaN</td>\n",
       "      <td>01 de junio de 2021</td>\n",
       "      <td>270.90</td>\n",
       "      <td>NaN</td>\n",
       "      <td>01 de junio de 2021</td>\n",
       "      <td>154.49</td>\n",
       "      <td>NaN</td>\n",
       "      <td>01 de junio de 2021</td>\n",
       "      <td>111.81</td>\n",
       "      <td>NaN</td>\n",
       "      <td>01 de junio de 2021</td>\n",
       "      <td>226.57</td>\n",
       "    </tr>\n",
       "    <tr>\n",
       "      <th>6</th>\n",
       "      <td>01 de julio de 2021</td>\n",
       "      <td>145.86</td>\n",
       "      <td>NaN</td>\n",
       "      <td>01 de julio de 2021</td>\n",
       "      <td>284.91</td>\n",
       "      <td>NaN</td>\n",
       "      <td>01 de julio de 2021</td>\n",
       "      <td>167.51</td>\n",
       "      <td>NaN</td>\n",
       "      <td>01 de julio de 2021</td>\n",
       "      <td>121.43</td>\n",
       "      <td>NaN</td>\n",
       "      <td>01 de julio de 2021</td>\n",
       "      <td>229.07</td>\n",
       "    </tr>\n",
       "    <tr>\n",
       "      <th>7</th>\n",
       "      <td>01 de agosto de 2021</td>\n",
       "      <td>151.83</td>\n",
       "      <td>NaN</td>\n",
       "      <td>01 de agosto de 2021</td>\n",
       "      <td>301.88</td>\n",
       "      <td>NaN</td>\n",
       "      <td>01 de agosto de 2021</td>\n",
       "      <td>164.74</td>\n",
       "      <td>NaN</td>\n",
       "      <td>01 de agosto de 2021</td>\n",
       "      <td>117.49</td>\n",
       "      <td>NaN</td>\n",
       "      <td>01 de agosto de 2021</td>\n",
       "      <td>245.24</td>\n",
       "    </tr>\n",
       "    <tr>\n",
       "      <th>8</th>\n",
       "      <td>01 de septiembre de 2021</td>\n",
       "      <td>141.50</td>\n",
       "      <td>NaN</td>\n",
       "      <td>01 de septiembre de 2021</td>\n",
       "      <td>281.92</td>\n",
       "      <td>NaN</td>\n",
       "      <td>01 de septiembre de 2021</td>\n",
       "      <td>145.23</td>\n",
       "      <td>NaN</td>\n",
       "      <td>01 de septiembre de 2021</td>\n",
       "      <td>110.31</td>\n",
       "      <td>NaN</td>\n",
       "      <td>01 de septiembre de 2021</td>\n",
       "      <td>258.49</td>\n",
       "    </tr>\n",
       "    <tr>\n",
       "      <th>9</th>\n",
       "      <td>01 de octubre de 2021</td>\n",
       "      <td>149.80</td>\n",
       "      <td>NaN</td>\n",
       "      <td>01 de octubre de 2021</td>\n",
       "      <td>331.62</td>\n",
       "      <td>NaN</td>\n",
       "      <td>01 de octubre de 2021</td>\n",
       "      <td>167.29</td>\n",
       "      <td>NaN</td>\n",
       "      <td>01 de octubre de 2021</td>\n",
       "      <td>106.07</td>\n",
       "      <td>NaN</td>\n",
       "      <td>01 de octubre de 2021</td>\n",
       "      <td>371.33</td>\n",
       "    </tr>\n",
       "    <tr>\n",
       "      <th>10</th>\n",
       "      <td>01 de noviembre de 2021</td>\n",
       "      <td>165.30</td>\n",
       "      <td>NaN</td>\n",
       "      <td>01 de noviembre de 2021</td>\n",
       "      <td>330.59</td>\n",
       "      <td>NaN</td>\n",
       "      <td>01 de noviembre de 2021</td>\n",
       "      <td>169.24</td>\n",
       "      <td>NaN</td>\n",
       "      <td>01 de noviembre de 2021</td>\n",
       "      <td>109.64</td>\n",
       "      <td>NaN</td>\n",
       "      <td>01 de noviembre de 2021</td>\n",
       "      <td>381.59</td>\n",
       "    </tr>\n",
       "    <tr>\n",
       "      <th>11</th>\n",
       "      <td>01 de diciembre 2021</td>\n",
       "      <td>177.57</td>\n",
       "      <td>NaN</td>\n",
       "      <td>01 de diciembre 2021</td>\n",
       "      <td>336.32</td>\n",
       "      <td>NaN</td>\n",
       "      <td>01 de diciembre 2021</td>\n",
       "      <td>166.67</td>\n",
       "      <td>NaN</td>\n",
       "      <td>01 de diciembre 2021</td>\n",
       "      <td>116.97</td>\n",
       "      <td>NaN</td>\n",
       "      <td>01 de diciembre 2021</td>\n",
       "      <td>352.26</td>\n",
       "    </tr>\n",
       "    <tr>\n",
       "      <th>12</th>\n",
       "      <td>01 de enero de 2022</td>\n",
       "      <td>174.78</td>\n",
       "      <td>NaN</td>\n",
       "      <td>01 de enero de 2022</td>\n",
       "      <td>310.98</td>\n",
       "      <td>NaN</td>\n",
       "      <td>01 de enero de 2022</td>\n",
       "      <td>148.07</td>\n",
       "      <td>NaN</td>\n",
       "      <td>01 de enero de 2022</td>\n",
       "      <td>98.32</td>\n",
       "      <td>NaN</td>\n",
       "      <td>01 de enero de 2022</td>\n",
       "      <td>312.24</td>\n",
       "    </tr>\n",
       "    <tr>\n",
       "      <th>13</th>\n",
       "      <td>01 de febrero de 2022</td>\n",
       "      <td>165.12</td>\n",
       "      <td>NaN</td>\n",
       "      <td>01 de febrero de 2022</td>\n",
       "      <td>298.79</td>\n",
       "      <td>NaN</td>\n",
       "      <td>01 de febrero de 2022</td>\n",
       "      <td>136.55</td>\n",
       "      <td>NaN</td>\n",
       "      <td>01 de febrero de 2022</td>\n",
       "      <td>91.79</td>\n",
       "      <td>NaN</td>\n",
       "      <td>01 de febrero de 2022</td>\n",
       "      <td>290.14</td>\n",
       "    </tr>\n",
       "    <tr>\n",
       "      <th>14</th>\n",
       "      <td>01 de marzo de 2022</td>\n",
       "      <td>174.61</td>\n",
       "      <td>NaN</td>\n",
       "      <td>01 de marzo de 2022</td>\n",
       "      <td>308.31</td>\n",
       "      <td>NaN</td>\n",
       "      <td>01 de marzo de 2022</td>\n",
       "      <td>134.56</td>\n",
       "      <td>NaN</td>\n",
       "      <td>01 de marzo de 2022</td>\n",
       "      <td>90.97</td>\n",
       "      <td>NaN</td>\n",
       "      <td>01 de marzo de 2022</td>\n",
       "      <td>359.20</td>\n",
       "    </tr>\n",
       "    <tr>\n",
       "      <th>15</th>\n",
       "      <td>01 de abril de 2022</td>\n",
       "      <td>157.65</td>\n",
       "      <td>NaN</td>\n",
       "      <td>01 de abril de 2022</td>\n",
       "      <td>277.52</td>\n",
       "      <td>NaN</td>\n",
       "      <td>01 de abril de 2022</td>\n",
       "      <td>124.70</td>\n",
       "      <td>NaN</td>\n",
       "      <td>01 de abril de 2022</td>\n",
       "      <td>74.64</td>\n",
       "      <td>NaN</td>\n",
       "      <td>01 de abril de 2022</td>\n",
       "      <td>290.25</td>\n",
       "    </tr>\n",
       "    <tr>\n",
       "      <th>16</th>\n",
       "      <td>01 de mayo de 2022</td>\n",
       "      <td>148.84</td>\n",
       "      <td>NaN</td>\n",
       "      <td>01 de mayo de 2022</td>\n",
       "      <td>271.87</td>\n",
       "      <td>NaN</td>\n",
       "      <td>01 de mayo de 2022</td>\n",
       "      <td>118.85</td>\n",
       "      <td>NaN</td>\n",
       "      <td>01 de mayo de 2022</td>\n",
       "      <td>78.50</td>\n",
       "      <td>NaN</td>\n",
       "      <td>01 de mayo de 2022</td>\n",
       "      <td>252.75</td>\n",
       "    </tr>\n",
       "    <tr>\n",
       "      <th>17</th>\n",
       "      <td>01 de junio de 2022</td>\n",
       "      <td>136.72</td>\n",
       "      <td>NaN</td>\n",
       "      <td>01 de junio de 2022</td>\n",
       "      <td>256.83</td>\n",
       "      <td>NaN</td>\n",
       "      <td>01 de junio de 2022</td>\n",
       "      <td>102.20</td>\n",
       "      <td>NaN</td>\n",
       "      <td>01 de junio de 2022</td>\n",
       "      <td>76.39</td>\n",
       "      <td>NaN</td>\n",
       "      <td>01 de junio de 2022</td>\n",
       "      <td>224.47</td>\n",
       "    </tr>\n",
       "    <tr>\n",
       "      <th>18</th>\n",
       "      <td>01 de julio de 2022</td>\n",
       "      <td>162.51</td>\n",
       "      <td>NaN</td>\n",
       "      <td>01 de julio de 2022</td>\n",
       "      <td>280.56</td>\n",
       "      <td>NaN</td>\n",
       "      <td>01 de julio de 2022</td>\n",
       "      <td>114.92</td>\n",
       "      <td>NaN</td>\n",
       "      <td>01 de julio de 2022</td>\n",
       "      <td>84.78</td>\n",
       "      <td>NaN</td>\n",
       "      <td>01 de julio de 2022</td>\n",
       "      <td>297.15</td>\n",
       "    </tr>\n",
       "    <tr>\n",
       "      <th>19</th>\n",
       "      <td>01 de agosto de 2022</td>\n",
       "      <td>157.22</td>\n",
       "      <td>NaN</td>\n",
       "      <td>01 de agosto de 2022</td>\n",
       "      <td>261.47</td>\n",
       "      <td>NaN</td>\n",
       "      <td>01 de agosto de 2022</td>\n",
       "      <td>106.45</td>\n",
       "      <td>NaN</td>\n",
       "      <td>01 de agosto de 2022</td>\n",
       "      <td>84.07</td>\n",
       "      <td>NaN</td>\n",
       "      <td>01 de agosto de 2022</td>\n",
       "      <td>275.61</td>\n",
       "    </tr>\n",
       "    <tr>\n",
       "      <th>20</th>\n",
       "      <td>01 de septiembre de 2022</td>\n",
       "      <td>156.91</td>\n",
       "      <td>NaN</td>\n",
       "      <td>01 de septiembre de 2022</td>\n",
       "      <td>237.92</td>\n",
       "      <td>NaN</td>\n",
       "      <td>01 de septiembre de 2022</td>\n",
       "      <td>97.02</td>\n",
       "      <td>NaN</td>\n",
       "      <td>01 de septiembre de 2022</td>\n",
       "      <td>84.17</td>\n",
       "      <td>NaN</td>\n",
       "      <td>01 de septiembre de 2022</td>\n",
       "      <td>282.80</td>\n",
       "    </tr>\n",
       "  </tbody>\n",
       "</table>\n",
       "</div>"
      ],
      "text/plain": [
       "                       Fecha  Precios Apple  Unnamed: 2  \\\n",
       "0        01 de enero de 2021         131.96         NaN   \n",
       "1      01 de febrero de 2021         121.26         NaN   \n",
       "2        01 de marzo de 2021         122.15         NaN   \n",
       "3        01 de abril de 2021         131.46         NaN   \n",
       "4         01 de mayo de 2021         124.61         NaN   \n",
       "5        01 de junio de 2021         136.96         NaN   \n",
       "6        01 de julio de 2021         145.86         NaN   \n",
       "7       01 de agosto de 2021         151.83         NaN   \n",
       "8   01 de septiembre de 2021         141.50         NaN   \n",
       "9      01 de octubre de 2021         149.80         NaN   \n",
       "10   01 de noviembre de 2021         165.30         NaN   \n",
       "11      01 de diciembre 2021         177.57         NaN   \n",
       "12       01 de enero de 2022         174.78         NaN   \n",
       "13     01 de febrero de 2022         165.12         NaN   \n",
       "14       01 de marzo de 2022         174.61         NaN   \n",
       "15       01 de abril de 2022         157.65         NaN   \n",
       "16        01 de mayo de 2022         148.84         NaN   \n",
       "17       01 de junio de 2022         136.72         NaN   \n",
       "18       01 de julio de 2022         162.51         NaN   \n",
       "19      01 de agosto de 2022         157.22         NaN   \n",
       "20  01 de septiembre de 2022         156.91         NaN   \n",
       "\n",
       "                     Fecha.1  Precios Microsoft  Unnamed: 5  \\\n",
       "0        01 de enero de 2021             231.96         NaN   \n",
       "1      01 de febrero de 2021             232.38         NaN   \n",
       "2        01 de marzo de 2021             235.77         NaN   \n",
       "3        01 de abril de 2021             252.18         NaN   \n",
       "4         01 de mayo de 2021             249.68         NaN   \n",
       "5        01 de junio de 2021             270.90         NaN   \n",
       "6        01 de julio de 2021             284.91         NaN   \n",
       "7       01 de agosto de 2021             301.88         NaN   \n",
       "8   01 de septiembre de 2021             281.92         NaN   \n",
       "9      01 de octubre de 2021             331.62         NaN   \n",
       "10   01 de noviembre de 2021             330.59         NaN   \n",
       "11      01 de diciembre 2021             336.32         NaN   \n",
       "12       01 de enero de 2022             310.98         NaN   \n",
       "13     01 de febrero de 2022             298.79         NaN   \n",
       "14       01 de marzo de 2022             308.31         NaN   \n",
       "15       01 de abril de 2022             277.52         NaN   \n",
       "16        01 de mayo de 2022             271.87         NaN   \n",
       "17       01 de junio de 2022             256.83         NaN   \n",
       "18       01 de julio de 2022             280.56         NaN   \n",
       "19      01 de agosto de 2022             261.47         NaN   \n",
       "20  01 de septiembre de 2022             237.92         NaN   \n",
       "\n",
       "                     Fecha.2  Precios Nike  Unnamed: 8  \\\n",
       "0        01 de enero de 2021        133.59         NaN   \n",
       "1      01 de febrero de 2021        134.78         NaN   \n",
       "2        01 de marzo de 2021        132.89         NaN   \n",
       "3        01 de abril de 2021        132.62         NaN   \n",
       "4         01 de mayo de 2021        136.46         NaN   \n",
       "5        01 de junio de 2021        154.49         NaN   \n",
       "6        01 de julio de 2021        167.51         NaN   \n",
       "7       01 de agosto de 2021        164.74         NaN   \n",
       "8   01 de septiembre de 2021        145.23         NaN   \n",
       "9      01 de octubre de 2021        167.29         NaN   \n",
       "10   01 de noviembre de 2021        169.24         NaN   \n",
       "11      01 de diciembre 2021        166.67         NaN   \n",
       "12       01 de enero de 2022        148.07         NaN   \n",
       "13     01 de febrero de 2022        136.55         NaN   \n",
       "14       01 de marzo de 2022        134.56         NaN   \n",
       "15       01 de abril de 2022        124.70         NaN   \n",
       "16        01 de mayo de 2022        118.85         NaN   \n",
       "17       01 de junio de 2022        102.20         NaN   \n",
       "18       01 de julio de 2022        114.92         NaN   \n",
       "19      01 de agosto de 2022        106.45         NaN   \n",
       "20  01 de septiembre de 2022         97.02         NaN   \n",
       "\n",
       "                     Fecha.3  Precios Starbucks  Unnamed: 11  \\\n",
       "0        01 de enero de 2021              96.81          NaN   \n",
       "1      01 de febrero de 2021             108.03          NaN   \n",
       "2        01 de marzo de 2021             109.27          NaN   \n",
       "3        01 de abril de 2021             114.49          NaN   \n",
       "4         01 de mayo de 2021             113.88          NaN   \n",
       "5        01 de junio de 2021             111.81          NaN   \n",
       "6        01 de julio de 2021             121.43          NaN   \n",
       "7       01 de agosto de 2021             117.49          NaN   \n",
       "8   01 de septiembre de 2021             110.31          NaN   \n",
       "9      01 de octubre de 2021             106.07          NaN   \n",
       "10   01 de noviembre de 2021             109.64          NaN   \n",
       "11      01 de diciembre 2021             116.97          NaN   \n",
       "12       01 de enero de 2022              98.32          NaN   \n",
       "13     01 de febrero de 2022              91.79          NaN   \n",
       "14       01 de marzo de 2022              90.97          NaN   \n",
       "15       01 de abril de 2022              74.64          NaN   \n",
       "16        01 de mayo de 2022              78.50          NaN   \n",
       "17       01 de junio de 2022              76.39          NaN   \n",
       "18       01 de julio de 2022              84.78          NaN   \n",
       "19      01 de agosto de 2022              84.07          NaN   \n",
       "20  01 de septiembre de 2022              84.17          NaN   \n",
       "\n",
       "                     Fecha.4  Precios Tesla  \n",
       "0        01 de enero de 2021         264.51  \n",
       "1      01 de febrero de 2021         225.17  \n",
       "2        01 de marzo de 2021         222.64  \n",
       "3        01 de abril de 2021         236.48  \n",
       "4         01 de mayo de 2021         208.41  \n",
       "5        01 de junio de 2021         226.57  \n",
       "6        01 de julio de 2021         229.07  \n",
       "7       01 de agosto de 2021         245.24  \n",
       "8   01 de septiembre de 2021         258.49  \n",
       "9      01 de octubre de 2021         371.33  \n",
       "10   01 de noviembre de 2021         381.59  \n",
       "11      01 de diciembre 2021         352.26  \n",
       "12       01 de enero de 2022         312.24  \n",
       "13     01 de febrero de 2022         290.14  \n",
       "14       01 de marzo de 2022         359.20  \n",
       "15       01 de abril de 2022         290.25  \n",
       "16        01 de mayo de 2022         252.75  \n",
       "17       01 de junio de 2022         224.47  \n",
       "18       01 de julio de 2022         297.15  \n",
       "19      01 de agosto de 2022         275.61  \n",
       "20  01 de septiembre de 2022         282.80  "
      ]
     },
     "execution_count": 40,
     "metadata": {},
     "output_type": "execute_result"
    }
   ],
   "source": [
    "data2"
   ]
  },
  {
   "cell_type": "code",
   "execution_count": 41,
   "id": "c6acb57d",
   "metadata": {},
   "outputs": [
    {
     "data": {
      "text/plain": [
       "0     231.96\n",
       "1     232.38\n",
       "2     235.77\n",
       "3     252.18\n",
       "4     249.68\n",
       "5     270.90\n",
       "6     284.91\n",
       "7     301.88\n",
       "8     281.92\n",
       "9     331.62\n",
       "10    330.59\n",
       "11    336.32\n",
       "12    310.98\n",
       "13    298.79\n",
       "14    308.31\n",
       "15    277.52\n",
       "16    271.87\n",
       "17    256.83\n",
       "18    280.56\n",
       "19    261.47\n",
       "20    237.92\n",
       "Name: Precios Microsoft, dtype: float64"
      ]
     },
     "execution_count": 41,
     "metadata": {},
     "output_type": "execute_result"
    }
   ],
   "source": [
    "dataMSFT = data2[\"Precios Microsoft\"]     \n",
    "dataMSFT"
   ]
  },
  {
   "cell_type": "code",
   "execution_count": 42,
   "id": "b4219beb",
   "metadata": {},
   "outputs": [],
   "source": [
    "dataMicrosoft = np.array([dataMSFT])"
   ]
  },
  {
   "cell_type": "markdown",
   "id": "a298b137",
   "metadata": {},
   "source": [
    "**Empezamos con el modelo con polinomio de grado 6**"
   ]
  },
  {
   "cell_type": "code",
   "execution_count": 43,
   "id": "0934bcf8",
   "metadata": {},
   "outputs": [
    {
     "data": {
      "image/png": "[encoded data removed]",
      "text/plain": [
       "<Figure size 432x288 with 1 Axes>"
      ]
     },
     "metadata": {
      "needs_background": "light"
     },
     "output_type": "display_data"
    }
   ],
   "source": [
    "m = 21\n",
    "x = np.linspace(0, 20, m)\n",
    "y = dataMicrosoft\n",
    "\n",
    "%matplotlib inline\n",
    "plt.figure()\n",
    "plt.scatter(x, y, s = 100)\n",
    "plt.grid()"
   ]
  },
  {
   "cell_type": "code",
   "execution_count": 44,
   "id": "3c6cf526",
   "metadata": {},
   "outputs": [],
   "source": [
    "# Definimos la función de precios\n",
    "\n",
    "def funcion_preciosM(beta, X, y) :\n",
    "    beta = np.reshape(beta, [7, -1])\n",
    "    pred = X @ beta\n",
    "    return ((y - pred).T @ (y - pred))[0][0]"
   ]
  },
  {
   "cell_type": "code",
   "execution_count": 45,
   "id": "1cd87aab",
   "metadata": {},
   "outputs": [
    {
     "data": {
      "text/plain": [
       "array([[1.0000000e+00, 0.0000000e+00, 0.0000000e+00, 0.0000000e+00,\n",
       "        0.0000000e+00, 0.0000000e+00, 0.0000000e+00],\n",
       "       [1.0000000e+00, 1.0000000e+00, 1.0000000e+00, 1.0000000e+00,\n",
       "        1.0000000e+00, 1.0000000e+00, 1.0000000e+00],\n",
       "       [1.0000000e+00, 2.0000000e+00, 4.0000000e+00, 8.0000000e+00,\n",
       "        1.6000000e+01, 3.2000000e+01, 6.4000000e+01],\n",
       "       [1.0000000e+00, 3.0000000e+00, 9.0000000e+00, 2.7000000e+01,\n",
       "        8.1000000e+01, 2.4300000e+02, 7.2900000e+02],\n",
       "       [1.0000000e+00, 4.0000000e+00, 1.6000000e+01, 6.4000000e+01,\n",
       "        2.5600000e+02, 1.0240000e+03, 4.0960000e+03],\n",
       "       [1.0000000e+00, 5.0000000e+00, 2.5000000e+01, 1.2500000e+02,\n",
       "        6.2500000e+02, 3.1250000e+03, 1.5625000e+04],\n",
       "       [1.0000000e+00, 6.0000000e+00, 3.6000000e+01, 2.1600000e+02,\n",
       "        1.2960000e+03, 7.7760000e+03, 4.6656000e+04],\n",
       "       [1.0000000e+00, 7.0000000e+00, 4.9000000e+01, 3.4300000e+02,\n",
       "        2.4010000e+03, 1.6807000e+04, 1.1764900e+05],\n",
       "       [1.0000000e+00, 8.0000000e+00, 6.4000000e+01, 5.1200000e+02,\n",
       "        4.0960000e+03, 3.2768000e+04, 2.6214400e+05],\n",
       "       [1.0000000e+00, 9.0000000e+00, 8.1000000e+01, 7.2900000e+02,\n",
       "        6.5610000e+03, 5.9049000e+04, 5.3144100e+05],\n",
       "       [1.0000000e+00, 1.0000000e+01, 1.0000000e+02, 1.0000000e+03,\n",
       "        1.0000000e+04, 1.0000000e+05, 1.0000000e+06],\n",
       "       [1.0000000e+00, 1.1000000e+01, 1.2100000e+02, 1.3310000e+03,\n",
       "        1.4641000e+04, 1.6105100e+05, 1.7715610e+06],\n",
       "       [1.0000000e+00, 1.2000000e+01, 1.4400000e+02, 1.7280000e+03,\n",
       "        2.0736000e+04, 2.4883200e+05, 2.9859840e+06],\n",
       "       [1.0000000e+00, 1.3000000e+01, 1.6900000e+02, 2.1970000e+03,\n",
       "        2.8561000e+04, 3.7129300e+05, 4.8268090e+06],\n",
       "       [1.0000000e+00, 1.4000000e+01, 1.9600000e+02, 2.7440000e+03,\n",
       "        3.8416000e+04, 5.3782400e+05, 7.5295360e+06],\n",
       "       [1.0000000e+00, 1.5000000e+01, 2.2500000e+02, 3.3750000e+03,\n",
       "        5.0625000e+04, 7.5937500e+05, 1.1390625e+07],\n",
       "       [1.0000000e+00, 1.6000000e+01, 2.5600000e+02, 4.0960000e+03,\n",
       "        6.5536000e+04, 1.0485760e+06, 1.6777216e+07],\n",
       "       [1.0000000e+00, 1.7000000e+01, 2.8900000e+02, 4.9130000e+03,\n",
       "        8.3521000e+04, 1.4198570e+06, 2.4137569e+07],\n",
       "       [1.0000000e+00, 1.8000000e+01, 3.2400000e+02, 5.8320000e+03,\n",
       "        1.0497600e+05, 1.8895680e+06, 3.4012224e+07],\n",
       "       [1.0000000e+00, 1.9000000e+01, 3.6100000e+02, 6.8590000e+03,\n",
       "        1.3032100e+05, 2.4760990e+06, 4.7045881e+07],\n",
       "       [1.0000000e+00, 2.0000000e+01, 4.0000000e+02, 8.0000000e+03,\n",
       "        1.6000000e+05, 3.2000000e+06, 6.4000000e+07]])"
      ]
     },
     "execution_count": 45,
     "metadata": {},
     "output_type": "execute_result"
    }
   ],
   "source": [
    "# Construimos la matriz X\n",
    "\n",
    "ones = np.ones([m, 1])\n",
    "x_1 = np.reshape(x, [m, -1])\n",
    "x_2 = np.reshape(x**2, [m, -1])\n",
    "x_3 = np.reshape(x**3, [m, -1])\n",
    "x_4 = np.reshape(x**4, [m, -1])\n",
    "x_5 = np.reshape(x**5, [m, -1])\n",
    "x_6 = np.reshape(x**6, [m, -1])\n",
    "X = np.hstack((ones, x_1, x_2, x_3, x_4, x_5, x_6 ))\n",
    "X"
   ]
  },
  {
   "cell_type": "code",
   "execution_count": 46,
   "id": "636650fa",
   "metadata": {},
   "outputs": [
    {
     "data": {
      "text/plain": [
       "2860376865781221.5"
      ]
     },
     "execution_count": 46,
     "metadata": {},
     "output_type": "execute_result"
    }
   ],
   "source": [
    "beta_inicial = np.random.rand(7)\n",
    "y = np.reshape(y, [m, -1])\n",
    "funcion_preciosM(beta_inicial, X, y)"
   ]
  },
  {
   "cell_type": "code",
   "execution_count": 47,
   "id": "fad92aae",
   "metadata": {},
   "outputs": [
    {
     "data": {
      "text/plain": [
       "      fun: 58037.858666362226\n",
       " hess_inv: array([[ 4.14415296e-01, -5.14667476e-01,  1.98404560e-01,\n",
       "        -3.35794346e-02,  2.78851399e-03, -1.11608043e-04,\n",
       "         1.72125133e-06],\n",
       "       [-5.14667476e-01,  1.09473301e+00, -4.94682650e-01,\n",
       "         9.01044909e-02, -7.80131374e-03,  3.20708411e-04,\n",
       "        -5.03871681e-06],\n",
       "       [ 1.98404560e-01, -4.94682650e-01,  2.41176155e-01,\n",
       "        -4.60196459e-02,  4.11232215e-03, -1.72973511e-04,\n",
       "         2.76525054e-06],\n",
       "       [-3.35794346e-02,  9.01044909e-02, -4.60196459e-02,\n",
       "         9.06451696e-03, -8.28897779e-04,  3.54804147e-05,\n",
       "        -5.75041082e-07],\n",
       "       [ 2.78851399e-03, -7.80131374e-03,  4.11232215e-03,\n",
       "        -8.28897779e-04,  7.71326060e-05, -3.34699661e-06,\n",
       "         5.48436095e-08],\n",
       "       [-1.11608043e-04,  3.20708411e-04, -1.72973511e-04,\n",
       "         3.54804147e-05, -3.34699661e-06,  1.46832019e-07,\n",
       "        -2.42759411e-09],\n",
       "       [ 1.72125133e-06, -5.03871681e-06,  2.76525054e-06,\n",
       "        -5.75041082e-07,  5.48436095e-08, -2.42759411e-09,\n",
       "         4.04351480e-11]])\n",
       "      jac: array([ 1.60537109e+01,  5.13112305e+02, -8.05289844e+03, -1.64737273e+05,\n",
       "       -2.11425020e+06, -2.39081531e+07, -2.25701803e+08])\n",
       "  message: 'Desired error not necessarily achieved due to precision loss.'\n",
       "     nfev: 876\n",
       "      nit: 49\n",
       "     njev: 108\n",
       "   status: 2\n",
       "  success: False\n",
       "        x: array([ 1.02279853e+02,  2.07698437e+02, -9.71552281e+01,  2.08390053e+01,\n",
       "       -2.10651486e+00,  9.83480824e-02, -1.71271231e-03])"
      ]
     },
     "execution_count": 47,
     "metadata": {},
     "output_type": "execute_result"
    }
   ],
   "source": [
    "sol = opt.minimize(funcion_preciosM, \n",
    "                  beta_inicial,\n",
    "                  args = (X, y))\n",
    "sol"
   ]
  },
  {
   "cell_type": "code",
   "execution_count": 48,
   "id": "91389c1b",
   "metadata": {},
   "outputs": [
    {
     "data": {
      "text/plain": [
       "array([102.27985264, 231.65218756, 265.10114438, 265.65356784,\n",
       "       266.71165473, 280.77184157, 306.91053951, 337.03671627,\n",
       "       360.91132532, 369.93358213, 359.69408752, 331.29479829,\n",
       "       291.43584479, 251.26919579, 224.01917037, 221.36979704,\n",
       "       248.6190199 , 298.59975203, 344.36777593, 330.65649115,\n",
       "       164.09850903])"
      ]
     },
     "execution_count": 48,
     "metadata": {},
     "output_type": "execute_result"
    }
   ],
   "source": [
    "y_predM1 = X @ sol.x\n",
    "y_predM1"
   ]
  },
  {
   "cell_type": "markdown",
   "id": "9e932355",
   "metadata": {},
   "source": [
    "**Solución y visualización del problema de optimización:**\n",
    "\n",
    "- Ya obtuvimos el modelo con polinomio de grado 6 `y_predM1`, a continuación vamos a graficar la curva junto con los precios de la acción de Microsoft, para analizar los resultados obtenidos, y determinar si tenemos un sobreajuste."
   ]
  },
  {
   "cell_type": "code",
   "execution_count": 49,
   "id": "1b6b594c",
   "metadata": {},
   "outputs": [
    {
     "data": {
      "image/png": "[encoded data removed]",
      "text/plain": [
       "<Figure size 432x288 with 1 Axes>"
      ]
     },
     "metadata": {
      "needs_background": "light"
     },
     "output_type": "display_data"
    }
   ],
   "source": [
    "m = 21\n",
    "x = np.linspace(0, 20, m)\n",
    "y = dataMicrosoft\n",
    "\n",
    "%matplotlib inline\n",
    "plt.figure()\n",
    "plt.scatter(x, y, s = 50)\n",
    "plt.plot(x, y_predM1, \"b\")\n",
    "plt.grid()"
   ]
  },
  {
   "cell_type": "markdown",
   "id": "011c2b80",
   "metadata": {},
   "source": [
    "## Análisis de Resultados:\n",
    "\n",
    "- La curva obtenida del modelo `y_predM1`es similar a la curva del modelo con polinomio de grado 6 de la empresa Apple. La función no se ajusta o no se acerca a la mayoría de los precios de la empresa.\n",
    "\n",
    "- Por lo que vamos a proponer un modelo con polinomio de grado 5 para ver si se repite el mismo patrón, y para ver si el modelo con polinomio de grado 5 se ajusta mejor a los precios a comparación de este modelo."
   ]
  },
  {
   "cell_type": "markdown",
   "id": "5525b06b",
   "metadata": {},
   "source": [
    "**Modelo con polinomio de grado 5**"
   ]
  },
  {
   "cell_type": "code",
   "execution_count": 50,
   "id": "745d0710",
   "metadata": {},
   "outputs": [],
   "source": [
    "def funcion_preciosM(beta, X, y) :\n",
    "    beta = np.reshape(beta, [6, -1])\n",
    "    pred = X @ beta\n",
    "    return ((y - pred).T @ (y - pred))[0][0]"
   ]
  },
  {
   "cell_type": "code",
   "execution_count": 51,
   "id": "ac88af4f",
   "metadata": {},
   "outputs": [
    {
     "data": {
      "text/plain": [
       "array([[1.000000e+00, 0.000000e+00, 0.000000e+00, 0.000000e+00,\n",
       "        0.000000e+00, 0.000000e+00],\n",
       "       [1.000000e+00, 1.000000e+00, 1.000000e+00, 1.000000e+00,\n",
       "        1.000000e+00, 1.000000e+00],\n",
       "       [1.000000e+00, 2.000000e+00, 4.000000e+00, 8.000000e+00,\n",
       "        1.600000e+01, 3.200000e+01],\n",
       "       [1.000000e+00, 3.000000e+00, 9.000000e+00, 2.700000e+01,\n",
       "        8.100000e+01, 2.430000e+02],\n",
       "       [1.000000e+00, 4.000000e+00, 1.600000e+01, 6.400000e+01,\n",
       "        2.560000e+02, 1.024000e+03],\n",
       "       [1.000000e+00, 5.000000e+00, 2.500000e+01, 1.250000e+02,\n",
       "        6.250000e+02, 3.125000e+03],\n",
       "       [1.000000e+00, 6.000000e+00, 3.600000e+01, 2.160000e+02,\n",
       "        1.296000e+03, 7.776000e+03],\n",
       "       [1.000000e+00, 7.000000e+00, 4.900000e+01, 3.430000e+02,\n",
       "        2.401000e+03, 1.680700e+04],\n",
       "       [1.000000e+00, 8.000000e+00, 6.400000e+01, 5.120000e+02,\n",
       "        4.096000e+03, 3.276800e+04],\n",
       "       [1.000000e+00, 9.000000e+00, 8.100000e+01, 7.290000e+02,\n",
       "        6.561000e+03, 5.904900e+04],\n",
       "       [1.000000e+00, 1.000000e+01, 1.000000e+02, 1.000000e+03,\n",
       "        1.000000e+04, 1.000000e+05],\n",
       "       [1.000000e+00, 1.100000e+01, 1.210000e+02, 1.331000e+03,\n",
       "        1.464100e+04, 1.610510e+05],\n",
       "       [1.000000e+00, 1.200000e+01, 1.440000e+02, 1.728000e+03,\n",
       "        2.073600e+04, 2.488320e+05],\n",
       "       [1.000000e+00, 1.300000e+01, 1.690000e+02, 2.197000e+03,\n",
       "        2.856100e+04, 3.712930e+05],\n",
       "       [1.000000e+00, 1.400000e+01, 1.960000e+02, 2.744000e+03,\n",
       "        3.841600e+04, 5.378240e+05],\n",
       "       [1.000000e+00, 1.500000e+01, 2.250000e+02, 3.375000e+03,\n",
       "        5.062500e+04, 7.593750e+05],\n",
       "       [1.000000e+00, 1.600000e+01, 2.560000e+02, 4.096000e+03,\n",
       "        6.553600e+04, 1.048576e+06],\n",
       "       [1.000000e+00, 1.700000e+01, 2.890000e+02, 4.913000e+03,\n",
       "        8.352100e+04, 1.419857e+06],\n",
       "       [1.000000e+00, 1.800000e+01, 3.240000e+02, 5.832000e+03,\n",
       "        1.049760e+05, 1.889568e+06],\n",
       "       [1.000000e+00, 1.900000e+01, 3.610000e+02, 6.859000e+03,\n",
       "        1.303210e+05, 2.476099e+06],\n",
       "       [1.000000e+00, 2.000000e+01, 4.000000e+02, 8.000000e+03,\n",
       "        1.600000e+05, 3.200000e+06]])"
      ]
     },
     "execution_count": 51,
     "metadata": {},
     "output_type": "execute_result"
    }
   ],
   "source": [
    "# Construimos la matriz X\n",
    "\n",
    "ones = np.ones([m, 1])\n",
    "x_1 = np.reshape(x, [m, -1])\n",
    "x_2 = np.reshape(x**2, [m, -1])\n",
    "x_3 = np.reshape(x**3, [m, -1])\n",
    "x_4 = np.reshape(x**4, [m, -1])\n",
    "x_5 = np.reshape(x**5, [m, -1])\n",
    "X = np.hstack((ones, x_1, x_2, x_3, x_4, x_5))\n",
    "X"
   ]
  },
  {
   "cell_type": "code",
   "execution_count": 52,
   "id": "f1b5cc53",
   "metadata": {},
   "outputs": [
    {
     "data": {
      "text/plain": [
       "5488830825752.389"
      ]
     },
     "execution_count": 52,
     "metadata": {},
     "output_type": "execute_result"
    }
   ],
   "source": [
    "beta_inicial = np.random.rand(6)\n",
    "y = np.reshape(y, [m, -1])\n",
    "funcion_preciosM(beta_inicial, X, y)"
   ]
  },
  {
   "cell_type": "code",
   "execution_count": 53,
   "id": "4d6e2bfd",
   "metadata": {},
   "outputs": [
    {
     "data": {
      "text/plain": [
       "      fun: 2802.9746802304326\n",
       " hess_inv: array([[ 4.15964503e-01, -3.44200574e-01,  8.83915143e-02,\n",
       "        -9.64767280e-03,  4.69742726e-04, -8.40356040e-06],\n",
       "       [-3.44200574e-01,  5.08589461e-01, -1.60924361e-01,\n",
       "         1.96067796e-02, -1.02206795e-03,  1.91551206e-05],\n",
       "       [ 8.83915143e-02, -1.60924361e-01,  5.54582871e-02,\n",
       "        -7.10402522e-03,  3.82889280e-04, -7.34967184e-06],\n",
       "       [-9.64767280e-03,  1.96067796e-02, -7.10402522e-03,\n",
       "         9.39655219e-04, -5.18082188e-05,  1.01153459e-06],\n",
       "       [ 4.69742726e-04, -1.02206795e-03,  3.82889280e-04,\n",
       "        -5.18082188e-05,  2.90488336e-06, -5.74599587e-08],\n",
       "       [-8.40356039e-06,  1.91551206e-05, -7.34967184e-06,\n",
       "         1.01153459e-06, -5.74599587e-08,  1.14841143e-09]])\n",
       "      jac: array([-5.82931519e+00,  5.24353027e+00,  1.39655029e+02,  2.67067773e+03,\n",
       "        4.96438721e+04,  9.30521986e+05])\n",
       "  message: 'Desired error not necessarily achieved due to precision loss.'\n",
       "     nfev: 397\n",
       "      nit: 8\n",
       "     njev: 55\n",
       "   status: 2\n",
       "  success: False\n",
       "        x: array([ 2.36564669e+02, -1.72928556e+01,  8.98581061e+00, -1.01786662e+00,\n",
       "        4.43902762e-02, -6.87213872e-04])"
      ]
     },
     "execution_count": 53,
     "metadata": {},
     "output_type": "execute_result"
    }
   ],
   "source": [
    "sol = opt.minimize(funcion_preciosM, \n",
    "                  beta_inicial,\n",
    "                  args = (X, y))\n",
    "sol"
   ]
  },
  {
   "cell_type": "code",
   "execution_count": 54,
   "id": "863da2df",
   "metadata": {},
   "outputs": [
    {
     "data": {
      "text/plain": [
       "array([236.56466857, 227.28346   , 230.46752038, 241.50461786,\n",
       "       256.68295588, 273.10870751, 288.6235498 , 301.72219809,\n",
       "       311.46994037, 317.42017161, 319.53192809, 318.08742172,\n",
       "       313.60957442, 306.77955239, 298.35430051, 289.08407664,\n",
       "       279.62998597, 270.48151533, 261.87406757, 253.70649584,\n",
       "       245.45863797])"
      ]
     },
     "execution_count": 54,
     "metadata": {},
     "output_type": "execute_result"
    }
   ],
   "source": [
    "y_predM2 = X @ sol.x\n",
    "y_predM2"
   ]
  },
  {
   "cell_type": "markdown",
   "id": "64d5bfa5",
   "metadata": {},
   "source": [
    "**Solución y visualización del problema de optimización:**\n",
    "\n",
    "- Ahora graficamos el modelo `y_predM2` junto con los precios de Microsoft"
   ]
  },
  {
   "cell_type": "code",
   "execution_count": 55,
   "id": "aa7fc3fb",
   "metadata": {},
   "outputs": [
    {
     "data": {
      "image/png": "[encoded data removed]",
      "text/plain": [
       "<Figure size 432x288 with 1 Axes>"
      ]
     },
     "metadata": {
      "needs_background": "light"
     },
     "output_type": "display_data"
    }
   ],
   "source": [
    "%matplotlib inline\n",
    "plt.figure()\n",
    "plt.scatter(x, y, s = 50)\n",
    "plt.plot(x, y_predM2, \"b\")\n",
    "plt.grid()"
   ]
  },
  {
   "cell_type": "markdown",
   "id": "c232dc08",
   "metadata": {},
   "source": [
    "## Análisis de resultados:\n",
    "\n",
    "- Se repite el mismo patrón que con Apple, parece ser que los mejores modelos que se ajustan a los precios son las funciones de grado 5 o hasta la quinta potencia. Vamos a utilizar un modelo con polinomio de grado 4 para determinar cuál de los dos modelos es el más útil para predecir los precios de la acción de Microsoft, ya que el comportamiento de los modelos es muy similar."
   ]
  },
  {
   "cell_type": "markdown",
   "id": "878760e8",
   "metadata": {},
   "source": [
    "**Modelo con polinomio de grado 4**"
   ]
  },
  {
   "cell_type": "code",
   "execution_count": 56,
   "id": "702740d9",
   "metadata": {},
   "outputs": [],
   "source": [
    "def funcion_preciosM(beta, X, y) :\n",
    "    beta = np.reshape(beta, [5, -1])\n",
    "    pred = X @ beta\n",
    "    return ((y - pred).T @ (y - pred))[0][0]"
   ]
  },
  {
   "cell_type": "code",
   "execution_count": 57,
   "id": "e94dc031",
   "metadata": {},
   "outputs": [
    {
     "data": {
      "text/plain": [
       "array([[1.00000e+00, 0.00000e+00, 0.00000e+00, 0.00000e+00, 0.00000e+00],\n",
       "       [1.00000e+00, 1.00000e+00, 1.00000e+00, 1.00000e+00, 1.00000e+00],\n",
       "       [1.00000e+00, 2.00000e+00, 4.00000e+00, 8.00000e+00, 1.60000e+01],\n",
       "       [1.00000e+00, 3.00000e+00, 9.00000e+00, 2.70000e+01, 8.10000e+01],\n",
       "       [1.00000e+00, 4.00000e+00, 1.60000e+01, 6.40000e+01, 2.56000e+02],\n",
       "       [1.00000e+00, 5.00000e+00, 2.50000e+01, 1.25000e+02, 6.25000e+02],\n",
       "       [1.00000e+00, 6.00000e+00, 3.60000e+01, 2.16000e+02, 1.29600e+03],\n",
       "       [1.00000e+00, 7.00000e+00, 4.90000e+01, 3.43000e+02, 2.40100e+03],\n",
       "       [1.00000e+00, 8.00000e+00, 6.40000e+01, 5.12000e+02, 4.09600e+03],\n",
       "       [1.00000e+00, 9.00000e+00, 8.10000e+01, 7.29000e+02, 6.56100e+03],\n",
       "       [1.00000e+00, 1.00000e+01, 1.00000e+02, 1.00000e+03, 1.00000e+04],\n",
       "       [1.00000e+00, 1.10000e+01, 1.21000e+02, 1.33100e+03, 1.46410e+04],\n",
       "       [1.00000e+00, 1.20000e+01, 1.44000e+02, 1.72800e+03, 2.07360e+04],\n",
       "       [1.00000e+00, 1.30000e+01, 1.69000e+02, 2.19700e+03, 2.85610e+04],\n",
       "       [1.00000e+00, 1.40000e+01, 1.96000e+02, 2.74400e+03, 3.84160e+04],\n",
       "       [1.00000e+00, 1.50000e+01, 2.25000e+02, 3.37500e+03, 5.06250e+04],\n",
       "       [1.00000e+00, 1.60000e+01, 2.56000e+02, 4.09600e+03, 6.55360e+04],\n",
       "       [1.00000e+00, 1.70000e+01, 2.89000e+02, 4.91300e+03, 8.35210e+04],\n",
       "       [1.00000e+00, 1.80000e+01, 3.24000e+02, 5.83200e+03, 1.04976e+05],\n",
       "       [1.00000e+00, 1.90000e+01, 3.61000e+02, 6.85900e+03, 1.30321e+05],\n",
       "       [1.00000e+00, 2.00000e+01, 4.00000e+02, 8.00000e+03, 1.60000e+05]])"
      ]
     },
     "execution_count": 57,
     "metadata": {},
     "output_type": "execute_result"
    }
   ],
   "source": [
    "# Construimos la matriz X\n",
    "\n",
    "ones = np.ones([m, 1])\n",
    "x_1 = np.reshape(x, [m, -1])\n",
    "x_2 = np.reshape(x**2, [m, -1])\n",
    "x_3 = np.reshape(x**3, [m, -1])\n",
    "x_4 = np.reshape(x**4, [m, -1])\n",
    "X = np.hstack((ones, x_1, x_2, x_3, x_4))\n",
    "X"
   ]
  },
  {
   "cell_type": "code",
   "execution_count": 58,
   "id": "5be9b66d",
   "metadata": {},
   "outputs": [
    {
     "data": {
      "text/plain": [
       "17996815952.497185"
      ]
     },
     "execution_count": 58,
     "metadata": {},
     "output_type": "execute_result"
    }
   ],
   "source": [
    "beta_inicial = np.random.rand(5)\n",
    "y = np.reshape(y, [m, -1])\n",
    "funcion_preciosM(beta_inicial, X, y)"
   ]
  },
  {
   "cell_type": "code",
   "execution_count": 59,
   "id": "83ed2700",
   "metadata": {},
   "outputs": [
    {
     "data": {
      "text/plain": [
       "      fun: 2817.735510079833\n",
       " hess_inv: array([[ 3.59315260e-01, -2.07135093e-01,  3.51728137e-02,\n",
       "        -2.28391792e-03,  5.01417799e-05],\n",
       "       [-2.07135093e-01,  1.90854970e-01, -3.86745967e-02,\n",
       "         2.75949355e-03, -6.42492374e-05],\n",
       "       [ 3.51728137e-02, -3.86745967e-02,  8.49173563e-03,\n",
       "        -6.35692644e-04,  1.52854141e-05],\n",
       "       [-2.28391792e-03,  2.75949355e-03, -6.35692644e-04,\n",
       "         4.90987114e-05, -1.20715456e-06],\n",
       "       [ 5.01417799e-05, -6.42492374e-05,  1.52854141e-05,\n",
       "        -1.20715456e-06,  3.01745806e-08]])\n",
       "      jac: array([-0.00076294, -0.01202393, -0.037323  , -0.02148438, -0.52346802])\n",
       "  message: 'Desired error not necessarily achieved due to precision loss.'\n",
       "     nfev: 240\n",
       "      nit: 10\n",
       "     njev: 38\n",
       "   status: 2\n",
       "  success: False\n",
       "        x: array([ 2.33343556e+02, -6.83983154e+00,  4.75766498e+00, -4.23562617e-01,\n",
       "        1.02469502e-02])"
      ]
     },
     "execution_count": 59,
     "metadata": {},
     "output_type": "execute_result"
    }
   ],
   "source": [
    "sol = opt.minimize(funcion_preciosM, \n",
    "                  beta_inicial,\n",
    "                  args = (X, y))\n",
    "sol"
   ]
  },
  {
   "cell_type": "code",
   "execution_count": 60,
   "id": "470dd503",
   "metadata": {},
   "outputs": [
    {
     "data": {
      "text/plain": [
       "array([233.34355586, 230.84807363, 235.47000296, 245.03685835,\n",
       "       257.62208112, 271.54503936, 285.37102801, 297.91126876,\n",
       "       308.22291015, 315.60902751, 319.61862295, 320.04662542,\n",
       "       316.93389065, 310.56720118, 301.47926636, 290.44872233,\n",
       "       278.50013206, 266.90398528, 257.17669857, 251.08061529,\n",
       "       250.6240056 ])"
      ]
     },
     "execution_count": 60,
     "metadata": {},
     "output_type": "execute_result"
    }
   ],
   "source": [
    "y_predM3 = X @ sol.x\n",
    "y_predM3"
   ]
  },
  {
   "cell_type": "markdown",
   "id": "155aea31",
   "metadata": {},
   "source": [
    "**Solución y visualización del problema de optimización:**\n",
    "\n",
    "- Ahora graficamos ambos modelos junto con los precios de la acción de Microsoft"
   ]
  },
  {
   "cell_type": "code",
   "execution_count": 61,
   "id": "6be966d1",
   "metadata": {},
   "outputs": [
    {
     "data": {
      "image/png": "[encoded data removed]",
      "text/plain": [
       "<Figure size 432x288 with 1 Axes>"
      ]
     },
     "metadata": {
      "needs_background": "light"
     },
     "output_type": "display_data"
    }
   ],
   "source": [
    "%matplotlib inline\n",
    "plt.figure()\n",
    "plt.scatter(x, y, s = 50)\n",
    "plt.plot(x, y_predM2, \"b\")\n",
    "plt.plot(x, y_predM3, \"r\")\n",
    "plt.grid()"
   ]
  },
  {
   "cell_type": "markdown",
   "id": "1fbb801e",
   "metadata": {},
   "source": [
    "## Análisis de resultados:\n",
    "\n",
    "- Obtenemos el siguiente gráfico. Los modelos que mejor se ajustan a los precios de Microsoft son los siguientes modelos\n",
    "\n",
    "1. Modelo `y_predM3`: \n",
    "- $ y = 1.02467798e-02x^4 -4.23554640e-01x^3 + 4.75754039e+00x^2 - 6.83912542e+00x + 2.33342650e+02 $\n",
    "\n",
    "2. Modelo `y_predM2`:\n",
    "- $ y = -7.25232597e-04x^5 + 4.65200226e-02x^4 - 1.06189303e+00x^3 + 9.39517408e+00x^2 - 1.89430227e+01x + 2.38750704e+02 $\n",
    "\n",
    "- Al igual que con Apple, los modelos que mejor se ajustan a los precios son modelos con polinomios de grado 5 y 4, por lo que es seguro decir que va a ser similar al proponer modelos con las demás empresas, por lo que directamente vamos a hacer dos modelos para cada empresa que falta."
   ]
  },
  {
   "cell_type": "markdown",
   "id": "aad61e7c",
   "metadata": {},
   "source": [
    "- **Predicción de precios utilizando el polinomio de grado 4 `y_predM3`**"
   ]
  },
  {
   "cell_type": "code",
   "execution_count": 135,
   "id": "9704a2cb",
   "metadata": {},
   "outputs": [
    {
     "data": {
      "text/latex": [
       "$\\displaystyle 258.060789413801$"
      ],
      "text/plain": [
       "258.060789413801"
      ]
     },
     "execution_count": 135,
     "metadata": {},
     "output_type": "execute_result"
    }
   ],
   "source": [
    "sp.var('x')\n",
    "y3 = 1.02467798e-02*x**4 -4.23554640e-01*x**3 + 4.75754039e+00*x**2 - 6.83912542e+00*x + 2.33342650e+02\n",
    "preciosM1 = y3.subs(x, 21)\n",
    "preciosM1"
   ]
  },
  {
   "cell_type": "code",
   "execution_count": 136,
   "id": "b1b8b7fc",
   "metadata": {},
   "outputs": [
    {
     "data": {
      "text/latex": [
       "$\\displaystyle 275.8912816288$"
      ],
      "text/plain": [
       "275.891281628800"
      ]
     },
     "execution_count": 136,
     "metadata": {},
     "output_type": "execute_result"
    }
   ],
   "source": [
    "y3 = 1.02467798e-02*x**4 -4.23554640e-01*x**3 + 4.75754039e+00*x**2 - 6.83912542e+00*x + 2.33342650e+02\n",
    "preciosM2 = y3.subs(x, 22)\n",
    "preciosM2"
   ]
  },
  {
   "cell_type": "code",
   "execution_count": 137,
   "id": "c576daa5",
   "metadata": {},
   "outputs": [
    {
     "data": {
      "text/latex": [
       "$\\displaystyle 306.8614327818$"
      ],
      "text/plain": [
       "306.861432781800"
      ]
     },
     "execution_count": 137,
     "metadata": {},
     "output_type": "execute_result"
    }
   ],
   "source": [
    "y3 = 1.02467798e-02*x**4 -4.23554640e-01*x**3 + 4.75754039e+00*x**2 - 6.83912542e+00*x + 2.33342650e+02\n",
    "preciosM3 = y3.subs(x, 23)\n",
    "preciosM3"
   ]
  },
  {
   "cell_type": "code",
   "execution_count": 138,
   "id": "065ff1da",
   "metadata": {},
   "outputs": [
    {
     "data": {
      "text/latex": [
       "$\\displaystyle 353.963176124801$"
      ],
      "text/plain": [
       "353.963176124801"
      ]
     },
     "execution_count": 138,
     "metadata": {},
     "output_type": "execute_result"
    }
   ],
   "source": [
    "y3 = 1.02467798e-02*x**4 -4.23554640e-01*x**3 + 4.75754039e+00*x**2 - 6.83912542e+00*x + 2.33342650e+02\n",
    "preciosM4 = y3.subs(x, 24)\n",
    "preciosM4"
   ]
  },
  {
   "cell_type": "markdown",
   "id": "291311d9",
   "metadata": {},
   "source": [
    "**Obtenemos la siguiente predicción de los precios**\n",
    "- Octubre = 258.06 USD\n",
    "- Noviembre = 275.89 USD\n",
    "- Diciembre = 306.86 USD\n",
    "- Enero = 353.96 USD"
   ]
  },
  {
   "cell_type": "markdown",
   "id": "b07051aa",
   "metadata": {},
   "source": [
    "- **Predicción de precios utilizando el polinomio de grado 4 `y_predM2`**"
   ]
  },
  {
   "cell_type": "code",
   "execution_count": 145,
   "id": "d6eff5c9",
   "metadata": {},
   "outputs": [
    {
     "data": {
      "text/latex": [
       "$\\displaystyle 235.364986380302$"
      ],
      "text/plain": [
       "235.364986380302"
      ]
     },
     "execution_count": 145,
     "metadata": {},
     "output_type": "execute_result"
    }
   ],
   "source": [
    "y4 = -7.25232597e-04*x**5 + 4.65200226e-02*x**4 - 1.06189303e+00*x**3 + 9.39517408e+00*x**2 - 1.89430227e+01*x + 2.38750704e+02\n",
    "preciosM5 = y4.subs(x, 21)\n",
    "preciosM5"
   ]
  },
  {
   "cell_type": "code",
   "execution_count": 146,
   "id": "8aa52117",
   "metadata": {},
   "outputs": [
    {
     "data": {
      "text/latex": [
       "$\\displaystyle 222.243970723296$"
      ],
      "text/plain": [
       "222.243970723296"
      ]
     },
     "execution_count": 146,
     "metadata": {},
     "output_type": "execute_result"
    }
   ],
   "source": [
    "y4 = -7.25232597e-04*x**5 + 4.65200226e-02*x**4 - 1.06189303e+00*x**3 + 9.39517408e+00*x**2 - 1.89430227e+01*x + 2.38750704e+02\n",
    "preciosM6 = y4.subs(x, 22)\n",
    "preciosM6"
   ]
  },
  {
   "cell_type": "code",
   "execution_count": 147,
   "id": "4cfe54d5",
   "metadata": {},
   "outputs": [
    {
     "data": {
      "text/latex": [
       "$\\displaystyle 203.419669543829$"
      ],
      "text/plain": [
       "203.419669543829"
      ]
     },
     "execution_count": 147,
     "metadata": {},
     "output_type": "execute_result"
    }
   ],
   "source": [
    "y4 = -7.25232597e-04*x**5 + 4.65200226e-02*x**4 - 1.06189303e+00*x**3 + 9.39517408e+00*x**2 - 1.89430227e+01*x + 2.38750704e+02\n",
    "preciosM7 = y4.subs(x, 23)\n",
    "preciosM7"
   ]
  },
  {
   "cell_type": "code",
   "execution_count": 148,
   "id": "5647518b",
   "metadata": {},
   "outputs": [
    {
     "data": {
      "text/latex": [
       "$\\displaystyle 175.601718243074$"
      ],
      "text/plain": [
       "175.601718243074"
      ]
     },
     "execution_count": 148,
     "metadata": {},
     "output_type": "execute_result"
    }
   ],
   "source": [
    "y4 = -7.25232597e-04*x**5 + 4.65200226e-02*x**4 - 1.06189303e+00*x**3 + 9.39517408e+00*x**2 - 1.89430227e+01*x + 2.38750704e+02\n",
    "preciosM8 = y4.subs(x, 24)\n",
    "preciosM8"
   ]
  },
  {
   "cell_type": "markdown",
   "id": "12626926",
   "metadata": {},
   "source": [
    "**Obtenemos la siguiente predicción de los precios**\n",
    "- Octubre = 235.36 USD\n",
    "- Noviembre = 222.24 USD\n",
    "- Diciembre = 203.41 USD\n",
    "- Enero = 175.60 USD"
   ]
  },
  {
   "cell_type": "markdown",
   "id": "28b33756",
   "metadata": {},
   "source": [
    "## Conclusiones \n",
    "\n",
    "Apartir de los dos modelos obtenemos dos tendencias, una alcista con el modelo con poliomio de grado 4 `y_predM3`, y una tendencia bajista con el modelo de polinomio de grado 5 `y_predM2`.\n",
    "Entonces el iversionista tendría que ver cuál gráfica es la que mejor se ajusta a los precios de la acción de Microsoft, o especular y el mismo decidir, haciendo otros tipos de análisis, cuál modelo es el que mejor predice los precios de la acción."
   ]
  },
  {
   "cell_type": "markdown",
   "id": "30f94245",
   "metadata": {},
   "source": [
    "---"
   ]
  },
  {
   "cell_type": "markdown",
   "id": "cda41394",
   "metadata": {},
   "source": [
    "# Nike Inc.\n",
    "\n",
    "Como ya observamos que los modelos con polinomios con grado 5 y 4 son más efectivos y útiles tanto con Apple y Microsoft, vamos a proponer dos modelos de los mismos grados para los precios de la acción de Nike, y predecir los precios de la accíon de Nike para los siguientes 4 meses.\n",
    "\n",
    "Los datos de los precios de la accción de Nike en los últimos meses se obtuvieron de *Investing.com* y se cotejaron con *Factset* para verificar los datos."
   ]
  },
  {
   "cell_type": "markdown",
   "id": "eeb995cd",
   "metadata": {},
   "source": [
    "**Modelo que representa el problema:**\n",
    "\n",
    "Se va a realizar el ajuste de curvas.\n",
    "Necesitamos las librerías para poder trabajar con ajuste de curvas. Necesitaremos un archivo de excel donde están los precios de la acción de cada empresa y leeremos el archivo de excel utilizando `pandas`. Después vamos a usar `numpy` para ordenar los datos de los precios de las acciones como un arreglo numérico y de esta manera poder trabajar con los datos. Después utilizaremos funciones de python junto con operaciones de álgebra lineal para definir los modelos para realizar el ajuste de curvas. Y al final usaremos `scipy.optimize` para encontrar las betas o los pesos de cada modelo. Y por último usaremos la librería de `matplotlib` para graficar los resultados obtenidos"
   ]
  },
  {
   "cell_type": "code",
   "execution_count": 62,
   "id": "a44e9282",
   "metadata": {},
   "outputs": [],
   "source": [
    "# Importamos las librerías para trabajar con el ajuste de curvas\n",
    "\n",
    "import numpy as np\n",
    "import pandas as pd\n",
    "import scipy.optimize as opt\n",
    "import matplotlib.pyplot as plt"
   ]
  },
  {
   "cell_type": "code",
   "execution_count": 63,
   "id": "b35adb9c",
   "metadata": {},
   "outputs": [
    {
     "data": {
      "text/html": [
       "<div>\n",
       "<style scoped>\n",
       "    .dataframe tbody tr th:only-of-type {\n",
       "        vertical-align: middle;\n",
       "    }\n",
       "\n",
       "    .dataframe tbody tr th {\n",
       "        vertical-align: top;\n",
       "    }\n",
       "\n",
       "    .dataframe thead th {\n",
       "        text-align: right;\n",
       "    }\n",
       "</style>\n",
       "<table border=\"1\" class=\"dataframe\">\n",
       "  <thead>\n",
       "    <tr style=\"text-align: right;\">\n",
       "      <th></th>\n",
       "      <th>Fecha</th>\n",
       "      <th>Precios Apple</th>\n",
       "      <th>Unnamed: 2</th>\n",
       "      <th>Fecha.1</th>\n",
       "      <th>Precios Microsoft</th>\n",
       "      <th>Unnamed: 5</th>\n",
       "      <th>Fecha.2</th>\n",
       "      <th>Precios Nike</th>\n",
       "      <th>Unnamed: 8</th>\n",
       "      <th>Fecha.3</th>\n",
       "      <th>Precios Starbucks</th>\n",
       "      <th>Unnamed: 11</th>\n",
       "      <th>Fecha.4</th>\n",
       "      <th>Precios Tesla</th>\n",
       "    </tr>\n",
       "  </thead>\n",
       "  <tbody>\n",
       "    <tr>\n",
       "      <th>0</th>\n",
       "      <td>01 de enero de 2021</td>\n",
       "      <td>131.96</td>\n",
       "      <td>NaN</td>\n",
       "      <td>01 de enero de 2021</td>\n",
       "      <td>231.96</td>\n",
       "      <td>NaN</td>\n",
       "      <td>01 de enero de 2021</td>\n",
       "      <td>133.59</td>\n",
       "      <td>NaN</td>\n",
       "      <td>01 de enero de 2021</td>\n",
       "      <td>96.81</td>\n",
       "      <td>NaN</td>\n",
       "      <td>01 de enero de 2021</td>\n",
       "      <td>264.51</td>\n",
       "    </tr>\n",
       "    <tr>\n",
       "      <th>1</th>\n",
       "      <td>01 de febrero de 2021</td>\n",
       "      <td>121.26</td>\n",
       "      <td>NaN</td>\n",
       "      <td>01 de febrero de 2021</td>\n",
       "      <td>232.38</td>\n",
       "      <td>NaN</td>\n",
       "      <td>01 de febrero de 2021</td>\n",
       "      <td>134.78</td>\n",
       "      <td>NaN</td>\n",
       "      <td>01 de febrero de 2021</td>\n",
       "      <td>108.03</td>\n",
       "      <td>NaN</td>\n",
       "      <td>01 de febrero de 2021</td>\n",
       "      <td>225.17</td>\n",
       "    </tr>\n",
       "    <tr>\n",
       "      <th>2</th>\n",
       "      <td>01 de marzo de 2021</td>\n",
       "      <td>122.15</td>\n",
       "      <td>NaN</td>\n",
       "      <td>01 de marzo de 2021</td>\n",
       "      <td>235.77</td>\n",
       "      <td>NaN</td>\n",
       "      <td>01 de marzo de 2021</td>\n",
       "      <td>132.89</td>\n",
       "      <td>NaN</td>\n",
       "      <td>01 de marzo de 2021</td>\n",
       "      <td>109.27</td>\n",
       "      <td>NaN</td>\n",
       "      <td>01 de marzo de 2021</td>\n",
       "      <td>222.64</td>\n",
       "    </tr>\n",
       "    <tr>\n",
       "      <th>3</th>\n",
       "      <td>01 de abril de 2021</td>\n",
       "      <td>131.46</td>\n",
       "      <td>NaN</td>\n",
       "      <td>01 de abril de 2021</td>\n",
       "      <td>252.18</td>\n",
       "      <td>NaN</td>\n",
       "      <td>01 de abril de 2021</td>\n",
       "      <td>132.62</td>\n",
       "      <td>NaN</td>\n",
       "      <td>01 de abril de 2021</td>\n",
       "      <td>114.49</td>\n",
       "      <td>NaN</td>\n",
       "      <td>01 de abril de 2021</td>\n",
       "      <td>236.48</td>\n",
       "    </tr>\n",
       "    <tr>\n",
       "      <th>4</th>\n",
       "      <td>01 de mayo de 2021</td>\n",
       "      <td>124.61</td>\n",
       "      <td>NaN</td>\n",
       "      <td>01 de mayo de 2021</td>\n",
       "      <td>249.68</td>\n",
       "      <td>NaN</td>\n",
       "      <td>01 de mayo de 2021</td>\n",
       "      <td>136.46</td>\n",
       "      <td>NaN</td>\n",
       "      <td>01 de mayo de 2021</td>\n",
       "      <td>113.88</td>\n",
       "      <td>NaN</td>\n",
       "      <td>01 de mayo de 2021</td>\n",
       "      <td>208.41</td>\n",
       "    </tr>\n",
       "    <tr>\n",
       "      <th>5</th>\n",
       "      <td>01 de junio de 2021</td>\n",
       "      <td>136.96</td>\n",
       "      <td>NaN</td>\n",
       "      <td>01 de junio de 2021</td>\n",
       "      <td>270.90</td>\n",
       "      <td>NaN</td>\n",
       "      <td>01 de junio de 2021</td>\n",
       "      <td>154.49</td>\n",
       "      <td>NaN</td>\n",
       "      <td>01 de junio de 2021</td>\n",
       "      <td>111.81</td>\n",
       "      <td>NaN</td>\n",
       "      <td>01 de junio de 2021</td>\n",
       "      <td>226.57</td>\n",
       "    </tr>\n",
       "    <tr>\n",
       "      <th>6</th>\n",
       "      <td>01 de julio de 2021</td>\n",
       "      <td>145.86</td>\n",
       "      <td>NaN</td>\n",
       "      <td>01 de julio de 2021</td>\n",
       "      <td>284.91</td>\n",
       "      <td>NaN</td>\n",
       "      <td>01 de julio de 2021</td>\n",
       "      <td>167.51</td>\n",
       "      <td>NaN</td>\n",
       "      <td>01 de julio de 2021</td>\n",
       "      <td>121.43</td>\n",
       "      <td>NaN</td>\n",
       "      <td>01 de julio de 2021</td>\n",
       "      <td>229.07</td>\n",
       "    </tr>\n",
       "    <tr>\n",
       "      <th>7</th>\n",
       "      <td>01 de agosto de 2021</td>\n",
       "      <td>151.83</td>\n",
       "      <td>NaN</td>\n",
       "      <td>01 de agosto de 2021</td>\n",
       "      <td>301.88</td>\n",
       "      <td>NaN</td>\n",
       "      <td>01 de agosto de 2021</td>\n",
       "      <td>164.74</td>\n",
       "      <td>NaN</td>\n",
       "      <td>01 de agosto de 2021</td>\n",
       "      <td>117.49</td>\n",
       "      <td>NaN</td>\n",
       "      <td>01 de agosto de 2021</td>\n",
       "      <td>245.24</td>\n",
       "    </tr>\n",
       "    <tr>\n",
       "      <th>8</th>\n",
       "      <td>01 de septiembre de 2021</td>\n",
       "      <td>141.50</td>\n",
       "      <td>NaN</td>\n",
       "      <td>01 de septiembre de 2021</td>\n",
       "      <td>281.92</td>\n",
       "      <td>NaN</td>\n",
       "      <td>01 de septiembre de 2021</td>\n",
       "      <td>145.23</td>\n",
       "      <td>NaN</td>\n",
       "      <td>01 de septiembre de 2021</td>\n",
       "      <td>110.31</td>\n",
       "      <td>NaN</td>\n",
       "      <td>01 de septiembre de 2021</td>\n",
       "      <td>258.49</td>\n",
       "    </tr>\n",
       "    <tr>\n",
       "      <th>9</th>\n",
       "      <td>01 de octubre de 2021</td>\n",
       "      <td>149.80</td>\n",
       "      <td>NaN</td>\n",
       "      <td>01 de octubre de 2021</td>\n",
       "      <td>331.62</td>\n",
       "      <td>NaN</td>\n",
       "      <td>01 de octubre de 2021</td>\n",
       "      <td>167.29</td>\n",
       "      <td>NaN</td>\n",
       "      <td>01 de octubre de 2021</td>\n",
       "      <td>106.07</td>\n",
       "      <td>NaN</td>\n",
       "      <td>01 de octubre de 2021</td>\n",
       "      <td>371.33</td>\n",
       "    </tr>\n",
       "    <tr>\n",
       "      <th>10</th>\n",
       "      <td>01 de noviembre de 2021</td>\n",
       "      <td>165.30</td>\n",
       "      <td>NaN</td>\n",
       "      <td>01 de noviembre de 2021</td>\n",
       "      <td>330.59</td>\n",
       "      <td>NaN</td>\n",
       "      <td>01 de noviembre de 2021</td>\n",
       "      <td>169.24</td>\n",
       "      <td>NaN</td>\n",
       "      <td>01 de noviembre de 2021</td>\n",
       "      <td>109.64</td>\n",
       "      <td>NaN</td>\n",
       "      <td>01 de noviembre de 2021</td>\n",
       "      <td>381.59</td>\n",
       "    </tr>\n",
       "    <tr>\n",
       "      <th>11</th>\n",
       "      <td>01 de diciembre 2021</td>\n",
       "      <td>177.57</td>\n",
       "      <td>NaN</td>\n",
       "      <td>01 de diciembre 2021</td>\n",
       "      <td>336.32</td>\n",
       "      <td>NaN</td>\n",
       "      <td>01 de diciembre 2021</td>\n",
       "      <td>166.67</td>\n",
       "      <td>NaN</td>\n",
       "      <td>01 de diciembre 2021</td>\n",
       "      <td>116.97</td>\n",
       "      <td>NaN</td>\n",
       "      <td>01 de diciembre 2021</td>\n",
       "      <td>352.26</td>\n",
       "    </tr>\n",
       "    <tr>\n",
       "      <th>12</th>\n",
       "      <td>01 de enero de 2022</td>\n",
       "      <td>174.78</td>\n",
       "      <td>NaN</td>\n",
       "      <td>01 de enero de 2022</td>\n",
       "      <td>310.98</td>\n",
       "      <td>NaN</td>\n",
       "      <td>01 de enero de 2022</td>\n",
       "      <td>148.07</td>\n",
       "      <td>NaN</td>\n",
       "      <td>01 de enero de 2022</td>\n",
       "      <td>98.32</td>\n",
       "      <td>NaN</td>\n",
       "      <td>01 de enero de 2022</td>\n",
       "      <td>312.24</td>\n",
       "    </tr>\n",
       "    <tr>\n",
       "      <th>13</th>\n",
       "      <td>01 de febrero de 2022</td>\n",
       "      <td>165.12</td>\n",
       "      <td>NaN</td>\n",
       "      <td>01 de febrero de 2022</td>\n",
       "      <td>298.79</td>\n",
       "      <td>NaN</td>\n",
       "      <td>01 de febrero de 2022</td>\n",
       "      <td>136.55</td>\n",
       "      <td>NaN</td>\n",
       "      <td>01 de febrero de 2022</td>\n",
       "      <td>91.79</td>\n",
       "      <td>NaN</td>\n",
       "      <td>01 de febrero de 2022</td>\n",
       "      <td>290.14</td>\n",
       "    </tr>\n",
       "    <tr>\n",
       "      <th>14</th>\n",
       "      <td>01 de marzo de 2022</td>\n",
       "      <td>174.61</td>\n",
       "      <td>NaN</td>\n",
       "      <td>01 de marzo de 2022</td>\n",
       "      <td>308.31</td>\n",
       "      <td>NaN</td>\n",
       "      <td>01 de marzo de 2022</td>\n",
       "      <td>134.56</td>\n",
       "      <td>NaN</td>\n",
       "      <td>01 de marzo de 2022</td>\n",
       "      <td>90.97</td>\n",
       "      <td>NaN</td>\n",
       "      <td>01 de marzo de 2022</td>\n",
       "      <td>359.20</td>\n",
       "    </tr>\n",
       "    <tr>\n",
       "      <th>15</th>\n",
       "      <td>01 de abril de 2022</td>\n",
       "      <td>157.65</td>\n",
       "      <td>NaN</td>\n",
       "      <td>01 de abril de 2022</td>\n",
       "      <td>277.52</td>\n",
       "      <td>NaN</td>\n",
       "      <td>01 de abril de 2022</td>\n",
       "      <td>124.70</td>\n",
       "      <td>NaN</td>\n",
       "      <td>01 de abril de 2022</td>\n",
       "      <td>74.64</td>\n",
       "      <td>NaN</td>\n",
       "      <td>01 de abril de 2022</td>\n",
       "      <td>290.25</td>\n",
       "    </tr>\n",
       "    <tr>\n",
       "      <th>16</th>\n",
       "      <td>01 de mayo de 2022</td>\n",
       "      <td>148.84</td>\n",
       "      <td>NaN</td>\n",
       "      <td>01 de mayo de 2022</td>\n",
       "      <td>271.87</td>\n",
       "      <td>NaN</td>\n",
       "      <td>01 de mayo de 2022</td>\n",
       "      <td>118.85</td>\n",
       "      <td>NaN</td>\n",
       "      <td>01 de mayo de 2022</td>\n",
       "      <td>78.50</td>\n",
       "      <td>NaN</td>\n",
       "      <td>01 de mayo de 2022</td>\n",
       "      <td>252.75</td>\n",
       "    </tr>\n",
       "    <tr>\n",
       "      <th>17</th>\n",
       "      <td>01 de junio de 2022</td>\n",
       "      <td>136.72</td>\n",
       "      <td>NaN</td>\n",
       "      <td>01 de junio de 2022</td>\n",
       "      <td>256.83</td>\n",
       "      <td>NaN</td>\n",
       "      <td>01 de junio de 2022</td>\n",
       "      <td>102.20</td>\n",
       "      <td>NaN</td>\n",
       "      <td>01 de junio de 2022</td>\n",
       "      <td>76.39</td>\n",
       "      <td>NaN</td>\n",
       "      <td>01 de junio de 2022</td>\n",
       "      <td>224.47</td>\n",
       "    </tr>\n",
       "    <tr>\n",
       "      <th>18</th>\n",
       "      <td>01 de julio de 2022</td>\n",
       "      <td>162.51</td>\n",
       "      <td>NaN</td>\n",
       "      <td>01 de julio de 2022</td>\n",
       "      <td>280.56</td>\n",
       "      <td>NaN</td>\n",
       "      <td>01 de julio de 2022</td>\n",
       "      <td>114.92</td>\n",
       "      <td>NaN</td>\n",
       "      <td>01 de julio de 2022</td>\n",
       "      <td>84.78</td>\n",
       "      <td>NaN</td>\n",
       "      <td>01 de julio de 2022</td>\n",
       "      <td>297.15</td>\n",
       "    </tr>\n",
       "    <tr>\n",
       "      <th>19</th>\n",
       "      <td>01 de agosto de 2022</td>\n",
       "      <td>157.22</td>\n",
       "      <td>NaN</td>\n",
       "      <td>01 de agosto de 2022</td>\n",
       "      <td>261.47</td>\n",
       "      <td>NaN</td>\n",
       "      <td>01 de agosto de 2022</td>\n",
       "      <td>106.45</td>\n",
       "      <td>NaN</td>\n",
       "      <td>01 de agosto de 2022</td>\n",
       "      <td>84.07</td>\n",
       "      <td>NaN</td>\n",
       "      <td>01 de agosto de 2022</td>\n",
       "      <td>275.61</td>\n",
       "    </tr>\n",
       "    <tr>\n",
       "      <th>20</th>\n",
       "      <td>01 de septiembre de 2022</td>\n",
       "      <td>156.91</td>\n",
       "      <td>NaN</td>\n",
       "      <td>01 de septiembre de 2022</td>\n",
       "      <td>237.92</td>\n",
       "      <td>NaN</td>\n",
       "      <td>01 de septiembre de 2022</td>\n",
       "      <td>97.02</td>\n",
       "      <td>NaN</td>\n",
       "      <td>01 de septiembre de 2022</td>\n",
       "      <td>84.17</td>\n",
       "      <td>NaN</td>\n",
       "      <td>01 de septiembre de 2022</td>\n",
       "      <td>282.80</td>\n",
       "    </tr>\n",
       "  </tbody>\n",
       "</table>\n",
       "</div>"
      ],
      "text/plain": [
       "                       Fecha  Precios Apple  Unnamed: 2  \\\n",
       "0        01 de enero de 2021         131.96         NaN   \n",
       "1      01 de febrero de 2021         121.26         NaN   \n",
       "2        01 de marzo de 2021         122.15         NaN   \n",
       "3        01 de abril de 2021         131.46         NaN   \n",
       "4         01 de mayo de 2021         124.61         NaN   \n",
       "5        01 de junio de 2021         136.96         NaN   \n",
       "6        01 de julio de 2021         145.86         NaN   \n",
       "7       01 de agosto de 2021         151.83         NaN   \n",
       "8   01 de septiembre de 2021         141.50         NaN   \n",
       "9      01 de octubre de 2021         149.80         NaN   \n",
       "10   01 de noviembre de 2021         165.30         NaN   \n",
       "11      01 de diciembre 2021         177.57         NaN   \n",
       "12       01 de enero de 2022         174.78         NaN   \n",
       "13     01 de febrero de 2022         165.12         NaN   \n",
       "14       01 de marzo de 2022         174.61         NaN   \n",
       "15       01 de abril de 2022         157.65         NaN   \n",
       "16        01 de mayo de 2022         148.84         NaN   \n",
       "17       01 de junio de 2022         136.72         NaN   \n",
       "18       01 de julio de 2022         162.51         NaN   \n",
       "19      01 de agosto de 2022         157.22         NaN   \n",
       "20  01 de septiembre de 2022         156.91         NaN   \n",
       "\n",
       "                     Fecha.1  Precios Microsoft  Unnamed: 5  \\\n",
       "0        01 de enero de 2021             231.96         NaN   \n",
       "1      01 de febrero de 2021             232.38         NaN   \n",
       "2        01 de marzo de 2021             235.77         NaN   \n",
       "3        01 de abril de 2021             252.18         NaN   \n",
       "4         01 de mayo de 2021             249.68         NaN   \n",
       "5        01 de junio de 2021             270.90         NaN   \n",
       "6        01 de julio de 2021             284.91         NaN   \n",
       "7       01 de agosto de 2021             301.88         NaN   \n",
       "8   01 de septiembre de 2021             281.92         NaN   \n",
       "9      01 de octubre de 2021             331.62         NaN   \n",
       "10   01 de noviembre de 2021             330.59         NaN   \n",
       "11      01 de diciembre 2021             336.32         NaN   \n",
       "12       01 de enero de 2022             310.98         NaN   \n",
       "13     01 de febrero de 2022             298.79         NaN   \n",
       "14       01 de marzo de 2022             308.31         NaN   \n",
       "15       01 de abril de 2022             277.52         NaN   \n",
       "16        01 de mayo de 2022             271.87         NaN   \n",
       "17       01 de junio de 2022             256.83         NaN   \n",
       "18       01 de julio de 2022             280.56         NaN   \n",
       "19      01 de agosto de 2022             261.47         NaN   \n",
       "20  01 de septiembre de 2022             237.92         NaN   \n",
       "\n",
       "                     Fecha.2  Precios Nike  Unnamed: 8  \\\n",
       "0        01 de enero de 2021        133.59         NaN   \n",
       "1      01 de febrero de 2021        134.78         NaN   \n",
       "2        01 de marzo de 2021        132.89         NaN   \n",
       "3        01 de abril de 2021        132.62         NaN   \n",
       "4         01 de mayo de 2021        136.46         NaN   \n",
       "5        01 de junio de 2021        154.49         NaN   \n",
       "6        01 de julio de 2021        167.51         NaN   \n",
       "7       01 de agosto de 2021        164.74         NaN   \n",
       "8   01 de septiembre de 2021        145.23         NaN   \n",
       "9      01 de octubre de 2021        167.29         NaN   \n",
       "10   01 de noviembre de 2021        169.24         NaN   \n",
       "11      01 de diciembre 2021        166.67         NaN   \n",
       "12       01 de enero de 2022        148.07         NaN   \n",
       "13     01 de febrero de 2022        136.55         NaN   \n",
       "14       01 de marzo de 2022        134.56         NaN   \n",
       "15       01 de abril de 2022        124.70         NaN   \n",
       "16        01 de mayo de 2022        118.85         NaN   \n",
       "17       01 de junio de 2022        102.20         NaN   \n",
       "18       01 de julio de 2022        114.92         NaN   \n",
       "19      01 de agosto de 2022        106.45         NaN   \n",
       "20  01 de septiembre de 2022         97.02         NaN   \n",
       "\n",
       "                     Fecha.3  Precios Starbucks  Unnamed: 11  \\\n",
       "0        01 de enero de 2021              96.81          NaN   \n",
       "1      01 de febrero de 2021             108.03          NaN   \n",
       "2        01 de marzo de 2021             109.27          NaN   \n",
       "3        01 de abril de 2021             114.49          NaN   \n",
       "4         01 de mayo de 2021             113.88          NaN   \n",
       "5        01 de junio de 2021             111.81          NaN   \n",
       "6        01 de julio de 2021             121.43          NaN   \n",
       "7       01 de agosto de 2021             117.49          NaN   \n",
       "8   01 de septiembre de 2021             110.31          NaN   \n",
       "9      01 de octubre de 2021             106.07          NaN   \n",
       "10   01 de noviembre de 2021             109.64          NaN   \n",
       "11      01 de diciembre 2021             116.97          NaN   \n",
       "12       01 de enero de 2022              98.32          NaN   \n",
       "13     01 de febrero de 2022              91.79          NaN   \n",
       "14       01 de marzo de 2022              90.97          NaN   \n",
       "15       01 de abril de 2022              74.64          NaN   \n",
       "16        01 de mayo de 2022              78.50          NaN   \n",
       "17       01 de junio de 2022              76.39          NaN   \n",
       "18       01 de julio de 2022              84.78          NaN   \n",
       "19      01 de agosto de 2022              84.07          NaN   \n",
       "20  01 de septiembre de 2022              84.17          NaN   \n",
       "\n",
       "                     Fecha.4  Precios Tesla  \n",
       "0        01 de enero de 2021         264.51  \n",
       "1      01 de febrero de 2021         225.17  \n",
       "2        01 de marzo de 2021         222.64  \n",
       "3        01 de abril de 2021         236.48  \n",
       "4         01 de mayo de 2021         208.41  \n",
       "5        01 de junio de 2021         226.57  \n",
       "6        01 de julio de 2021         229.07  \n",
       "7       01 de agosto de 2021         245.24  \n",
       "8   01 de septiembre de 2021         258.49  \n",
       "9      01 de octubre de 2021         371.33  \n",
       "10   01 de noviembre de 2021         381.59  \n",
       "11      01 de diciembre 2021         352.26  \n",
       "12       01 de enero de 2022         312.24  \n",
       "13     01 de febrero de 2022         290.14  \n",
       "14       01 de marzo de 2022         359.20  \n",
       "15       01 de abril de 2022         290.25  \n",
       "16        01 de mayo de 2022         252.75  \n",
       "17       01 de junio de 2022         224.47  \n",
       "18       01 de julio de 2022         297.15  \n",
       "19      01 de agosto de 2022         275.61  \n",
       "20  01 de septiembre de 2022         282.80  "
      ]
     },
     "execution_count": 63,
     "metadata": {},
     "output_type": "execute_result"
    }
   ],
   "source": [
    "data3 = pd.read_excel('PreciosProyecto1.xlsx')\n",
    "data3"
   ]
  },
  {
   "cell_type": "code",
   "execution_count": 64,
   "id": "df9aff4d",
   "metadata": {},
   "outputs": [
    {
     "data": {
      "text/plain": [
       "0     133.59\n",
       "1     134.78\n",
       "2     132.89\n",
       "3     132.62\n",
       "4     136.46\n",
       "5     154.49\n",
       "6     167.51\n",
       "7     164.74\n",
       "8     145.23\n",
       "9     167.29\n",
       "10    169.24\n",
       "11    166.67\n",
       "12    148.07\n",
       "13    136.55\n",
       "14    134.56\n",
       "15    124.70\n",
       "16    118.85\n",
       "17    102.20\n",
       "18    114.92\n",
       "19    106.45\n",
       "20     97.02\n",
       "Name: Precios Nike, dtype: float64"
      ]
     },
     "execution_count": 64,
     "metadata": {},
     "output_type": "execute_result"
    }
   ],
   "source": [
    "dataNKE = data3['Precios Nike']\n",
    "dataNKE"
   ]
  },
  {
   "cell_type": "code",
   "execution_count": 65,
   "id": "d0e876f9",
   "metadata": {},
   "outputs": [
    {
     "data": {
      "text/plain": [
       "array([[133.59, 134.78, 132.89, 132.62, 136.46, 154.49, 167.51, 164.74,\n",
       "        145.23, 167.29, 169.24, 166.67, 148.07, 136.55, 134.56, 124.7 ,\n",
       "        118.85, 102.2 , 114.92, 106.45,  97.02]])"
      ]
     },
     "execution_count": 65,
     "metadata": {},
     "output_type": "execute_result"
    }
   ],
   "source": [
    "dataNike = np.array([dataNKE])\n",
    "dataNike"
   ]
  },
  {
   "cell_type": "markdown",
   "id": "10bd8ed6",
   "metadata": {},
   "source": [
    "**Modelo con polinomio de grado 4**"
   ]
  },
  {
   "cell_type": "code",
   "execution_count": 66,
   "id": "a7de430d",
   "metadata": {
    "scrolled": true
   },
   "outputs": [
    {
     "data": {
      "image/png": "[encoded data removed]",
      "text/plain": [
       "<Figure size 432x288 with 1 Axes>"
      ]
     },
     "metadata": {
      "needs_background": "light"
     },
     "output_type": "display_data"
    }
   ],
   "source": [
    "m = len(dataNKE)\n",
    "x = np.linspace(0, 20, m)\n",
    "y = dataNike\n",
    "\n",
    "%matplotlib inline\n",
    "plt.figure()\n",
    "plt.scatter(x, y, s = 100)\n",
    "plt.grid()"
   ]
  },
  {
   "cell_type": "markdown",
   "id": "2400f6d8",
   "metadata": {},
   "source": [
    "- La acción de Nike también parece tener mucha volatilidad"
   ]
  },
  {
   "cell_type": "code",
   "execution_count": 67,
   "id": "153d7164",
   "metadata": {},
   "outputs": [],
   "source": [
    "# Creamos función de precios\n",
    "\n",
    "def funcion_preciosN(beta, X, y) :\n",
    "    beta = np.reshape(beta, [5, -1])\n",
    "    pred = X @ beta\n",
    "    return ((y-pred).T @ (y-pred))[0][0]"
   ]
  },
  {
   "cell_type": "code",
   "execution_count": 68,
   "id": "0c807b1a",
   "metadata": {},
   "outputs": [
    {
     "data": {
      "text/plain": [
       "array([[1.00000e+00, 0.00000e+00, 0.00000e+00, 0.00000e+00, 0.00000e+00],\n",
       "       [1.00000e+00, 1.00000e+00, 1.00000e+00, 1.00000e+00, 1.00000e+00],\n",
       "       [1.00000e+00, 2.00000e+00, 4.00000e+00, 8.00000e+00, 1.60000e+01],\n",
       "       [1.00000e+00, 3.00000e+00, 9.00000e+00, 2.70000e+01, 8.10000e+01],\n",
       "       [1.00000e+00, 4.00000e+00, 1.60000e+01, 6.40000e+01, 2.56000e+02],\n",
       "       [1.00000e+00, 5.00000e+00, 2.50000e+01, 1.25000e+02, 6.25000e+02],\n",
       "       [1.00000e+00, 6.00000e+00, 3.60000e+01, 2.16000e+02, 1.29600e+03],\n",
       "       [1.00000e+00, 7.00000e+00, 4.90000e+01, 3.43000e+02, 2.40100e+03],\n",
       "       [1.00000e+00, 8.00000e+00, 6.40000e+01, 5.12000e+02, 4.09600e+03],\n",
       "       [1.00000e+00, 9.00000e+00, 8.10000e+01, 7.29000e+02, 6.56100e+03],\n",
       "       [1.00000e+00, 1.00000e+01, 1.00000e+02, 1.00000e+03, 1.00000e+04],\n",
       "       [1.00000e+00, 1.10000e+01, 1.21000e+02, 1.33100e+03, 1.46410e+04],\n",
       "       [1.00000e+00, 1.20000e+01, 1.44000e+02, 1.72800e+03, 2.07360e+04],\n",
       "       [1.00000e+00, 1.30000e+01, 1.69000e+02, 2.19700e+03, 2.85610e+04],\n",
       "       [1.00000e+00, 1.40000e+01, 1.96000e+02, 2.74400e+03, 3.84160e+04],\n",
       "       [1.00000e+00, 1.50000e+01, 2.25000e+02, 3.37500e+03, 5.06250e+04],\n",
       "       [1.00000e+00, 1.60000e+01, 2.56000e+02, 4.09600e+03, 6.55360e+04],\n",
       "       [1.00000e+00, 1.70000e+01, 2.89000e+02, 4.91300e+03, 8.35210e+04],\n",
       "       [1.00000e+00, 1.80000e+01, 3.24000e+02, 5.83200e+03, 1.04976e+05],\n",
       "       [1.00000e+00, 1.90000e+01, 3.61000e+02, 6.85900e+03, 1.30321e+05],\n",
       "       [1.00000e+00, 2.00000e+01, 4.00000e+02, 8.00000e+03, 1.60000e+05]])"
      ]
     },
     "execution_count": 68,
     "metadata": {},
     "output_type": "execute_result"
    }
   ],
   "source": [
    "# Creamos la matriz X\n",
    "\n",
    "ones = np.ones([m, 1])\n",
    "x_1 = np.reshape(x, [m, -1])\n",
    "x_2 = np.reshape(x**2, [m, -1])\n",
    "x_3 = np.reshape(x**3, [m, -1])\n",
    "x_4 = np.reshape(x**4, [m, -1])\n",
    "X = np.hstack((ones, x_1, x_2, x_3, x_4))\n",
    "X"
   ]
  },
  {
   "cell_type": "code",
   "execution_count": 69,
   "id": "8060a31c",
   "metadata": {},
   "outputs": [
    {
     "data": {
      "text/plain": [
       "41485830232.14474"
      ]
     },
     "execution_count": 69,
     "metadata": {},
     "output_type": "execute_result"
    }
   ],
   "source": [
    "beta_inicial = np.random.rand(5)\n",
    "y = np.reshape(y, [m, -1])\n",
    "funcion_preciosN(beta_inicial, X, y)"
   ]
  },
  {
   "cell_type": "code",
   "execution_count": 70,
   "id": "91b352bf",
   "metadata": {},
   "outputs": [
    {
     "data": {
      "text/plain": [
       "      fun: 1080.5005348320442\n",
       " hess_inv: array([[ 3.54094212e-01, -2.04176798e-01,  3.46671639e-02,\n",
       "        -2.25074907e-03,  4.94065180e-05],\n",
       "       [-2.04176798e-01,  1.88346471e-01, -3.81467080e-02,\n",
       "         2.72035890e-03, -6.33097752e-05],\n",
       "       [ 3.46671639e-02, -3.81467080e-02,  8.37294217e-03,\n",
       "        -6.26604969e-04,  1.50633166e-05],\n",
       "       [-2.25074907e-03,  2.72035890e-03, -6.26604969e-04,\n",
       "         4.83939832e-05, -1.18980249e-06],\n",
       "       [ 4.94065180e-05, -6.33097752e-05,  1.50633166e-05,\n",
       "        -1.18980249e-06,  2.97456135e-08]])\n",
       "      jac: array([-3.37219238e-03, -2.41394043e-02, -3.56201172e-01, -6.29248047e+00,\n",
       "       -1.14361679e+02])\n",
       "  message: 'Desired error not necessarily achieved due to precision loss.'\n",
       "     nfev: 342\n",
       "      nit: 9\n",
       "     njev: 55\n",
       "   status: 2\n",
       "  success: False\n",
       "        x: array([ 1.33016068e+02, -3.82587565e+00,  2.58206218e+00, -2.58740826e-01,\n",
       "        6.77889473e-03])"
      ]
     },
     "execution_count": 70,
     "metadata": {},
     "output_type": "execute_result"
    }
   ],
   "source": [
    "sol = opt.minimize(funcion_preciosN, \n",
    "                   beta_inicial, \n",
    "                   args = (X, y))\n",
    "sol"
   ]
  },
  {
   "cell_type": "code",
   "execution_count": 71,
   "id": "8b7e6d36",
   "metadata": {},
   "outputs": [
    {
     "data": {
      "text/plain": [
       "array([133.016068  , 131.52029261, 133.73110115, 138.34008887,\n",
       "       144.20154451, 150.33245027, 155.91248181, 160.28400829,\n",
       "       162.95209232, 163.58449001, 162.01165092, 158.22671809,\n",
       "       152.38552803, 144.80661073, 135.97118966, 126.52318174,\n",
       "       117.2691974 , 109.1785405 , 103.3832084 , 101.17789193,\n",
       "       104.0199754 ])"
      ]
     },
     "execution_count": 71,
     "metadata": {},
     "output_type": "execute_result"
    }
   ],
   "source": [
    "y_predN1 = X @ sol.x\n",
    "y_predN1"
   ]
  },
  {
   "cell_type": "markdown",
   "id": "3f753574",
   "metadata": {},
   "source": [
    "**Modelo con polinomio de grado 5**"
   ]
  },
  {
   "cell_type": "code",
   "execution_count": 72,
   "id": "8e0145da",
   "metadata": {},
   "outputs": [],
   "source": [
    "# Creamos función de precios\n",
    "\n",
    "def funcion_preciosN(beta, X, y) :\n",
    "    beta = np.reshape(beta, [6, -1])\n",
    "    pred = X @ beta\n",
    "    return ((y-pred).T @ (y-pred))[0][0]"
   ]
  },
  {
   "cell_type": "code",
   "execution_count": 73,
   "id": "e06f0609",
   "metadata": {},
   "outputs": [
    {
     "data": {
      "text/plain": [
       "array([[1.000000e+00, 0.000000e+00, 0.000000e+00, 0.000000e+00,\n",
       "        0.000000e+00, 0.000000e+00],\n",
       "       [1.000000e+00, 1.000000e+00, 1.000000e+00, 1.000000e+00,\n",
       "        1.000000e+00, 1.000000e+00],\n",
       "       [1.000000e+00, 2.000000e+00, 4.000000e+00, 8.000000e+00,\n",
       "        1.600000e+01, 3.200000e+01],\n",
       "       [1.000000e+00, 3.000000e+00, 9.000000e+00, 2.700000e+01,\n",
       "        8.100000e+01, 2.430000e+02],\n",
       "       [1.000000e+00, 4.000000e+00, 1.600000e+01, 6.400000e+01,\n",
       "        2.560000e+02, 1.024000e+03],\n",
       "       [1.000000e+00, 5.000000e+00, 2.500000e+01, 1.250000e+02,\n",
       "        6.250000e+02, 3.125000e+03],\n",
       "       [1.000000e+00, 6.000000e+00, 3.600000e+01, 2.160000e+02,\n",
       "        1.296000e+03, 7.776000e+03],\n",
       "       [1.000000e+00, 7.000000e+00, 4.900000e+01, 3.430000e+02,\n",
       "        2.401000e+03, 1.680700e+04],\n",
       "       [1.000000e+00, 8.000000e+00, 6.400000e+01, 5.120000e+02,\n",
       "        4.096000e+03, 3.276800e+04],\n",
       "       [1.000000e+00, 9.000000e+00, 8.100000e+01, 7.290000e+02,\n",
       "        6.561000e+03, 5.904900e+04],\n",
       "       [1.000000e+00, 1.000000e+01, 1.000000e+02, 1.000000e+03,\n",
       "        1.000000e+04, 1.000000e+05],\n",
       "       [1.000000e+00, 1.100000e+01, 1.210000e+02, 1.331000e+03,\n",
       "        1.464100e+04, 1.610510e+05],\n",
       "       [1.000000e+00, 1.200000e+01, 1.440000e+02, 1.728000e+03,\n",
       "        2.073600e+04, 2.488320e+05],\n",
       "       [1.000000e+00, 1.300000e+01, 1.690000e+02, 2.197000e+03,\n",
       "        2.856100e+04, 3.712930e+05],\n",
       "       [1.000000e+00, 1.400000e+01, 1.960000e+02, 2.744000e+03,\n",
       "        3.841600e+04, 5.378240e+05],\n",
       "       [1.000000e+00, 1.500000e+01, 2.250000e+02, 3.375000e+03,\n",
       "        5.062500e+04, 7.593750e+05],\n",
       "       [1.000000e+00, 1.600000e+01, 2.560000e+02, 4.096000e+03,\n",
       "        6.553600e+04, 1.048576e+06],\n",
       "       [1.000000e+00, 1.700000e+01, 2.890000e+02, 4.913000e+03,\n",
       "        8.352100e+04, 1.419857e+06],\n",
       "       [1.000000e+00, 1.800000e+01, 3.240000e+02, 5.832000e+03,\n",
       "        1.049760e+05, 1.889568e+06],\n",
       "       [1.000000e+00, 1.900000e+01, 3.610000e+02, 6.859000e+03,\n",
       "        1.303210e+05, 2.476099e+06],\n",
       "       [1.000000e+00, 2.000000e+01, 4.000000e+02, 8.000000e+03,\n",
       "        1.600000e+05, 3.200000e+06]])"
      ]
     },
     "execution_count": 73,
     "metadata": {},
     "output_type": "execute_result"
    }
   ],
   "source": [
    "# Creamos la matriz X\n",
    "\n",
    "ones = np.ones([m, 1])\n",
    "x_1 = np.reshape(x, [m, -1])\n",
    "x_2 = np.reshape(x**2, [m, -1])\n",
    "x_3 = np.reshape(x**3, [m, -1])\n",
    "x_4 = np.reshape(x**4, [m, -1])\n",
    "x_5 = np.reshape(x**5, [m, -1])\n",
    "X = np.hstack((ones, x_1, x_2, x_3, x_4, x_5))\n",
    "X"
   ]
  },
  {
   "cell_type": "code",
   "execution_count": 74,
   "id": "85696885",
   "metadata": {},
   "outputs": [
    {
     "data": {
      "text/plain": [
       "19221814739835.926"
      ]
     },
     "execution_count": 74,
     "metadata": {},
     "output_type": "execute_result"
    }
   ],
   "source": [
    "beta_inicial = np.random.rand(6)\n",
    "y = np.reshape(y, [m, -1])\n",
    "funcion_preciosN(beta_inicial, X, y)"
   ]
  },
  {
   "cell_type": "code",
   "execution_count": 75,
   "id": "ae026ec5",
   "metadata": {},
   "outputs": [
    {
     "data": {
      "text/plain": [
       "      fun: 1028.9009630151177\n",
       " hess_inv: array([[ 4.15419043e-01, -3.43455103e-01,  8.81905463e-02,\n",
       "        -9.62627640e-03,  4.68743701e-04, -8.38640268e-06],\n",
       "       [-3.43455103e-01,  5.01326671e-01, -1.58266485e-01,\n",
       "         1.92682918e-02, -1.00411264e-03,  1.88162166e-05],\n",
       "       [ 8.81905463e-02, -1.58266485e-01,  5.44682671e-02,\n",
       "        -6.97669234e-03,  3.76088620e-04, -7.22065173e-06],\n",
       "       [-9.62627640e-03,  1.92682918e-02, -6.97669234e-03,\n",
       "         9.23183677e-04, -5.09249187e-05,  9.94724562e-07],\n",
       "       [ 4.68743701e-04, -1.00411264e-03,  3.76088620e-04,\n",
       "        -5.09249187e-05,  2.85737738e-06, -5.65538149e-08],\n",
       "       [-8.38640267e-06,  1.88162166e-05, -7.22065173e-06,\n",
       "         9.94724562e-07, -5.65538149e-08,  1.13109625e-09]])\n",
       "      jac: array([ 3.50952148e-04, -2.54821777e-03, -6.55670166e-02, -1.34973145e+00,\n",
       "       -2.65209961e+01, -5.10203339e+02])\n",
       "  message: 'Desired error not necessarily achieved due to precision loss.'\n",
       "     nfev: 334\n",
       "      nit: 13\n",
       "     njev: 46\n",
       "   status: 2\n",
       "  success: False\n",
       "        x: array([ 1.39230028e+02, -1.78199773e+01,  7.95453797e+00, -9.98919305e-01,\n",
       "        4.88611497e-02, -8.41646551e-04])"
      ]
     },
     "execution_count": 75,
     "metadata": {},
     "output_type": "execute_result"
    }
   ],
   "source": [
    "sol = opt.minimize(funcion_preciosN, \n",
    "                   beta_inicial, \n",
    "                   args = (X, y))\n",
    "sol"
   ]
  },
  {
   "cell_type": "code",
   "execution_count": 76,
   "id": "913fc9f4",
   "metadata": {},
   "outputs": [
    {
     "data": {
      "text/plain": [
       "array([139.23002798, 128.4136888 , 128.17171643, 134.14334942,\n",
       "       142.9384988 , 152.03675037, 159.68636724, 164.80329214,\n",
       "       166.87014989, 165.83524982, 162.01158814, 155.97585039,\n",
       "       148.46741384, 140.2873499 , 132.19742656, 124.81911078,\n",
       "       118.53257088, 113.37567901, 108.94301354, 104.28486145,\n",
       "        97.80622078])"
      ]
     },
     "execution_count": 76,
     "metadata": {},
     "output_type": "execute_result"
    }
   ],
   "source": [
    "y_predN2 = X @ sol.x\n",
    "y_predN2"
   ]
  },
  {
   "cell_type": "markdown",
   "id": "caa72ba8",
   "metadata": {},
   "source": [
    "**Solución y visualización del problema de optimización:**\n",
    "\n",
    "- Graficamos ambos modelos junto con los precios de la acción de Nike"
   ]
  },
  {
   "cell_type": "code",
   "execution_count": 77,
   "id": "38fdcbb2",
   "metadata": {},
   "outputs": [
    {
     "data": {
      "image/png": "[encoded data removed]",
      "text/plain": [
       "<Figure size 432x288 with 1 Axes>"
      ]
     },
     "metadata": {
      "needs_background": "light"
     },
     "output_type": "display_data"
    }
   ],
   "source": [
    "%matplotlib inline\n",
    "plt.figure()\n",
    "plt.scatter(x, y, s = 50)\n",
    "plt.plot(x, y_predN1, \"b\")\n",
    "plt.plot(x, y_predN2, \"r\")\n",
    "plt.grid()"
   ]
  },
  {
   "cell_type": "markdown",
   "id": "beb078ce",
   "metadata": {},
   "source": [
    "## Análisis de resultados:\n",
    "\n",
    "En el caso de Nike, nosotros determuinamos que el modelo que mejor se ajusta a los precios de la acción de Nike es el modelo `y_predN2`que es el modelo con polinomio de grado 5 (*la curva de color rojo*). Se acerca a más puntos de la gráfica, por lo que nosotros consideramos que es el modelo más representativo para esta empresa"
   ]
  },
  {
   "cell_type": "markdown",
   "id": "86f50652",
   "metadata": {},
   "source": [
    "- **Predicción de precios utilizando el modelo `y_predN2`**"
   ]
  },
  {
   "cell_type": "code",
   "execution_count": 152,
   "id": "a8867d75",
   "metadata": {},
   "outputs": [
    {
     "data": {
      "text/latex": [
       "$\\displaystyle 87.1658000850493$"
      ],
      "text/plain": [
       "87.1658000850493"
      ]
     },
     "execution_count": 152,
     "metadata": {},
     "output_type": "execute_result"
    }
   ],
   "source": [
    "sp.var('x')\n",
    "y5 = -8.41646551e-04*x**5 + 4.88611497e-02*x**4 - 9.98919305e-01*x**3 + 7.95453797e+00*x**2 - 1.78199773e+01*x + 1.39230028e+02\n",
    "preciosN1 = y5.subs(x, 21)\n",
    "preciosN1"
   ]
  },
  {
   "cell_type": "code",
   "execution_count": 154,
   "id": "79ae4d1c",
   "metadata": {},
   "outputs": [
    {
     "data": {
      "text/latex": [
       "$\\displaystyle 69.1750314399669$"
      ],
      "text/plain": [
       "69.1750314399669"
      ]
     },
     "execution_count": 154,
     "metadata": {},
     "output_type": "execute_result"
    }
   ],
   "source": [
    "sp.var('x')\n",
    "y5 = -8.41646551e-04*x**5 + 4.88611497e-02*x**4 - 9.98919305e-01*x**3 + 7.95453797e+00*x**2 - 1.78199773e+01*x + 1.39230028e+02\n",
    "preciosN2 = y5.subs(x, 22)\n",
    "preciosN2"
   ]
  },
  {
   "cell_type": "code",
   "execution_count": 156,
   "id": "2be7d24a",
   "metadata": {},
   "outputs": [
    {
     "data": {
      "text/latex": [
       "$\\displaystyle 39.6970584897044$"
      ],
      "text/plain": [
       "39.6970584897044"
      ]
     },
     "execution_count": 156,
     "metadata": {},
     "output_type": "execute_result"
    }
   ],
   "source": [
    "sp.var('x')\n",
    "y5 = -8.41646551e-04*x**5 + 4.88611497e-02*x**4 - 9.98919305e-01*x**3 + 7.95453797e+00*x**2 - 1.78199773e+01*x + 1.39230028e+02\n",
    "preciosN3 = y5.subs(x, 23)\n",
    "preciosN3"
   ]
  },
  {
   "cell_type": "code",
   "execution_count": 157,
   "id": "2db4217f",
   "metadata": {},
   "outputs": [
    {
     "data": {
      "text/latex": [
       "$\\displaystyle -6.45425244262606$"
      ],
      "text/plain": [
       "-6.45425244262606"
      ]
     },
     "execution_count": 157,
     "metadata": {},
     "output_type": "execute_result"
    }
   ],
   "source": [
    "sp.var('x')\n",
    "y5 = -8.41646551e-04*x**5 + 4.88611497e-02*x**4 - 9.98919305e-01*x**3 + 7.95453797e+00*x**2 - 1.78199773e+01*x + 1.39230028e+02\n",
    "preciosN3 = y5.subs(x, 24)\n",
    "preciosN3"
   ]
  },
  {
   "cell_type": "code",
   "execution_count": null,
   "id": "a9de37ce",
   "metadata": {},
   "outputs": [],
   "source": []
  },
  {
   "cell_type": "code",
   "execution_count": null,
   "id": "2f19b5d6",
   "metadata": {},
   "outputs": [],
   "source": []
  },
  {
   "cell_type": "code",
   "execution_count": null,
   "id": "819e09ef",
   "metadata": {},
   "outputs": [],
   "source": []
  },
  {
   "cell_type": "code",
   "execution_count": null,
   "id": "64e04d46",
   "metadata": {},
   "outputs": [],
   "source": []
  },
  {
   "cell_type": "markdown",
   "id": "4d767688",
   "metadata": {},
   "source": [
    "---"
   ]
  },
  {
   "cell_type": "markdown",
   "id": "84014a69",
   "metadata": {},
   "source": [
    "# Starbucks Corp.\n",
    "\n",
    "Como ya observamos que los modelos con polinomios con grado 5 y 4 son más efectivos y útiles tanto con Apple, Microsoft y Nike. Vamos a proponer dos modelos de los mismos grados para los precios de la acción de Starbucks, y predecir los precios de la accíon de Starbucks para los siguientes 4 meses.\n",
    "\n",
    "Los datos de los precios de la accción de Starbucks en los últimos meses se obtuvieron de *Investing.com* y se cotejaron con *Factset* para verificar los datos."
   ]
  },
  {
   "cell_type": "markdown",
   "id": "2de4821c",
   "metadata": {},
   "source": [
    "**Modelo que representa el problema:**\n",
    "\n",
    "Se va a realizar el ajuste de curvas.\n",
    "Necesitamos las librerías para poder trabajar con ajuste de curvas. Necesitaremos un archivo de excel donde están los precios de la acción de cada empresa y leeremos el archivo de excel utilizando `pandas`. Después vamos a usar `numpy` para ordenar los datos de los precios de las acciones como un arreglo numérico y de esta manera poder trabajar con los datos. Después utilizaremos funciones de python junto con operaciones de álgebra lineal para definir los modelos para realizar el ajuste de curvas. Y al final usaremos `scipy.optimize` para encontrar las betas o los pesos de cada modelo. Y por último usaremos la librería de `matplotlib` para graficar los resultados obtenidos"
   ]
  },
  {
   "cell_type": "code",
   "execution_count": 78,
   "id": "296ff969",
   "metadata": {},
   "outputs": [],
   "source": [
    "# Importamos las librerías para trabajar con ajuste de curvas\n",
    "\n",
    "import numpy as np\n",
    "import pandas as pd\n",
    "import scipy.optimize as opt\n",
    "import matplotlib.pyplot as plt"
   ]
  },
  {
   "cell_type": "code",
   "execution_count": 79,
   "id": "378e8ec8",
   "metadata": {},
   "outputs": [
    {
     "data": {
      "text/html": [
       "<div>\n",
       "<style scoped>\n",
       "    .dataframe tbody tr th:only-of-type {\n",
       "        vertical-align: middle;\n",
       "    }\n",
       "\n",
       "    .dataframe tbody tr th {\n",
       "        vertical-align: top;\n",
       "    }\n",
       "\n",
       "    .dataframe thead th {\n",
       "        text-align: right;\n",
       "    }\n",
       "</style>\n",
       "<table border=\"1\" class=\"dataframe\">\n",
       "  <thead>\n",
       "    <tr style=\"text-align: right;\">\n",
       "      <th></th>\n",
       "      <th>Fecha</th>\n",
       "      <th>Precios Apple</th>\n",
       "      <th>Unnamed: 2</th>\n",
       "      <th>Fecha.1</th>\n",
       "      <th>Precios Microsoft</th>\n",
       "      <th>Unnamed: 5</th>\n",
       "      <th>Fecha.2</th>\n",
       "      <th>Precios Nike</th>\n",
       "      <th>Unnamed: 8</th>\n",
       "      <th>Fecha.3</th>\n",
       "      <th>Precios Starbucks</th>\n",
       "      <th>Unnamed: 11</th>\n",
       "      <th>Fecha.4</th>\n",
       "      <th>Precios Tesla</th>\n",
       "    </tr>\n",
       "  </thead>\n",
       "  <tbody>\n",
       "    <tr>\n",
       "      <th>0</th>\n",
       "      <td>01 de enero de 2021</td>\n",
       "      <td>131.96</td>\n",
       "      <td>NaN</td>\n",
       "      <td>01 de enero de 2021</td>\n",
       "      <td>231.96</td>\n",
       "      <td>NaN</td>\n",
       "      <td>01 de enero de 2021</td>\n",
       "      <td>133.59</td>\n",
       "      <td>NaN</td>\n",
       "      <td>01 de enero de 2021</td>\n",
       "      <td>96.81</td>\n",
       "      <td>NaN</td>\n",
       "      <td>01 de enero de 2021</td>\n",
       "      <td>264.51</td>\n",
       "    </tr>\n",
       "    <tr>\n",
       "      <th>1</th>\n",
       "      <td>01 de febrero de 2021</td>\n",
       "      <td>121.26</td>\n",
       "      <td>NaN</td>\n",
       "      <td>01 de febrero de 2021</td>\n",
       "      <td>232.38</td>\n",
       "      <td>NaN</td>\n",
       "      <td>01 de febrero de 2021</td>\n",
       "      <td>134.78</td>\n",
       "      <td>NaN</td>\n",
       "      <td>01 de febrero de 2021</td>\n",
       "      <td>108.03</td>\n",
       "      <td>NaN</td>\n",
       "      <td>01 de febrero de 2021</td>\n",
       "      <td>225.17</td>\n",
       "    </tr>\n",
       "    <tr>\n",
       "      <th>2</th>\n",
       "      <td>01 de marzo de 2021</td>\n",
       "      <td>122.15</td>\n",
       "      <td>NaN</td>\n",
       "      <td>01 de marzo de 2021</td>\n",
       "      <td>235.77</td>\n",
       "      <td>NaN</td>\n",
       "      <td>01 de marzo de 2021</td>\n",
       "      <td>132.89</td>\n",
       "      <td>NaN</td>\n",
       "      <td>01 de marzo de 2021</td>\n",
       "      <td>109.27</td>\n",
       "      <td>NaN</td>\n",
       "      <td>01 de marzo de 2021</td>\n",
       "      <td>222.64</td>\n",
       "    </tr>\n",
       "    <tr>\n",
       "      <th>3</th>\n",
       "      <td>01 de abril de 2021</td>\n",
       "      <td>131.46</td>\n",
       "      <td>NaN</td>\n",
       "      <td>01 de abril de 2021</td>\n",
       "      <td>252.18</td>\n",
       "      <td>NaN</td>\n",
       "      <td>01 de abril de 2021</td>\n",
       "      <td>132.62</td>\n",
       "      <td>NaN</td>\n",
       "      <td>01 de abril de 2021</td>\n",
       "      <td>114.49</td>\n",
       "      <td>NaN</td>\n",
       "      <td>01 de abril de 2021</td>\n",
       "      <td>236.48</td>\n",
       "    </tr>\n",
       "    <tr>\n",
       "      <th>4</th>\n",
       "      <td>01 de mayo de 2021</td>\n",
       "      <td>124.61</td>\n",
       "      <td>NaN</td>\n",
       "      <td>01 de mayo de 2021</td>\n",
       "      <td>249.68</td>\n",
       "      <td>NaN</td>\n",
       "      <td>01 de mayo de 2021</td>\n",
       "      <td>136.46</td>\n",
       "      <td>NaN</td>\n",
       "      <td>01 de mayo de 2021</td>\n",
       "      <td>113.88</td>\n",
       "      <td>NaN</td>\n",
       "      <td>01 de mayo de 2021</td>\n",
       "      <td>208.41</td>\n",
       "    </tr>\n",
       "    <tr>\n",
       "      <th>5</th>\n",
       "      <td>01 de junio de 2021</td>\n",
       "      <td>136.96</td>\n",
       "      <td>NaN</td>\n",
       "      <td>01 de junio de 2021</td>\n",
       "      <td>270.90</td>\n",
       "      <td>NaN</td>\n",
       "      <td>01 de junio de 2021</td>\n",
       "      <td>154.49</td>\n",
       "      <td>NaN</td>\n",
       "      <td>01 de junio de 2021</td>\n",
       "      <td>111.81</td>\n",
       "      <td>NaN</td>\n",
       "      <td>01 de junio de 2021</td>\n",
       "      <td>226.57</td>\n",
       "    </tr>\n",
       "    <tr>\n",
       "      <th>6</th>\n",
       "      <td>01 de julio de 2021</td>\n",
       "      <td>145.86</td>\n",
       "      <td>NaN</td>\n",
       "      <td>01 de julio de 2021</td>\n",
       "      <td>284.91</td>\n",
       "      <td>NaN</td>\n",
       "      <td>01 de julio de 2021</td>\n",
       "      <td>167.51</td>\n",
       "      <td>NaN</td>\n",
       "      <td>01 de julio de 2021</td>\n",
       "      <td>121.43</td>\n",
       "      <td>NaN</td>\n",
       "      <td>01 de julio de 2021</td>\n",
       "      <td>229.07</td>\n",
       "    </tr>\n",
       "    <tr>\n",
       "      <th>7</th>\n",
       "      <td>01 de agosto de 2021</td>\n",
       "      <td>151.83</td>\n",
       "      <td>NaN</td>\n",
       "      <td>01 de agosto de 2021</td>\n",
       "      <td>301.88</td>\n",
       "      <td>NaN</td>\n",
       "      <td>01 de agosto de 2021</td>\n",
       "      <td>164.74</td>\n",
       "      <td>NaN</td>\n",
       "      <td>01 de agosto de 2021</td>\n",
       "      <td>117.49</td>\n",
       "      <td>NaN</td>\n",
       "      <td>01 de agosto de 2021</td>\n",
       "      <td>245.24</td>\n",
       "    </tr>\n",
       "    <tr>\n",
       "      <th>8</th>\n",
       "      <td>01 de septiembre de 2021</td>\n",
       "      <td>141.50</td>\n",
       "      <td>NaN</td>\n",
       "      <td>01 de septiembre de 2021</td>\n",
       "      <td>281.92</td>\n",
       "      <td>NaN</td>\n",
       "      <td>01 de septiembre de 2021</td>\n",
       "      <td>145.23</td>\n",
       "      <td>NaN</td>\n",
       "      <td>01 de septiembre de 2021</td>\n",
       "      <td>110.31</td>\n",
       "      <td>NaN</td>\n",
       "      <td>01 de septiembre de 2021</td>\n",
       "      <td>258.49</td>\n",
       "    </tr>\n",
       "    <tr>\n",
       "      <th>9</th>\n",
       "      <td>01 de octubre de 2021</td>\n",
       "      <td>149.80</td>\n",
       "      <td>NaN</td>\n",
       "      <td>01 de octubre de 2021</td>\n",
       "      <td>331.62</td>\n",
       "      <td>NaN</td>\n",
       "      <td>01 de octubre de 2021</td>\n",
       "      <td>167.29</td>\n",
       "      <td>NaN</td>\n",
       "      <td>01 de octubre de 2021</td>\n",
       "      <td>106.07</td>\n",
       "      <td>NaN</td>\n",
       "      <td>01 de octubre de 2021</td>\n",
       "      <td>371.33</td>\n",
       "    </tr>\n",
       "    <tr>\n",
       "      <th>10</th>\n",
       "      <td>01 de noviembre de 2021</td>\n",
       "      <td>165.30</td>\n",
       "      <td>NaN</td>\n",
       "      <td>01 de noviembre de 2021</td>\n",
       "      <td>330.59</td>\n",
       "      <td>NaN</td>\n",
       "      <td>01 de noviembre de 2021</td>\n",
       "      <td>169.24</td>\n",
       "      <td>NaN</td>\n",
       "      <td>01 de noviembre de 2021</td>\n",
       "      <td>109.64</td>\n",
       "      <td>NaN</td>\n",
       "      <td>01 de noviembre de 2021</td>\n",
       "      <td>381.59</td>\n",
       "    </tr>\n",
       "    <tr>\n",
       "      <th>11</th>\n",
       "      <td>01 de diciembre 2021</td>\n",
       "      <td>177.57</td>\n",
       "      <td>NaN</td>\n",
       "      <td>01 de diciembre 2021</td>\n",
       "      <td>336.32</td>\n",
       "      <td>NaN</td>\n",
       "      <td>01 de diciembre 2021</td>\n",
       "      <td>166.67</td>\n",
       "      <td>NaN</td>\n",
       "      <td>01 de diciembre 2021</td>\n",
       "      <td>116.97</td>\n",
       "      <td>NaN</td>\n",
       "      <td>01 de diciembre 2021</td>\n",
       "      <td>352.26</td>\n",
       "    </tr>\n",
       "    <tr>\n",
       "      <th>12</th>\n",
       "      <td>01 de enero de 2022</td>\n",
       "      <td>174.78</td>\n",
       "      <td>NaN</td>\n",
       "      <td>01 de enero de 2022</td>\n",
       "      <td>310.98</td>\n",
       "      <td>NaN</td>\n",
       "      <td>01 de enero de 2022</td>\n",
       "      <td>148.07</td>\n",
       "      <td>NaN</td>\n",
       "      <td>01 de enero de 2022</td>\n",
       "      <td>98.32</td>\n",
       "      <td>NaN</td>\n",
       "      <td>01 de enero de 2022</td>\n",
       "      <td>312.24</td>\n",
       "    </tr>\n",
       "    <tr>\n",
       "      <th>13</th>\n",
       "      <td>01 de febrero de 2022</td>\n",
       "      <td>165.12</td>\n",
       "      <td>NaN</td>\n",
       "      <td>01 de febrero de 2022</td>\n",
       "      <td>298.79</td>\n",
       "      <td>NaN</td>\n",
       "      <td>01 de febrero de 2022</td>\n",
       "      <td>136.55</td>\n",
       "      <td>NaN</td>\n",
       "      <td>01 de febrero de 2022</td>\n",
       "      <td>91.79</td>\n",
       "      <td>NaN</td>\n",
       "      <td>01 de febrero de 2022</td>\n",
       "      <td>290.14</td>\n",
       "    </tr>\n",
       "    <tr>\n",
       "      <th>14</th>\n",
       "      <td>01 de marzo de 2022</td>\n",
       "      <td>174.61</td>\n",
       "      <td>NaN</td>\n",
       "      <td>01 de marzo de 2022</td>\n",
       "      <td>308.31</td>\n",
       "      <td>NaN</td>\n",
       "      <td>01 de marzo de 2022</td>\n",
       "      <td>134.56</td>\n",
       "      <td>NaN</td>\n",
       "      <td>01 de marzo de 2022</td>\n",
       "      <td>90.97</td>\n",
       "      <td>NaN</td>\n",
       "      <td>01 de marzo de 2022</td>\n",
       "      <td>359.20</td>\n",
       "    </tr>\n",
       "    <tr>\n",
       "      <th>15</th>\n",
       "      <td>01 de abril de 2022</td>\n",
       "      <td>157.65</td>\n",
       "      <td>NaN</td>\n",
       "      <td>01 de abril de 2022</td>\n",
       "      <td>277.52</td>\n",
       "      <td>NaN</td>\n",
       "      <td>01 de abril de 2022</td>\n",
       "      <td>124.70</td>\n",
       "      <td>NaN</td>\n",
       "      <td>01 de abril de 2022</td>\n",
       "      <td>74.64</td>\n",
       "      <td>NaN</td>\n",
       "      <td>01 de abril de 2022</td>\n",
       "      <td>290.25</td>\n",
       "    </tr>\n",
       "    <tr>\n",
       "      <th>16</th>\n",
       "      <td>01 de mayo de 2022</td>\n",
       "      <td>148.84</td>\n",
       "      <td>NaN</td>\n",
       "      <td>01 de mayo de 2022</td>\n",
       "      <td>271.87</td>\n",
       "      <td>NaN</td>\n",
       "      <td>01 de mayo de 2022</td>\n",
       "      <td>118.85</td>\n",
       "      <td>NaN</td>\n",
       "      <td>01 de mayo de 2022</td>\n",
       "      <td>78.50</td>\n",
       "      <td>NaN</td>\n",
       "      <td>01 de mayo de 2022</td>\n",
       "      <td>252.75</td>\n",
       "    </tr>\n",
       "    <tr>\n",
       "      <th>17</th>\n",
       "      <td>01 de junio de 2022</td>\n",
       "      <td>136.72</td>\n",
       "      <td>NaN</td>\n",
       "      <td>01 de junio de 2022</td>\n",
       "      <td>256.83</td>\n",
       "      <td>NaN</td>\n",
       "      <td>01 de junio de 2022</td>\n",
       "      <td>102.20</td>\n",
       "      <td>NaN</td>\n",
       "      <td>01 de junio de 2022</td>\n",
       "      <td>76.39</td>\n",
       "      <td>NaN</td>\n",
       "      <td>01 de junio de 2022</td>\n",
       "      <td>224.47</td>\n",
       "    </tr>\n",
       "    <tr>\n",
       "      <th>18</th>\n",
       "      <td>01 de julio de 2022</td>\n",
       "      <td>162.51</td>\n",
       "      <td>NaN</td>\n",
       "      <td>01 de julio de 2022</td>\n",
       "      <td>280.56</td>\n",
       "      <td>NaN</td>\n",
       "      <td>01 de julio de 2022</td>\n",
       "      <td>114.92</td>\n",
       "      <td>NaN</td>\n",
       "      <td>01 de julio de 2022</td>\n",
       "      <td>84.78</td>\n",
       "      <td>NaN</td>\n",
       "      <td>01 de julio de 2022</td>\n",
       "      <td>297.15</td>\n",
       "    </tr>\n",
       "    <tr>\n",
       "      <th>19</th>\n",
       "      <td>01 de agosto de 2022</td>\n",
       "      <td>157.22</td>\n",
       "      <td>NaN</td>\n",
       "      <td>01 de agosto de 2022</td>\n",
       "      <td>261.47</td>\n",
       "      <td>NaN</td>\n",
       "      <td>01 de agosto de 2022</td>\n",
       "      <td>106.45</td>\n",
       "      <td>NaN</td>\n",
       "      <td>01 de agosto de 2022</td>\n",
       "      <td>84.07</td>\n",
       "      <td>NaN</td>\n",
       "      <td>01 de agosto de 2022</td>\n",
       "      <td>275.61</td>\n",
       "    </tr>\n",
       "    <tr>\n",
       "      <th>20</th>\n",
       "      <td>01 de septiembre de 2022</td>\n",
       "      <td>156.91</td>\n",
       "      <td>NaN</td>\n",
       "      <td>01 de septiembre de 2022</td>\n",
       "      <td>237.92</td>\n",
       "      <td>NaN</td>\n",
       "      <td>01 de septiembre de 2022</td>\n",
       "      <td>97.02</td>\n",
       "      <td>NaN</td>\n",
       "      <td>01 de septiembre de 2022</td>\n",
       "      <td>84.17</td>\n",
       "      <td>NaN</td>\n",
       "      <td>01 de septiembre de 2022</td>\n",
       "      <td>282.80</td>\n",
       "    </tr>\n",
       "  </tbody>\n",
       "</table>\n",
       "</div>"
      ],
      "text/plain": [
       "                       Fecha  Precios Apple  Unnamed: 2  \\\n",
       "0        01 de enero de 2021         131.96         NaN   \n",
       "1      01 de febrero de 2021         121.26         NaN   \n",
       "2        01 de marzo de 2021         122.15         NaN   \n",
       "3        01 de abril de 2021         131.46         NaN   \n",
       "4         01 de mayo de 2021         124.61         NaN   \n",
       "5        01 de junio de 2021         136.96         NaN   \n",
       "6        01 de julio de 2021         145.86         NaN   \n",
       "7       01 de agosto de 2021         151.83         NaN   \n",
       "8   01 de septiembre de 2021         141.50         NaN   \n",
       "9      01 de octubre de 2021         149.80         NaN   \n",
       "10   01 de noviembre de 2021         165.30         NaN   \n",
       "11      01 de diciembre 2021         177.57         NaN   \n",
       "12       01 de enero de 2022         174.78         NaN   \n",
       "13     01 de febrero de 2022         165.12         NaN   \n",
       "14       01 de marzo de 2022         174.61         NaN   \n",
       "15       01 de abril de 2022         157.65         NaN   \n",
       "16        01 de mayo de 2022         148.84         NaN   \n",
       "17       01 de junio de 2022         136.72         NaN   \n",
       "18       01 de julio de 2022         162.51         NaN   \n",
       "19      01 de agosto de 2022         157.22         NaN   \n",
       "20  01 de septiembre de 2022         156.91         NaN   \n",
       "\n",
       "                     Fecha.1  Precios Microsoft  Unnamed: 5  \\\n",
       "0        01 de enero de 2021             231.96         NaN   \n",
       "1      01 de febrero de 2021             232.38         NaN   \n",
       "2        01 de marzo de 2021             235.77         NaN   \n",
       "3        01 de abril de 2021             252.18         NaN   \n",
       "4         01 de mayo de 2021             249.68         NaN   \n",
       "5        01 de junio de 2021             270.90         NaN   \n",
       "6        01 de julio de 2021             284.91         NaN   \n",
       "7       01 de agosto de 2021             301.88         NaN   \n",
       "8   01 de septiembre de 2021             281.92         NaN   \n",
       "9      01 de octubre de 2021             331.62         NaN   \n",
       "10   01 de noviembre de 2021             330.59         NaN   \n",
       "11      01 de diciembre 2021             336.32         NaN   \n",
       "12       01 de enero de 2022             310.98         NaN   \n",
       "13     01 de febrero de 2022             298.79         NaN   \n",
       "14       01 de marzo de 2022             308.31         NaN   \n",
       "15       01 de abril de 2022             277.52         NaN   \n",
       "16        01 de mayo de 2022             271.87         NaN   \n",
       "17       01 de junio de 2022             256.83         NaN   \n",
       "18       01 de julio de 2022             280.56         NaN   \n",
       "19      01 de agosto de 2022             261.47         NaN   \n",
       "20  01 de septiembre de 2022             237.92         NaN   \n",
       "\n",
       "                     Fecha.2  Precios Nike  Unnamed: 8  \\\n",
       "0        01 de enero de 2021        133.59         NaN   \n",
       "1      01 de febrero de 2021        134.78         NaN   \n",
       "2        01 de marzo de 2021        132.89         NaN   \n",
       "3        01 de abril de 2021        132.62         NaN   \n",
       "4         01 de mayo de 2021        136.46         NaN   \n",
       "5        01 de junio de 2021        154.49         NaN   \n",
       "6        01 de julio de 2021        167.51         NaN   \n",
       "7       01 de agosto de 2021        164.74         NaN   \n",
       "8   01 de septiembre de 2021        145.23         NaN   \n",
       "9      01 de octubre de 2021        167.29         NaN   \n",
       "10   01 de noviembre de 2021        169.24         NaN   \n",
       "11      01 de diciembre 2021        166.67         NaN   \n",
       "12       01 de enero de 2022        148.07         NaN   \n",
       "13     01 de febrero de 2022        136.55         NaN   \n",
       "14       01 de marzo de 2022        134.56         NaN   \n",
       "15       01 de abril de 2022        124.70         NaN   \n",
       "16        01 de mayo de 2022        118.85         NaN   \n",
       "17       01 de junio de 2022        102.20         NaN   \n",
       "18       01 de julio de 2022        114.92         NaN   \n",
       "19      01 de agosto de 2022        106.45         NaN   \n",
       "20  01 de septiembre de 2022         97.02         NaN   \n",
       "\n",
       "                     Fecha.3  Precios Starbucks  Unnamed: 11  \\\n",
       "0        01 de enero de 2021              96.81          NaN   \n",
       "1      01 de febrero de 2021             108.03          NaN   \n",
       "2        01 de marzo de 2021             109.27          NaN   \n",
       "3        01 de abril de 2021             114.49          NaN   \n",
       "4         01 de mayo de 2021             113.88          NaN   \n",
       "5        01 de junio de 2021             111.81          NaN   \n",
       "6        01 de julio de 2021             121.43          NaN   \n",
       "7       01 de agosto de 2021             117.49          NaN   \n",
       "8   01 de septiembre de 2021             110.31          NaN   \n",
       "9      01 de octubre de 2021             106.07          NaN   \n",
       "10   01 de noviembre de 2021             109.64          NaN   \n",
       "11      01 de diciembre 2021             116.97          NaN   \n",
       "12       01 de enero de 2022              98.32          NaN   \n",
       "13     01 de febrero de 2022              91.79          NaN   \n",
       "14       01 de marzo de 2022              90.97          NaN   \n",
       "15       01 de abril de 2022              74.64          NaN   \n",
       "16        01 de mayo de 2022              78.50          NaN   \n",
       "17       01 de junio de 2022              76.39          NaN   \n",
       "18       01 de julio de 2022              84.78          NaN   \n",
       "19      01 de agosto de 2022              84.07          NaN   \n",
       "20  01 de septiembre de 2022              84.17          NaN   \n",
       "\n",
       "                     Fecha.4  Precios Tesla  \n",
       "0        01 de enero de 2021         264.51  \n",
       "1      01 de febrero de 2021         225.17  \n",
       "2        01 de marzo de 2021         222.64  \n",
       "3        01 de abril de 2021         236.48  \n",
       "4         01 de mayo de 2021         208.41  \n",
       "5        01 de junio de 2021         226.57  \n",
       "6        01 de julio de 2021         229.07  \n",
       "7       01 de agosto de 2021         245.24  \n",
       "8   01 de septiembre de 2021         258.49  \n",
       "9      01 de octubre de 2021         371.33  \n",
       "10   01 de noviembre de 2021         381.59  \n",
       "11      01 de diciembre 2021         352.26  \n",
       "12       01 de enero de 2022         312.24  \n",
       "13     01 de febrero de 2022         290.14  \n",
       "14       01 de marzo de 2022         359.20  \n",
       "15       01 de abril de 2022         290.25  \n",
       "16        01 de mayo de 2022         252.75  \n",
       "17       01 de junio de 2022         224.47  \n",
       "18       01 de julio de 2022         297.15  \n",
       "19      01 de agosto de 2022         275.61  \n",
       "20  01 de septiembre de 2022         282.80  "
      ]
     },
     "execution_count": 79,
     "metadata": {},
     "output_type": "execute_result"
    }
   ],
   "source": [
    "data4 = pd.read_excel('PreciosProyecto1.xlsx')\n",
    "data4"
   ]
  },
  {
   "cell_type": "code",
   "execution_count": 80,
   "id": "127d3ace",
   "metadata": {},
   "outputs": [
    {
     "data": {
      "text/plain": [
       "0      96.81\n",
       "1     108.03\n",
       "2     109.27\n",
       "3     114.49\n",
       "4     113.88\n",
       "5     111.81\n",
       "6     121.43\n",
       "7     117.49\n",
       "8     110.31\n",
       "9     106.07\n",
       "10    109.64\n",
       "11    116.97\n",
       "12     98.32\n",
       "13     91.79\n",
       "14     90.97\n",
       "15     74.64\n",
       "16     78.50\n",
       "17     76.39\n",
       "18     84.78\n",
       "19     84.07\n",
       "20     84.17\n",
       "Name: Precios Starbucks, dtype: float64"
      ]
     },
     "execution_count": 80,
     "metadata": {},
     "output_type": "execute_result"
    }
   ],
   "source": [
    "dataSBUX = data4['Precios Starbucks']\n",
    "dataSBUX"
   ]
  },
  {
   "cell_type": "code",
   "execution_count": 81,
   "id": "90964552",
   "metadata": {},
   "outputs": [
    {
     "data": {
      "text/plain": [
       "array([[ 96.81, 108.03, 109.27, 114.49, 113.88, 111.81, 121.43, 117.49,\n",
       "        110.31, 106.07, 109.64, 116.97,  98.32,  91.79,  90.97,  74.64,\n",
       "         78.5 ,  76.39,  84.78,  84.07,  84.17]])"
      ]
     },
     "execution_count": 81,
     "metadata": {},
     "output_type": "execute_result"
    }
   ],
   "source": [
    "dataStarbucks = np.array([dataSBUX])\n",
    "dataStarbucks"
   ]
  },
  {
   "cell_type": "markdown",
   "id": "182e3329",
   "metadata": {},
   "source": [
    "- Graficamos los precios de la acción de Starbucks"
   ]
  },
  {
   "cell_type": "code",
   "execution_count": 82,
   "id": "9c1b2710",
   "metadata": {},
   "outputs": [
    {
     "data": {
      "image/png": "[encoded data removed]",
      "text/plain": [
       "<Figure size 432x288 with 1 Axes>"
      ]
     },
     "metadata": {
      "needs_background": "light"
     },
     "output_type": "display_data"
    }
   ],
   "source": [
    "m = len(dataSBUX)\n",
    "x = np.linspace(0, 20, m)\n",
    "y = dataStarbucks\n",
    "\n",
    "%matplotlib inline\n",
    "plt.figure()\n",
    "plt.scatter(x, y, s = 100)\n",
    "plt.grid()"
   ]
  },
  {
   "cell_type": "markdown",
   "id": "7a45353f",
   "metadata": {},
   "source": [
    "- La acción de Starbucks presenta mucha volatilidad"
   ]
  },
  {
   "cell_type": "markdown",
   "id": "a2fda93d",
   "metadata": {},
   "source": [
    "**Modelo con polinomio de grado 4**"
   ]
  },
  {
   "cell_type": "code",
   "execution_count": 83,
   "id": "035887da",
   "metadata": {},
   "outputs": [],
   "source": [
    "# Definimos la función de precios\n",
    "\n",
    "def funcion_preciosS(beta, X, y) :\n",
    "    beta = np.reshape(beta, [5, -1])\n",
    "    pred = X @ beta\n",
    "    return ((y-pred).T @ (y-pred))[0][0]"
   ]
  },
  {
   "cell_type": "code",
   "execution_count": 84,
   "id": "cc8fda65",
   "metadata": {},
   "outputs": [
    {
     "data": {
      "text/plain": [
       "array([[1.00000e+00, 0.00000e+00, 0.00000e+00, 0.00000e+00, 0.00000e+00],\n",
       "       [1.00000e+00, 1.00000e+00, 1.00000e+00, 1.00000e+00, 1.00000e+00],\n",
       "       [1.00000e+00, 2.00000e+00, 4.00000e+00, 8.00000e+00, 1.60000e+01],\n",
       "       [1.00000e+00, 3.00000e+00, 9.00000e+00, 2.70000e+01, 8.10000e+01],\n",
       "       [1.00000e+00, 4.00000e+00, 1.60000e+01, 6.40000e+01, 2.56000e+02],\n",
       "       [1.00000e+00, 5.00000e+00, 2.50000e+01, 1.25000e+02, 6.25000e+02],\n",
       "       [1.00000e+00, 6.00000e+00, 3.60000e+01, 2.16000e+02, 1.29600e+03],\n",
       "       [1.00000e+00, 7.00000e+00, 4.90000e+01, 3.43000e+02, 2.40100e+03],\n",
       "       [1.00000e+00, 8.00000e+00, 6.40000e+01, 5.12000e+02, 4.09600e+03],\n",
       "       [1.00000e+00, 9.00000e+00, 8.10000e+01, 7.29000e+02, 6.56100e+03],\n",
       "       [1.00000e+00, 1.00000e+01, 1.00000e+02, 1.00000e+03, 1.00000e+04],\n",
       "       [1.00000e+00, 1.10000e+01, 1.21000e+02, 1.33100e+03, 1.46410e+04],\n",
       "       [1.00000e+00, 1.20000e+01, 1.44000e+02, 1.72800e+03, 2.07360e+04],\n",
       "       [1.00000e+00, 1.30000e+01, 1.69000e+02, 2.19700e+03, 2.85610e+04],\n",
       "       [1.00000e+00, 1.40000e+01, 1.96000e+02, 2.74400e+03, 3.84160e+04],\n",
       "       [1.00000e+00, 1.50000e+01, 2.25000e+02, 3.37500e+03, 5.06250e+04],\n",
       "       [1.00000e+00, 1.60000e+01, 2.56000e+02, 4.09600e+03, 6.55360e+04],\n",
       "       [1.00000e+00, 1.70000e+01, 2.89000e+02, 4.91300e+03, 8.35210e+04],\n",
       "       [1.00000e+00, 1.80000e+01, 3.24000e+02, 5.83200e+03, 1.04976e+05],\n",
       "       [1.00000e+00, 1.90000e+01, 3.61000e+02, 6.85900e+03, 1.30321e+05],\n",
       "       [1.00000e+00, 2.00000e+01, 4.00000e+02, 8.00000e+03, 1.60000e+05]])"
      ]
     },
     "execution_count": 84,
     "metadata": {},
     "output_type": "execute_result"
    }
   ],
   "source": [
    "# Creamos la matriz X\n",
    "\n",
    "ones = np.ones([m, 1])\n",
    "x1 = np.reshape(x, [m, -1])\n",
    "x2 = np.reshape(x**2, [m, -1])\n",
    "x3 = np.reshape(x**3, [m, -1])\n",
    "x4 = np.reshape(x**4, [m, -1])\n",
    "X = np.hstack((ones, x1, x2, x3, x4))\n",
    "X"
   ]
  },
  {
   "cell_type": "code",
   "execution_count": 85,
   "id": "5b1314c3",
   "metadata": {},
   "outputs": [
    {
     "data": {
      "text/plain": [
       "73868553849.92358"
      ]
     },
     "execution_count": 85,
     "metadata": {},
     "output_type": "execute_result"
    }
   ],
   "source": [
    "beta_inicial = np.random.rand(5)\n",
    "y = np.reshape(y, [m, -1])\n",
    "funcion_preciosS(beta_inicial, X, y)"
   ]
  },
  {
   "cell_type": "code",
   "execution_count": 86,
   "id": "caa2ff25",
   "metadata": {},
   "outputs": [
    {
     "data": {
      "text/plain": [
       "      fun: 463.77243632964735\n",
       " hess_inv: array([[ 3.54666343e-01, -2.03550049e-01,  3.44757677e-02,\n",
       "        -2.23492757e-03,  4.90062219e-05],\n",
       "       [-2.03550049e-01,  1.89036326e-01, -3.83574460e-02,\n",
       "         2.73778633e-03, -6.37507971e-05],\n",
       "       [ 3.44757677e-02, -3.83574460e-02,  8.43713584e-03,\n",
       "        -6.31904980e-04,  1.51972987e-05],\n",
       "       [-2.23492757e-03,  2.73778633e-03, -6.31904980e-04,\n",
       "         4.88311719e-05, -1.20084805e-06],\n",
       "       [ 4.90062219e-05, -6.37507971e-05,  1.51972987e-05,\n",
       "        -1.20084805e-06,  3.00245763e-08]])\n",
       "      jac: array([-2.23159790e-03, -1.44195557e-03,  3.15895081e-02,  5.43991089e-01,\n",
       "        9.89784622e+00])\n",
       "  message: 'Desired error not necessarily achieved due to precision loss.'\n",
       "     nfev: 240\n",
       "      nit: 10\n",
       "     njev: 38\n",
       "   status: 2\n",
       "  success: False\n",
       "        x: array([ 9.95472187e+01,  5.03777231e+00, -1.03139684e-01, -5.38191470e-02,\n",
       "        2.24286237e-03])"
      ]
     },
     "execution_count": 86,
     "metadata": {},
     "output_type": "execute_result"
    }
   ],
   "source": [
    "sol = opt.minimize(funcion_preciosS, \n",
    "                   beta_inicial, \n",
    "                   args = (X, y))\n",
    "sol"
   ]
  },
  {
   "cell_type": "code",
   "execution_count": 87,
   "id": "d48c0e6b",
   "metadata": {},
   "outputs": [
    {
     "data": {
      "text/plain": [
       "array([ 99.54721869, 104.43027503, 108.81553719, 112.46083335,\n",
       "       115.17782035, 116.83198375, 117.34263782, 116.6829255 ,\n",
       "       114.87981844, 112.01411699, 108.22045019, 103.68727577,\n",
       "        98.65688018,  93.42537855,  88.3427147 ,  83.81266117,\n",
       "        80.29281918,  78.29461865,  78.3833182 ,  81.17800514,\n",
       "        87.35159549])"
      ]
     },
     "execution_count": 87,
     "metadata": {},
     "output_type": "execute_result"
    }
   ],
   "source": [
    "y_predS1 = X @ sol.x\n",
    "y_predS1"
   ]
  },
  {
   "cell_type": "markdown",
   "id": "e3b733e0",
   "metadata": {},
   "source": [
    "**Modelo con polinomio de grado 5**"
   ]
  },
  {
   "cell_type": "code",
   "execution_count": 88,
   "id": "425a1a97",
   "metadata": {},
   "outputs": [],
   "source": [
    "# Definimos la función de precios\n",
    "\n",
    "def funcion_preciosS(beta, X, y) :\n",
    "    beta = np.reshape(beta, [6, -1])\n",
    "    pred = X @ beta\n",
    "    return ((y-pred).T @ (y-pred))[0][0]"
   ]
  },
  {
   "cell_type": "code",
   "execution_count": 89,
   "id": "b8dd28f8",
   "metadata": {},
   "outputs": [
    {
     "data": {
      "text/plain": [
       "array([[1.000000e+00, 0.000000e+00, 0.000000e+00, 0.000000e+00,\n",
       "        0.000000e+00, 0.000000e+00],\n",
       "       [1.000000e+00, 1.000000e+00, 1.000000e+00, 1.000000e+00,\n",
       "        1.000000e+00, 1.000000e+00],\n",
       "       [1.000000e+00, 2.000000e+00, 4.000000e+00, 8.000000e+00,\n",
       "        1.600000e+01, 3.200000e+01],\n",
       "       [1.000000e+00, 3.000000e+00, 9.000000e+00, 2.700000e+01,\n",
       "        8.100000e+01, 2.430000e+02],\n",
       "       [1.000000e+00, 4.000000e+00, 1.600000e+01, 6.400000e+01,\n",
       "        2.560000e+02, 1.024000e+03],\n",
       "       [1.000000e+00, 5.000000e+00, 2.500000e+01, 1.250000e+02,\n",
       "        6.250000e+02, 3.125000e+03],\n",
       "       [1.000000e+00, 6.000000e+00, 3.600000e+01, 2.160000e+02,\n",
       "        1.296000e+03, 7.776000e+03],\n",
       "       [1.000000e+00, 7.000000e+00, 4.900000e+01, 3.430000e+02,\n",
       "        2.401000e+03, 1.680700e+04],\n",
       "       [1.000000e+00, 8.000000e+00, 6.400000e+01, 5.120000e+02,\n",
       "        4.096000e+03, 3.276800e+04],\n",
       "       [1.000000e+00, 9.000000e+00, 8.100000e+01, 7.290000e+02,\n",
       "        6.561000e+03, 5.904900e+04],\n",
       "       [1.000000e+00, 1.000000e+01, 1.000000e+02, 1.000000e+03,\n",
       "        1.000000e+04, 1.000000e+05],\n",
       "       [1.000000e+00, 1.100000e+01, 1.210000e+02, 1.331000e+03,\n",
       "        1.464100e+04, 1.610510e+05],\n",
       "       [1.000000e+00, 1.200000e+01, 1.440000e+02, 1.728000e+03,\n",
       "        2.073600e+04, 2.488320e+05],\n",
       "       [1.000000e+00, 1.300000e+01, 1.690000e+02, 2.197000e+03,\n",
       "        2.856100e+04, 3.712930e+05],\n",
       "       [1.000000e+00, 1.400000e+01, 1.960000e+02, 2.744000e+03,\n",
       "        3.841600e+04, 5.378240e+05],\n",
       "       [1.000000e+00, 1.500000e+01, 2.250000e+02, 3.375000e+03,\n",
       "        5.062500e+04, 7.593750e+05],\n",
       "       [1.000000e+00, 1.600000e+01, 2.560000e+02, 4.096000e+03,\n",
       "        6.553600e+04, 1.048576e+06],\n",
       "       [1.000000e+00, 1.700000e+01, 2.890000e+02, 4.913000e+03,\n",
       "        8.352100e+04, 1.419857e+06],\n",
       "       [1.000000e+00, 1.800000e+01, 3.240000e+02, 5.832000e+03,\n",
       "        1.049760e+05, 1.889568e+06],\n",
       "       [1.000000e+00, 1.900000e+01, 3.610000e+02, 6.859000e+03,\n",
       "        1.303210e+05, 2.476099e+06],\n",
       "       [1.000000e+00, 2.000000e+01, 4.000000e+02, 8.000000e+03,\n",
       "        1.600000e+05, 3.200000e+06]])"
      ]
     },
     "execution_count": 89,
     "metadata": {},
     "output_type": "execute_result"
    }
   ],
   "source": [
    "# Creamos la matriz X\n",
    "\n",
    "ones = np.ones([m, 1])\n",
    "x1 = np.reshape(x, [m, -1])\n",
    "x2 = np.reshape(x**2, [m, -1])\n",
    "x3 = np.reshape(x**3, [m, -1])\n",
    "x4 = np.reshape(x**4, [m, -1])\n",
    "x5 = np.reshape(x**5, [m, -1])\n",
    "X = np.hstack((ones, x1, x2, x3, x4, x5))\n",
    "X"
   ]
  },
  {
   "cell_type": "code",
   "execution_count": 90,
   "id": "fd8f4fb9",
   "metadata": {},
   "outputs": [
    {
     "data": {
      "text/plain": [
       "404969463077.28827"
      ]
     },
     "execution_count": 90,
     "metadata": {},
     "output_type": "execute_result"
    }
   ],
   "source": [
    "beta_inicial = np.random.rand(6)\n",
    "y = np.reshape(y, [m, -1])\n",
    "funcion_preciosS(beta_inicial, X, y)"
   ]
  },
  {
   "cell_type": "code",
   "execution_count": 91,
   "id": "22d1e3cc",
   "metadata": {},
   "outputs": [
    {
     "data": {
      "text/plain": [
       "      fun: 502.75318747621384\n",
       " hess_inv: array([[ 4.68849874e-01, -4.04016971e-01,  1.05595993e-01,\n",
       "        -1.16348843e-02,  5.69763777e-04, -1.02318274e-05],\n",
       "       [-4.04016971e-01,  5.75766196e-01, -1.80603023e-01,\n",
       "         2.19195978e-02, -1.14015914e-03,  2.13390153e-05],\n",
       "       [ 1.05595993e-01, -1.80603023e-01,  6.13146890e-02,\n",
       "        -7.80023704e-03,  4.18738504e-04, -8.01690862e-06],\n",
       "       [-1.16348843e-02,  2.19195978e-02, -7.80023704e-03,\n",
       "         1.02305604e-03, -5.61259557e-05,  1.09221989e-06],\n",
       "       [ 5.69763777e-04, -1.14015914e-03,  4.18738504e-04,\n",
       "        -5.61259557e-05,  3.12925306e-06, -6.16641752e-08],\n",
       "       [-1.02318274e-05,  2.13390153e-05, -8.01690862e-06,\n",
       "         1.09221989e-06, -6.16641752e-08,  1.22734457e-09]])\n",
       "      jac: array([1.36753082e+00, 7.49664688e+00, 2.56797562e+01, 3.30434631e+02,\n",
       "       6.13553529e+03, 1.14116727e+05])\n",
       "  message: 'Desired error not necessarily achieved due to precision loss.'\n",
       "     nfev: 404\n",
       "      nit: 7\n",
       "     njev: 56\n",
       "   status: 2\n",
       "  success: False\n",
       "        x: array([ 1.00745888e+02,  1.65832923e+00,  1.31086095e+00, -2.57753285e-01,\n",
       "        1.41703503e-02, -2.43169340e-04])"
      ]
     },
     "execution_count": 91,
     "metadata": {},
     "output_type": "execute_result"
    }
   ],
   "source": [
    "sol = opt.minimize(funcion_preciosS, \n",
    "                   beta_inicial, \n",
    "                   args = (X, y))\n",
    "sol"
   ]
  },
  {
   "cell_type": "code",
   "execution_count": 92,
   "id": "cecdd9d0",
   "metadata": {},
   "outputs": [
    {
     "data": {
      "text/plain": [
       "array([100.74588779, 103.47125186, 107.46290794, 111.64799354,\n",
       "       115.2353739 , 117.68646175, 118.68603692, 118.11306604,\n",
       "       116.01152222, 112.56120474, 108.04855873, 102.83749481,\n",
       "        97.34020882,  91.98800148,  87.20209804,  83.36446801,\n",
       "        80.78864482,  79.69054548,  80.15929027,  82.12802242,\n",
       "        85.34472783])"
      ]
     },
     "execution_count": 92,
     "metadata": {},
     "output_type": "execute_result"
    }
   ],
   "source": [
    "y_predS2 = X @ sol.x\n",
    "y_predS2"
   ]
  },
  {
   "cell_type": "markdown",
   "id": "640d06c7",
   "metadata": {},
   "source": [
    "**Solución y visualización del problema de optimización:**\n",
    "\n",
    "- Graficamos los modelos junto con los precios de la acción de Starbucks"
   ]
  },
  {
   "cell_type": "code",
   "execution_count": 93,
   "id": "52e4f5cd",
   "metadata": {},
   "outputs": [
    {
     "data": {
      "image/png": "[encoded data removed]",
      "text/plain": [
       "<Figure size 432x288 with 1 Axes>"
      ]
     },
     "metadata": {
      "needs_background": "light"
     },
     "output_type": "display_data"
    }
   ],
   "source": [
    "%matplotlib inline\n",
    "plt.figure()\n",
    "plt.scatter(x, y, s = 50)\n",
    "plt.plot(x, y_predS1, \"b\")\n",
    "plt.plot(x, y_predS2, \"r\")\n",
    "plt.grid()"
   ]
  },
  {
   "cell_type": "markdown",
   "id": "dd4c8588",
   "metadata": {},
   "source": [
    "## Análisis de resultados:\n",
    "\n",
    "- Ambos modelos parecen ajustarse en la misma magnitud a los precios de la acción de Starbucks. Siendo el modelo de grado 4 la curva azul `y_predS1` y el modelo de grado 5 la curva roja `y_predS2`. Por lo que ambos pueden ser modelos representativos y nos pueden ser útiles para la predicción de los precios de la empresa."
   ]
  },
  {
   "cell_type": "markdown",
   "id": "e49851af",
   "metadata": {},
   "source": [
    "---"
   ]
  },
  {
   "cell_type": "markdown",
   "id": "20df1b13",
   "metadata": {},
   "source": [
    "# Tesla Inc.\n",
    "\n",
    "Como ya observamos que los modelos con polinomios con grado 5 y 4 son más efectivos y útiles tanto con Apple, Microsoft, Nike y Starbucks. Vamos a proponer dos modelos de los mismos grados para los precios de la acción de Tesla, y predecir los precios de la accíon de Tesla para los siguientes 4 meses.\n",
    "\n",
    "Los datos de los precios de la accción de Tesla en los últimos meses se obtuvieron de *Investing.com* y se cotejaron con *Factset* para verificar los datos."
   ]
  },
  {
   "cell_type": "markdown",
   "id": "7e3b8dda",
   "metadata": {},
   "source": [
    "**Modelo que representa el problema:**\n",
    "\n",
    "Se va a realizar el ajuste de curvas.\n",
    "Necesitamos las librerías para poder trabajar con ajuste de curvas. Necesitaremos un archivo de excel donde están los precios de la acción de cada empresa y leeremos el archivo de excel utilizando `pandas`. Después vamos a usar `numpy` para ordenar los datos de los precios de las acciones como un arreglo numérico y de esta manera poder trabajar con los datos. Después utilizaremos funciones de python junto con operaciones de álgebra lineal para definir los modelos para realizar el ajuste de curvas. Y al final usaremos `scipy.optimize` para encontrar las betas o los pesos de cada modelo. Y por último usaremos la librería de `matplotlib` para graficar los resultados obtenidos"
   ]
  },
  {
   "cell_type": "code",
   "execution_count": 94,
   "id": "e4fd6393",
   "metadata": {},
   "outputs": [],
   "source": [
    "# Importamos las librerías para trabajar con ajuste de curvas\n",
    "\n",
    "import numpy as np\n",
    "import pandas as pd\n",
    "import scipy.optimize as opt\n",
    "import matplotlib.pyplot as plt"
   ]
  },
  {
   "cell_type": "code",
   "execution_count": 95,
   "id": "3d01c840",
   "metadata": {},
   "outputs": [
    {
     "data": {
      "text/html": [
       "<div>\n",
       "<style scoped>\n",
       "    .dataframe tbody tr th:only-of-type {\n",
       "        vertical-align: middle;\n",
       "    }\n",
       "\n",
       "    .dataframe tbody tr th {\n",
       "        vertical-align: top;\n",
       "    }\n",
       "\n",
       "    .dataframe thead th {\n",
       "        text-align: right;\n",
       "    }\n",
       "</style>\n",
       "<table border=\"1\" class=\"dataframe\">\n",
       "  <thead>\n",
       "    <tr style=\"text-align: right;\">\n",
       "      <th></th>\n",
       "      <th>Fecha</th>\n",
       "      <th>Precios Apple</th>\n",
       "      <th>Unnamed: 2</th>\n",
       "      <th>Fecha.1</th>\n",
       "      <th>Precios Microsoft</th>\n",
       "      <th>Unnamed: 5</th>\n",
       "      <th>Fecha.2</th>\n",
       "      <th>Precios Nike</th>\n",
       "      <th>Unnamed: 8</th>\n",
       "      <th>Fecha.3</th>\n",
       "      <th>Precios Starbucks</th>\n",
       "      <th>Unnamed: 11</th>\n",
       "      <th>Fecha.4</th>\n",
       "      <th>Precios Tesla</th>\n",
       "    </tr>\n",
       "  </thead>\n",
       "  <tbody>\n",
       "    <tr>\n",
       "      <th>0</th>\n",
       "      <td>01 de enero de 2021</td>\n",
       "      <td>131.96</td>\n",
       "      <td>NaN</td>\n",
       "      <td>01 de enero de 2021</td>\n",
       "      <td>231.96</td>\n",
       "      <td>NaN</td>\n",
       "      <td>01 de enero de 2021</td>\n",
       "      <td>133.59</td>\n",
       "      <td>NaN</td>\n",
       "      <td>01 de enero de 2021</td>\n",
       "      <td>96.81</td>\n",
       "      <td>NaN</td>\n",
       "      <td>01 de enero de 2021</td>\n",
       "      <td>264.51</td>\n",
       "    </tr>\n",
       "    <tr>\n",
       "      <th>1</th>\n",
       "      <td>01 de febrero de 2021</td>\n",
       "      <td>121.26</td>\n",
       "      <td>NaN</td>\n",
       "      <td>01 de febrero de 2021</td>\n",
       "      <td>232.38</td>\n",
       "      <td>NaN</td>\n",
       "      <td>01 de febrero de 2021</td>\n",
       "      <td>134.78</td>\n",
       "      <td>NaN</td>\n",
       "      <td>01 de febrero de 2021</td>\n",
       "      <td>108.03</td>\n",
       "      <td>NaN</td>\n",
       "      <td>01 de febrero de 2021</td>\n",
       "      <td>225.17</td>\n",
       "    </tr>\n",
       "    <tr>\n",
       "      <th>2</th>\n",
       "      <td>01 de marzo de 2021</td>\n",
       "      <td>122.15</td>\n",
       "      <td>NaN</td>\n",
       "      <td>01 de marzo de 2021</td>\n",
       "      <td>235.77</td>\n",
       "      <td>NaN</td>\n",
       "      <td>01 de marzo de 2021</td>\n",
       "      <td>132.89</td>\n",
       "      <td>NaN</td>\n",
       "      <td>01 de marzo de 2021</td>\n",
       "      <td>109.27</td>\n",
       "      <td>NaN</td>\n",
       "      <td>01 de marzo de 2021</td>\n",
       "      <td>222.64</td>\n",
       "    </tr>\n",
       "    <tr>\n",
       "      <th>3</th>\n",
       "      <td>01 de abril de 2021</td>\n",
       "      <td>131.46</td>\n",
       "      <td>NaN</td>\n",
       "      <td>01 de abril de 2021</td>\n",
       "      <td>252.18</td>\n",
       "      <td>NaN</td>\n",
       "      <td>01 de abril de 2021</td>\n",
       "      <td>132.62</td>\n",
       "      <td>NaN</td>\n",
       "      <td>01 de abril de 2021</td>\n",
       "      <td>114.49</td>\n",
       "      <td>NaN</td>\n",
       "      <td>01 de abril de 2021</td>\n",
       "      <td>236.48</td>\n",
       "    </tr>\n",
       "    <tr>\n",
       "      <th>4</th>\n",
       "      <td>01 de mayo de 2021</td>\n",
       "      <td>124.61</td>\n",
       "      <td>NaN</td>\n",
       "      <td>01 de mayo de 2021</td>\n",
       "      <td>249.68</td>\n",
       "      <td>NaN</td>\n",
       "      <td>01 de mayo de 2021</td>\n",
       "      <td>136.46</td>\n",
       "      <td>NaN</td>\n",
       "      <td>01 de mayo de 2021</td>\n",
       "      <td>113.88</td>\n",
       "      <td>NaN</td>\n",
       "      <td>01 de mayo de 2021</td>\n",
       "      <td>208.41</td>\n",
       "    </tr>\n",
       "    <tr>\n",
       "      <th>5</th>\n",
       "      <td>01 de junio de 2021</td>\n",
       "      <td>136.96</td>\n",
       "      <td>NaN</td>\n",
       "      <td>01 de junio de 2021</td>\n",
       "      <td>270.90</td>\n",
       "      <td>NaN</td>\n",
       "      <td>01 de junio de 2021</td>\n",
       "      <td>154.49</td>\n",
       "      <td>NaN</td>\n",
       "      <td>01 de junio de 2021</td>\n",
       "      <td>111.81</td>\n",
       "      <td>NaN</td>\n",
       "      <td>01 de junio de 2021</td>\n",
       "      <td>226.57</td>\n",
       "    </tr>\n",
       "    <tr>\n",
       "      <th>6</th>\n",
       "      <td>01 de julio de 2021</td>\n",
       "      <td>145.86</td>\n",
       "      <td>NaN</td>\n",
       "      <td>01 de julio de 2021</td>\n",
       "      <td>284.91</td>\n",
       "      <td>NaN</td>\n",
       "      <td>01 de julio de 2021</td>\n",
       "      <td>167.51</td>\n",
       "      <td>NaN</td>\n",
       "      <td>01 de julio de 2021</td>\n",
       "      <td>121.43</td>\n",
       "      <td>NaN</td>\n",
       "      <td>01 de julio de 2021</td>\n",
       "      <td>229.07</td>\n",
       "    </tr>\n",
       "    <tr>\n",
       "      <th>7</th>\n",
       "      <td>01 de agosto de 2021</td>\n",
       "      <td>151.83</td>\n",
       "      <td>NaN</td>\n",
       "      <td>01 de agosto de 2021</td>\n",
       "      <td>301.88</td>\n",
       "      <td>NaN</td>\n",
       "      <td>01 de agosto de 2021</td>\n",
       "      <td>164.74</td>\n",
       "      <td>NaN</td>\n",
       "      <td>01 de agosto de 2021</td>\n",
       "      <td>117.49</td>\n",
       "      <td>NaN</td>\n",
       "      <td>01 de agosto de 2021</td>\n",
       "      <td>245.24</td>\n",
       "    </tr>\n",
       "    <tr>\n",
       "      <th>8</th>\n",
       "      <td>01 de septiembre de 2021</td>\n",
       "      <td>141.50</td>\n",
       "      <td>NaN</td>\n",
       "      <td>01 de septiembre de 2021</td>\n",
       "      <td>281.92</td>\n",
       "      <td>NaN</td>\n",
       "      <td>01 de septiembre de 2021</td>\n",
       "      <td>145.23</td>\n",
       "      <td>NaN</td>\n",
       "      <td>01 de septiembre de 2021</td>\n",
       "      <td>110.31</td>\n",
       "      <td>NaN</td>\n",
       "      <td>01 de septiembre de 2021</td>\n",
       "      <td>258.49</td>\n",
       "    </tr>\n",
       "    <tr>\n",
       "      <th>9</th>\n",
       "      <td>01 de octubre de 2021</td>\n",
       "      <td>149.80</td>\n",
       "      <td>NaN</td>\n",
       "      <td>01 de octubre de 2021</td>\n",
       "      <td>331.62</td>\n",
       "      <td>NaN</td>\n",
       "      <td>01 de octubre de 2021</td>\n",
       "      <td>167.29</td>\n",
       "      <td>NaN</td>\n",
       "      <td>01 de octubre de 2021</td>\n",
       "      <td>106.07</td>\n",
       "      <td>NaN</td>\n",
       "      <td>01 de octubre de 2021</td>\n",
       "      <td>371.33</td>\n",
       "    </tr>\n",
       "    <tr>\n",
       "      <th>10</th>\n",
       "      <td>01 de noviembre de 2021</td>\n",
       "      <td>165.30</td>\n",
       "      <td>NaN</td>\n",
       "      <td>01 de noviembre de 2021</td>\n",
       "      <td>330.59</td>\n",
       "      <td>NaN</td>\n",
       "      <td>01 de noviembre de 2021</td>\n",
       "      <td>169.24</td>\n",
       "      <td>NaN</td>\n",
       "      <td>01 de noviembre de 2021</td>\n",
       "      <td>109.64</td>\n",
       "      <td>NaN</td>\n",
       "      <td>01 de noviembre de 2021</td>\n",
       "      <td>381.59</td>\n",
       "    </tr>\n",
       "    <tr>\n",
       "      <th>11</th>\n",
       "      <td>01 de diciembre 2021</td>\n",
       "      <td>177.57</td>\n",
       "      <td>NaN</td>\n",
       "      <td>01 de diciembre 2021</td>\n",
       "      <td>336.32</td>\n",
       "      <td>NaN</td>\n",
       "      <td>01 de diciembre 2021</td>\n",
       "      <td>166.67</td>\n",
       "      <td>NaN</td>\n",
       "      <td>01 de diciembre 2021</td>\n",
       "      <td>116.97</td>\n",
       "      <td>NaN</td>\n",
       "      <td>01 de diciembre 2021</td>\n",
       "      <td>352.26</td>\n",
       "    </tr>\n",
       "    <tr>\n",
       "      <th>12</th>\n",
       "      <td>01 de enero de 2022</td>\n",
       "      <td>174.78</td>\n",
       "      <td>NaN</td>\n",
       "      <td>01 de enero de 2022</td>\n",
       "      <td>310.98</td>\n",
       "      <td>NaN</td>\n",
       "      <td>01 de enero de 2022</td>\n",
       "      <td>148.07</td>\n",
       "      <td>NaN</td>\n",
       "      <td>01 de enero de 2022</td>\n",
       "      <td>98.32</td>\n",
       "      <td>NaN</td>\n",
       "      <td>01 de enero de 2022</td>\n",
       "      <td>312.24</td>\n",
       "    </tr>\n",
       "    <tr>\n",
       "      <th>13</th>\n",
       "      <td>01 de febrero de 2022</td>\n",
       "      <td>165.12</td>\n",
       "      <td>NaN</td>\n",
       "      <td>01 de febrero de 2022</td>\n",
       "      <td>298.79</td>\n",
       "      <td>NaN</td>\n",
       "      <td>01 de febrero de 2022</td>\n",
       "      <td>136.55</td>\n",
       "      <td>NaN</td>\n",
       "      <td>01 de febrero de 2022</td>\n",
       "      <td>91.79</td>\n",
       "      <td>NaN</td>\n",
       "      <td>01 de febrero de 2022</td>\n",
       "      <td>290.14</td>\n",
       "    </tr>\n",
       "    <tr>\n",
       "      <th>14</th>\n",
       "      <td>01 de marzo de 2022</td>\n",
       "      <td>174.61</td>\n",
       "      <td>NaN</td>\n",
       "      <td>01 de marzo de 2022</td>\n",
       "      <td>308.31</td>\n",
       "      <td>NaN</td>\n",
       "      <td>01 de marzo de 2022</td>\n",
       "      <td>134.56</td>\n",
       "      <td>NaN</td>\n",
       "      <td>01 de marzo de 2022</td>\n",
       "      <td>90.97</td>\n",
       "      <td>NaN</td>\n",
       "      <td>01 de marzo de 2022</td>\n",
       "      <td>359.20</td>\n",
       "    </tr>\n",
       "    <tr>\n",
       "      <th>15</th>\n",
       "      <td>01 de abril de 2022</td>\n",
       "      <td>157.65</td>\n",
       "      <td>NaN</td>\n",
       "      <td>01 de abril de 2022</td>\n",
       "      <td>277.52</td>\n",
       "      <td>NaN</td>\n",
       "      <td>01 de abril de 2022</td>\n",
       "      <td>124.70</td>\n",
       "      <td>NaN</td>\n",
       "      <td>01 de abril de 2022</td>\n",
       "      <td>74.64</td>\n",
       "      <td>NaN</td>\n",
       "      <td>01 de abril de 2022</td>\n",
       "      <td>290.25</td>\n",
       "    </tr>\n",
       "    <tr>\n",
       "      <th>16</th>\n",
       "      <td>01 de mayo de 2022</td>\n",
       "      <td>148.84</td>\n",
       "      <td>NaN</td>\n",
       "      <td>01 de mayo de 2022</td>\n",
       "      <td>271.87</td>\n",
       "      <td>NaN</td>\n",
       "      <td>01 de mayo de 2022</td>\n",
       "      <td>118.85</td>\n",
       "      <td>NaN</td>\n",
       "      <td>01 de mayo de 2022</td>\n",
       "      <td>78.50</td>\n",
       "      <td>NaN</td>\n",
       "      <td>01 de mayo de 2022</td>\n",
       "      <td>252.75</td>\n",
       "    </tr>\n",
       "    <tr>\n",
       "      <th>17</th>\n",
       "      <td>01 de junio de 2022</td>\n",
       "      <td>136.72</td>\n",
       "      <td>NaN</td>\n",
       "      <td>01 de junio de 2022</td>\n",
       "      <td>256.83</td>\n",
       "      <td>NaN</td>\n",
       "      <td>01 de junio de 2022</td>\n",
       "      <td>102.20</td>\n",
       "      <td>NaN</td>\n",
       "      <td>01 de junio de 2022</td>\n",
       "      <td>76.39</td>\n",
       "      <td>NaN</td>\n",
       "      <td>01 de junio de 2022</td>\n",
       "      <td>224.47</td>\n",
       "    </tr>\n",
       "    <tr>\n",
       "      <th>18</th>\n",
       "      <td>01 de julio de 2022</td>\n",
       "      <td>162.51</td>\n",
       "      <td>NaN</td>\n",
       "      <td>01 de julio de 2022</td>\n",
       "      <td>280.56</td>\n",
       "      <td>NaN</td>\n",
       "      <td>01 de julio de 2022</td>\n",
       "      <td>114.92</td>\n",
       "      <td>NaN</td>\n",
       "      <td>01 de julio de 2022</td>\n",
       "      <td>84.78</td>\n",
       "      <td>NaN</td>\n",
       "      <td>01 de julio de 2022</td>\n",
       "      <td>297.15</td>\n",
       "    </tr>\n",
       "    <tr>\n",
       "      <th>19</th>\n",
       "      <td>01 de agosto de 2022</td>\n",
       "      <td>157.22</td>\n",
       "      <td>NaN</td>\n",
       "      <td>01 de agosto de 2022</td>\n",
       "      <td>261.47</td>\n",
       "      <td>NaN</td>\n",
       "      <td>01 de agosto de 2022</td>\n",
       "      <td>106.45</td>\n",
       "      <td>NaN</td>\n",
       "      <td>01 de agosto de 2022</td>\n",
       "      <td>84.07</td>\n",
       "      <td>NaN</td>\n",
       "      <td>01 de agosto de 2022</td>\n",
       "      <td>275.61</td>\n",
       "    </tr>\n",
       "    <tr>\n",
       "      <th>20</th>\n",
       "      <td>01 de septiembre de 2022</td>\n",
       "      <td>156.91</td>\n",
       "      <td>NaN</td>\n",
       "      <td>01 de septiembre de 2022</td>\n",
       "      <td>237.92</td>\n",
       "      <td>NaN</td>\n",
       "      <td>01 de septiembre de 2022</td>\n",
       "      <td>97.02</td>\n",
       "      <td>NaN</td>\n",
       "      <td>01 de septiembre de 2022</td>\n",
       "      <td>84.17</td>\n",
       "      <td>NaN</td>\n",
       "      <td>01 de septiembre de 2022</td>\n",
       "      <td>282.80</td>\n",
       "    </tr>\n",
       "  </tbody>\n",
       "</table>\n",
       "</div>"
      ],
      "text/plain": [
       "                       Fecha  Precios Apple  Unnamed: 2  \\\n",
       "0        01 de enero de 2021         131.96         NaN   \n",
       "1      01 de febrero de 2021         121.26         NaN   \n",
       "2        01 de marzo de 2021         122.15         NaN   \n",
       "3        01 de abril de 2021         131.46         NaN   \n",
       "4         01 de mayo de 2021         124.61         NaN   \n",
       "5        01 de junio de 2021         136.96         NaN   \n",
       "6        01 de julio de 2021         145.86         NaN   \n",
       "7       01 de agosto de 2021         151.83         NaN   \n",
       "8   01 de septiembre de 2021         141.50         NaN   \n",
       "9      01 de octubre de 2021         149.80         NaN   \n",
       "10   01 de noviembre de 2021         165.30         NaN   \n",
       "11      01 de diciembre 2021         177.57         NaN   \n",
       "12       01 de enero de 2022         174.78         NaN   \n",
       "13     01 de febrero de 2022         165.12         NaN   \n",
       "14       01 de marzo de 2022         174.61         NaN   \n",
       "15       01 de abril de 2022         157.65         NaN   \n",
       "16        01 de mayo de 2022         148.84         NaN   \n",
       "17       01 de junio de 2022         136.72         NaN   \n",
       "18       01 de julio de 2022         162.51         NaN   \n",
       "19      01 de agosto de 2022         157.22         NaN   \n",
       "20  01 de septiembre de 2022         156.91         NaN   \n",
       "\n",
       "                     Fecha.1  Precios Microsoft  Unnamed: 5  \\\n",
       "0        01 de enero de 2021             231.96         NaN   \n",
       "1      01 de febrero de 2021             232.38         NaN   \n",
       "2        01 de marzo de 2021             235.77         NaN   \n",
       "3        01 de abril de 2021             252.18         NaN   \n",
       "4         01 de mayo de 2021             249.68         NaN   \n",
       "5        01 de junio de 2021             270.90         NaN   \n",
       "6        01 de julio de 2021             284.91         NaN   \n",
       "7       01 de agosto de 2021             301.88         NaN   \n",
       "8   01 de septiembre de 2021             281.92         NaN   \n",
       "9      01 de octubre de 2021             331.62         NaN   \n",
       "10   01 de noviembre de 2021             330.59         NaN   \n",
       "11      01 de diciembre 2021             336.32         NaN   \n",
       "12       01 de enero de 2022             310.98         NaN   \n",
       "13     01 de febrero de 2022             298.79         NaN   \n",
       "14       01 de marzo de 2022             308.31         NaN   \n",
       "15       01 de abril de 2022             277.52         NaN   \n",
       "16        01 de mayo de 2022             271.87         NaN   \n",
       "17       01 de junio de 2022             256.83         NaN   \n",
       "18       01 de julio de 2022             280.56         NaN   \n",
       "19      01 de agosto de 2022             261.47         NaN   \n",
       "20  01 de septiembre de 2022             237.92         NaN   \n",
       "\n",
       "                     Fecha.2  Precios Nike  Unnamed: 8  \\\n",
       "0        01 de enero de 2021        133.59         NaN   \n",
       "1      01 de febrero de 2021        134.78         NaN   \n",
       "2        01 de marzo de 2021        132.89         NaN   \n",
       "3        01 de abril de 2021        132.62         NaN   \n",
       "4         01 de mayo de 2021        136.46         NaN   \n",
       "5        01 de junio de 2021        154.49         NaN   \n",
       "6        01 de julio de 2021        167.51         NaN   \n",
       "7       01 de agosto de 2021        164.74         NaN   \n",
       "8   01 de septiembre de 2021        145.23         NaN   \n",
       "9      01 de octubre de 2021        167.29         NaN   \n",
       "10   01 de noviembre de 2021        169.24         NaN   \n",
       "11      01 de diciembre 2021        166.67         NaN   \n",
       "12       01 de enero de 2022        148.07         NaN   \n",
       "13     01 de febrero de 2022        136.55         NaN   \n",
       "14       01 de marzo de 2022        134.56         NaN   \n",
       "15       01 de abril de 2022        124.70         NaN   \n",
       "16        01 de mayo de 2022        118.85         NaN   \n",
       "17       01 de junio de 2022        102.20         NaN   \n",
       "18       01 de julio de 2022        114.92         NaN   \n",
       "19      01 de agosto de 2022        106.45         NaN   \n",
       "20  01 de septiembre de 2022         97.02         NaN   \n",
       "\n",
       "                     Fecha.3  Precios Starbucks  Unnamed: 11  \\\n",
       "0        01 de enero de 2021              96.81          NaN   \n",
       "1      01 de febrero de 2021             108.03          NaN   \n",
       "2        01 de marzo de 2021             109.27          NaN   \n",
       "3        01 de abril de 2021             114.49          NaN   \n",
       "4         01 de mayo de 2021             113.88          NaN   \n",
       "5        01 de junio de 2021             111.81          NaN   \n",
       "6        01 de julio de 2021             121.43          NaN   \n",
       "7       01 de agosto de 2021             117.49          NaN   \n",
       "8   01 de septiembre de 2021             110.31          NaN   \n",
       "9      01 de octubre de 2021             106.07          NaN   \n",
       "10   01 de noviembre de 2021             109.64          NaN   \n",
       "11      01 de diciembre 2021             116.97          NaN   \n",
       "12       01 de enero de 2022              98.32          NaN   \n",
       "13     01 de febrero de 2022              91.79          NaN   \n",
       "14       01 de marzo de 2022              90.97          NaN   \n",
       "15       01 de abril de 2022              74.64          NaN   \n",
       "16        01 de mayo de 2022              78.50          NaN   \n",
       "17       01 de junio de 2022              76.39          NaN   \n",
       "18       01 de julio de 2022              84.78          NaN   \n",
       "19      01 de agosto de 2022              84.07          NaN   \n",
       "20  01 de septiembre de 2022              84.17          NaN   \n",
       "\n",
       "                     Fecha.4  Precios Tesla  \n",
       "0        01 de enero de 2021         264.51  \n",
       "1      01 de febrero de 2021         225.17  \n",
       "2        01 de marzo de 2021         222.64  \n",
       "3        01 de abril de 2021         236.48  \n",
       "4         01 de mayo de 2021         208.41  \n",
       "5        01 de junio de 2021         226.57  \n",
       "6        01 de julio de 2021         229.07  \n",
       "7       01 de agosto de 2021         245.24  \n",
       "8   01 de septiembre de 2021         258.49  \n",
       "9      01 de octubre de 2021         371.33  \n",
       "10   01 de noviembre de 2021         381.59  \n",
       "11      01 de diciembre 2021         352.26  \n",
       "12       01 de enero de 2022         312.24  \n",
       "13     01 de febrero de 2022         290.14  \n",
       "14       01 de marzo de 2022         359.20  \n",
       "15       01 de abril de 2022         290.25  \n",
       "16        01 de mayo de 2022         252.75  \n",
       "17       01 de junio de 2022         224.47  \n",
       "18       01 de julio de 2022         297.15  \n",
       "19      01 de agosto de 2022         275.61  \n",
       "20  01 de septiembre de 2022         282.80  "
      ]
     },
     "execution_count": 95,
     "metadata": {},
     "output_type": "execute_result"
    }
   ],
   "source": [
    "data5 = pd.read_excel('PreciosProyecto1.xlsx')\n",
    "data5"
   ]
  },
  {
   "cell_type": "code",
   "execution_count": 96,
   "id": "496cbf92",
   "metadata": {},
   "outputs": [
    {
     "data": {
      "text/plain": [
       "0     264.51\n",
       "1     225.17\n",
       "2     222.64\n",
       "3     236.48\n",
       "4     208.41\n",
       "5     226.57\n",
       "6     229.07\n",
       "7     245.24\n",
       "8     258.49\n",
       "9     371.33\n",
       "10    381.59\n",
       "11    352.26\n",
       "12    312.24\n",
       "13    290.14\n",
       "14    359.20\n",
       "15    290.25\n",
       "16    252.75\n",
       "17    224.47\n",
       "18    297.15\n",
       "19    275.61\n",
       "20    282.80\n",
       "Name: Precios Tesla, dtype: float64"
      ]
     },
     "execution_count": 96,
     "metadata": {},
     "output_type": "execute_result"
    }
   ],
   "source": [
    "dataTSLA = data5['Precios Tesla']\n",
    "dataTSLA"
   ]
  },
  {
   "cell_type": "code",
   "execution_count": 97,
   "id": "cfab259d",
   "metadata": {},
   "outputs": [
    {
     "data": {
      "text/plain": [
       "array([[264.51, 225.17, 222.64, 236.48, 208.41, 226.57, 229.07, 245.24,\n",
       "        258.49, 371.33, 381.59, 352.26, 312.24, 290.14, 359.2 , 290.25,\n",
       "        252.75, 224.47, 297.15, 275.61, 282.8 ]])"
      ]
     },
     "execution_count": 97,
     "metadata": {},
     "output_type": "execute_result"
    }
   ],
   "source": [
    "dataTesla = np.array([dataTSLA])\n",
    "dataTesla"
   ]
  },
  {
   "cell_type": "markdown",
   "id": "ed71dd57",
   "metadata": {},
   "source": [
    "- Graficamos los precios de las acciones de Tesla"
   ]
  },
  {
   "cell_type": "code",
   "execution_count": 98,
   "id": "2d8856ad",
   "metadata": {},
   "outputs": [
    {
     "data": {
      "image/png": "[encoded data removed]",
      "text/plain": [
       "<Figure size 432x288 with 1 Axes>"
      ]
     },
     "metadata": {
      "needs_background": "light"
     },
     "output_type": "display_data"
    }
   ],
   "source": [
    "m = len(dataTSLA)\n",
    "x = np.linspace(0, 20, m)\n",
    "y = dataTesla\n",
    "\n",
    "%matplotlib inline\n",
    "plt.figure()\n",
    "plt.scatter(x, y, s = 100)\n",
    "plt.grid()"
   ]
  },
  {
   "cell_type": "markdown",
   "id": "2eb10df4",
   "metadata": {},
   "source": [
    "**Modelo con polinomio de grado 4**"
   ]
  },
  {
   "cell_type": "code",
   "execution_count": 99,
   "id": "f95d08ff",
   "metadata": {},
   "outputs": [],
   "source": [
    "# Definimos la función de precios\n",
    "\n",
    "def funcion_preciosT(beta, X, y) :\n",
    "    beta = np.reshape(beta, [5, -1])\n",
    "    pred = X @ beta\n",
    "    return ((y-pred).T @ (y-pred))[0][0]"
   ]
  },
  {
   "cell_type": "code",
   "execution_count": 100,
   "id": "559b8bc8",
   "metadata": {},
   "outputs": [
    {
     "data": {
      "text/plain": [
       "array([[1.00000e+00, 0.00000e+00, 0.00000e+00, 0.00000e+00, 0.00000e+00],\n",
       "       [1.00000e+00, 1.00000e+00, 1.00000e+00, 1.00000e+00, 1.00000e+00],\n",
       "       [1.00000e+00, 2.00000e+00, 4.00000e+00, 8.00000e+00, 1.60000e+01],\n",
       "       [1.00000e+00, 3.00000e+00, 9.00000e+00, 2.70000e+01, 8.10000e+01],\n",
       "       [1.00000e+00, 4.00000e+00, 1.60000e+01, 6.40000e+01, 2.56000e+02],\n",
       "       [1.00000e+00, 5.00000e+00, 2.50000e+01, 1.25000e+02, 6.25000e+02],\n",
       "       [1.00000e+00, 6.00000e+00, 3.60000e+01, 2.16000e+02, 1.29600e+03],\n",
       "       [1.00000e+00, 7.00000e+00, 4.90000e+01, 3.43000e+02, 2.40100e+03],\n",
       "       [1.00000e+00, 8.00000e+00, 6.40000e+01, 5.12000e+02, 4.09600e+03],\n",
       "       [1.00000e+00, 9.00000e+00, 8.10000e+01, 7.29000e+02, 6.56100e+03],\n",
       "       [1.00000e+00, 1.00000e+01, 1.00000e+02, 1.00000e+03, 1.00000e+04],\n",
       "       [1.00000e+00, 1.10000e+01, 1.21000e+02, 1.33100e+03, 1.46410e+04],\n",
       "       [1.00000e+00, 1.20000e+01, 1.44000e+02, 1.72800e+03, 2.07360e+04],\n",
       "       [1.00000e+00, 1.30000e+01, 1.69000e+02, 2.19700e+03, 2.85610e+04],\n",
       "       [1.00000e+00, 1.40000e+01, 1.96000e+02, 2.74400e+03, 3.84160e+04],\n",
       "       [1.00000e+00, 1.50000e+01, 2.25000e+02, 3.37500e+03, 5.06250e+04],\n",
       "       [1.00000e+00, 1.60000e+01, 2.56000e+02, 4.09600e+03, 6.55360e+04],\n",
       "       [1.00000e+00, 1.70000e+01, 2.89000e+02, 4.91300e+03, 8.35210e+04],\n",
       "       [1.00000e+00, 1.80000e+01, 3.24000e+02, 5.83200e+03, 1.04976e+05],\n",
       "       [1.00000e+00, 1.90000e+01, 3.61000e+02, 6.85900e+03, 1.30321e+05],\n",
       "       [1.00000e+00, 2.00000e+01, 4.00000e+02, 8.00000e+03, 1.60000e+05]])"
      ]
     },
     "execution_count": 100,
     "metadata": {},
     "output_type": "execute_result"
    }
   ],
   "source": [
    "# Creamos la matriz X\n",
    "\n",
    "ones = np.ones([m, 1])\n",
    "x1 = np.reshape(x, [m, -1])\n",
    "x2 = np.reshape(x**2, [m, -1])\n",
    "x3 = np.reshape(x**3, [m, -1])\n",
    "x4 = np.reshape(x**4, [m, -1])\n",
    "X = np.hstack((ones, x1, x2, x3, x4))\n",
    "X"
   ]
  },
  {
   "cell_type": "code",
   "execution_count": 101,
   "id": "1df85541",
   "metadata": {},
   "outputs": [
    {
     "data": {
      "text/plain": [
       "2403725698.6878753"
      ]
     },
     "execution_count": 101,
     "metadata": {},
     "output_type": "execute_result"
    }
   ],
   "source": [
    "beta_inicial = np.random.rand(5)\n",
    "y = np.reshape(y, [m, -1])\n",
    "funcion_preciosT(beta_inicial, X, y)"
   ]
  },
  {
   "cell_type": "code",
   "execution_count": 102,
   "id": "ba24b71b",
   "metadata": {},
   "outputs": [
    {
     "data": {
      "text/plain": [
       "      fun: 18858.790208584316\n",
       " hess_inv: array([[ 3.56773260e-01, -2.05141778e-01,  3.47182866e-02,\n",
       "        -2.24798230e-03,  4.92388422e-05],\n",
       "       [-2.05141778e-01,  1.88977058e-01, -3.82162725e-02,\n",
       "         2.72223730e-03, -6.32999095e-05],\n",
       "       [ 3.47182866e-02, -3.82162725e-02,  8.38280336e-03,\n",
       "        -6.27024891e-04,  1.50677741e-05],\n",
       "       [-2.24798230e-03,  2.72223730e-03, -6.27024891e-04,\n",
       "         4.84199312e-05, -1.19029676e-06],\n",
       "       [ 4.92388422e-05, -6.32999095e-05,  1.50677741e-05,\n",
       "        -1.19029676e-06,  2.97590923e-08]])\n",
       "      jac: array([ 0.00341797,  0.02929688,  0.12597656, -0.05688477,  0.23974609])\n",
       "  message: 'Desired error not necessarily achieved due to precision loss.'\n",
       "     nfev: 240\n",
       "      nit: 9\n",
       "     njev: 38\n",
       "   status: 2\n",
       "  success: False\n",
       "        x: array([ 2.78129305e+02, -6.57753269e+01,  1.70107260e+01, -1.29436129e+00,\n",
       "        3.04968331e-02])"
      ]
     },
     "execution_count": 102,
     "metadata": {},
     "output_type": "execute_result"
    }
   ],
   "source": [
    "sol = opt.minimize(funcion_preciosT, \n",
    "                   beta_inicial, \n",
    "                   args = (X, y))\n",
    "sol"
   ]
  },
  {
   "cell_type": "code",
   "execution_count": 103,
   "id": "7df8c100",
   "metadata": {},
   "outputs": [
    {
     "data": {
      "text/plain": [
       "array([278.12930481, 228.1008394 , 204.75461387, 201.42234644,\n",
       "       212.16767933, 231.78617876, 255.80533494, 280.48456207,\n",
       "       302.81519837, 320.52050602, 332.0556712 , 336.60780412,\n",
       "       334.09593893, 325.17103382, 311.21597094, 294.34555647,\n",
       "       277.40652055, 263.97751733, 258.36912496, 265.62384557,\n",
       "       291.5161053 ])"
      ]
     },
     "execution_count": 103,
     "metadata": {},
     "output_type": "execute_result"
    }
   ],
   "source": [
    "y_predT1 = X @ sol.x\n",
    "y_predT1"
   ]
  },
  {
   "cell_type": "markdown",
   "id": "54b69fdc",
   "metadata": {},
   "source": [
    "**Modelo con polinomio de grado 5**"
   ]
  },
  {
   "cell_type": "code",
   "execution_count": 104,
   "id": "5969d5c6",
   "metadata": {},
   "outputs": [],
   "source": [
    "# Definimos la función de precios\n",
    "\n",
    "def funcion_preciosT(beta, X, y) :\n",
    "    beta = np.reshape(beta, [6, -1])\n",
    "    pred = X @ beta\n",
    "    return ((y-pred).T @ (y-pred))[0][0]"
   ]
  },
  {
   "cell_type": "code",
   "execution_count": 105,
   "id": "5d401589",
   "metadata": {},
   "outputs": [
    {
     "data": {
      "text/plain": [
       "array([[1.000000e+00, 0.000000e+00, 0.000000e+00, 0.000000e+00,\n",
       "        0.000000e+00, 0.000000e+00],\n",
       "       [1.000000e+00, 1.000000e+00, 1.000000e+00, 1.000000e+00,\n",
       "        1.000000e+00, 1.000000e+00],\n",
       "       [1.000000e+00, 2.000000e+00, 4.000000e+00, 8.000000e+00,\n",
       "        1.600000e+01, 3.200000e+01],\n",
       "       [1.000000e+00, 3.000000e+00, 9.000000e+00, 2.700000e+01,\n",
       "        8.100000e+01, 2.430000e+02],\n",
       "       [1.000000e+00, 4.000000e+00, 1.600000e+01, 6.400000e+01,\n",
       "        2.560000e+02, 1.024000e+03],\n",
       "       [1.000000e+00, 5.000000e+00, 2.500000e+01, 1.250000e+02,\n",
       "        6.250000e+02, 3.125000e+03],\n",
       "       [1.000000e+00, 6.000000e+00, 3.600000e+01, 2.160000e+02,\n",
       "        1.296000e+03, 7.776000e+03],\n",
       "       [1.000000e+00, 7.000000e+00, 4.900000e+01, 3.430000e+02,\n",
       "        2.401000e+03, 1.680700e+04],\n",
       "       [1.000000e+00, 8.000000e+00, 6.400000e+01, 5.120000e+02,\n",
       "        4.096000e+03, 3.276800e+04],\n",
       "       [1.000000e+00, 9.000000e+00, 8.100000e+01, 7.290000e+02,\n",
       "        6.561000e+03, 5.904900e+04],\n",
       "       [1.000000e+00, 1.000000e+01, 1.000000e+02, 1.000000e+03,\n",
       "        1.000000e+04, 1.000000e+05],\n",
       "       [1.000000e+00, 1.100000e+01, 1.210000e+02, 1.331000e+03,\n",
       "        1.464100e+04, 1.610510e+05],\n",
       "       [1.000000e+00, 1.200000e+01, 1.440000e+02, 1.728000e+03,\n",
       "        2.073600e+04, 2.488320e+05],\n",
       "       [1.000000e+00, 1.300000e+01, 1.690000e+02, 2.197000e+03,\n",
       "        2.856100e+04, 3.712930e+05],\n",
       "       [1.000000e+00, 1.400000e+01, 1.960000e+02, 2.744000e+03,\n",
       "        3.841600e+04, 5.378240e+05],\n",
       "       [1.000000e+00, 1.500000e+01, 2.250000e+02, 3.375000e+03,\n",
       "        5.062500e+04, 7.593750e+05],\n",
       "       [1.000000e+00, 1.600000e+01, 2.560000e+02, 4.096000e+03,\n",
       "        6.553600e+04, 1.048576e+06],\n",
       "       [1.000000e+00, 1.700000e+01, 2.890000e+02, 4.913000e+03,\n",
       "        8.352100e+04, 1.419857e+06],\n",
       "       [1.000000e+00, 1.800000e+01, 3.240000e+02, 5.832000e+03,\n",
       "        1.049760e+05, 1.889568e+06],\n",
       "       [1.000000e+00, 1.900000e+01, 3.610000e+02, 6.859000e+03,\n",
       "        1.303210e+05, 2.476099e+06],\n",
       "       [1.000000e+00, 2.000000e+01, 4.000000e+02, 8.000000e+03,\n",
       "        1.600000e+05, 3.200000e+06]])"
      ]
     },
     "execution_count": 105,
     "metadata": {},
     "output_type": "execute_result"
    }
   ],
   "source": [
    "# Creamos la matriz X\n",
    "\n",
    "ones = np.ones([m, 1])\n",
    "x1 = np.reshape(x, [m, -1])\n",
    "x2 = np.reshape(x**2, [m, -1])\n",
    "x3 = np.reshape(x**3, [m, -1])\n",
    "x4 = np.reshape(x**4, [m, -1])\n",
    "x5 = np.reshape(x**5, [m, -1])\n",
    "X = np.hstack((ones, x1, x2, x3, x4, x5))\n",
    "X"
   ]
  },
  {
   "cell_type": "code",
   "execution_count": 106,
   "id": "ce23cdb9",
   "metadata": {},
   "outputs": [
    {
     "data": {
      "text/plain": [
       "2434912713169.2036"
      ]
     },
     "execution_count": 106,
     "metadata": {},
     "output_type": "execute_result"
    }
   ],
   "source": [
    "beta_inicial = np.random.rand(6)\n",
    "y = np.reshape(y, [m, -1])\n",
    "funcion_preciosT(beta_inicial, X, y)"
   ]
  },
  {
   "cell_type": "code",
   "execution_count": 107,
   "id": "6e2e8ce7",
   "metadata": {},
   "outputs": [
    {
     "data": {
      "text/plain": [
       "      fun: 18051.39295043571\n",
       " hess_inv: array([[ 4.18430290e-01, -3.42576528e-01,  8.75227822e-02,\n",
       "        -9.52442236e-03,  4.62850623e-04, -8.26920430e-06],\n",
       "       [-3.42576528e-01,  5.03667798e-01, -1.59764479e-01,\n",
       "         1.95133907e-02, -1.01923553e-03,  1.91325311e-05],\n",
       "       [ 8.75227822e-02, -1.59764479e-01,  5.54272395e-02,\n",
       "        -7.13314296e-03,  3.85722558e-04, -7.42191302e-06],\n",
       "       [-9.52442236e-03,  1.95133907e-02, -7.13314296e-03,\n",
       "         9.48721578e-04, -5.24984673e-05,  1.02761558e-06],\n",
       "       [ 4.62850623e-04, -1.01923553e-03,  3.85722558e-04,\n",
       "        -5.24984673e-05,  2.95439199e-06, -5.85826807e-08],\n",
       "       [-8.26920430e-06,  1.91325311e-05, -7.42191302e-06,\n",
       "         1.02761558e-06, -5.85826807e-08,  1.17354328e-09]])\n",
       "      jac: array([-2.63940430e+00, -2.75441895e+01, -4.15971436e+02, -6.84954980e+03,\n",
       "       -1.25912468e+05, -2.33575664e+06])\n",
       "  message: 'Desired error not necessarily achieved due to precision loss.'\n",
       "     nfev: 383\n",
       "      nit: 7\n",
       "     njev: 53\n",
       "   status: 2\n",
       "  success: False\n",
       "        x: array([ 2.68831487e+02, -4.54835070e+01,  9.30602295e+00, -2.40565546e-01,\n",
       "       -2.90954974e-02,  1.18687675e-03])"
      ]
     },
     "execution_count": 107,
     "metadata": {},
     "output_type": "execute_result"
    }
   ],
   "source": [
    "sol = opt.minimize(funcion_preciosT, \n",
    "                   beta_inicial, \n",
    "                   args = (X, y))\n",
    "sol"
   ]
  },
  {
   "cell_type": "code",
   "execution_count": 108,
   "id": "990b1c56",
   "metadata": {},
   "outputs": [
    {
     "data": {
      "text/plain": [
       "array([268.83148744, 232.38552926, 212.73649304, 207.57157911,\n",
       "       214.16454628, 229.51813706, 250.50650285, 274.01762916,\n",
       "       297.09576082, 317.08382721, 331.7658674 , 339.50945546,\n",
       "       339.40812558, 331.42379734, 316.52920087, 296.85030212,\n",
       "       275.808728  , 258.26419165, 250.6569176 , 261.15006703,\n",
       "       299.77216292])"
      ]
     },
     "execution_count": 108,
     "metadata": {},
     "output_type": "execute_result"
    }
   ],
   "source": [
    "y_predT2 = X @ sol.x\n",
    "y_predT2"
   ]
  },
  {
   "cell_type": "markdown",
   "id": "6db547dd",
   "metadata": {},
   "source": [
    "**Solución y visualización del problema de optimización:**\n",
    "\n",
    "- Ahora graficamos ambos modelos junto con los precios de la acción de Tesla"
   ]
  },
  {
   "cell_type": "code",
   "execution_count": 109,
   "id": "6e85f3f6",
   "metadata": {},
   "outputs": [
    {
     "data": {
      "image/png": "[encoded data removed]",
      "text/plain": [
       "<Figure size 432x288 with 1 Axes>"
      ]
     },
     "metadata": {
      "needs_background": "light"
     },
     "output_type": "display_data"
    }
   ],
   "source": [
    "%matplotlib inline\n",
    "plt.figure()\n",
    "plt.scatter(x, y, s = 100)\n",
    "plt.plot(x, y_predT1, \"b\")\n",
    "plt.plot(x, y_predT2, \"r\")\n",
    "plt.grid()"
   ]
  },
  {
   "cell_type": "markdown",
   "id": "ad4dad72",
   "metadata": {},
   "source": [
    "## Análisis de resultados:\n",
    "\n",
    "- Ambos modelos parecen ajustarse en la misma magnitud a los precios de la acción de Tesla. Siendo el modelo de grado 4 la curva azul `y_predT1` y el modelo de grado 5 la curva roja `y_predT2`. Por lo que ambos pueden ser modelos representativos y nos pueden ser útiles para la predicción de los precios de la empresa."
   ]
  },
  {
   "cell_type": "markdown",
   "id": "9a5cdec3",
   "metadata": {},
   "source": [
    "---"
   ]
  },
  {
   "cell_type": "markdown",
   "id": "db795717",
   "metadata": {},
   "source": [
    "# Conclusiones:\n",
    "\n",
    "Podemos ver que según las predicciones, los precios y tienen una tendencia alcista o bajista, pero son contínuas. Esto se debe a que en nuestro modelo solo tenemos dos variables $x$ y $y$, para hacer una predicción precisa tendríamos que tener en cuenta variables como el riesgo. Aparte de que el comportamiento de la bolsa llega a ser impredecible, y también influyen factores externos del mercado de acciones como tal, por ejemplo la guerra entre Rusia y Ucrania, todos esos factores influyen en los precios de las acciones de las empresas.\n",
    "\n",
    "Después de hacer el proceso de ajuste de curvas de las 5 empresas, encontramos que los modelos que mejor se ajustan a los precios de las empresas son modelos con polinomios de grados 4 y 5. Esto quiere decir, que, si un inversionista decide usar ajuste de curvas para predecir el precio de la acción de una empresa, utilizando los precios al cierre de cada mes, para decidir si le conviene comprar o vender acciones de una empresa, podría empezar usando este proceso con modelos de grado 4 y 5.\n",
    "\n",
    "Nosotros consideramos que el ajuste de curvas puede ser una herramienta útil para la predicción de los precios de las empresas, pero hay más opciones y métodos para que un inversionista pueda tomar desiciones acerca de sus inversiones. Si se decide utilziar el ajuste de curvas, recomendamos que se utilicen los precios al cierre de cada día, con un plazo del último año para tener más precisión en nuestras predicciones. Pero necesitaría modelos con polinomios de mayor grado debido a que la cantidad de precios es mayor.\n",
    "\n",
    "Los inversionistas también podrían usar modelos de mayor grado, pero según nuestros resultados, estos modelos si se ajustarían a los precios de las acciones, pero según el modelo de grado 7 que propusimos para Apple, el modelo pierde precisión después de ajustarse al último precio de Apple, y después la función decrece de manera continua, por lo que no serviría para predecir los siguientes precios de la acción de una empresa, ya que el precio de la acción de esa empresa debería de desplomarse por completo y para que suceda eso tendría que haber un evento extraordinario o que se de un evento muy difícil de predecir, por ejemplo, la guerra entre Rusia y Ucrania."
   ]
  },
  {
   "cell_type": "markdown",
   "id": "36d8a607",
   "metadata": {},
   "source": [
    "---"
   ]
  },
  {
   "cell_type": "markdown",
   "id": "0ccbdea7",
   "metadata": {},
   "source": [
    "# Referencias:"
   ]
  },
  {
   "cell_type": "markdown",
   "id": "b105ba2e",
   "metadata": {},
   "source": [
    "- FactSet. (s. f.). Recuperado 26 de septiembre de 2022, de factset.com\n",
    "- (Apple Historical Price Data (AAPL), 2022): Apple Historical Price Data (AAPL). (2022, 26 septiembre). Investing.com. Recuperado 26 de septiembre de 2022, de https://www.investing.com/equities/apple-computer-inc-historical-data\n",
    "- (Microsoft Historical Price Data (MSFT), 2022): Microsoft Historical Price Data (MSFT). (2022, 26 septiembre). Investing.com. Recuperado 26 de septiembre de 2022, de https://www.investing.com/equities/microsoft-corp-historical-data\n",
    "- (Nike Historical Price Data (NKE), 2022): Nike Historical Price Data (NKE). (2022, 26 septiembre). Investing.com. Recuperado 26 de septiembre de 2022, de https://www.investing.com/equities/nike-historical-data\n",
    "- (Starbucks Historical Price Data (SBUX), 2022): Starbucks Historical Price Data (SBUX). (2022, 26 septiembre). Investing.com. Recuperado 26 de septiembre de 2022, de https://www.investing.com/equities/starbucks-corp-historical-data\n",
    "- (Tesla Historical Price Data (TSLA), 2022) : Tesla Historical Price Data (TSLA). (2022, 26 septiembre). Investing.com. Recuperado 26 de septiembre de 2022, de https://www.investing.com/equities/tesla-motors-historical-data\n",
    "- (NYSE, s. f.): NYSE. (s. f.). Recuperado 26 de septiembre de 2022, de https://www.nyse.com/quote/XNGS:AAPL\n",
    "- (NYSE, s. f.): NYSE. (s. f.-b). Recuperado 26 de septiembre de 2022, de https://www.nyse.com/quote/XNGS:MSFT\n",
    "- (NYSE, s. f.): NYSE. (s. f.-c). Recuperado 26 de septiembre de 2022, de https://www.nyse.com/quote/XNYS:NKE\n",
    "- (NYSE, s. f.): NYSE. (s. f.-d). Recuperado 26 de septiembre de 2022, de https://www.nyse.com/quote/XNGS:SBUX\n",
    "- (NYSE, s. f.): NYSE. (s. f.-e). Recuperado 26 de septiembre de 2022, de https://www.nyse.com/quote/XNGS:TSLA"
   ]
  },
  {
   "cell_type": "markdown",
   "id": "6d69213e",
   "metadata": {},
   "source": [
    "---"
   ]
  }
 ],
 "metadata": {
  "kernelspec": {
   "display_name": "Python 3 (ipykernel)",
   "language": "python",
   "name": "python3"
  },
  "language_info": {
   "codemirror_mode": {
    "name": "ipython",
    "version": 3
   },
   "file_extension": ".py",
   "mimetype": "text/x-python",
   "name": "python",
   "nbconvert_exporter": "python",
   "pygments_lexer": "ipython3",
   "version": "3.9.12"
  }
 },
 "nbformat": 4,
 "nbformat_minor": 5
}

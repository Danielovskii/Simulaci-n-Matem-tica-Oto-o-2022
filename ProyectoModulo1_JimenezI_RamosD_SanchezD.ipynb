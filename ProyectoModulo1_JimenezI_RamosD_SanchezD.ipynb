{
 "cells": [
  {
   "cell_type": "markdown",
   "id": "9ea011cf",
   "metadata": {},
   "source": [
    "# Proyecto 1: Ajuste de curvas para encontrar modelos que nos permitan predecir precios de empresas \n",
    "## Simulación Matemática O2022"
   ]
  },
  {
   "cell_type": "markdown",
   "id": "dd14421e",
   "metadata": {},
   "source": [
    "---"
   ]
  },
  {
   "cell_type": "markdown",
   "id": "ce3d8ddd",
   "metadata": {},
   "source": [
    "## Integrantes:\n",
    "- Maximiliano Jiménez Ramírez\n",
    "- Daniel Ramos Van Der Hoek\n",
    "- Daniel Sánchez López\n"
   ]
  },
  {
   "cell_type": "markdown",
   "id": "2e0358f3",
   "metadata": {},
   "source": [
    "---"
   ]
  },
  {
   "cell_type": "markdown",
   "id": "8fe2a978",
   "metadata": {},
   "source": [
    "## Objetivos:"
   ]
  },
  {
   "cell_type": "markdown",
   "id": "7d1761b5",
   "metadata": {},
   "source": [
    "**Obejtivo general:**\n",
    "\n",
    "En este proyecto, utilizaremos el ***ajuste de curvas*** para encontrar modelos representativos que nos permitan predecir el precio de las acciones de 5 empresas para los siguientes 4 meses, así como utilizar el ajuste de curvas para proponer modelos representativos que mejor se ajusten a los precios de cada empresa, y poder así, obtener las predicciones más precisas posibles. Las empresas presentadas en este proyecto cotizan en la Bolsa de Valores de Nueva York. Las empresas son las siguientes:\n",
    "\n",
    "1. Apple Inc (AAPL)\n",
    "2. Microsoft Corp (MSFT)\n",
    "3. Nike Inc (NKE)\n",
    "4. Starbucks Corp (SBUX)\n",
    "5. Tesla Inc (TSLA)\n",
    "\n",
    "**Objetivos específicos:**\n",
    "\n",
    "Los datos van a ser obtenidos de páginas financieras, usaremos Yahoo Finance e Investing.com y también nos estaremos apoyando de Factset, y de la página de la NYSE (New York Stock Exchange). Todos los datos sobre los precios de las acciones obtenidos, los acomodaremos en un archivo de excel al que llamaremos, ***PreciosProyecto1.xlsx***. De este archivo de excel nos apoyaremos en la codificación del proyecto.\n",
    "\n",
    "Se analizará cada empresa por separado, proponiendo diferentes modelos para cada una de las empresas.\n",
    "\n",
    "Vamos a utilizar los precios al cierre por mes, ya que vamos a obtener una buena representación del ajuste de curvas, y la interpretación de los resultados va a ser más rápida, aparte de que si usamos los precios diarios, tendríamos una gran cantidad de datos y necesitaríamos modelos de mayor grado. Por lo que al momento de codificar, podemos tener problemas con la graficación de los puntos y de los modelos.\n",
    "\n",
    "Se van a proponer modelos con polinomios de grado 3 como mínimo grado, y modelos con polinomios de grado 7 como máximo, ya que consideramos que, de usar modelos con grados mayores, podríamos estar realizando un sobreajuste (*overfitting*), aparte que consideramos que para los propósitos que tiene este proyecto, un polinomio de grado 7 va a ser suficiente para obtener un modelo representativo."
   ]
  },
  {
   "cell_type": "markdown",
   "id": "66b0b297",
   "metadata": {},
   "source": [
    "---"
   ]
  },
  {
   "cell_type": "markdown",
   "id": "a5440f92",
   "metadata": {},
   "source": [
    "# Apple Inc.\n",
    "\n",
    "Empezaremos por orden alfabético, por lo tanto, la primera empresa que utilizaremos será Apple.\n",
    "\n",
    "Los datos de los precios de la accción de Apple en los últimos meses se obtuvieron de *Investing.com* y se cotejaron con *Factset* para verificar los datos."
   ]
  },
  {
   "cell_type": "markdown",
   "id": "2e69d064",
   "metadata": {},
   "source": [
    "Primero importamos las librerías para trabajar en el tema de ajuste de curvas. Las librerías que utilzaremos serán:\n",
    "- Numpy\n",
    "- Pandas\n",
    "- Matplotlib (Pyplot)\n",
    "- Scipy (optimize)"
   ]
  },
  {
   "cell_type": "markdown",
   "id": "415f6246",
   "metadata": {},
   "source": [
    "**Modelo que representa el problema:**\n",
    "\n",
    "Se va a realizar el ajuste de curvas.\n",
    "Necesitamos las librerías para poder trabajar con ajuste de curvas. Necesitaremos un archivo de excel donde están los precios de la acción de cada empresa y leeremos el archivo de excel utilizando `pandas`. Después vamos a usar `numpy` para ordenar los datos de los precios de las acciones como un arreglo numérico y de esta manera poder trabajar con los datos. Después utilizaremos funciones de python junto con operaciones de álgebra lineal para definir los modelos para realizar el ajuste de curvas. Y al final usaremos `scipy.optimize` para encontrar las betas o los pesos de cada modelo. Y por último usaremos la librería de `matplotlib` para graficar los resultados obtenidos"
   ]
  },
  {
   "cell_type": "code",
   "execution_count": 115,
   "id": "0872a823",
   "metadata": {},
   "outputs": [],
   "source": [
    "# Importar librerias\n",
    "\n",
    "import numpy as np\n",
    "import pandas as pd\n",
    "import matplotlib.pyplot as plt\n",
    "import scipy.optimize as opt"
   ]
  },
  {
   "cell_type": "markdown",
   "id": "5f67f8f1",
   "metadata": {},
   "source": [
    "- Utilizamos la librería de Pandas `pd.read_excel` para leer el archivo de excel"
   ]
  },
  {
   "cell_type": "code",
   "execution_count": 116,
   "id": "3d8f9104",
   "metadata": {},
   "outputs": [],
   "source": [
    "data1 = pd.read_excel('PreciosProyecto1.xlsx')"
   ]
  },
  {
   "cell_type": "markdown",
   "id": "b6d3958b",
   "metadata": {},
   "source": [
    "- Leemos la variable `data1` "
   ]
  },
  {
   "cell_type": "code",
   "execution_count": 117,
   "id": "45a33420",
   "metadata": {
    "scrolled": true
   },
   "outputs": [
    {
     "data": {
      "text/html": [
       "<div>\n",
       "<style scoped>\n",
       "    .dataframe tbody tr th:only-of-type {\n",
       "        vertical-align: middle;\n",
       "    }\n",
       "\n",
       "    .dataframe tbody tr th {\n",
       "        vertical-align: top;\n",
       "    }\n",
       "\n",
       "    .dataframe thead th {\n",
       "        text-align: right;\n",
       "    }\n",
       "</style>\n",
       "<table border=\"1\" class=\"dataframe\">\n",
       "  <thead>\n",
       "    <tr style=\"text-align: right;\">\n",
       "      <th></th>\n",
       "      <th>Fecha</th>\n",
       "      <th>Precios Apple</th>\n",
       "      <th>Unnamed: 2</th>\n",
       "      <th>Fecha.1</th>\n",
       "      <th>Precios Microsoft</th>\n",
       "      <th>Unnamed: 5</th>\n",
       "      <th>Fecha.2</th>\n",
       "      <th>Precios Nike</th>\n",
       "      <th>Unnamed: 8</th>\n",
       "      <th>Fecha.3</th>\n",
       "      <th>Precios Starbucks</th>\n",
       "      <th>Unnamed: 11</th>\n",
       "      <th>Fecha.4</th>\n",
       "      <th>Precios Tesla</th>\n",
       "    </tr>\n",
       "  </thead>\n",
       "  <tbody>\n",
       "    <tr>\n",
       "      <th>0</th>\n",
       "      <td>01 de enero de 2021</td>\n",
       "      <td>131.96</td>\n",
       "      <td>NaN</td>\n",
       "      <td>01 de enero de 2021</td>\n",
       "      <td>231.96</td>\n",
       "      <td>NaN</td>\n",
       "      <td>01 de enero de 2021</td>\n",
       "      <td>133.59</td>\n",
       "      <td>NaN</td>\n",
       "      <td>01 de enero de 2021</td>\n",
       "      <td>96.81</td>\n",
       "      <td>NaN</td>\n",
       "      <td>01 de enero de 2021</td>\n",
       "      <td>264.51</td>\n",
       "    </tr>\n",
       "    <tr>\n",
       "      <th>1</th>\n",
       "      <td>01 de febrero de 2021</td>\n",
       "      <td>121.26</td>\n",
       "      <td>NaN</td>\n",
       "      <td>01 de febrero de 2021</td>\n",
       "      <td>232.38</td>\n",
       "      <td>NaN</td>\n",
       "      <td>01 de febrero de 2021</td>\n",
       "      <td>134.78</td>\n",
       "      <td>NaN</td>\n",
       "      <td>01 de febrero de 2021</td>\n",
       "      <td>108.03</td>\n",
       "      <td>NaN</td>\n",
       "      <td>01 de febrero de 2021</td>\n",
       "      <td>225.17</td>\n",
       "    </tr>\n",
       "    <tr>\n",
       "      <th>2</th>\n",
       "      <td>01 de marzo de 2021</td>\n",
       "      <td>122.15</td>\n",
       "      <td>NaN</td>\n",
       "      <td>01 de marzo de 2021</td>\n",
       "      <td>235.77</td>\n",
       "      <td>NaN</td>\n",
       "      <td>01 de marzo de 2021</td>\n",
       "      <td>132.89</td>\n",
       "      <td>NaN</td>\n",
       "      <td>01 de marzo de 2021</td>\n",
       "      <td>109.27</td>\n",
       "      <td>NaN</td>\n",
       "      <td>01 de marzo de 2021</td>\n",
       "      <td>222.64</td>\n",
       "    </tr>\n",
       "    <tr>\n",
       "      <th>3</th>\n",
       "      <td>01 de abril de 2021</td>\n",
       "      <td>131.46</td>\n",
       "      <td>NaN</td>\n",
       "      <td>01 de abril de 2021</td>\n",
       "      <td>252.18</td>\n",
       "      <td>NaN</td>\n",
       "      <td>01 de abril de 2021</td>\n",
       "      <td>132.62</td>\n",
       "      <td>NaN</td>\n",
       "      <td>01 de abril de 2021</td>\n",
       "      <td>114.49</td>\n",
       "      <td>NaN</td>\n",
       "      <td>01 de abril de 2021</td>\n",
       "      <td>236.48</td>\n",
       "    </tr>\n",
       "    <tr>\n",
       "      <th>4</th>\n",
       "      <td>01 de mayo de 2021</td>\n",
       "      <td>124.61</td>\n",
       "      <td>NaN</td>\n",
       "      <td>01 de mayo de 2021</td>\n",
       "      <td>249.68</td>\n",
       "      <td>NaN</td>\n",
       "      <td>01 de mayo de 2021</td>\n",
       "      <td>136.46</td>\n",
       "      <td>NaN</td>\n",
       "      <td>01 de mayo de 2021</td>\n",
       "      <td>113.88</td>\n",
       "      <td>NaN</td>\n",
       "      <td>01 de mayo de 2021</td>\n",
       "      <td>208.41</td>\n",
       "    </tr>\n",
       "    <tr>\n",
       "      <th>5</th>\n",
       "      <td>01 de junio de 2021</td>\n",
       "      <td>136.96</td>\n",
       "      <td>NaN</td>\n",
       "      <td>01 de junio de 2021</td>\n",
       "      <td>270.90</td>\n",
       "      <td>NaN</td>\n",
       "      <td>01 de junio de 2021</td>\n",
       "      <td>154.49</td>\n",
       "      <td>NaN</td>\n",
       "      <td>01 de junio de 2021</td>\n",
       "      <td>111.81</td>\n",
       "      <td>NaN</td>\n",
       "      <td>01 de junio de 2021</td>\n",
       "      <td>226.57</td>\n",
       "    </tr>\n",
       "    <tr>\n",
       "      <th>6</th>\n",
       "      <td>01 de julio de 2021</td>\n",
       "      <td>145.86</td>\n",
       "      <td>NaN</td>\n",
       "      <td>01 de julio de 2021</td>\n",
       "      <td>284.91</td>\n",
       "      <td>NaN</td>\n",
       "      <td>01 de julio de 2021</td>\n",
       "      <td>167.51</td>\n",
       "      <td>NaN</td>\n",
       "      <td>01 de julio de 2021</td>\n",
       "      <td>121.43</td>\n",
       "      <td>NaN</td>\n",
       "      <td>01 de julio de 2021</td>\n",
       "      <td>229.07</td>\n",
       "    </tr>\n",
       "    <tr>\n",
       "      <th>7</th>\n",
       "      <td>01 de agosto de 2021</td>\n",
       "      <td>151.83</td>\n",
       "      <td>NaN</td>\n",
       "      <td>01 de agosto de 2021</td>\n",
       "      <td>301.88</td>\n",
       "      <td>NaN</td>\n",
       "      <td>01 de agosto de 2021</td>\n",
       "      <td>164.74</td>\n",
       "      <td>NaN</td>\n",
       "      <td>01 de agosto de 2021</td>\n",
       "      <td>117.49</td>\n",
       "      <td>NaN</td>\n",
       "      <td>01 de agosto de 2021</td>\n",
       "      <td>245.24</td>\n",
       "    </tr>\n",
       "    <tr>\n",
       "      <th>8</th>\n",
       "      <td>01 de septiembre de 2021</td>\n",
       "      <td>141.50</td>\n",
       "      <td>NaN</td>\n",
       "      <td>01 de septiembre de 2021</td>\n",
       "      <td>281.92</td>\n",
       "      <td>NaN</td>\n",
       "      <td>01 de septiembre de 2021</td>\n",
       "      <td>145.23</td>\n",
       "      <td>NaN</td>\n",
       "      <td>01 de septiembre de 2021</td>\n",
       "      <td>110.31</td>\n",
       "      <td>NaN</td>\n",
       "      <td>01 de septiembre de 2021</td>\n",
       "      <td>258.49</td>\n",
       "    </tr>\n",
       "    <tr>\n",
       "      <th>9</th>\n",
       "      <td>01 de octubre de 2021</td>\n",
       "      <td>149.80</td>\n",
       "      <td>NaN</td>\n",
       "      <td>01 de octubre de 2021</td>\n",
       "      <td>331.62</td>\n",
       "      <td>NaN</td>\n",
       "      <td>01 de octubre de 2021</td>\n",
       "      <td>167.29</td>\n",
       "      <td>NaN</td>\n",
       "      <td>01 de octubre de 2021</td>\n",
       "      <td>106.07</td>\n",
       "      <td>NaN</td>\n",
       "      <td>01 de octubre de 2021</td>\n",
       "      <td>371.33</td>\n",
       "    </tr>\n",
       "    <tr>\n",
       "      <th>10</th>\n",
       "      <td>01 de noviembre de 2021</td>\n",
       "      <td>165.30</td>\n",
       "      <td>NaN</td>\n",
       "      <td>01 de noviembre de 2021</td>\n",
       "      <td>330.59</td>\n",
       "      <td>NaN</td>\n",
       "      <td>01 de noviembre de 2021</td>\n",
       "      <td>169.24</td>\n",
       "      <td>NaN</td>\n",
       "      <td>01 de noviembre de 2021</td>\n",
       "      <td>109.64</td>\n",
       "      <td>NaN</td>\n",
       "      <td>01 de noviembre de 2021</td>\n",
       "      <td>381.59</td>\n",
       "    </tr>\n",
       "    <tr>\n",
       "      <th>11</th>\n",
       "      <td>01 de diciembre 2021</td>\n",
       "      <td>177.57</td>\n",
       "      <td>NaN</td>\n",
       "      <td>01 de diciembre 2021</td>\n",
       "      <td>336.32</td>\n",
       "      <td>NaN</td>\n",
       "      <td>01 de diciembre 2021</td>\n",
       "      <td>166.67</td>\n",
       "      <td>NaN</td>\n",
       "      <td>01 de diciembre 2021</td>\n",
       "      <td>116.97</td>\n",
       "      <td>NaN</td>\n",
       "      <td>01 de diciembre 2021</td>\n",
       "      <td>352.26</td>\n",
       "    </tr>\n",
       "    <tr>\n",
       "      <th>12</th>\n",
       "      <td>01 de enero de 2022</td>\n",
       "      <td>174.78</td>\n",
       "      <td>NaN</td>\n",
       "      <td>01 de enero de 2022</td>\n",
       "      <td>310.98</td>\n",
       "      <td>NaN</td>\n",
       "      <td>01 de enero de 2022</td>\n",
       "      <td>148.07</td>\n",
       "      <td>NaN</td>\n",
       "      <td>01 de enero de 2022</td>\n",
       "      <td>98.32</td>\n",
       "      <td>NaN</td>\n",
       "      <td>01 de enero de 2022</td>\n",
       "      <td>312.24</td>\n",
       "    </tr>\n",
       "    <tr>\n",
       "      <th>13</th>\n",
       "      <td>01 de febrero de 2022</td>\n",
       "      <td>165.12</td>\n",
       "      <td>NaN</td>\n",
       "      <td>01 de febrero de 2022</td>\n",
       "      <td>298.79</td>\n",
       "      <td>NaN</td>\n",
       "      <td>01 de febrero de 2022</td>\n",
       "      <td>136.55</td>\n",
       "      <td>NaN</td>\n",
       "      <td>01 de febrero de 2022</td>\n",
       "      <td>91.79</td>\n",
       "      <td>NaN</td>\n",
       "      <td>01 de febrero de 2022</td>\n",
       "      <td>290.14</td>\n",
       "    </tr>\n",
       "    <tr>\n",
       "      <th>14</th>\n",
       "      <td>01 de marzo de 2022</td>\n",
       "      <td>174.61</td>\n",
       "      <td>NaN</td>\n",
       "      <td>01 de marzo de 2022</td>\n",
       "      <td>308.31</td>\n",
       "      <td>NaN</td>\n",
       "      <td>01 de marzo de 2022</td>\n",
       "      <td>134.56</td>\n",
       "      <td>NaN</td>\n",
       "      <td>01 de marzo de 2022</td>\n",
       "      <td>90.97</td>\n",
       "      <td>NaN</td>\n",
       "      <td>01 de marzo de 2022</td>\n",
       "      <td>359.20</td>\n",
       "    </tr>\n",
       "    <tr>\n",
       "      <th>15</th>\n",
       "      <td>01 de abril de 2022</td>\n",
       "      <td>157.65</td>\n",
       "      <td>NaN</td>\n",
       "      <td>01 de abril de 2022</td>\n",
       "      <td>277.52</td>\n",
       "      <td>NaN</td>\n",
       "      <td>01 de abril de 2022</td>\n",
       "      <td>124.70</td>\n",
       "      <td>NaN</td>\n",
       "      <td>01 de abril de 2022</td>\n",
       "      <td>74.64</td>\n",
       "      <td>NaN</td>\n",
       "      <td>01 de abril de 2022</td>\n",
       "      <td>290.25</td>\n",
       "    </tr>\n",
       "    <tr>\n",
       "      <th>16</th>\n",
       "      <td>01 de mayo de 2022</td>\n",
       "      <td>148.84</td>\n",
       "      <td>NaN</td>\n",
       "      <td>01 de mayo de 2022</td>\n",
       "      <td>271.87</td>\n",
       "      <td>NaN</td>\n",
       "      <td>01 de mayo de 2022</td>\n",
       "      <td>118.85</td>\n",
       "      <td>NaN</td>\n",
       "      <td>01 de mayo de 2022</td>\n",
       "      <td>78.50</td>\n",
       "      <td>NaN</td>\n",
       "      <td>01 de mayo de 2022</td>\n",
       "      <td>252.75</td>\n",
       "    </tr>\n",
       "    <tr>\n",
       "      <th>17</th>\n",
       "      <td>01 de junio de 2022</td>\n",
       "      <td>136.72</td>\n",
       "      <td>NaN</td>\n",
       "      <td>01 de junio de 2022</td>\n",
       "      <td>256.83</td>\n",
       "      <td>NaN</td>\n",
       "      <td>01 de junio de 2022</td>\n",
       "      <td>102.20</td>\n",
       "      <td>NaN</td>\n",
       "      <td>01 de junio de 2022</td>\n",
       "      <td>76.39</td>\n",
       "      <td>NaN</td>\n",
       "      <td>01 de junio de 2022</td>\n",
       "      <td>224.47</td>\n",
       "    </tr>\n",
       "    <tr>\n",
       "      <th>18</th>\n",
       "      <td>01 de julio de 2022</td>\n",
       "      <td>162.51</td>\n",
       "      <td>NaN</td>\n",
       "      <td>01 de julio de 2022</td>\n",
       "      <td>280.56</td>\n",
       "      <td>NaN</td>\n",
       "      <td>01 de julio de 2022</td>\n",
       "      <td>114.92</td>\n",
       "      <td>NaN</td>\n",
       "      <td>01 de julio de 2022</td>\n",
       "      <td>84.78</td>\n",
       "      <td>NaN</td>\n",
       "      <td>01 de julio de 2022</td>\n",
       "      <td>297.15</td>\n",
       "    </tr>\n",
       "    <tr>\n",
       "      <th>19</th>\n",
       "      <td>01 de agosto de 2022</td>\n",
       "      <td>157.22</td>\n",
       "      <td>NaN</td>\n",
       "      <td>01 de agosto de 2022</td>\n",
       "      <td>261.47</td>\n",
       "      <td>NaN</td>\n",
       "      <td>01 de agosto de 2022</td>\n",
       "      <td>106.45</td>\n",
       "      <td>NaN</td>\n",
       "      <td>01 de agosto de 2022</td>\n",
       "      <td>84.07</td>\n",
       "      <td>NaN</td>\n",
       "      <td>01 de agosto de 2022</td>\n",
       "      <td>275.61</td>\n",
       "    </tr>\n",
       "    <tr>\n",
       "      <th>20</th>\n",
       "      <td>01 de septiembre de 2022</td>\n",
       "      <td>156.91</td>\n",
       "      <td>NaN</td>\n",
       "      <td>01 de septiembre de 2022</td>\n",
       "      <td>237.92</td>\n",
       "      <td>NaN</td>\n",
       "      <td>01 de septiembre de 2022</td>\n",
       "      <td>97.02</td>\n",
       "      <td>NaN</td>\n",
       "      <td>01 de septiembre de 2022</td>\n",
       "      <td>84.17</td>\n",
       "      <td>NaN</td>\n",
       "      <td>01 de septiembre de 2022</td>\n",
       "      <td>282.80</td>\n",
       "    </tr>\n",
       "  </tbody>\n",
       "</table>\n",
       "</div>"
      ],
      "text/plain": [
       "                       Fecha  Precios Apple  Unnamed: 2  \\\n",
       "0        01 de enero de 2021         131.96         NaN   \n",
       "1      01 de febrero de 2021         121.26         NaN   \n",
       "2        01 de marzo de 2021         122.15         NaN   \n",
       "3        01 de abril de 2021         131.46         NaN   \n",
       "4         01 de mayo de 2021         124.61         NaN   \n",
       "5        01 de junio de 2021         136.96         NaN   \n",
       "6        01 de julio de 2021         145.86         NaN   \n",
       "7       01 de agosto de 2021         151.83         NaN   \n",
       "8   01 de septiembre de 2021         141.50         NaN   \n",
       "9      01 de octubre de 2021         149.80         NaN   \n",
       "10   01 de noviembre de 2021         165.30         NaN   \n",
       "11      01 de diciembre 2021         177.57         NaN   \n",
       "12       01 de enero de 2022         174.78         NaN   \n",
       "13     01 de febrero de 2022         165.12         NaN   \n",
       "14       01 de marzo de 2022         174.61         NaN   \n",
       "15       01 de abril de 2022         157.65         NaN   \n",
       "16        01 de mayo de 2022         148.84         NaN   \n",
       "17       01 de junio de 2022         136.72         NaN   \n",
       "18       01 de julio de 2022         162.51         NaN   \n",
       "19      01 de agosto de 2022         157.22         NaN   \n",
       "20  01 de septiembre de 2022         156.91         NaN   \n",
       "\n",
       "                     Fecha.1  Precios Microsoft  Unnamed: 5  \\\n",
       "0        01 de enero de 2021             231.96         NaN   \n",
       "1      01 de febrero de 2021             232.38         NaN   \n",
       "2        01 de marzo de 2021             235.77         NaN   \n",
       "3        01 de abril de 2021             252.18         NaN   \n",
       "4         01 de mayo de 2021             249.68         NaN   \n",
       "5        01 de junio de 2021             270.90         NaN   \n",
       "6        01 de julio de 2021             284.91         NaN   \n",
       "7       01 de agosto de 2021             301.88         NaN   \n",
       "8   01 de septiembre de 2021             281.92         NaN   \n",
       "9      01 de octubre de 2021             331.62         NaN   \n",
       "10   01 de noviembre de 2021             330.59         NaN   \n",
       "11      01 de diciembre 2021             336.32         NaN   \n",
       "12       01 de enero de 2022             310.98         NaN   \n",
       "13     01 de febrero de 2022             298.79         NaN   \n",
       "14       01 de marzo de 2022             308.31         NaN   \n",
       "15       01 de abril de 2022             277.52         NaN   \n",
       "16        01 de mayo de 2022             271.87         NaN   \n",
       "17       01 de junio de 2022             256.83         NaN   \n",
       "18       01 de julio de 2022             280.56         NaN   \n",
       "19      01 de agosto de 2022             261.47         NaN   \n",
       "20  01 de septiembre de 2022             237.92         NaN   \n",
       "\n",
       "                     Fecha.2  Precios Nike  Unnamed: 8  \\\n",
       "0        01 de enero de 2021        133.59         NaN   \n",
       "1      01 de febrero de 2021        134.78         NaN   \n",
       "2        01 de marzo de 2021        132.89         NaN   \n",
       "3        01 de abril de 2021        132.62         NaN   \n",
       "4         01 de mayo de 2021        136.46         NaN   \n",
       "5        01 de junio de 2021        154.49         NaN   \n",
       "6        01 de julio de 2021        167.51         NaN   \n",
       "7       01 de agosto de 2021        164.74         NaN   \n",
       "8   01 de septiembre de 2021        145.23         NaN   \n",
       "9      01 de octubre de 2021        167.29         NaN   \n",
       "10   01 de noviembre de 2021        169.24         NaN   \n",
       "11      01 de diciembre 2021        166.67         NaN   \n",
       "12       01 de enero de 2022        148.07         NaN   \n",
       "13     01 de febrero de 2022        136.55         NaN   \n",
       "14       01 de marzo de 2022        134.56         NaN   \n",
       "15       01 de abril de 2022        124.70         NaN   \n",
       "16        01 de mayo de 2022        118.85         NaN   \n",
       "17       01 de junio de 2022        102.20         NaN   \n",
       "18       01 de julio de 2022        114.92         NaN   \n",
       "19      01 de agosto de 2022        106.45         NaN   \n",
       "20  01 de septiembre de 2022         97.02         NaN   \n",
       "\n",
       "                     Fecha.3  Precios Starbucks  Unnamed: 11  \\\n",
       "0        01 de enero de 2021              96.81          NaN   \n",
       "1      01 de febrero de 2021             108.03          NaN   \n",
       "2        01 de marzo de 2021             109.27          NaN   \n",
       "3        01 de abril de 2021             114.49          NaN   \n",
       "4         01 de mayo de 2021             113.88          NaN   \n",
       "5        01 de junio de 2021             111.81          NaN   \n",
       "6        01 de julio de 2021             121.43          NaN   \n",
       "7       01 de agosto de 2021             117.49          NaN   \n",
       "8   01 de septiembre de 2021             110.31          NaN   \n",
       "9      01 de octubre de 2021             106.07          NaN   \n",
       "10   01 de noviembre de 2021             109.64          NaN   \n",
       "11      01 de diciembre 2021             116.97          NaN   \n",
       "12       01 de enero de 2022              98.32          NaN   \n",
       "13     01 de febrero de 2022              91.79          NaN   \n",
       "14       01 de marzo de 2022              90.97          NaN   \n",
       "15       01 de abril de 2022              74.64          NaN   \n",
       "16        01 de mayo de 2022              78.50          NaN   \n",
       "17       01 de junio de 2022              76.39          NaN   \n",
       "18       01 de julio de 2022              84.78          NaN   \n",
       "19      01 de agosto de 2022              84.07          NaN   \n",
       "20  01 de septiembre de 2022              84.17          NaN   \n",
       "\n",
       "                     Fecha.4  Precios Tesla  \n",
       "0        01 de enero de 2021         264.51  \n",
       "1      01 de febrero de 2021         225.17  \n",
       "2        01 de marzo de 2021         222.64  \n",
       "3        01 de abril de 2021         236.48  \n",
       "4         01 de mayo de 2021         208.41  \n",
       "5        01 de junio de 2021         226.57  \n",
       "6        01 de julio de 2021         229.07  \n",
       "7       01 de agosto de 2021         245.24  \n",
       "8   01 de septiembre de 2021         258.49  \n",
       "9      01 de octubre de 2021         371.33  \n",
       "10   01 de noviembre de 2021         381.59  \n",
       "11      01 de diciembre 2021         352.26  \n",
       "12       01 de enero de 2022         312.24  \n",
       "13     01 de febrero de 2022         290.14  \n",
       "14       01 de marzo de 2022         359.20  \n",
       "15       01 de abril de 2022         290.25  \n",
       "16        01 de mayo de 2022         252.75  \n",
       "17       01 de junio de 2022         224.47  \n",
       "18       01 de julio de 2022         297.15  \n",
       "19      01 de agosto de 2022         275.61  \n",
       "20  01 de septiembre de 2022         282.80  "
      ]
     },
     "execution_count": 117,
     "metadata": {},
     "output_type": "execute_result"
    }
   ],
   "source": [
    "data1"
   ]
  },
  {
   "cell_type": "markdown",
   "id": "8faa8de0",
   "metadata": {},
   "source": [
    "- Convertimos los datos de Apple a una lista, llamando dicha lista como `dataAAPL`"
   ]
  },
  {
   "cell_type": "code",
   "execution_count": 118,
   "id": "74384c64",
   "metadata": {
    "scrolled": true
   },
   "outputs": [
    {
     "data": {
      "text/plain": [
       "0     131.96\n",
       "1     121.26\n",
       "2     122.15\n",
       "3     131.46\n",
       "4     124.61\n",
       "5     136.96\n",
       "6     145.86\n",
       "7     151.83\n",
       "8     141.50\n",
       "9     149.80\n",
       "10    165.30\n",
       "11    177.57\n",
       "12    174.78\n",
       "13    165.12\n",
       "14    174.61\n",
       "15    157.65\n",
       "16    148.84\n",
       "17    136.72\n",
       "18    162.51\n",
       "19    157.22\n",
       "20    156.91\n",
       "Name: Precios Apple, dtype: float64"
      ]
     },
     "execution_count": 118,
     "metadata": {},
     "output_type": "execute_result"
    }
   ],
   "source": [
    "dataAAPL = data1[\"Precios Apple\"]     \n",
    "dataAAPL"
   ]
  },
  {
   "cell_type": "markdown",
   "id": "899c590e",
   "metadata": {},
   "source": [
    "- Convertimos la lista a un arreglo de Numpy, para poder manejar los datos y poder realizar el proceso de ajuste de curvas"
   ]
  },
  {
   "cell_type": "code",
   "execution_count": 119,
   "id": "1c091b69",
   "metadata": {},
   "outputs": [],
   "source": [
    "dataApple = np.array([dataAAPL])"
   ]
  },
  {
   "cell_type": "markdown",
   "id": "4b9b946f",
   "metadata": {},
   "source": [
    "**Empezamos proponiendo un modelo con polinomio de grado 3**"
   ]
  },
  {
   "cell_type": "markdown",
   "id": "870073f7",
   "metadata": {},
   "source": [
    "Graficamos los puntos que son los precios de la acción de Apple en los últimos meses\n",
    "\n",
    "Para ello definimos las siguientes variables:\n",
    "- ***m:*** Número de puntos o de datos\n",
    "- ***x:*** Un linspace para graficar los puntos en base al número de datos\n",
    "- ***y:*** Los puntos \"reales\" que representan los precios de la acción\n",
    "\n",
    "Graficamos utilizando `%Matplotlib inline`, `plt.figure`, `plt.scatter`, y `plt.grid`"
   ]
  },
  {
   "cell_type": "code",
   "execution_count": 120,
   "id": "e4960eab",
   "metadata": {
    "scrolled": false
   },
   "outputs": [
    {
     "data": {
      "image/png": "[encoded data removed]",
      "text/plain": [
       "<Figure size 432x288 with 1 Axes>"
      ]
     },
     "metadata": {
      "needs_background": "light"
     },
     "output_type": "display_data"
    }
   ],
   "source": [
    "m = 21\n",
    "x = np.linspace(0, 20, m)\n",
    "y = dataApple\n",
    "\n",
    "%matplotlib inline\n",
    "plt.figure()\n",
    "plt.scatter(x, y, s = 100)\n",
    "plt.grid()"
   ]
  },
  {
   "cell_type": "markdown",
   "id": "eb590514",
   "metadata": {},
   "source": [
    "- Esta es la distribución de los precio de la acción de Apple, a simple vista podemos interpretar que el precio de Apple ha presentado mucha volatilidad en los últimos meses"
   ]
  },
  {
   "cell_type": "markdown",
   "id": "ce7a09ef",
   "metadata": {},
   "source": [
    "- A continuación, definimos una función para optimizar los puntos de los precios con un modelo con un polinomio de grado 3."
   ]
  },
  {
   "cell_type": "code",
   "execution_count": 121,
   "id": "9f703434",
   "metadata": {},
   "outputs": [],
   "source": [
    "def funcion_precios(beta, X, y) :\n",
    "    beta = np.reshape(beta, [4, -1])\n",
    "    pred = X @ beta\n",
    "    return ((y - pred).T @ (y - pred))[0][0]"
   ]
  },
  {
   "cell_type": "markdown",
   "id": "7366be78",
   "metadata": {},
   "source": [
    "- Creamos la matriz X para un polinomio de grado 3"
   ]
  },
  {
   "cell_type": "code",
   "execution_count": 122,
   "id": "f520a971",
   "metadata": {
    "scrolled": true
   },
   "outputs": [
    {
     "data": {
      "text/plain": [
       "array([[1.000e+00, 0.000e+00, 0.000e+00, 0.000e+00],\n",
       "       [1.000e+00, 1.000e+00, 1.000e+00, 1.000e+00],\n",
       "       [1.000e+00, 2.000e+00, 4.000e+00, 8.000e+00],\n",
       "       [1.000e+00, 3.000e+00, 9.000e+00, 2.700e+01],\n",
       "       [1.000e+00, 4.000e+00, 1.600e+01, 6.400e+01],\n",
       "       [1.000e+00, 5.000e+00, 2.500e+01, 1.250e+02],\n",
       "       [1.000e+00, 6.000e+00, 3.600e+01, 2.160e+02],\n",
       "       [1.000e+00, 7.000e+00, 4.900e+01, 3.430e+02],\n",
       "       [1.000e+00, 8.000e+00, 6.400e+01, 5.120e+02],\n",
       "       [1.000e+00, 9.000e+00, 8.100e+01, 7.290e+02],\n",
       "       [1.000e+00, 1.000e+01, 1.000e+02, 1.000e+03],\n",
       "       [1.000e+00, 1.100e+01, 1.210e+02, 1.331e+03],\n",
       "       [1.000e+00, 1.200e+01, 1.440e+02, 1.728e+03],\n",
       "       [1.000e+00, 1.300e+01, 1.690e+02, 2.197e+03],\n",
       "       [1.000e+00, 1.400e+01, 1.960e+02, 2.744e+03],\n",
       "       [1.000e+00, 1.500e+01, 2.250e+02, 3.375e+03],\n",
       "       [1.000e+00, 1.600e+01, 2.560e+02, 4.096e+03],\n",
       "       [1.000e+00, 1.700e+01, 2.890e+02, 4.913e+03],\n",
       "       [1.000e+00, 1.800e+01, 3.240e+02, 5.832e+03],\n",
       "       [1.000e+00, 1.900e+01, 3.610e+02, 6.859e+03],\n",
       "       [1.000e+00, 2.000e+01, 4.000e+02, 8.000e+03]])"
      ]
     },
     "execution_count": 122,
     "metadata": {},
     "output_type": "execute_result"
    }
   ],
   "source": [
    "# Creamos la matriz X\n",
    "\n",
    "ones = np.ones([m, 1])\n",
    "x_1 = np.reshape(x, [m, -1])\n",
    "x_2 = np.reshape(x**2, [m, -1])\n",
    "x_3 = np.reshape(x**3, [m, -1])\n",
    "X = np.hstack((ones, x_1, x_2, x_3))\n",
    "X"
   ]
  },
  {
   "cell_type": "markdown",
   "id": "94b247d8",
   "metadata": {},
   "source": [
    "A continuación definimos nuestros *vectores/matrices*:\n",
    "- Beta inicial\n",
    "- y"
   ]
  },
  {
   "cell_type": "code",
   "execution_count": 123,
   "id": "9449e205",
   "metadata": {},
   "outputs": [],
   "source": [
    "beta_inicial = np.random.rand(4)\n",
    "y = np.reshape(y, [m, -1])"
   ]
  },
  {
   "cell_type": "markdown",
   "id": "e51819eb",
   "metadata": {},
   "source": [
    "- Obtenemos nuestra multiplicación algebráica de la matriz transpuesta de los precios menos nuestra predicción, por la matriz de los precios menos nuestra predicción."
   ]
  },
  {
   "cell_type": "code",
   "execution_count": 124,
   "id": "1878d92d",
   "metadata": {},
   "outputs": [
    {
     "data": {
      "text/plain": [
       "400251.0870331988"
      ]
     },
     "execution_count": 124,
     "metadata": {},
     "output_type": "execute_result"
    }
   ],
   "source": [
    "funcion_precios(beta_inicial, X, y)"
   ]
  },
  {
   "cell_type": "markdown",
   "id": "5b3d2525",
   "metadata": {},
   "source": [
    "- Obtenemos los valores o los pesos para cada variable de nuestro modelo de polinomio de grado 3 propuesto utilizando la librería `scipy.optimize`"
   ]
  },
  {
   "cell_type": "code",
   "execution_count": 125,
   "id": "b6dab9c7",
   "metadata": {},
   "outputs": [
    {
     "data": {
      "text/plain": [
       "      fun: 1999.5255022173315\n",
       " hess_inv: array([[ 2.72185235e-01, -9.90590692e-02,  9.64298712e-03,\n",
       "        -2.74174181e-04],\n",
       "       [-9.90590692e-02,  5.36307174e-02, -6.08628402e-03,\n",
       "         1.87915362e-04],\n",
       "       [ 9.64298712e-03, -6.08628402e-03,  7.44532622e-04,\n",
       "        -2.40670328e-05],\n",
       "       [-2.74174181e-04,  1.87915362e-04, -2.40670328e-05,\n",
       "         8.02089658e-07]])\n",
       "      jac: array([-0.00480652, -0.02090454, -0.1355896 ,  0.00663757])\n",
       "  message: 'Desired error not necessarily achieved due to precision loss.'\n",
       "     nfev: 252\n",
       "      nit: 10\n",
       "     njev: 48\n",
       "   status: 2\n",
       "  success: False\n",
       "        x: array([ 1.21179811e+02,  2.79231265e+00,  2.52937576e-01, -1.63826514e-02])"
      ]
     },
     "execution_count": 125,
     "metadata": {},
     "output_type": "execute_result"
    }
   ],
   "source": [
    "sol = opt.minimize(funcion_precios, \n",
    "                  beta_inicial,\n",
    "                  args = (X, y))\n",
    "sol"
   ]
  },
  {
   "cell_type": "markdown",
   "id": "b05aa098",
   "metadata": {},
   "source": [
    "- Acomodamos los resultados de nuestro modelo"
   ]
  },
  {
   "cell_type": "code",
   "execution_count": 126,
   "id": "c0541eb7",
   "metadata": {
    "scrolled": true
   },
   "outputs": [
    {
     "data": {
      "text/plain": [
       "array([121.17981073, 124.20867831, 127.64512512, 131.39085528,\n",
       "       135.34757286, 139.41698196, 143.50078667, 147.50069108,\n",
       "       151.31839929, 154.85561538, 158.01404345, 160.6953876 ,\n",
       "       162.8013519 , 164.23364046, 164.89395736, 164.6840067 ,\n",
       "       163.50549257, 161.26011906, 157.84959027, 153.17561027,\n",
       "       147.13988318])"
      ]
     },
     "execution_count": 126,
     "metadata": {},
     "output_type": "execute_result"
    }
   ],
   "source": [
    "y_predA1 = X @ sol.x\n",
    "y_predA1"
   ]
  },
  {
   "cell_type": "markdown",
   "id": "6c78cb5b",
   "metadata": {},
   "source": [
    "- Repetimos el mismo proceso para los demás modelos que vamos a proponer"
   ]
  },
  {
   "cell_type": "markdown",
   "id": "542fdbdf",
   "metadata": {},
   "source": [
    "**Modelo con polinomio de grado 4**"
   ]
  },
  {
   "cell_type": "code",
   "execution_count": 127,
   "id": "462423d1",
   "metadata": {},
   "outputs": [],
   "source": [
    "def funcion_precios(beta, X, y) :\n",
    "    beta = np.reshape(beta, [5, -1])\n",
    "    pred = X @ beta\n",
    "    return ((y - pred).T @ (y - pred))[0][0]"
   ]
  },
  {
   "cell_type": "code",
   "execution_count": 128,
   "id": "75574d5f",
   "metadata": {},
   "outputs": [
    {
     "data": {
      "text/plain": [
       "array([[1.00000e+00, 0.00000e+00, 0.00000e+00, 0.00000e+00, 0.00000e+00],\n",
       "       [1.00000e+00, 1.00000e+00, 1.00000e+00, 1.00000e+00, 1.00000e+00],\n",
       "       [1.00000e+00, 2.00000e+00, 4.00000e+00, 8.00000e+00, 1.60000e+01],\n",
       "       [1.00000e+00, 3.00000e+00, 9.00000e+00, 2.70000e+01, 8.10000e+01],\n",
       "       [1.00000e+00, 4.00000e+00, 1.60000e+01, 6.40000e+01, 2.56000e+02],\n",
       "       [1.00000e+00, 5.00000e+00, 2.50000e+01, 1.25000e+02, 6.25000e+02],\n",
       "       [1.00000e+00, 6.00000e+00, 3.60000e+01, 2.16000e+02, 1.29600e+03],\n",
       "       [1.00000e+00, 7.00000e+00, 4.90000e+01, 3.43000e+02, 2.40100e+03],\n",
       "       [1.00000e+00, 8.00000e+00, 6.40000e+01, 5.12000e+02, 4.09600e+03],\n",
       "       [1.00000e+00, 9.00000e+00, 8.10000e+01, 7.29000e+02, 6.56100e+03],\n",
       "       [1.00000e+00, 1.00000e+01, 1.00000e+02, 1.00000e+03, 1.00000e+04],\n",
       "       [1.00000e+00, 1.10000e+01, 1.21000e+02, 1.33100e+03, 1.46410e+04],\n",
       "       [1.00000e+00, 1.20000e+01, 1.44000e+02, 1.72800e+03, 2.07360e+04],\n",
       "       [1.00000e+00, 1.30000e+01, 1.69000e+02, 2.19700e+03, 2.85610e+04],\n",
       "       [1.00000e+00, 1.40000e+01, 1.96000e+02, 2.74400e+03, 3.84160e+04],\n",
       "       [1.00000e+00, 1.50000e+01, 2.25000e+02, 3.37500e+03, 5.06250e+04],\n",
       "       [1.00000e+00, 1.60000e+01, 2.56000e+02, 4.09600e+03, 6.55360e+04],\n",
       "       [1.00000e+00, 1.70000e+01, 2.89000e+02, 4.91300e+03, 8.35210e+04],\n",
       "       [1.00000e+00, 1.80000e+01, 3.24000e+02, 5.83200e+03, 1.04976e+05],\n",
       "       [1.00000e+00, 1.90000e+01, 3.61000e+02, 6.85900e+03, 1.30321e+05],\n",
       "       [1.00000e+00, 2.00000e+01, 4.00000e+02, 8.00000e+03, 1.60000e+05]])"
      ]
     },
     "execution_count": 128,
     "metadata": {},
     "output_type": "execute_result"
    }
   ],
   "source": [
    "# Creamos la matriz X\n",
    "\n",
    "ones = np.ones([m, 1])\n",
    "x_1 = np.reshape(x, [m, -1])\n",
    "x_2 = np.reshape(x**2, [m, -1])\n",
    "x_3 = np.reshape(x**3, [m, -1])\n",
    "x_4 = np.reshape(x**4, [m, -1])\n",
    "X = np.hstack((ones, x_1, x_2, x_3, x_4))\n",
    "X"
   ]
  },
  {
   "cell_type": "code",
   "execution_count": 129,
   "id": "43fbd564",
   "metadata": {},
   "outputs": [],
   "source": [
    "beta_inicial = np.random.rand(5)\n",
    "y = np.reshape(y, [m, -1])"
   ]
  },
  {
   "cell_type": "code",
   "execution_count": 130,
   "id": "a403e8cf",
   "metadata": {},
   "outputs": [
    {
     "data": {
      "text/plain": [
       "7717784987.10779"
      ]
     },
     "execution_count": 130,
     "metadata": {},
     "output_type": "execute_result"
    }
   ],
   "source": [
    "funcion_precios(beta_inicial, X, y)"
   ]
  },
  {
   "cell_type": "code",
   "execution_count": 131,
   "id": "b2bc8f6b",
   "metadata": {},
   "outputs": [
    {
     "data": {
      "text/plain": [
       "      fun: 1209.869816626791\n",
       " hess_inv: array([[ 3.59001340e-01, -2.05686829e-01,  3.48061574e-02,\n",
       "        -2.25507805e-03,  4.94316947e-05],\n",
       "       [-2.05686829e-01,  1.88809207e-01, -3.81890383e-02,\n",
       "         2.72165932e-03, -6.33167780e-05],\n",
       "       [ 3.48061574e-02, -3.81890383e-02,  8.37661256e-03,\n",
       "        -6.26698717e-04,  1.50631806e-05],\n",
       "       [-2.25507805e-03,  2.72165932e-03, -6.26698717e-04,\n",
       "         4.83944698e-05, -1.18972439e-06],\n",
       "       [ 4.94316947e-05, -6.33167780e-05,  1.50631806e-05,\n",
       "        -1.18972439e-06,  2.97427004e-08]])\n",
       "      jac: array([-0.01780701, -0.02514648,  0.01132202,  0.03857422,  0.73072815])\n",
       "  message: 'Desired error not necessarily achieved due to precision loss.'\n",
       "     nfev: 246\n",
       "      nit: 9\n",
       "     njev: 39\n",
       "   status: 2\n",
       "  success: False\n",
       "        x: array([ 1.32518765e+02, -1.17393241e+01,  3.71034684e+00, -2.89464374e-01,\n",
       "        6.82702463e-03])"
      ]
     },
     "execution_count": 131,
     "metadata": {},
     "output_type": "execute_result"
    }
   ],
   "source": [
    "import scipy.optimize as opt\n",
    "sol = opt.minimize(funcion_precios, \n",
    "                  beta_inicial,\n",
    "                  args = (X, y))\n",
    "sol"
   ]
  },
  {
   "cell_type": "code",
   "execution_count": 132,
   "id": "97d9e0bf",
   "metadata": {
    "scrolled": true
   },
   "outputs": [
    {
     "data": {
      "text/plain": [
       "array([132.51876469, 124.20715004, 121.67502117, 123.43136471,\n",
       "       128.1490159 , 134.66465857, 141.97882513, 149.25589659,\n",
       "       155.82410256, 161.17552121, 164.96607934, 167.01555231,\n",
       "       167.30756408, 165.98958721, 163.37294285, 159.93280072,\n",
       "       156.30817917, 153.30194509, 151.88081401, 153.17535003,\n",
       "       158.47996583])"
      ]
     },
     "execution_count": 132,
     "metadata": {},
     "output_type": "execute_result"
    }
   ],
   "source": [
    "y_predA2 = X @ sol.x\n",
    "y_predA2"
   ]
  },
  {
   "cell_type": "markdown",
   "id": "5ee94ce7",
   "metadata": {},
   "source": [
    "**Modelo con polinomio de grado 5**"
   ]
  },
  {
   "cell_type": "code",
   "execution_count": 133,
   "id": "755bcb14",
   "metadata": {},
   "outputs": [],
   "source": [
    "def funcion_precios(beta, X, y) :\n",
    "    beta = np.reshape(beta, [6, -1])\n",
    "    pred = X @ beta\n",
    "    return ((y - pred).T @ (y - pred))[0][0]"
   ]
  },
  {
   "cell_type": "code",
   "execution_count": 134,
   "id": "ebc27fdf",
   "metadata": {},
   "outputs": [
    {
     "data": {
      "text/plain": [
       "array([[1.000000e+00, 0.000000e+00, 0.000000e+00, 0.000000e+00,\n",
       "        0.000000e+00, 0.000000e+00],\n",
       "       [1.000000e+00, 1.000000e+00, 1.000000e+00, 1.000000e+00,\n",
       "        1.000000e+00, 1.000000e+00],\n",
       "       [1.000000e+00, 2.000000e+00, 4.000000e+00, 8.000000e+00,\n",
       "        1.600000e+01, 3.200000e+01],\n",
       "       [1.000000e+00, 3.000000e+00, 9.000000e+00, 2.700000e+01,\n",
       "        8.100000e+01, 2.430000e+02],\n",
       "       [1.000000e+00, 4.000000e+00, 1.600000e+01, 6.400000e+01,\n",
       "        2.560000e+02, 1.024000e+03],\n",
       "       [1.000000e+00, 5.000000e+00, 2.500000e+01, 1.250000e+02,\n",
       "        6.250000e+02, 3.125000e+03],\n",
       "       [1.000000e+00, 6.000000e+00, 3.600000e+01, 2.160000e+02,\n",
       "        1.296000e+03, 7.776000e+03],\n",
       "       [1.000000e+00, 7.000000e+00, 4.900000e+01, 3.430000e+02,\n",
       "        2.401000e+03, 1.680700e+04],\n",
       "       [1.000000e+00, 8.000000e+00, 6.400000e+01, 5.120000e+02,\n",
       "        4.096000e+03, 3.276800e+04],\n",
       "       [1.000000e+00, 9.000000e+00, 8.100000e+01, 7.290000e+02,\n",
       "        6.561000e+03, 5.904900e+04],\n",
       "       [1.000000e+00, 1.000000e+01, 1.000000e+02, 1.000000e+03,\n",
       "        1.000000e+04, 1.000000e+05],\n",
       "       [1.000000e+00, 1.100000e+01, 1.210000e+02, 1.331000e+03,\n",
       "        1.464100e+04, 1.610510e+05],\n",
       "       [1.000000e+00, 1.200000e+01, 1.440000e+02, 1.728000e+03,\n",
       "        2.073600e+04, 2.488320e+05],\n",
       "       [1.000000e+00, 1.300000e+01, 1.690000e+02, 2.197000e+03,\n",
       "        2.856100e+04, 3.712930e+05],\n",
       "       [1.000000e+00, 1.400000e+01, 1.960000e+02, 2.744000e+03,\n",
       "        3.841600e+04, 5.378240e+05],\n",
       "       [1.000000e+00, 1.500000e+01, 2.250000e+02, 3.375000e+03,\n",
       "        5.062500e+04, 7.593750e+05],\n",
       "       [1.000000e+00, 1.600000e+01, 2.560000e+02, 4.096000e+03,\n",
       "        6.553600e+04, 1.048576e+06],\n",
       "       [1.000000e+00, 1.700000e+01, 2.890000e+02, 4.913000e+03,\n",
       "        8.352100e+04, 1.419857e+06],\n",
       "       [1.000000e+00, 1.800000e+01, 3.240000e+02, 5.832000e+03,\n",
       "        1.049760e+05, 1.889568e+06],\n",
       "       [1.000000e+00, 1.900000e+01, 3.610000e+02, 6.859000e+03,\n",
       "        1.303210e+05, 2.476099e+06],\n",
       "       [1.000000e+00, 2.000000e+01, 4.000000e+02, 8.000000e+03,\n",
       "        1.600000e+05, 3.200000e+06]])"
      ]
     },
     "execution_count": 134,
     "metadata": {},
     "output_type": "execute_result"
    }
   ],
   "source": [
    "# Creamos la matriz X\n",
    "\n",
    "ones = np.ones([m, 1])\n",
    "x_1 = np.reshape(x, [m, -1])\n",
    "x_2 = np.reshape(x**2, [m, -1])\n",
    "x_3 = np.reshape(x**3, [m, -1])\n",
    "x_4 = np.reshape(x**4, [m, -1])\n",
    "x_5 = np.reshape(x**5, [m, -1])\n",
    "X = np.hstack((ones, x_1, x_2, x_3, x_4, x_5))\n",
    "X"
   ]
  },
  {
   "cell_type": "code",
   "execution_count": 135,
   "id": "6dd58091",
   "metadata": {},
   "outputs": [],
   "source": [
    "beta_inicial = np.random.rand(6)\n",
    "y = np.reshape(y, [m, -1])"
   ]
  },
  {
   "cell_type": "code",
   "execution_count": 136,
   "id": "ee11d70c",
   "metadata": {},
   "outputs": [
    {
     "data": {
      "text/plain": [
       "5323494339553.215"
      ]
     },
     "execution_count": 136,
     "metadata": {},
     "output_type": "execute_result"
    }
   ],
   "source": [
    "funcion_precios(beta_inicial, X, y)"
   ]
  },
  {
   "cell_type": "code",
   "execution_count": 137,
   "id": "87e24b27",
   "metadata": {
    "scrolled": true
   },
   "outputs": [
    {
     "data": {
      "text/plain": [
       "      fun: 1168.003951705367\n",
       " hess_inv: array([[ 4.20236392e-01, -3.47726611e-01,  8.86756720e-02,\n",
       "        -9.60920042e-03,  4.64926032e-04, -8.27313716e-06],\n",
       "       [-3.47726611e-01,  5.11192233e-01, -1.60479295e-01,\n",
       "         1.94354775e-02, -1.00855540e-03,  1.88358415e-05],\n",
       "       [ 8.86756720e-02, -1.60479295e-01,  5.50393164e-02,\n",
       "        -7.02830092e-03,  3.77989906e-04, -7.24423566e-06],\n",
       "       [-9.60920042e-03,  1.94354775e-02, -7.02830092e-03,\n",
       "         9.28680298e-04, -5.11710032e-05,  9.98678481e-07],\n",
       "       [ 4.64926032e-04, -1.00855540e-03,  3.77989906e-04,\n",
       "        -5.11710032e-05,  2.87033277e-06, -5.67949893e-08],\n",
       "       [-8.27313716e-06,  1.88358415e-05, -7.24423566e-06,\n",
       "         9.98678481e-07, -5.67949893e-08,  1.13606457e-09]])\n",
       "      jac: array([2.49658203e+00, 1.24613495e+01, 5.68469238e+01, 7.14934738e+02,\n",
       "       1.30666349e+04, 2.40056212e+05])\n",
       "  message: 'Desired error not necessarily achieved due to precision loss.'\n",
       "     nfev: 355\n",
       "      nit: 7\n",
       "     njev: 49\n",
       "   status: 2\n",
       "  success: False\n",
       "        x: array([ 1.30877321e+02, -8.72376423e+00,  2.69070660e+00, -1.59892011e-01,\n",
       "       -1.43975886e-04,  1.33978033e-04])"
      ]
     },
     "execution_count": 137,
     "metadata": {},
     "output_type": "execute_result"
    }
   ],
   "source": [
    "sol = opt.minimize(funcion_precios, \n",
    "                  beta_inicial,\n",
    "                  args = (X, y))\n",
    "sol"
   ]
  },
  {
   "cell_type": "code",
   "execution_count": 138,
   "id": "fe9f0188",
   "metadata": {
    "scrolled": true
   },
   "outputs": [
    {
     "data": {
      "text/plain": [
       "array([130.87732127, 124.68436163, 122.9154668 , 124.62619828,\n",
       "       128.90081688, 134.86836008, 141.71871941, 148.71871778,\n",
       "       155.22818685, 160.71604445, 164.77637185, 167.14449122,\n",
       "       167.71304291, 166.54806287, 163.90506001, 160.24509351,\n",
       "       156.25085028, 152.84272221, 151.19488363, 152.75136863,\n",
       "       159.24214842])"
      ]
     },
     "execution_count": 138,
     "metadata": {},
     "output_type": "execute_result"
    }
   ],
   "source": [
    "y_predA3 = X @ sol.x\n",
    "y_predA3"
   ]
  },
  {
   "cell_type": "markdown",
   "id": "f790f7f0",
   "metadata": {},
   "source": [
    "**Modelo con polinomio de grado 6**"
   ]
  },
  {
   "cell_type": "code",
   "execution_count": 139,
   "id": "8aa6c433",
   "metadata": {},
   "outputs": [],
   "source": [
    "def funcion_precios(beta, X, y) :\n",
    "    beta = np.reshape(beta, [7, -1])\n",
    "    pred = X @ beta\n",
    "    return ((y - pred).T @ (y - pred))[0][0]"
   ]
  },
  {
   "cell_type": "code",
   "execution_count": 140,
   "id": "c6d0fd33",
   "metadata": {},
   "outputs": [
    {
     "data": {
      "text/plain": [
       "array([[1.0000000e+00, 0.0000000e+00, 0.0000000e+00, 0.0000000e+00,\n",
       "        0.0000000e+00, 0.0000000e+00, 0.0000000e+00],\n",
       "       [1.0000000e+00, 1.0000000e+00, 1.0000000e+00, 1.0000000e+00,\n",
       "        1.0000000e+00, 1.0000000e+00, 1.0000000e+00],\n",
       "       [1.0000000e+00, 2.0000000e+00, 4.0000000e+00, 8.0000000e+00,\n",
       "        1.6000000e+01, 3.2000000e+01, 6.4000000e+01],\n",
       "       [1.0000000e+00, 3.0000000e+00, 9.0000000e+00, 2.7000000e+01,\n",
       "        8.1000000e+01, 2.4300000e+02, 7.2900000e+02],\n",
       "       [1.0000000e+00, 4.0000000e+00, 1.6000000e+01, 6.4000000e+01,\n",
       "        2.5600000e+02, 1.0240000e+03, 4.0960000e+03],\n",
       "       [1.0000000e+00, 5.0000000e+00, 2.5000000e+01, 1.2500000e+02,\n",
       "        6.2500000e+02, 3.1250000e+03, 1.5625000e+04],\n",
       "       [1.0000000e+00, 6.0000000e+00, 3.6000000e+01, 2.1600000e+02,\n",
       "        1.2960000e+03, 7.7760000e+03, 4.6656000e+04],\n",
       "       [1.0000000e+00, 7.0000000e+00, 4.9000000e+01, 3.4300000e+02,\n",
       "        2.4010000e+03, 1.6807000e+04, 1.1764900e+05],\n",
       "       [1.0000000e+00, 8.0000000e+00, 6.4000000e+01, 5.1200000e+02,\n",
       "        4.0960000e+03, 3.2768000e+04, 2.6214400e+05],\n",
       "       [1.0000000e+00, 9.0000000e+00, 8.1000000e+01, 7.2900000e+02,\n",
       "        6.5610000e+03, 5.9049000e+04, 5.3144100e+05],\n",
       "       [1.0000000e+00, 1.0000000e+01, 1.0000000e+02, 1.0000000e+03,\n",
       "        1.0000000e+04, 1.0000000e+05, 1.0000000e+06],\n",
       "       [1.0000000e+00, 1.1000000e+01, 1.2100000e+02, 1.3310000e+03,\n",
       "        1.4641000e+04, 1.6105100e+05, 1.7715610e+06],\n",
       "       [1.0000000e+00, 1.2000000e+01, 1.4400000e+02, 1.7280000e+03,\n",
       "        2.0736000e+04, 2.4883200e+05, 2.9859840e+06],\n",
       "       [1.0000000e+00, 1.3000000e+01, 1.6900000e+02, 2.1970000e+03,\n",
       "        2.8561000e+04, 3.7129300e+05, 4.8268090e+06],\n",
       "       [1.0000000e+00, 1.4000000e+01, 1.9600000e+02, 2.7440000e+03,\n",
       "        3.8416000e+04, 5.3782400e+05, 7.5295360e+06],\n",
       "       [1.0000000e+00, 1.5000000e+01, 2.2500000e+02, 3.3750000e+03,\n",
       "        5.0625000e+04, 7.5937500e+05, 1.1390625e+07],\n",
       "       [1.0000000e+00, 1.6000000e+01, 2.5600000e+02, 4.0960000e+03,\n",
       "        6.5536000e+04, 1.0485760e+06, 1.6777216e+07],\n",
       "       [1.0000000e+00, 1.7000000e+01, 2.8900000e+02, 4.9130000e+03,\n",
       "        8.3521000e+04, 1.4198570e+06, 2.4137569e+07],\n",
       "       [1.0000000e+00, 1.8000000e+01, 3.2400000e+02, 5.8320000e+03,\n",
       "        1.0497600e+05, 1.8895680e+06, 3.4012224e+07],\n",
       "       [1.0000000e+00, 1.9000000e+01, 3.6100000e+02, 6.8590000e+03,\n",
       "        1.3032100e+05, 2.4760990e+06, 4.7045881e+07],\n",
       "       [1.0000000e+00, 2.0000000e+01, 4.0000000e+02, 8.0000000e+03,\n",
       "        1.6000000e+05, 3.2000000e+06, 6.4000000e+07]])"
      ]
     },
     "execution_count": 140,
     "metadata": {},
     "output_type": "execute_result"
    }
   ],
   "source": [
    "# Creamos la matriz X\n",
    "\n",
    "ones = np.ones([m, 1])\n",
    "x_1 = np.reshape(x, [m, -1])\n",
    "x_2 = np.reshape(x**2, [m, -1])\n",
    "x_3 = np.reshape(x**3, [m, -1])\n",
    "x_4 = np.reshape(x**4, [m, -1])\n",
    "x_5 = np.reshape(x**5, [m, -1])\n",
    "x_6 = np.reshape(x**6, [m, -1])\n",
    "X = np.hstack((ones, x_1, x_2, x_3, x_4, x_5, x_6))\n",
    "X"
   ]
  },
  {
   "cell_type": "code",
   "execution_count": 141,
   "id": "d855d485",
   "metadata": {},
   "outputs": [
    {
     "data": {
      "text/plain": [
       "8024502300321305.0"
      ]
     },
     "execution_count": 141,
     "metadata": {},
     "output_type": "execute_result"
    }
   ],
   "source": [
    "beta_inicial = np.random.rand(7)\n",
    "y = np.reshape(y, [m, -1])\n",
    "funcion_precios(beta_inicial, X, y)"
   ]
  },
  {
   "cell_type": "code",
   "execution_count": 142,
   "id": "8a626d16",
   "metadata": {},
   "outputs": [
    {
     "data": {
      "text/plain": [
       "      fun: 253915.92392330873\n",
       " hess_inv: array([[ 4.44225779e-01, -5.04748145e-01,  1.81958508e-01,\n",
       "        -2.93596700e-02,  2.35534666e-03, -9.18844461e-05,\n",
       "         1.38959860e-06],\n",
       "       [-5.04748145e-01,  1.11423297e+00, -5.06367764e-01,\n",
       "         9.23630759e-02, -7.99891369e-03,  3.28788868e-04,\n",
       "        -5.16431901e-06],\n",
       "       [ 1.81958508e-01, -5.06367764e-01,  2.51495233e-01,\n",
       "        -4.82945018e-02,  4.32738181e-03, -1.82254051e-04,\n",
       "         2.91545842e-06],\n",
       "       [-2.93596700e-02,  9.23630759e-02, -4.82945018e-02,\n",
       "         9.58092686e-03, -8.78469184e-04,  3.76411946e-05,\n",
       "        -6.10270556e-07],\n",
       "       [ 2.35534667e-03, -7.99891369e-03,  4.32738181e-03,\n",
       "        -8.78469183e-04,  8.19298892e-05, -3.55726001e-06,\n",
       "         5.82857828e-08],\n",
       "       [-9.18844475e-05,  3.28788868e-04, -1.82254050e-04,\n",
       "         3.76411946e-05, -3.55726000e-06,  1.56082869e-07,\n",
       "        -2.57947002e-09],\n",
       "       [ 1.38959863e-06, -5.16431901e-06,  2.91545841e-06,\n",
       "        -6.10270554e-07,  5.82857827e-08, -2.57947002e-09,\n",
       "         4.29339505e-11]])\n",
       "      jac: array([-2.47539062e+01, -2.91015625e+02, -4.64556641e+03, -7.26641641e+04,\n",
       "       -1.22952405e+06, -2.20869604e+07, -4.08920955e+08])\n",
       "  message: 'Desired error not necessarily achieved due to precision loss.'\n",
       "     nfev: 804\n",
       "      nit: 37\n",
       "     njev: 99\n",
       "   status: 2\n",
       "  success: False\n",
       "        x: array([-2.32855197e+01,  5.66017048e+02, -3.21140774e+02,  6.75251654e+01,\n",
       "       -6.45834417e+00,  2.85764769e-01, -4.75217089e-03])"
      ]
     },
     "execution_count": 142,
     "metadata": {},
     "output_type": "execute_result"
    }
   ],
   "source": [
    "sol = opt.minimize(funcion_precios, \n",
    "                  beta_inicial,\n",
    "                  args = (X, y))\n",
    "sol"
   ]
  },
  {
   "cell_type": "code",
   "execution_count": 143,
   "id": "0973a146",
   "metadata": {},
   "outputs": [
    {
     "data": {
      "text/plain": [
       "array([-23.28551972, 282.93858853, 269.89363134, 150.52875426,\n",
       "        43.96300093,   1.22317775,  27.56015564, 101.34360864,\n",
       "       189.5351896 , 259.74014271, 288.83735307, 268.1878332 ,\n",
       "       205.42164648, 122.80326762,  52.17538003,  26.48111019,\n",
       "        67.86469895, 172.35060979, 291.10107412, 308.25207341,\n",
       "        15.3277584 ])"
      ]
     },
     "execution_count": 143,
     "metadata": {},
     "output_type": "execute_result"
    }
   ],
   "source": [
    "y_predA4 = X @ sol.x\n",
    "y_predA4"
   ]
  },
  {
   "cell_type": "markdown",
   "id": "d81d40d6",
   "metadata": {},
   "source": [
    "**Polinomio de grado 7**"
   ]
  },
  {
   "cell_type": "code",
   "execution_count": 144,
   "id": "98289680",
   "metadata": {},
   "outputs": [],
   "source": [
    "# Creamos la función de precios\n",
    "\n",
    "def funcion_precios(beta, X, y) :\n",
    "    beta = np.reshape(beta, [8, -1])\n",
    "    pred = X @ beta\n",
    "    return ((y - pred).T @ (y - pred))[0][0]"
   ]
  },
  {
   "cell_type": "code",
   "execution_count": 145,
   "id": "468a91e3",
   "metadata": {},
   "outputs": [
    {
     "data": {
      "text/plain": [
       "array([[1.00000000e+00, 0.00000000e+00, 0.00000000e+00, 0.00000000e+00,\n",
       "        0.00000000e+00, 0.00000000e+00, 0.00000000e+00, 0.00000000e+00],\n",
       "       [1.00000000e+00, 1.00000000e+00, 1.00000000e+00, 1.00000000e+00,\n",
       "        1.00000000e+00, 1.00000000e+00, 1.00000000e+00, 1.00000000e+00],\n",
       "       [1.00000000e+00, 2.00000000e+00, 4.00000000e+00, 8.00000000e+00,\n",
       "        1.60000000e+01, 3.20000000e+01, 6.40000000e+01, 1.28000000e+02],\n",
       "       [1.00000000e+00, 3.00000000e+00, 9.00000000e+00, 2.70000000e+01,\n",
       "        8.10000000e+01, 2.43000000e+02, 7.29000000e+02, 2.18700000e+03],\n",
       "       [1.00000000e+00, 4.00000000e+00, 1.60000000e+01, 6.40000000e+01,\n",
       "        2.56000000e+02, 1.02400000e+03, 4.09600000e+03, 1.63840000e+04],\n",
       "       [1.00000000e+00, 5.00000000e+00, 2.50000000e+01, 1.25000000e+02,\n",
       "        6.25000000e+02, 3.12500000e+03, 1.56250000e+04, 7.81250000e+04],\n",
       "       [1.00000000e+00, 6.00000000e+00, 3.60000000e+01, 2.16000000e+02,\n",
       "        1.29600000e+03, 7.77600000e+03, 4.66560000e+04, 2.79936000e+05],\n",
       "       [1.00000000e+00, 7.00000000e+00, 4.90000000e+01, 3.43000000e+02,\n",
       "        2.40100000e+03, 1.68070000e+04, 1.17649000e+05, 8.23543000e+05],\n",
       "       [1.00000000e+00, 8.00000000e+00, 6.40000000e+01, 5.12000000e+02,\n",
       "        4.09600000e+03, 3.27680000e+04, 2.62144000e+05, 2.09715200e+06],\n",
       "       [1.00000000e+00, 9.00000000e+00, 8.10000000e+01, 7.29000000e+02,\n",
       "        6.56100000e+03, 5.90490000e+04, 5.31441000e+05, 4.78296900e+06],\n",
       "       [1.00000000e+00, 1.00000000e+01, 1.00000000e+02, 1.00000000e+03,\n",
       "        1.00000000e+04, 1.00000000e+05, 1.00000000e+06, 1.00000000e+07],\n",
       "       [1.00000000e+00, 1.10000000e+01, 1.21000000e+02, 1.33100000e+03,\n",
       "        1.46410000e+04, 1.61051000e+05, 1.77156100e+06, 1.94871710e+07],\n",
       "       [1.00000000e+00, 1.20000000e+01, 1.44000000e+02, 1.72800000e+03,\n",
       "        2.07360000e+04, 2.48832000e+05, 2.98598400e+06, 3.58318080e+07],\n",
       "       [1.00000000e+00, 1.30000000e+01, 1.69000000e+02, 2.19700000e+03,\n",
       "        2.85610000e+04, 3.71293000e+05, 4.82680900e+06, 6.27485170e+07],\n",
       "       [1.00000000e+00, 1.40000000e+01, 1.96000000e+02, 2.74400000e+03,\n",
       "        3.84160000e+04, 5.37824000e+05, 7.52953600e+06, 1.05413504e+08],\n",
       "       [1.00000000e+00, 1.50000000e+01, 2.25000000e+02, 3.37500000e+03,\n",
       "        5.06250000e+04, 7.59375000e+05, 1.13906250e+07, 1.70859375e+08],\n",
       "       [1.00000000e+00, 1.60000000e+01, 2.56000000e+02, 4.09600000e+03,\n",
       "        6.55360000e+04, 1.04857600e+06, 1.67772160e+07, 2.68435456e+08],\n",
       "       [1.00000000e+00, 1.70000000e+01, 2.89000000e+02, 4.91300000e+03,\n",
       "        8.35210000e+04, 1.41985700e+06, 2.41375690e+07, 4.10338673e+08],\n",
       "       [1.00000000e+00, 1.80000000e+01, 3.24000000e+02, 5.83200000e+03,\n",
       "        1.04976000e+05, 1.88956800e+06, 3.40122240e+07, 6.12220032e+08],\n",
       "       [1.00000000e+00, 1.90000000e+01, 3.61000000e+02, 6.85900000e+03,\n",
       "        1.30321000e+05, 2.47609900e+06, 4.70458810e+07, 8.93871739e+08],\n",
       "       [1.00000000e+00, 2.00000000e+01, 4.00000000e+02, 8.00000000e+03,\n",
       "        1.60000000e+05, 3.20000000e+06, 6.40000000e+07, 1.28000000e+09]])"
      ]
     },
     "execution_count": 145,
     "metadata": {},
     "output_type": "execute_result"
    }
   ],
   "source": [
    "# Creamos la matriz X\n",
    "\n",
    "ones = np.ones([m, 1])\n",
    "x_1 = np.reshape(x, [m, -1])\n",
    "x_2 = np.reshape(x**2, [m, -1])\n",
    "x_3 = np.reshape(x**3, [m, -1])\n",
    "x_4 = np.reshape(x**4, [m, -1])\n",
    "x_5 = np.reshape(x**5, [m, -1])\n",
    "x_6 = np.reshape(x**6, [m, -1])\n",
    "x_7 = np.reshape(x**7, [m, -1])\n",
    "X = np.hstack((ones, x_1, x_2, x_3, x_4, x_5, x_6, x_7))\n",
    "X"
   ]
  },
  {
   "cell_type": "code",
   "execution_count": 146,
   "id": "e39c38a6",
   "metadata": {},
   "outputs": [
    {
     "data": {
      "text/plain": [
       "1.1237732966682611e+18"
      ]
     },
     "execution_count": 146,
     "metadata": {},
     "output_type": "execute_result"
    }
   ],
   "source": [
    "beta_inicial = np.random.rand(8)\n",
    "y = np.reshape(y, [m, -1])\n",
    "funcion_precios(beta_inicial, X, y)"
   ]
  },
  {
   "cell_type": "code",
   "execution_count": 147,
   "id": "e0cc2464",
   "metadata": {},
   "outputs": [
    {
     "data": {
      "text/plain": [
       "      fun: 14428217.54651861\n",
       " hess_inv: array([[ 4.77113784e-08, -8.07208380e-08, -4.38534893e-08,\n",
       "        -1.18904343e-07, -8.71429238e-08,  1.98537571e-08,\n",
       "        -1.30964294e-09,  2.75223514e-11],\n",
       "       [-8.07208382e-08,  1.42499398e-07,  7.58190673e-08,\n",
       "         2.04214584e-07,  1.47374224e-07, -3.40733966e-08,\n",
       "         2.26945744e-09, -4.80605331e-11],\n",
       "       [-4.38534892e-08,  7.58190671e-08,  4.19755657e-08,\n",
       "         1.10892560e-07,  8.13965903e-08, -1.85992054e-08,\n",
       "         1.22956949e-09, -2.58852055e-11],\n",
       "       [-1.18904343e-07,  2.04214584e-07,  1.10892560e-07,\n",
       "         3.06035430e-07,  2.17940378e-07, -5.05756798e-08,\n",
       "         3.37430960e-09, -7.15403754e-11],\n",
       "       [-8.71429238e-08,  1.47374223e-07,  8.13965903e-08,\n",
       "         2.17940378e-07,  1.62824308e-07, -3.66313659e-08,\n",
       "         2.39692679e-09, -5.00485696e-11],\n",
       "       [ 1.98537571e-08, -3.40733965e-08, -1.85992054e-08,\n",
       "        -5.05756798e-08, -3.66313659e-08,  8.44442242e-09,\n",
       "        -5.61301864e-10,  1.18665176e-11],\n",
       "       [-1.30964294e-09,  2.26945743e-09,  1.22956950e-09,\n",
       "         3.37430959e-09,  2.39692680e-09, -5.61301865e-10,\n",
       "         3.76902133e-11, -8.03249556e-13],\n",
       "       [ 2.75223515e-11, -4.80605329e-11, -2.58852056e-11,\n",
       "        -7.15403751e-11, -5.00485698e-11,  1.18665176e-11,\n",
       "        -8.03249557e-13,  1.72292986e-14]])\n",
       "      jac: array([ 6.26312500e+03,  3.71750000e+04,  1.24090000e+05, -9.09345750e+05,\n",
       "       -2.90713099e+07, -5.35672666e+08, -1.01773551e+10, -1.91086096e+11])\n",
       "  message: 'Desired error not necessarily achieved due to precision loss.'\n",
       "     nfev: 633\n",
       "      nit: 19\n",
       "     njev: 69\n",
       "   status: 2\n",
       "  success: False\n",
       "        x: array([ 4.20077594e+00,  4.14662157e+01,  6.31351173e+00, -1.96082207e+01,\n",
       "        8.33403027e+00, -1.14692212e+00,  6.31746492e-02, -1.21420806e-03])"
      ]
     },
     "execution_count": 147,
     "metadata": {},
     "output_type": "execute_result"
    }
   ],
   "source": [
    "sol = opt.minimize(funcion_precios, \n",
    "                  beta_inicial,\n",
    "                  args = (X, y))\n",
    "sol"
   ]
  },
  {
   "cell_type": "code",
   "execution_count": 148,
   "id": "bd3f0a42",
   "metadata": {},
   "outputs": [
    {
     "data": {
      "text/plain": [
       "array([    4.20077594,    39.62135122,    56.05222408,    95.75229336,\n",
       "         214.0889812 ,   435.22325209,   734.92155333,  1044.37506849,\n",
       "        1268.90667515,  1315.44599833,  1122.65295091,   687.57015262,\n",
       "          82.68461874,  -542.72088994,  -983.0464646 , -1024.80320191,\n",
       "        -529.1105222 ,   445.61773911,  1474.67885816,  1545.65875874,\n",
       "       -1221.53805061])"
      ]
     },
     "execution_count": 148,
     "metadata": {},
     "output_type": "execute_result"
    }
   ],
   "source": [
    "y_predA5 = X @ sol.x\n",
    "y_predA5"
   ]
  },
  {
   "cell_type": "markdown",
   "id": "c928efb5",
   "metadata": {},
   "source": [
    "**Solución y visualización del problema de optimización:**\n",
    "\n",
    "- Ya que obtuvimos los 5 modelos, pasamos a graficar cada uno, junto con los precios de la acción de Apple"
   ]
  },
  {
   "cell_type": "code",
   "execution_count": 149,
   "id": "a3c84158",
   "metadata": {
    "scrolled": true
   },
   "outputs": [
    {
     "data": {
      "image/png": "[encoded data removed]",
      "text/plain": [
       "<Figure size 432x288 with 1 Axes>"
      ]
     },
     "metadata": {
      "needs_background": "light"
     },
     "output_type": "display_data"
    }
   ],
   "source": [
    "x = np.linspace(0, 20, m)\n",
    "y = dataApple\n",
    "\n",
    "plt.figure()\n",
    "plt.scatter(x, y, s = 50)\n",
    "plt.plot(x, y_predA1, \"b\")\n",
    "plt.plot(x, y_predA2, \"r\")\n",
    "plt.plot(x, y_predA3, \"g\")\n",
    "plt.plot(x, y_predA4, \"black\")\n",
    "plt.plot(x, y_predA5, \"y\")\n",
    "plt.grid()"
   ]
  },
  {
   "cell_type": "markdown",
   "id": "43d08b63",
   "metadata": {},
   "source": [
    "## Análisis de resultados:\n",
    "\n",
    "Obtenemos la siguiente gráfica. Esta gráfica no representa los precios de la acción de Apple, sólo se puede observar una tendencia bajista de la curva del modelo con polinomio de grado 7, que es la curva amarilla `y_predA5`\n",
    "\n",
    "Esto puede ser un sobreajuste (*overfitting*) de la función a los puntos reales, por lo que este modelo no es un modelo de los precios de la acción de Apple, y no nos servirá para predecir los precios de los siguientes tres meses."
   ]
  },
  {
   "cell_type": "markdown",
   "id": "62533a00",
   "metadata": {},
   "source": [
    "- Vamos a volver a graficar los precios y los modelos propuestos, esta vez ingorando el modelo `y_predA5`"
   ]
  },
  {
   "cell_type": "code",
   "execution_count": 150,
   "id": "bdcdf062",
   "metadata": {},
   "outputs": [
    {
     "data": {
      "image/png": "[encoded data removed]",
      "text/plain": [
       "<Figure size 432x288 with 1 Axes>"
      ]
     },
     "metadata": {
      "needs_background": "light"
     },
     "output_type": "display_data"
    }
   ],
   "source": [
    "x = np.linspace(0, 20, m)\n",
    "y = dataApple\n",
    "\n",
    "plt.figure()\n",
    "plt.scatter(x, y, s = 50)\n",
    "plt.plot(x, y_predA1, \"b\")\n",
    "plt.plot(x, y_predA2, \"r\")\n",
    "plt.plot(x, y_predA3, \"g\")\n",
    "plt.plot(x, y_predA4, \"black\")\n",
    "#plt.plot(x, y_predA5, \"y\")\n",
    "plt.grid()"
   ]
  },
  {
   "cell_type": "markdown",
   "id": "a43b2d17",
   "metadata": {},
   "source": [
    "## Análisis de resultados:\n",
    "\n",
    "- Obtenemos el siguiente gráfico. El modelo `y_predA4` que es un polinomio de grado 6 no es un modelo representativo de los precios de la acción de Apple, ya que la función se aleja demasiado de los precios y no pasa cerca de casi ninguno de los precios. Por lo tanto no es un buen modelo.\n",
    "\n",
    "- A continuación vamos a graficar los primeros tres modelos, que son `y_predA1`, `y_predA2`, y `y_predA3`, junto con los precios de la acción de Apple"
   ]
  },
  {
   "cell_type": "code",
   "execution_count": 151,
   "id": "2653ba4d",
   "metadata": {},
   "outputs": [
    {
     "data": {
      "image/png": "[encoded data removed]",
      "text/plain": [
       "<Figure size 432x288 with 1 Axes>"
      ]
     },
     "metadata": {
      "needs_background": "light"
     },
     "output_type": "display_data"
    }
   ],
   "source": [
    "x = np.linspace(0, 20, m)\n",
    "y = dataApple\n",
    "\n",
    "plt.figure()\n",
    "plt.scatter(x, y, s = 50)\n",
    "plt.plot(x, y_predA1, \"b\")\n",
    "plt.plot(x, y_predA2, \"r\")\n",
    "plt.plot(x, y_predA3, \"g\")\n",
    "#plt.plot(x, y_predA4, \"black\")\n",
    "#plt.plot(x, y_predA5, \"y\")\n",
    "plt.grid()"
   ]
  },
  {
   "cell_type": "markdown",
   "id": "d61a84cd",
   "metadata": {},
   "source": [
    "## Análisis de resultados:\n",
    "\n",
    "- Obtenemos el siguiente gráfico. Ahora sí obtenemos tres modelos que pueden ser representativos para los precios de la acción de Apple. \n",
    "\n",
    "- A simple vista podemos identificar que los modelos `y_predA2`, y `y_predA3` (*que son los modelos con polinomios de grado 4 y 5, respectivamente*), se ajustan o se acercan a la mayoría de los precios de las acciones de Apple, a comparación del modelo `y_predA1`, que es el modelo con polinomio de grado 3.\n",
    "\n",
    "- Entonces podemos determinar que ambos modelos `y_predA2` y `y_predA3` son los mejores modelos que podemos utilizar para predecir los precios de las acciones de Apple en los siguientes meses hasta el final del año.\n",
    "\n",
    "1. Modelo `y_predA2`: \n",
    "- $ y = 6.82629654e-03x^4 -2.89435350e-01x^3 + 3.70998894e+00x^2 -1.17380690e+01x + 1.32519412e+02 $\n",
    "\n",
    "2. Modelo `y_predA3`:\n",
    "- $ y = 1.00666709e-04x^5 + 1.71549588e-03x^4 -1.97717959e-01x^3 + 3.02738060e+00x^2 -9.90479912e+00x + 1.31771324e+02 $\n",
    "\n",
    "- Ahora daremos valores aleatorios a las variables para predecir los precios de la acción de Apple dentro de los siguientes 4 meses, es decir, del día de hoy hasta el 01 de enero de 2022."
   ]
  },
  {
   "cell_type": "markdown",
   "id": "a644add7",
   "metadata": {},
   "source": [
    "---"
   ]
  },
  {
   "cell_type": "markdown",
   "id": "d617ab4d",
   "metadata": {},
   "source": [
    "# Microsoft Corp.\n",
    "\n",
    "Los datos de los precios de la accción de Microsoft en los últimos meses se obtuvieron de *Investing.com* y se cotejaron con *Factset* para verificar los datos.\n",
    "\n",
    "El procedimiento para obtener los modelos será el mismo que se utilizó con Apple, por lo que omitiremos la explicación de cada línea de código.\n",
    "\n",
    "Para Microsoft vamos a empezar con un modelo con polinomio de grado 6, y llegaremos hasta un modelo con polinomio de grado 10. Esto con el objetivo de verificar si se sigue presentado un sobreajuste mientras más variables tengamos en nuestra función, ya que, como sucedió con los modelos propuestos para los precios de Apple, cuando llegamos al polinomio de grado 6, el modelo ya no era útil.\n",
    "\n",
    "Por lo que cuando obtengamos el modelo con polinomio de grado 6, graficaremos los precios y el modelo. Si el gráfico obtenido es igual al que obtuvimos con el `y_predA5`, en vez de aumentar de grado en los modelos, disminuiremos las variables para obtener modelos que sean más útiles y representativos.\n",
    "\n",
    "Si el polinomio con grado 6 es útil y puede ser representativo, aumentaremos las variables con los siguientes modelos como lo planteamos originalmente."
   ]
  },
  {
   "cell_type": "markdown",
   "id": "b87a0899",
   "metadata": {},
   "source": [
    "**Modelo que representa el problema:**\n",
    "\n",
    "Se va a realizar el ajuste de curvas.\n",
    "Necesitamos las librerías para poder trabajar con ajuste de curvas. Necesitaremos un archivo de excel donde están los precios de la acción de cada empresa y leeremos el archivo de excel utilizando `pandas`. Después vamos a usar `numpy` para ordenar los datos de los precios de las acciones como un arreglo numérico y de esta manera poder trabajar con los datos. Después utilizaremos funciones de python junto con operaciones de álgebra lineal para definir los modelos para realizar el ajuste de curvas. Y al final usaremos `scipy.optimize` para encontrar las betas o los pesos de cada modelo. Y por último usaremos la librería de `matplotlib` para graficar los resultados obtenidos"
   ]
  },
  {
   "cell_type": "markdown",
   "id": "e5166e1b",
   "metadata": {},
   "source": [
    "**Vamos a leer el archivo de excel y definir una nueva variable con los precios de Microsoft Corp, a los cuáles los convertiremos en un arreglo de Numpy para poder trabajar con el ajuste de curvas**"
   ]
  },
  {
   "cell_type": "code",
   "execution_count": 152,
   "id": "5c18f58e",
   "metadata": {},
   "outputs": [],
   "source": [
    "# Volvemos a importar las librerías\n",
    "\n",
    "import numpy as np\n",
    "import pandas as pd\n",
    "import matplotlib.pyplot as plt\n",
    "import scipy.optimize as opt"
   ]
  },
  {
   "cell_type": "code",
   "execution_count": 153,
   "id": "4f539e69",
   "metadata": {},
   "outputs": [],
   "source": [
    "data2 = pd.read_excel('PreciosProyecto1.xlsx')"
   ]
  },
  {
   "cell_type": "code",
   "execution_count": 154,
   "id": "bda88291",
   "metadata": {},
   "outputs": [
    {
     "data": {
      "text/html": [
       "<div>\n",
       "<style scoped>\n",
       "    .dataframe tbody tr th:only-of-type {\n",
       "        vertical-align: middle;\n",
       "    }\n",
       "\n",
       "    .dataframe tbody tr th {\n",
       "        vertical-align: top;\n",
       "    }\n",
       "\n",
       "    .dataframe thead th {\n",
       "        text-align: right;\n",
       "    }\n",
       "</style>\n",
       "<table border=\"1\" class=\"dataframe\">\n",
       "  <thead>\n",
       "    <tr style=\"text-align: right;\">\n",
       "      <th></th>\n",
       "      <th>Fecha</th>\n",
       "      <th>Precios Apple</th>\n",
       "      <th>Unnamed: 2</th>\n",
       "      <th>Fecha.1</th>\n",
       "      <th>Precios Microsoft</th>\n",
       "      <th>Unnamed: 5</th>\n",
       "      <th>Fecha.2</th>\n",
       "      <th>Precios Nike</th>\n",
       "      <th>Unnamed: 8</th>\n",
       "      <th>Fecha.3</th>\n",
       "      <th>Precios Starbucks</th>\n",
       "      <th>Unnamed: 11</th>\n",
       "      <th>Fecha.4</th>\n",
       "      <th>Precios Tesla</th>\n",
       "    </tr>\n",
       "  </thead>\n",
       "  <tbody>\n",
       "    <tr>\n",
       "      <th>0</th>\n",
       "      <td>01 de enero de 2021</td>\n",
       "      <td>131.96</td>\n",
       "      <td>NaN</td>\n",
       "      <td>01 de enero de 2021</td>\n",
       "      <td>231.96</td>\n",
       "      <td>NaN</td>\n",
       "      <td>01 de enero de 2021</td>\n",
       "      <td>133.59</td>\n",
       "      <td>NaN</td>\n",
       "      <td>01 de enero de 2021</td>\n",
       "      <td>96.81</td>\n",
       "      <td>NaN</td>\n",
       "      <td>01 de enero de 2021</td>\n",
       "      <td>264.51</td>\n",
       "    </tr>\n",
       "    <tr>\n",
       "      <th>1</th>\n",
       "      <td>01 de febrero de 2021</td>\n",
       "      <td>121.26</td>\n",
       "      <td>NaN</td>\n",
       "      <td>01 de febrero de 2021</td>\n",
       "      <td>232.38</td>\n",
       "      <td>NaN</td>\n",
       "      <td>01 de febrero de 2021</td>\n",
       "      <td>134.78</td>\n",
       "      <td>NaN</td>\n",
       "      <td>01 de febrero de 2021</td>\n",
       "      <td>108.03</td>\n",
       "      <td>NaN</td>\n",
       "      <td>01 de febrero de 2021</td>\n",
       "      <td>225.17</td>\n",
       "    </tr>\n",
       "    <tr>\n",
       "      <th>2</th>\n",
       "      <td>01 de marzo de 2021</td>\n",
       "      <td>122.15</td>\n",
       "      <td>NaN</td>\n",
       "      <td>01 de marzo de 2021</td>\n",
       "      <td>235.77</td>\n",
       "      <td>NaN</td>\n",
       "      <td>01 de marzo de 2021</td>\n",
       "      <td>132.89</td>\n",
       "      <td>NaN</td>\n",
       "      <td>01 de marzo de 2021</td>\n",
       "      <td>109.27</td>\n",
       "      <td>NaN</td>\n",
       "      <td>01 de marzo de 2021</td>\n",
       "      <td>222.64</td>\n",
       "    </tr>\n",
       "    <tr>\n",
       "      <th>3</th>\n",
       "      <td>01 de abril de 2021</td>\n",
       "      <td>131.46</td>\n",
       "      <td>NaN</td>\n",
       "      <td>01 de abril de 2021</td>\n",
       "      <td>252.18</td>\n",
       "      <td>NaN</td>\n",
       "      <td>01 de abril de 2021</td>\n",
       "      <td>132.62</td>\n",
       "      <td>NaN</td>\n",
       "      <td>01 de abril de 2021</td>\n",
       "      <td>114.49</td>\n",
       "      <td>NaN</td>\n",
       "      <td>01 de abril de 2021</td>\n",
       "      <td>236.48</td>\n",
       "    </tr>\n",
       "    <tr>\n",
       "      <th>4</th>\n",
       "      <td>01 de mayo de 2021</td>\n",
       "      <td>124.61</td>\n",
       "      <td>NaN</td>\n",
       "      <td>01 de mayo de 2021</td>\n",
       "      <td>249.68</td>\n",
       "      <td>NaN</td>\n",
       "      <td>01 de mayo de 2021</td>\n",
       "      <td>136.46</td>\n",
       "      <td>NaN</td>\n",
       "      <td>01 de mayo de 2021</td>\n",
       "      <td>113.88</td>\n",
       "      <td>NaN</td>\n",
       "      <td>01 de mayo de 2021</td>\n",
       "      <td>208.41</td>\n",
       "    </tr>\n",
       "    <tr>\n",
       "      <th>5</th>\n",
       "      <td>01 de junio de 2021</td>\n",
       "      <td>136.96</td>\n",
       "      <td>NaN</td>\n",
       "      <td>01 de junio de 2021</td>\n",
       "      <td>270.90</td>\n",
       "      <td>NaN</td>\n",
       "      <td>01 de junio de 2021</td>\n",
       "      <td>154.49</td>\n",
       "      <td>NaN</td>\n",
       "      <td>01 de junio de 2021</td>\n",
       "      <td>111.81</td>\n",
       "      <td>NaN</td>\n",
       "      <td>01 de junio de 2021</td>\n",
       "      <td>226.57</td>\n",
       "    </tr>\n",
       "    <tr>\n",
       "      <th>6</th>\n",
       "      <td>01 de julio de 2021</td>\n",
       "      <td>145.86</td>\n",
       "      <td>NaN</td>\n",
       "      <td>01 de julio de 2021</td>\n",
       "      <td>284.91</td>\n",
       "      <td>NaN</td>\n",
       "      <td>01 de julio de 2021</td>\n",
       "      <td>167.51</td>\n",
       "      <td>NaN</td>\n",
       "      <td>01 de julio de 2021</td>\n",
       "      <td>121.43</td>\n",
       "      <td>NaN</td>\n",
       "      <td>01 de julio de 2021</td>\n",
       "      <td>229.07</td>\n",
       "    </tr>\n",
       "    <tr>\n",
       "      <th>7</th>\n",
       "      <td>01 de agosto de 2021</td>\n",
       "      <td>151.83</td>\n",
       "      <td>NaN</td>\n",
       "      <td>01 de agosto de 2021</td>\n",
       "      <td>301.88</td>\n",
       "      <td>NaN</td>\n",
       "      <td>01 de agosto de 2021</td>\n",
       "      <td>164.74</td>\n",
       "      <td>NaN</td>\n",
       "      <td>01 de agosto de 2021</td>\n",
       "      <td>117.49</td>\n",
       "      <td>NaN</td>\n",
       "      <td>01 de agosto de 2021</td>\n",
       "      <td>245.24</td>\n",
       "    </tr>\n",
       "    <tr>\n",
       "      <th>8</th>\n",
       "      <td>01 de septiembre de 2021</td>\n",
       "      <td>141.50</td>\n",
       "      <td>NaN</td>\n",
       "      <td>01 de septiembre de 2021</td>\n",
       "      <td>281.92</td>\n",
       "      <td>NaN</td>\n",
       "      <td>01 de septiembre de 2021</td>\n",
       "      <td>145.23</td>\n",
       "      <td>NaN</td>\n",
       "      <td>01 de septiembre de 2021</td>\n",
       "      <td>110.31</td>\n",
       "      <td>NaN</td>\n",
       "      <td>01 de septiembre de 2021</td>\n",
       "      <td>258.49</td>\n",
       "    </tr>\n",
       "    <tr>\n",
       "      <th>9</th>\n",
       "      <td>01 de octubre de 2021</td>\n",
       "      <td>149.80</td>\n",
       "      <td>NaN</td>\n",
       "      <td>01 de octubre de 2021</td>\n",
       "      <td>331.62</td>\n",
       "      <td>NaN</td>\n",
       "      <td>01 de octubre de 2021</td>\n",
       "      <td>167.29</td>\n",
       "      <td>NaN</td>\n",
       "      <td>01 de octubre de 2021</td>\n",
       "      <td>106.07</td>\n",
       "      <td>NaN</td>\n",
       "      <td>01 de octubre de 2021</td>\n",
       "      <td>371.33</td>\n",
       "    </tr>\n",
       "    <tr>\n",
       "      <th>10</th>\n",
       "      <td>01 de noviembre de 2021</td>\n",
       "      <td>165.30</td>\n",
       "      <td>NaN</td>\n",
       "      <td>01 de noviembre de 2021</td>\n",
       "      <td>330.59</td>\n",
       "      <td>NaN</td>\n",
       "      <td>01 de noviembre de 2021</td>\n",
       "      <td>169.24</td>\n",
       "      <td>NaN</td>\n",
       "      <td>01 de noviembre de 2021</td>\n",
       "      <td>109.64</td>\n",
       "      <td>NaN</td>\n",
       "      <td>01 de noviembre de 2021</td>\n",
       "      <td>381.59</td>\n",
       "    </tr>\n",
       "    <tr>\n",
       "      <th>11</th>\n",
       "      <td>01 de diciembre 2021</td>\n",
       "      <td>177.57</td>\n",
       "      <td>NaN</td>\n",
       "      <td>01 de diciembre 2021</td>\n",
       "      <td>336.32</td>\n",
       "      <td>NaN</td>\n",
       "      <td>01 de diciembre 2021</td>\n",
       "      <td>166.67</td>\n",
       "      <td>NaN</td>\n",
       "      <td>01 de diciembre 2021</td>\n",
       "      <td>116.97</td>\n",
       "      <td>NaN</td>\n",
       "      <td>01 de diciembre 2021</td>\n",
       "      <td>352.26</td>\n",
       "    </tr>\n",
       "    <tr>\n",
       "      <th>12</th>\n",
       "      <td>01 de enero de 2022</td>\n",
       "      <td>174.78</td>\n",
       "      <td>NaN</td>\n",
       "      <td>01 de enero de 2022</td>\n",
       "      <td>310.98</td>\n",
       "      <td>NaN</td>\n",
       "      <td>01 de enero de 2022</td>\n",
       "      <td>148.07</td>\n",
       "      <td>NaN</td>\n",
       "      <td>01 de enero de 2022</td>\n",
       "      <td>98.32</td>\n",
       "      <td>NaN</td>\n",
       "      <td>01 de enero de 2022</td>\n",
       "      <td>312.24</td>\n",
       "    </tr>\n",
       "    <tr>\n",
       "      <th>13</th>\n",
       "      <td>01 de febrero de 2022</td>\n",
       "      <td>165.12</td>\n",
       "      <td>NaN</td>\n",
       "      <td>01 de febrero de 2022</td>\n",
       "      <td>298.79</td>\n",
       "      <td>NaN</td>\n",
       "      <td>01 de febrero de 2022</td>\n",
       "      <td>136.55</td>\n",
       "      <td>NaN</td>\n",
       "      <td>01 de febrero de 2022</td>\n",
       "      <td>91.79</td>\n",
       "      <td>NaN</td>\n",
       "      <td>01 de febrero de 2022</td>\n",
       "      <td>290.14</td>\n",
       "    </tr>\n",
       "    <tr>\n",
       "      <th>14</th>\n",
       "      <td>01 de marzo de 2022</td>\n",
       "      <td>174.61</td>\n",
       "      <td>NaN</td>\n",
       "      <td>01 de marzo de 2022</td>\n",
       "      <td>308.31</td>\n",
       "      <td>NaN</td>\n",
       "      <td>01 de marzo de 2022</td>\n",
       "      <td>134.56</td>\n",
       "      <td>NaN</td>\n",
       "      <td>01 de marzo de 2022</td>\n",
       "      <td>90.97</td>\n",
       "      <td>NaN</td>\n",
       "      <td>01 de marzo de 2022</td>\n",
       "      <td>359.20</td>\n",
       "    </tr>\n",
       "    <tr>\n",
       "      <th>15</th>\n",
       "      <td>01 de abril de 2022</td>\n",
       "      <td>157.65</td>\n",
       "      <td>NaN</td>\n",
       "      <td>01 de abril de 2022</td>\n",
       "      <td>277.52</td>\n",
       "      <td>NaN</td>\n",
       "      <td>01 de abril de 2022</td>\n",
       "      <td>124.70</td>\n",
       "      <td>NaN</td>\n",
       "      <td>01 de abril de 2022</td>\n",
       "      <td>74.64</td>\n",
       "      <td>NaN</td>\n",
       "      <td>01 de abril de 2022</td>\n",
       "      <td>290.25</td>\n",
       "    </tr>\n",
       "    <tr>\n",
       "      <th>16</th>\n",
       "      <td>01 de mayo de 2022</td>\n",
       "      <td>148.84</td>\n",
       "      <td>NaN</td>\n",
       "      <td>01 de mayo de 2022</td>\n",
       "      <td>271.87</td>\n",
       "      <td>NaN</td>\n",
       "      <td>01 de mayo de 2022</td>\n",
       "      <td>118.85</td>\n",
       "      <td>NaN</td>\n",
       "      <td>01 de mayo de 2022</td>\n",
       "      <td>78.50</td>\n",
       "      <td>NaN</td>\n",
       "      <td>01 de mayo de 2022</td>\n",
       "      <td>252.75</td>\n",
       "    </tr>\n",
       "    <tr>\n",
       "      <th>17</th>\n",
       "      <td>01 de junio de 2022</td>\n",
       "      <td>136.72</td>\n",
       "      <td>NaN</td>\n",
       "      <td>01 de junio de 2022</td>\n",
       "      <td>256.83</td>\n",
       "      <td>NaN</td>\n",
       "      <td>01 de junio de 2022</td>\n",
       "      <td>102.20</td>\n",
       "      <td>NaN</td>\n",
       "      <td>01 de junio de 2022</td>\n",
       "      <td>76.39</td>\n",
       "      <td>NaN</td>\n",
       "      <td>01 de junio de 2022</td>\n",
       "      <td>224.47</td>\n",
       "    </tr>\n",
       "    <tr>\n",
       "      <th>18</th>\n",
       "      <td>01 de julio de 2022</td>\n",
       "      <td>162.51</td>\n",
       "      <td>NaN</td>\n",
       "      <td>01 de julio de 2022</td>\n",
       "      <td>280.56</td>\n",
       "      <td>NaN</td>\n",
       "      <td>01 de julio de 2022</td>\n",
       "      <td>114.92</td>\n",
       "      <td>NaN</td>\n",
       "      <td>01 de julio de 2022</td>\n",
       "      <td>84.78</td>\n",
       "      <td>NaN</td>\n",
       "      <td>01 de julio de 2022</td>\n",
       "      <td>297.15</td>\n",
       "    </tr>\n",
       "    <tr>\n",
       "      <th>19</th>\n",
       "      <td>01 de agosto de 2022</td>\n",
       "      <td>157.22</td>\n",
       "      <td>NaN</td>\n",
       "      <td>01 de agosto de 2022</td>\n",
       "      <td>261.47</td>\n",
       "      <td>NaN</td>\n",
       "      <td>01 de agosto de 2022</td>\n",
       "      <td>106.45</td>\n",
       "      <td>NaN</td>\n",
       "      <td>01 de agosto de 2022</td>\n",
       "      <td>84.07</td>\n",
       "      <td>NaN</td>\n",
       "      <td>01 de agosto de 2022</td>\n",
       "      <td>275.61</td>\n",
       "    </tr>\n",
       "    <tr>\n",
       "      <th>20</th>\n",
       "      <td>01 de septiembre de 2022</td>\n",
       "      <td>156.91</td>\n",
       "      <td>NaN</td>\n",
       "      <td>01 de septiembre de 2022</td>\n",
       "      <td>237.92</td>\n",
       "      <td>NaN</td>\n",
       "      <td>01 de septiembre de 2022</td>\n",
       "      <td>97.02</td>\n",
       "      <td>NaN</td>\n",
       "      <td>01 de septiembre de 2022</td>\n",
       "      <td>84.17</td>\n",
       "      <td>NaN</td>\n",
       "      <td>01 de septiembre de 2022</td>\n",
       "      <td>282.80</td>\n",
       "    </tr>\n",
       "  </tbody>\n",
       "</table>\n",
       "</div>"
      ],
      "text/plain": [
       "                       Fecha  Precios Apple  Unnamed: 2  \\\n",
       "0        01 de enero de 2021         131.96         NaN   \n",
       "1      01 de febrero de 2021         121.26         NaN   \n",
       "2        01 de marzo de 2021         122.15         NaN   \n",
       "3        01 de abril de 2021         131.46         NaN   \n",
       "4         01 de mayo de 2021         124.61         NaN   \n",
       "5        01 de junio de 2021         136.96         NaN   \n",
       "6        01 de julio de 2021         145.86         NaN   \n",
       "7       01 de agosto de 2021         151.83         NaN   \n",
       "8   01 de septiembre de 2021         141.50         NaN   \n",
       "9      01 de octubre de 2021         149.80         NaN   \n",
       "10   01 de noviembre de 2021         165.30         NaN   \n",
       "11      01 de diciembre 2021         177.57         NaN   \n",
       "12       01 de enero de 2022         174.78         NaN   \n",
       "13     01 de febrero de 2022         165.12         NaN   \n",
       "14       01 de marzo de 2022         174.61         NaN   \n",
       "15       01 de abril de 2022         157.65         NaN   \n",
       "16        01 de mayo de 2022         148.84         NaN   \n",
       "17       01 de junio de 2022         136.72         NaN   \n",
       "18       01 de julio de 2022         162.51         NaN   \n",
       "19      01 de agosto de 2022         157.22         NaN   \n",
       "20  01 de septiembre de 2022         156.91         NaN   \n",
       "\n",
       "                     Fecha.1  Precios Microsoft  Unnamed: 5  \\\n",
       "0        01 de enero de 2021             231.96         NaN   \n",
       "1      01 de febrero de 2021             232.38         NaN   \n",
       "2        01 de marzo de 2021             235.77         NaN   \n",
       "3        01 de abril de 2021             252.18         NaN   \n",
       "4         01 de mayo de 2021             249.68         NaN   \n",
       "5        01 de junio de 2021             270.90         NaN   \n",
       "6        01 de julio de 2021             284.91         NaN   \n",
       "7       01 de agosto de 2021             301.88         NaN   \n",
       "8   01 de septiembre de 2021             281.92         NaN   \n",
       "9      01 de octubre de 2021             331.62         NaN   \n",
       "10   01 de noviembre de 2021             330.59         NaN   \n",
       "11      01 de diciembre 2021             336.32         NaN   \n",
       "12       01 de enero de 2022             310.98         NaN   \n",
       "13     01 de febrero de 2022             298.79         NaN   \n",
       "14       01 de marzo de 2022             308.31         NaN   \n",
       "15       01 de abril de 2022             277.52         NaN   \n",
       "16        01 de mayo de 2022             271.87         NaN   \n",
       "17       01 de junio de 2022             256.83         NaN   \n",
       "18       01 de julio de 2022             280.56         NaN   \n",
       "19      01 de agosto de 2022             261.47         NaN   \n",
       "20  01 de septiembre de 2022             237.92         NaN   \n",
       "\n",
       "                     Fecha.2  Precios Nike  Unnamed: 8  \\\n",
       "0        01 de enero de 2021        133.59         NaN   \n",
       "1      01 de febrero de 2021        134.78         NaN   \n",
       "2        01 de marzo de 2021        132.89         NaN   \n",
       "3        01 de abril de 2021        132.62         NaN   \n",
       "4         01 de mayo de 2021        136.46         NaN   \n",
       "5        01 de junio de 2021        154.49         NaN   \n",
       "6        01 de julio de 2021        167.51         NaN   \n",
       "7       01 de agosto de 2021        164.74         NaN   \n",
       "8   01 de septiembre de 2021        145.23         NaN   \n",
       "9      01 de octubre de 2021        167.29         NaN   \n",
       "10   01 de noviembre de 2021        169.24         NaN   \n",
       "11      01 de diciembre 2021        166.67         NaN   \n",
       "12       01 de enero de 2022        148.07         NaN   \n",
       "13     01 de febrero de 2022        136.55         NaN   \n",
       "14       01 de marzo de 2022        134.56         NaN   \n",
       "15       01 de abril de 2022        124.70         NaN   \n",
       "16        01 de mayo de 2022        118.85         NaN   \n",
       "17       01 de junio de 2022        102.20         NaN   \n",
       "18       01 de julio de 2022        114.92         NaN   \n",
       "19      01 de agosto de 2022        106.45         NaN   \n",
       "20  01 de septiembre de 2022         97.02         NaN   \n",
       "\n",
       "                     Fecha.3  Precios Starbucks  Unnamed: 11  \\\n",
       "0        01 de enero de 2021              96.81          NaN   \n",
       "1      01 de febrero de 2021             108.03          NaN   \n",
       "2        01 de marzo de 2021             109.27          NaN   \n",
       "3        01 de abril de 2021             114.49          NaN   \n",
       "4         01 de mayo de 2021             113.88          NaN   \n",
       "5        01 de junio de 2021             111.81          NaN   \n",
       "6        01 de julio de 2021             121.43          NaN   \n",
       "7       01 de agosto de 2021             117.49          NaN   \n",
       "8   01 de septiembre de 2021             110.31          NaN   \n",
       "9      01 de octubre de 2021             106.07          NaN   \n",
       "10   01 de noviembre de 2021             109.64          NaN   \n",
       "11      01 de diciembre 2021             116.97          NaN   \n",
       "12       01 de enero de 2022              98.32          NaN   \n",
       "13     01 de febrero de 2022              91.79          NaN   \n",
       "14       01 de marzo de 2022              90.97          NaN   \n",
       "15       01 de abril de 2022              74.64          NaN   \n",
       "16        01 de mayo de 2022              78.50          NaN   \n",
       "17       01 de junio de 2022              76.39          NaN   \n",
       "18       01 de julio de 2022              84.78          NaN   \n",
       "19      01 de agosto de 2022              84.07          NaN   \n",
       "20  01 de septiembre de 2022              84.17          NaN   \n",
       "\n",
       "                     Fecha.4  Precios Tesla  \n",
       "0        01 de enero de 2021         264.51  \n",
       "1      01 de febrero de 2021         225.17  \n",
       "2        01 de marzo de 2021         222.64  \n",
       "3        01 de abril de 2021         236.48  \n",
       "4         01 de mayo de 2021         208.41  \n",
       "5        01 de junio de 2021         226.57  \n",
       "6        01 de julio de 2021         229.07  \n",
       "7       01 de agosto de 2021         245.24  \n",
       "8   01 de septiembre de 2021         258.49  \n",
       "9      01 de octubre de 2021         371.33  \n",
       "10   01 de noviembre de 2021         381.59  \n",
       "11      01 de diciembre 2021         352.26  \n",
       "12       01 de enero de 2022         312.24  \n",
       "13     01 de febrero de 2022         290.14  \n",
       "14       01 de marzo de 2022         359.20  \n",
       "15       01 de abril de 2022         290.25  \n",
       "16        01 de mayo de 2022         252.75  \n",
       "17       01 de junio de 2022         224.47  \n",
       "18       01 de julio de 2022         297.15  \n",
       "19      01 de agosto de 2022         275.61  \n",
       "20  01 de septiembre de 2022         282.80  "
      ]
     },
     "execution_count": 154,
     "metadata": {},
     "output_type": "execute_result"
    }
   ],
   "source": [
    "data2"
   ]
  },
  {
   "cell_type": "code",
   "execution_count": 155,
   "id": "c6acb57d",
   "metadata": {},
   "outputs": [
    {
     "data": {
      "text/plain": [
       "0     231.96\n",
       "1     232.38\n",
       "2     235.77\n",
       "3     252.18\n",
       "4     249.68\n",
       "5     270.90\n",
       "6     284.91\n",
       "7     301.88\n",
       "8     281.92\n",
       "9     331.62\n",
       "10    330.59\n",
       "11    336.32\n",
       "12    310.98\n",
       "13    298.79\n",
       "14    308.31\n",
       "15    277.52\n",
       "16    271.87\n",
       "17    256.83\n",
       "18    280.56\n",
       "19    261.47\n",
       "20    237.92\n",
       "Name: Precios Microsoft, dtype: float64"
      ]
     },
     "execution_count": 155,
     "metadata": {},
     "output_type": "execute_result"
    }
   ],
   "source": [
    "dataMSFT = data2[\"Precios Microsoft\"]     \n",
    "dataMSFT"
   ]
  },
  {
   "cell_type": "code",
   "execution_count": 156,
   "id": "b4219beb",
   "metadata": {},
   "outputs": [],
   "source": [
    "dataMicrosoft = np.array([dataMSFT])"
   ]
  },
  {
   "cell_type": "markdown",
   "id": "a298b137",
   "metadata": {},
   "source": [
    "**Empezamos con el modelo con polinomio de grado 6**"
   ]
  },
  {
   "cell_type": "code",
   "execution_count": 157,
   "id": "0934bcf8",
   "metadata": {},
   "outputs": [
    {
     "data": {
      "image/png": "[encoded data removed]",
      "text/plain": [
       "<Figure size 432x288 with 1 Axes>"
      ]
     },
     "metadata": {
      "needs_background": "light"
     },
     "output_type": "display_data"
    }
   ],
   "source": [
    "m = 21\n",
    "x = np.linspace(0, 20, m)\n",
    "y = dataMicrosoft\n",
    "\n",
    "%matplotlib inline\n",
    "plt.figure()\n",
    "plt.scatter(x, y, s = 100)\n",
    "plt.grid()"
   ]
  },
  {
   "cell_type": "code",
   "execution_count": 158,
   "id": "3c6cf526",
   "metadata": {},
   "outputs": [],
   "source": [
    "# Definimos la función de precios\n",
    "\n",
    "def funcion_preciosM(beta, X, y) :\n",
    "    beta = np.reshape(beta, [7, -1])\n",
    "    pred = X @ beta\n",
    "    return ((y - pred).T @ (y - pred))[0][0]"
   ]
  },
  {
   "cell_type": "code",
   "execution_count": 159,
   "id": "1cd87aab",
   "metadata": {},
   "outputs": [
    {
     "data": {
      "text/plain": [
       "array([[1.0000000e+00, 0.0000000e+00, 0.0000000e+00, 0.0000000e+00,\n",
       "        0.0000000e+00, 0.0000000e+00, 0.0000000e+00],\n",
       "       [1.0000000e+00, 1.0000000e+00, 1.0000000e+00, 1.0000000e+00,\n",
       "        1.0000000e+00, 1.0000000e+00, 1.0000000e+00],\n",
       "       [1.0000000e+00, 2.0000000e+00, 4.0000000e+00, 8.0000000e+00,\n",
       "        1.6000000e+01, 3.2000000e+01, 6.4000000e+01],\n",
       "       [1.0000000e+00, 3.0000000e+00, 9.0000000e+00, 2.7000000e+01,\n",
       "        8.1000000e+01, 2.4300000e+02, 7.2900000e+02],\n",
       "       [1.0000000e+00, 4.0000000e+00, 1.6000000e+01, 6.4000000e+01,\n",
       "        2.5600000e+02, 1.0240000e+03, 4.0960000e+03],\n",
       "       [1.0000000e+00, 5.0000000e+00, 2.5000000e+01, 1.2500000e+02,\n",
       "        6.2500000e+02, 3.1250000e+03, 1.5625000e+04],\n",
       "       [1.0000000e+00, 6.0000000e+00, 3.6000000e+01, 2.1600000e+02,\n",
       "        1.2960000e+03, 7.7760000e+03, 4.6656000e+04],\n",
       "       [1.0000000e+00, 7.0000000e+00, 4.9000000e+01, 3.4300000e+02,\n",
       "        2.4010000e+03, 1.6807000e+04, 1.1764900e+05],\n",
       "       [1.0000000e+00, 8.0000000e+00, 6.4000000e+01, 5.1200000e+02,\n",
       "        4.0960000e+03, 3.2768000e+04, 2.6214400e+05],\n",
       "       [1.0000000e+00, 9.0000000e+00, 8.1000000e+01, 7.2900000e+02,\n",
       "        6.5610000e+03, 5.9049000e+04, 5.3144100e+05],\n",
       "       [1.0000000e+00, 1.0000000e+01, 1.0000000e+02, 1.0000000e+03,\n",
       "        1.0000000e+04, 1.0000000e+05, 1.0000000e+06],\n",
       "       [1.0000000e+00, 1.1000000e+01, 1.2100000e+02, 1.3310000e+03,\n",
       "        1.4641000e+04, 1.6105100e+05, 1.7715610e+06],\n",
       "       [1.0000000e+00, 1.2000000e+01, 1.4400000e+02, 1.7280000e+03,\n",
       "        2.0736000e+04, 2.4883200e+05, 2.9859840e+06],\n",
       "       [1.0000000e+00, 1.3000000e+01, 1.6900000e+02, 2.1970000e+03,\n",
       "        2.8561000e+04, 3.7129300e+05, 4.8268090e+06],\n",
       "       [1.0000000e+00, 1.4000000e+01, 1.9600000e+02, 2.7440000e+03,\n",
       "        3.8416000e+04, 5.3782400e+05, 7.5295360e+06],\n",
       "       [1.0000000e+00, 1.5000000e+01, 2.2500000e+02, 3.3750000e+03,\n",
       "        5.0625000e+04, 7.5937500e+05, 1.1390625e+07],\n",
       "       [1.0000000e+00, 1.6000000e+01, 2.5600000e+02, 4.0960000e+03,\n",
       "        6.5536000e+04, 1.0485760e+06, 1.6777216e+07],\n",
       "       [1.0000000e+00, 1.7000000e+01, 2.8900000e+02, 4.9130000e+03,\n",
       "        8.3521000e+04, 1.4198570e+06, 2.4137569e+07],\n",
       "       [1.0000000e+00, 1.8000000e+01, 3.2400000e+02, 5.8320000e+03,\n",
       "        1.0497600e+05, 1.8895680e+06, 3.4012224e+07],\n",
       "       [1.0000000e+00, 1.9000000e+01, 3.6100000e+02, 6.8590000e+03,\n",
       "        1.3032100e+05, 2.4760990e+06, 4.7045881e+07],\n",
       "       [1.0000000e+00, 2.0000000e+01, 4.0000000e+02, 8.0000000e+03,\n",
       "        1.6000000e+05, 3.2000000e+06, 6.4000000e+07]])"
      ]
     },
     "execution_count": 159,
     "metadata": {},
     "output_type": "execute_result"
    }
   ],
   "source": [
    "# Construimos la matriz X\n",
    "\n",
    "ones = np.ones([m, 1])\n",
    "x_1 = np.reshape(x, [m, -1])\n",
    "x_2 = np.reshape(x**2, [m, -1])\n",
    "x_3 = np.reshape(x**3, [m, -1])\n",
    "x_4 = np.reshape(x**4, [m, -1])\n",
    "x_5 = np.reshape(x**5, [m, -1])\n",
    "x_6 = np.reshape(x**6, [m, -1])\n",
    "X = np.hstack((ones, x_1, x_2, x_3, x_4, x_5, x_6 ))\n",
    "X"
   ]
  },
  {
   "cell_type": "code",
   "execution_count": 160,
   "id": "636650fa",
   "metadata": {},
   "outputs": [
    {
     "data": {
      "text/plain": [
       "96363012452956.42"
      ]
     },
     "execution_count": 160,
     "metadata": {},
     "output_type": "execute_result"
    }
   ],
   "source": [
    "beta_inicial = np.random.rand(7)\n",
    "y = np.reshape(y, [m, -1])\n",
    "funcion_preciosM(beta_inicial, X, y)"
   ]
  },
  {
   "cell_type": "code",
   "execution_count": 161,
   "id": "fad92aae",
   "metadata": {},
   "outputs": [
    {
     "data": {
      "text/plain": [
       "      fun: 64134.17356412936\n",
       " hess_inv: array([[ 3.48785156e-01, -3.28536901e-01,  1.06556107e-01,\n",
       "        -1.64874298e-02,  1.31426261e-03, -5.18501365e-05,\n",
       "         7.99104538e-07],\n",
       "       [-3.28536901e-01,  8.54870035e-01, -4.03399381e-01,\n",
       "         7.54639748e-02, -6.66949268e-03,  2.78824345e-04,\n",
       "        -4.44227709e-06],\n",
       "       [ 1.06556107e-01, -4.03399381e-01,  2.12370659e-01,\n",
       "        -4.20825091e-02,  3.85265959e-03, -1.64892448e-04,\n",
       "         2.67112390e-06],\n",
       "       [-1.64874298e-02,  7.54639748e-02, -4.20825091e-02,\n",
       "         8.62441835e-03, -8.07566083e-04,  3.51282687e-05,\n",
       "        -5.76050377e-07],\n",
       "       [ 1.31426261e-03, -6.66949268e-03,  3.85265959e-03,\n",
       "        -8.07566083e-04,  7.68468053e-05, -3.38377040e-06,\n",
       "         5.60230556e-08],\n",
       "       [-5.18501365e-05,  2.78824345e-04, -1.64892448e-04,\n",
       "         3.51282687e-05, -3.38377040e-06,  1.50431944e-07,\n",
       "        -2.51002410e-09],\n",
       "       [ 7.99104538e-07, -4.44227709e-06,  2.67112390e-06,\n",
       "        -5.76050377e-07,  5.60230556e-08, -2.51002410e-09,\n",
       "         4.21512590e-11]])\n",
       "      jac: array([-9.43467285e+02, -3.25952441e+03, -6.40821777e+03,  1.37142801e+05,\n",
       "        3.70818026e+06,  7.24641765e+07,  1.41195004e+09])\n",
       "  message: 'Desired error not necessarily achieved due to precision loss.'\n",
       "     nfev: 468\n",
       "      nit: 7\n",
       "     njev: 57\n",
       "   status: 2\n",
       "  success: False\n",
       "        x: array([ 1.53025806e+02,  1.95111981e+02, -1.22047185e+02,  2.70431223e+01,\n",
       "       -2.63150872e+00,  1.16634149e-01, -1.93075330e-03])"
      ]
     },
     "execution_count": 161,
     "metadata": {},
     "output_type": "execute_result"
    }
   ],
   "source": [
    "sol = opt.minimize(funcion_preciosM, \n",
    "                  beta_inicial,\n",
    "                  args = (X, y))\n",
    "sol"
   ]
  },
  {
   "cell_type": "code",
   "execution_count": 162,
   "id": "91389c1b",
   "metadata": {},
   "outputs": [
    {
     "data": {
      "text/plain": [
       "array([153.02580591, 250.61691883, 232.91059157, 183.8837596 ,\n",
       "       149.33736969, 147.41712181, 177.7440686 , 229.15507252,\n",
       "       286.05312058, 333.36749668, 360.12381161, 361.62389067,\n",
       "       340.23551886, 304.79204376, 268.60183595, 246.06760717,\n",
       "       247.91558594, 275.03455097, 310.92472208, 312.75650876,\n",
       "       201.03911638])"
      ]
     },
     "execution_count": 162,
     "metadata": {},
     "output_type": "execute_result"
    }
   ],
   "source": [
    "y_predM1 = X @ sol.x\n",
    "y_predM1"
   ]
  },
  {
   "cell_type": "markdown",
   "id": "9e932355",
   "metadata": {},
   "source": [
    "**Solución y visualización del problema de optimización:**\n",
    "\n",
    "- Ya obtuvimos el modelo con polinomio de grado 6 `y_predM1`, a continuación vamos a graficar la curva junto con los precios de la acción de Microsoft, para analizar los resultados obtenidos, y determinar si tenemos un sobreajuste."
   ]
  },
  {
   "cell_type": "code",
   "execution_count": 163,
   "id": "1b6b594c",
   "metadata": {},
   "outputs": [
    {
     "data": {
      "image/png": "[encoded data removed]",
      "text/plain": [
       "<Figure size 432x288 with 1 Axes>"
      ]
     },
     "metadata": {
      "needs_background": "light"
     },
     "output_type": "display_data"
    }
   ],
   "source": [
    "m = 21\n",
    "x = np.linspace(0, 20, m)\n",
    "y = dataMicrosoft\n",
    "\n",
    "%matplotlib inline\n",
    "plt.figure()\n",
    "plt.scatter(x, y, s = 50)\n",
    "plt.plot(x, y_predM1, \"b\")\n",
    "plt.grid()"
   ]
  },
  {
   "cell_type": "markdown",
   "id": "011c2b80",
   "metadata": {},
   "source": [
    "## Análisis de Resultados:\n",
    "\n",
    "- La curva obtenida del modelo `y_predM1`es similar a la curva del modelo con polinomio de grado 6 de la empresa Apple. La función no se ajusta o no se acerca a la mayoría de los precios de la empresa.\n",
    "\n",
    "- Por lo que vamos a proponer un modelo con polinomio de grado 5 para ver si se repite el mismo patrón, y para ver si el modelo con polinomio de grado 5 se ajusta mejor a los precios a comparación de este modelo."
   ]
  },
  {
   "cell_type": "markdown",
   "id": "5525b06b",
   "metadata": {},
   "source": [
    "**Modelo con polinomio de grado 5**"
   ]
  },
  {
   "cell_type": "code",
   "execution_count": 164,
   "id": "745d0710",
   "metadata": {},
   "outputs": [],
   "source": [
    "def funcion_preciosM(beta, X, y) :\n",
    "    beta = np.reshape(beta, [6, -1])\n",
    "    pred = X @ beta\n",
    "    return ((y - pred).T @ (y - pred))[0][0]"
   ]
  },
  {
   "cell_type": "code",
   "execution_count": 165,
   "id": "ac88af4f",
   "metadata": {},
   "outputs": [
    {
     "data": {
      "text/plain": [
       "array([[1.000000e+00, 0.000000e+00, 0.000000e+00, 0.000000e+00,\n",
       "        0.000000e+00, 0.000000e+00],\n",
       "       [1.000000e+00, 1.000000e+00, 1.000000e+00, 1.000000e+00,\n",
       "        1.000000e+00, 1.000000e+00],\n",
       "       [1.000000e+00, 2.000000e+00, 4.000000e+00, 8.000000e+00,\n",
       "        1.600000e+01, 3.200000e+01],\n",
       "       [1.000000e+00, 3.000000e+00, 9.000000e+00, 2.700000e+01,\n",
       "        8.100000e+01, 2.430000e+02],\n",
       "       [1.000000e+00, 4.000000e+00, 1.600000e+01, 6.400000e+01,\n",
       "        2.560000e+02, 1.024000e+03],\n",
       "       [1.000000e+00, 5.000000e+00, 2.500000e+01, 1.250000e+02,\n",
       "        6.250000e+02, 3.125000e+03],\n",
       "       [1.000000e+00, 6.000000e+00, 3.600000e+01, 2.160000e+02,\n",
       "        1.296000e+03, 7.776000e+03],\n",
       "       [1.000000e+00, 7.000000e+00, 4.900000e+01, 3.430000e+02,\n",
       "        2.401000e+03, 1.680700e+04],\n",
       "       [1.000000e+00, 8.000000e+00, 6.400000e+01, 5.120000e+02,\n",
       "        4.096000e+03, 3.276800e+04],\n",
       "       [1.000000e+00, 9.000000e+00, 8.100000e+01, 7.290000e+02,\n",
       "        6.561000e+03, 5.904900e+04],\n",
       "       [1.000000e+00, 1.000000e+01, 1.000000e+02, 1.000000e+03,\n",
       "        1.000000e+04, 1.000000e+05],\n",
       "       [1.000000e+00, 1.100000e+01, 1.210000e+02, 1.331000e+03,\n",
       "        1.464100e+04, 1.610510e+05],\n",
       "       [1.000000e+00, 1.200000e+01, 1.440000e+02, 1.728000e+03,\n",
       "        2.073600e+04, 2.488320e+05],\n",
       "       [1.000000e+00, 1.300000e+01, 1.690000e+02, 2.197000e+03,\n",
       "        2.856100e+04, 3.712930e+05],\n",
       "       [1.000000e+00, 1.400000e+01, 1.960000e+02, 2.744000e+03,\n",
       "        3.841600e+04, 5.378240e+05],\n",
       "       [1.000000e+00, 1.500000e+01, 2.250000e+02, 3.375000e+03,\n",
       "        5.062500e+04, 7.593750e+05],\n",
       "       [1.000000e+00, 1.600000e+01, 2.560000e+02, 4.096000e+03,\n",
       "        6.553600e+04, 1.048576e+06],\n",
       "       [1.000000e+00, 1.700000e+01, 2.890000e+02, 4.913000e+03,\n",
       "        8.352100e+04, 1.419857e+06],\n",
       "       [1.000000e+00, 1.800000e+01, 3.240000e+02, 5.832000e+03,\n",
       "        1.049760e+05, 1.889568e+06],\n",
       "       [1.000000e+00, 1.900000e+01, 3.610000e+02, 6.859000e+03,\n",
       "        1.303210e+05, 2.476099e+06],\n",
       "       [1.000000e+00, 2.000000e+01, 4.000000e+02, 8.000000e+03,\n",
       "        1.600000e+05, 3.200000e+06]])"
      ]
     },
     "execution_count": 165,
     "metadata": {},
     "output_type": "execute_result"
    }
   ],
   "source": [
    "# Construimos la matriz X\n",
    "\n",
    "ones = np.ones([m, 1])\n",
    "x_1 = np.reshape(x, [m, -1])\n",
    "x_2 = np.reshape(x**2, [m, -1])\n",
    "x_3 = np.reshape(x**3, [m, -1])\n",
    "x_4 = np.reshape(x**4, [m, -1])\n",
    "x_5 = np.reshape(x**5, [m, -1])\n",
    "X = np.hstack((ones, x_1, x_2, x_3, x_4, x_5))\n",
    "X"
   ]
  },
  {
   "cell_type": "code",
   "execution_count": 166,
   "id": "f1b5cc53",
   "metadata": {},
   "outputs": [
    {
     "data": {
      "text/plain": [
       "700997949627.1082"
      ]
     },
     "execution_count": 166,
     "metadata": {},
     "output_type": "execute_result"
    }
   ],
   "source": [
    "beta_inicial = np.random.rand(6)\n",
    "y = np.reshape(y, [m, -1])\n",
    "funcion_preciosM(beta_inicial, X, y)"
   ]
  },
  {
   "cell_type": "code",
   "execution_count": 167,
   "id": "4d6e2bfd",
   "metadata": {},
   "outputs": [
    {
     "data": {
      "text/plain": [
       "      fun: 2801.614944750675\n",
       " hess_inv: array([[ 4.23412273e-01, -3.52671394e-01,  8.97779784e-02,\n",
       "        -9.69678702e-03,  4.67608969e-04, -8.29591539e-06],\n",
       "       [-3.52671394e-01,  5.13572407e-01, -1.60611292e-01,\n",
       "         1.94065946e-02, -1.00546526e-03,  1.87564115e-05],\n",
       "       [ 8.97779784e-02, -1.60611292e-01,  5.49459892e-02,\n",
       "        -7.00858800e-03,  3.76693900e-04, -7.21651015e-06],\n",
       "       [-9.69678702e-03,  1.94065946e-02, -7.00858800e-03,\n",
       "         9.25764634e-04, -5.10053744e-05,  9.95425480e-07],\n",
       "       [ 4.67608969e-04, -1.00546526e-03,  3.76693900e-04,\n",
       "        -5.10053744e-05,  2.86169829e-06, -5.66353669e-08],\n",
       "       [-8.29591539e-06,  1.87564115e-05, -7.21651015e-06,\n",
       "         9.95425480e-07, -5.66353669e-08,  1.13325316e-09]])\n",
       "      jac: array([2.82690430e+00, 2.06546326e+01, 9.91536865e+01, 1.18932202e+03,\n",
       "       2.20926268e+04, 4.10858425e+05])\n",
       "  message: 'Desired error not necessarily achieved due to precision loss.'\n",
       "     nfev: 404\n",
       "      nit: 7\n",
       "     njev: 56\n",
       "   status: 2\n",
       "  success: False\n",
       "        x: array([ 2.37001937e+02, -1.67852773e+01,  8.82875320e+00, -1.00298206e+00,\n",
       "        4.38355720e-02, -6.80422038e-04])"
      ]
     },
     "execution_count": 167,
     "metadata": {},
     "output_type": "execute_result"
    }
   ],
   "source": [
    "sol = opt.minimize(funcion_preciosM, \n",
    "                  beta_inicial,\n",
    "                  args = (X, y))\n",
    "sol"
   ]
  },
  {
   "cell_type": "code",
   "execution_count": 168,
   "id": "863da2df",
   "metadata": {},
   "outputs": [
    {
     "data": {
      "text/plain": [
       "array([237.001937  , 228.08558603, 231.40213441, 242.40970704,\n",
       "       257.45518126, 273.69253621, 289.00120217, 301.90440992,\n",
       "       311.48754011, 317.31647262, 319.35593587, 317.88785624,\n",
       "       313.42970738, 306.65285956, 298.30092907, 289.10812753,\n",
       "       279.71761129, 270.59983074, 261.97087968, 253.7108447 ,\n",
       "       245.2821545 ])"
      ]
     },
     "execution_count": 168,
     "metadata": {},
     "output_type": "execute_result"
    }
   ],
   "source": [
    "y_predM2 = X @ sol.x\n",
    "y_predM2"
   ]
  },
  {
   "cell_type": "markdown",
   "id": "64d5bfa5",
   "metadata": {},
   "source": [
    "**Solución y visualización del problema de optimización:**\n",
    "\n",
    "- Ahora graficamos el modelo `y_predM2` junto con los precios de Microsoft"
   ]
  },
  {
   "cell_type": "code",
   "execution_count": 169,
   "id": "aa7fc3fb",
   "metadata": {},
   "outputs": [
    {
     "data": {
      "image/png": "[encoded data removed]",
      "text/plain": [
       "<Figure size 432x288 with 1 Axes>"
      ]
     },
     "metadata": {
      "needs_background": "light"
     },
     "output_type": "display_data"
    }
   ],
   "source": [
    "%matplotlib inline\n",
    "plt.figure()\n",
    "plt.scatter(x, y, s = 50)\n",
    "plt.plot(x, y_predM2, \"b\")\n",
    "plt.grid()"
   ]
  },
  {
   "cell_type": "markdown",
   "id": "c232dc08",
   "metadata": {},
   "source": [
    "## Análisis de resultados:\n",
    "\n",
    "- Se repite el mismo patrón que con Apple, parece ser que los mejores modelos que se ajustan a los precios son las funciones de grado 5 o hasta la quinta potencia. Vamos a utilizar un modelo con polinomio de grado 4 para determinar cuál de los dos modelos es el más útil para predecir los precios de la acción de Microsoft, ya que el comportamiento de los modelos es muy similar."
   ]
  },
  {
   "cell_type": "markdown",
   "id": "878760e8",
   "metadata": {},
   "source": [
    "**Modelo con polinomio de grado 4**"
   ]
  },
  {
   "cell_type": "code",
   "execution_count": 170,
   "id": "702740d9",
   "metadata": {},
   "outputs": [],
   "source": [
    "def funcion_preciosM(beta, X, y) :\n",
    "    beta = np.reshape(beta, [5, -1])\n",
    "    pred = X @ beta\n",
    "    return ((y - pred).T @ (y - pred))[0][0]"
   ]
  },
  {
   "cell_type": "code",
   "execution_count": 171,
   "id": "e94dc031",
   "metadata": {},
   "outputs": [
    {
     "data": {
      "text/plain": [
       "array([[1.00000e+00, 0.00000e+00, 0.00000e+00, 0.00000e+00, 0.00000e+00],\n",
       "       [1.00000e+00, 1.00000e+00, 1.00000e+00, 1.00000e+00, 1.00000e+00],\n",
       "       [1.00000e+00, 2.00000e+00, 4.00000e+00, 8.00000e+00, 1.60000e+01],\n",
       "       [1.00000e+00, 3.00000e+00, 9.00000e+00, 2.70000e+01, 8.10000e+01],\n",
       "       [1.00000e+00, 4.00000e+00, 1.60000e+01, 6.40000e+01, 2.56000e+02],\n",
       "       [1.00000e+00, 5.00000e+00, 2.50000e+01, 1.25000e+02, 6.25000e+02],\n",
       "       [1.00000e+00, 6.00000e+00, 3.60000e+01, 2.16000e+02, 1.29600e+03],\n",
       "       [1.00000e+00, 7.00000e+00, 4.90000e+01, 3.43000e+02, 2.40100e+03],\n",
       "       [1.00000e+00, 8.00000e+00, 6.40000e+01, 5.12000e+02, 4.09600e+03],\n",
       "       [1.00000e+00, 9.00000e+00, 8.10000e+01, 7.29000e+02, 6.56100e+03],\n",
       "       [1.00000e+00, 1.00000e+01, 1.00000e+02, 1.00000e+03, 1.00000e+04],\n",
       "       [1.00000e+00, 1.10000e+01, 1.21000e+02, 1.33100e+03, 1.46410e+04],\n",
       "       [1.00000e+00, 1.20000e+01, 1.44000e+02, 1.72800e+03, 2.07360e+04],\n",
       "       [1.00000e+00, 1.30000e+01, 1.69000e+02, 2.19700e+03, 2.85610e+04],\n",
       "       [1.00000e+00, 1.40000e+01, 1.96000e+02, 2.74400e+03, 3.84160e+04],\n",
       "       [1.00000e+00, 1.50000e+01, 2.25000e+02, 3.37500e+03, 5.06250e+04],\n",
       "       [1.00000e+00, 1.60000e+01, 2.56000e+02, 4.09600e+03, 6.55360e+04],\n",
       "       [1.00000e+00, 1.70000e+01, 2.89000e+02, 4.91300e+03, 8.35210e+04],\n",
       "       [1.00000e+00, 1.80000e+01, 3.24000e+02, 5.83200e+03, 1.04976e+05],\n",
       "       [1.00000e+00, 1.90000e+01, 3.61000e+02, 6.85900e+03, 1.30321e+05],\n",
       "       [1.00000e+00, 2.00000e+01, 4.00000e+02, 8.00000e+03, 1.60000e+05]])"
      ]
     },
     "execution_count": 171,
     "metadata": {},
     "output_type": "execute_result"
    }
   ],
   "source": [
    "# Construimos la matriz X\n",
    "\n",
    "ones = np.ones([m, 1])\n",
    "x_1 = np.reshape(x, [m, -1])\n",
    "x_2 = np.reshape(x**2, [m, -1])\n",
    "x_3 = np.reshape(x**3, [m, -1])\n",
    "x_4 = np.reshape(x**4, [m, -1])\n",
    "X = np.hstack((ones, x_1, x_2, x_3, x_4))\n",
    "X"
   ]
  },
  {
   "cell_type": "code",
   "execution_count": 172,
   "id": "5be9b66d",
   "metadata": {},
   "outputs": [
    {
     "data": {
      "text/plain": [
       "9070990072.903053"
      ]
     },
     "execution_count": 172,
     "metadata": {},
     "output_type": "execute_result"
    }
   ],
   "source": [
    "beta_inicial = np.random.rand(5)\n",
    "y = np.reshape(y, [m, -1])\n",
    "funcion_preciosM(beta_inicial, X, y)"
   ]
  },
  {
   "cell_type": "code",
   "execution_count": 173,
   "id": "83ed2700",
   "metadata": {},
   "outputs": [
    {
     "data": {
      "text/plain": [
       "      fun: 2817.7356635584447\n",
       " hess_inv: array([[ 3.54094581e-01, -2.04177616e-01,  3.46673999e-02,\n",
       "        -2.25076927e-03,  4.94070484e-05],\n",
       "       [-2.04177616e-01,  1.88346401e-01, -3.81466564e-02,\n",
       "         2.72035407e-03, -6.33096316e-05],\n",
       "       [ 3.46673999e-02, -3.81466564e-02,  8.37274797e-03,\n",
       "        -6.26580627e-04,  1.50625601e-05],\n",
       "       [-2.25076927e-03,  2.72035407e-03, -6.26580627e-04,\n",
       "         4.83909078e-05, -1.18970690e-06],\n",
       "       [ 4.94070484e-05, -6.33096316e-05,  1.50625601e-05,\n",
       "        -1.18970690e-06,  2.97426461e-08]])\n",
       "      jac: array([0., 0., 0., 0., 0.])\n",
       "  message: 'Optimization terminated successfully.'\n",
       "     nfev: 78\n",
       "      nit: 8\n",
       "     njev: 13\n",
       "   status: 0\n",
       "  success: True\n",
       "        x: array([ 2.33342644e+02, -6.83912251e+00,  4.75753997e+00, -4.23554615e-01,\n",
       "        1.02467793e-02])"
      ]
     },
     "execution_count": 173,
     "metadata": {},
     "output_type": "execute_result"
    }
   ],
   "source": [
    "sol = opt.minimize(funcion_preciosM, \n",
    "                  beta_inicial,\n",
    "                  args = (X, y))\n",
    "sol"
   ]
  },
  {
   "cell_type": "code",
   "execution_count": 174,
   "id": "470dd503",
   "metadata": {},
   "outputs": [
    {
     "data": {
      "text/plain": [
       "array([233.34264403, 230.84775366, 235.47007043, 245.03715073,\n",
       "       257.62247361, 271.54544084, 285.37137691, 297.91152899,\n",
       "       308.22306697, 315.60908341, 319.61859363, 320.04653561,\n",
       "       316.93377004, 310.56708032, 301.47917257, 290.44867558,\n",
       "       278.50014086, 266.90404263, 257.17677781, 251.08066601,\n",
       "       250.62394957])"
      ]
     },
     "execution_count": 174,
     "metadata": {},
     "output_type": "execute_result"
    }
   ],
   "source": [
    "y_predM3 = X @ sol.x\n",
    "y_predM3"
   ]
  },
  {
   "cell_type": "markdown",
   "id": "155aea31",
   "metadata": {},
   "source": [
    "**Solución y visualización del problema de optimización:**\n",
    "\n",
    "- Ahora graficamos ambos modelos junto con los precios de la acción de Microsoft"
   ]
  },
  {
   "cell_type": "code",
   "execution_count": 175,
   "id": "6be966d1",
   "metadata": {},
   "outputs": [
    {
     "data": {
      "image/png": "[encoded data removed]",
      "text/plain": [
       "<Figure size 432x288 with 1 Axes>"
      ]
     },
     "metadata": {
      "needs_background": "light"
     },
     "output_type": "display_data"
    }
   ],
   "source": [
    "%matplotlib inline\n",
    "plt.figure()\n",
    "plt.scatter(x, y, s = 50)\n",
    "plt.plot(x, y_predM2, \"b\")\n",
    "plt.plot(x, y_predM3, \"r\")\n",
    "plt.grid()"
   ]
  },
  {
   "cell_type": "markdown",
   "id": "1fbb801e",
   "metadata": {},
   "source": [
    "## Análisis de resultados:\n",
    "\n",
    "- Obtenemos el siguiente gráfico. Los modelos que mejor se ajustan a los precios de Microsoft son los siguientes modelos\n",
    "\n",
    "1. Modelo `y_predM3`: \n",
    "- $ y = 1.02467798e-02x^4 -4.23554640e-01x^3 + 4.75754039e+00x^2 - 6.83912542e+00x + 2.33342650e+02 $\n",
    "\n",
    "2. Modelo `y_predM2`:\n",
    "- $ y = -7.25232597e-04^5 + 4.65200226e-02x^4 - 1.06189303e+00x^3 + 9.39517408e+00x^2 - 1.89430227e+01x + 2.38750704e+02 $\n",
    "\n",
    "- Al igual que con Apple, los modelos que mejor se ajustan a los precios son modelos con polinomios de grado 5 y 4, por lo que es seguro decir que va a ser similar al proponer modelos con las demás empresas, por lo que directamente vamos a hacer dos modelos para cada empresa que falta."
   ]
  },
  {
   "cell_type": "markdown",
   "id": "30f94245",
   "metadata": {},
   "source": [
    "---"
   ]
  },
  {
   "cell_type": "markdown",
   "id": "cda41394",
   "metadata": {},
   "source": [
    "# Nike Inc.\n",
    "\n",
    "Como ya observamos que los modelos con polinomios con grado 5 y 4 son más efectivos y útiles tanto con Apple y Microsoft, vamos a proponer dos modelos de los mismos grados para los precios de la acción de Nike, y predecir los precios de la accíon de Nike para los siguientes 4 meses.\n",
    "\n",
    "Los datos de los precios de la accción de Nike en los últimos meses se obtuvieron de *Investing.com* y se cotejaron con *Factset* para verificar los datos."
   ]
  },
  {
   "cell_type": "markdown",
   "id": "eeb995cd",
   "metadata": {},
   "source": [
    "**Modelo que representa el problema:**\n",
    "\n",
    "Se va a realizar el ajuste de curvas.\n",
    "Necesitamos las librerías para poder trabajar con ajuste de curvas. Necesitaremos un archivo de excel donde están los precios de la acción de cada empresa y leeremos el archivo de excel utilizando `pandas`. Después vamos a usar `numpy` para ordenar los datos de los precios de las acciones como un arreglo numérico y de esta manera poder trabajar con los datos. Después utilizaremos funciones de python junto con operaciones de álgebra lineal para definir los modelos para realizar el ajuste de curvas. Y al final usaremos `scipy.optimize` para encontrar las betas o los pesos de cada modelo. Y por último usaremos la librería de `matplotlib` para graficar los resultados obtenidos"
   ]
  },
  {
   "cell_type": "code",
   "execution_count": 176,
   "id": "a44e9282",
   "metadata": {},
   "outputs": [],
   "source": [
    "# Importamos las librerías para trabajar con el ajuste de curvas\n",
    "\n",
    "import numpy as np\n",
    "import pandas as pd\n",
    "import scipy.optimize as opt\n",
    "import matplotlib.pyplot as plt"
   ]
  },
  {
   "cell_type": "code",
   "execution_count": 177,
   "id": "b35adb9c",
   "metadata": {},
   "outputs": [
    {
     "data": {
      "text/html": [
       "<div>\n",
       "<style scoped>\n",
       "    .dataframe tbody tr th:only-of-type {\n",
       "        vertical-align: middle;\n",
       "    }\n",
       "\n",
       "    .dataframe tbody tr th {\n",
       "        vertical-align: top;\n",
       "    }\n",
       "\n",
       "    .dataframe thead th {\n",
       "        text-align: right;\n",
       "    }\n",
       "</style>\n",
       "<table border=\"1\" class=\"dataframe\">\n",
       "  <thead>\n",
       "    <tr style=\"text-align: right;\">\n",
       "      <th></th>\n",
       "      <th>Fecha</th>\n",
       "      <th>Precios Apple</th>\n",
       "      <th>Unnamed: 2</th>\n",
       "      <th>Fecha.1</th>\n",
       "      <th>Precios Microsoft</th>\n",
       "      <th>Unnamed: 5</th>\n",
       "      <th>Fecha.2</th>\n",
       "      <th>Precios Nike</th>\n",
       "      <th>Unnamed: 8</th>\n",
       "      <th>Fecha.3</th>\n",
       "      <th>Precios Starbucks</th>\n",
       "      <th>Unnamed: 11</th>\n",
       "      <th>Fecha.4</th>\n",
       "      <th>Precios Tesla</th>\n",
       "    </tr>\n",
       "  </thead>\n",
       "  <tbody>\n",
       "    <tr>\n",
       "      <th>0</th>\n",
       "      <td>01 de enero de 2021</td>\n",
       "      <td>131.96</td>\n",
       "      <td>NaN</td>\n",
       "      <td>01 de enero de 2021</td>\n",
       "      <td>231.96</td>\n",
       "      <td>NaN</td>\n",
       "      <td>01 de enero de 2021</td>\n",
       "      <td>133.59</td>\n",
       "      <td>NaN</td>\n",
       "      <td>01 de enero de 2021</td>\n",
       "      <td>96.81</td>\n",
       "      <td>NaN</td>\n",
       "      <td>01 de enero de 2021</td>\n",
       "      <td>264.51</td>\n",
       "    </tr>\n",
       "    <tr>\n",
       "      <th>1</th>\n",
       "      <td>01 de febrero de 2021</td>\n",
       "      <td>121.26</td>\n",
       "      <td>NaN</td>\n",
       "      <td>01 de febrero de 2021</td>\n",
       "      <td>232.38</td>\n",
       "      <td>NaN</td>\n",
       "      <td>01 de febrero de 2021</td>\n",
       "      <td>134.78</td>\n",
       "      <td>NaN</td>\n",
       "      <td>01 de febrero de 2021</td>\n",
       "      <td>108.03</td>\n",
       "      <td>NaN</td>\n",
       "      <td>01 de febrero de 2021</td>\n",
       "      <td>225.17</td>\n",
       "    </tr>\n",
       "    <tr>\n",
       "      <th>2</th>\n",
       "      <td>01 de marzo de 2021</td>\n",
       "      <td>122.15</td>\n",
       "      <td>NaN</td>\n",
       "      <td>01 de marzo de 2021</td>\n",
       "      <td>235.77</td>\n",
       "      <td>NaN</td>\n",
       "      <td>01 de marzo de 2021</td>\n",
       "      <td>132.89</td>\n",
       "      <td>NaN</td>\n",
       "      <td>01 de marzo de 2021</td>\n",
       "      <td>109.27</td>\n",
       "      <td>NaN</td>\n",
       "      <td>01 de marzo de 2021</td>\n",
       "      <td>222.64</td>\n",
       "    </tr>\n",
       "    <tr>\n",
       "      <th>3</th>\n",
       "      <td>01 de abril de 2021</td>\n",
       "      <td>131.46</td>\n",
       "      <td>NaN</td>\n",
       "      <td>01 de abril de 2021</td>\n",
       "      <td>252.18</td>\n",
       "      <td>NaN</td>\n",
       "      <td>01 de abril de 2021</td>\n",
       "      <td>132.62</td>\n",
       "      <td>NaN</td>\n",
       "      <td>01 de abril de 2021</td>\n",
       "      <td>114.49</td>\n",
       "      <td>NaN</td>\n",
       "      <td>01 de abril de 2021</td>\n",
       "      <td>236.48</td>\n",
       "    </tr>\n",
       "    <tr>\n",
       "      <th>4</th>\n",
       "      <td>01 de mayo de 2021</td>\n",
       "      <td>124.61</td>\n",
       "      <td>NaN</td>\n",
       "      <td>01 de mayo de 2021</td>\n",
       "      <td>249.68</td>\n",
       "      <td>NaN</td>\n",
       "      <td>01 de mayo de 2021</td>\n",
       "      <td>136.46</td>\n",
       "      <td>NaN</td>\n",
       "      <td>01 de mayo de 2021</td>\n",
       "      <td>113.88</td>\n",
       "      <td>NaN</td>\n",
       "      <td>01 de mayo de 2021</td>\n",
       "      <td>208.41</td>\n",
       "    </tr>\n",
       "    <tr>\n",
       "      <th>5</th>\n",
       "      <td>01 de junio de 2021</td>\n",
       "      <td>136.96</td>\n",
       "      <td>NaN</td>\n",
       "      <td>01 de junio de 2021</td>\n",
       "      <td>270.90</td>\n",
       "      <td>NaN</td>\n",
       "      <td>01 de junio de 2021</td>\n",
       "      <td>154.49</td>\n",
       "      <td>NaN</td>\n",
       "      <td>01 de junio de 2021</td>\n",
       "      <td>111.81</td>\n",
       "      <td>NaN</td>\n",
       "      <td>01 de junio de 2021</td>\n",
       "      <td>226.57</td>\n",
       "    </tr>\n",
       "    <tr>\n",
       "      <th>6</th>\n",
       "      <td>01 de julio de 2021</td>\n",
       "      <td>145.86</td>\n",
       "      <td>NaN</td>\n",
       "      <td>01 de julio de 2021</td>\n",
       "      <td>284.91</td>\n",
       "      <td>NaN</td>\n",
       "      <td>01 de julio de 2021</td>\n",
       "      <td>167.51</td>\n",
       "      <td>NaN</td>\n",
       "      <td>01 de julio de 2021</td>\n",
       "      <td>121.43</td>\n",
       "      <td>NaN</td>\n",
       "      <td>01 de julio de 2021</td>\n",
       "      <td>229.07</td>\n",
       "    </tr>\n",
       "    <tr>\n",
       "      <th>7</th>\n",
       "      <td>01 de agosto de 2021</td>\n",
       "      <td>151.83</td>\n",
       "      <td>NaN</td>\n",
       "      <td>01 de agosto de 2021</td>\n",
       "      <td>301.88</td>\n",
       "      <td>NaN</td>\n",
       "      <td>01 de agosto de 2021</td>\n",
       "      <td>164.74</td>\n",
       "      <td>NaN</td>\n",
       "      <td>01 de agosto de 2021</td>\n",
       "      <td>117.49</td>\n",
       "      <td>NaN</td>\n",
       "      <td>01 de agosto de 2021</td>\n",
       "      <td>245.24</td>\n",
       "    </tr>\n",
       "    <tr>\n",
       "      <th>8</th>\n",
       "      <td>01 de septiembre de 2021</td>\n",
       "      <td>141.50</td>\n",
       "      <td>NaN</td>\n",
       "      <td>01 de septiembre de 2021</td>\n",
       "      <td>281.92</td>\n",
       "      <td>NaN</td>\n",
       "      <td>01 de septiembre de 2021</td>\n",
       "      <td>145.23</td>\n",
       "      <td>NaN</td>\n",
       "      <td>01 de septiembre de 2021</td>\n",
       "      <td>110.31</td>\n",
       "      <td>NaN</td>\n",
       "      <td>01 de septiembre de 2021</td>\n",
       "      <td>258.49</td>\n",
       "    </tr>\n",
       "    <tr>\n",
       "      <th>9</th>\n",
       "      <td>01 de octubre de 2021</td>\n",
       "      <td>149.80</td>\n",
       "      <td>NaN</td>\n",
       "      <td>01 de octubre de 2021</td>\n",
       "      <td>331.62</td>\n",
       "      <td>NaN</td>\n",
       "      <td>01 de octubre de 2021</td>\n",
       "      <td>167.29</td>\n",
       "      <td>NaN</td>\n",
       "      <td>01 de octubre de 2021</td>\n",
       "      <td>106.07</td>\n",
       "      <td>NaN</td>\n",
       "      <td>01 de octubre de 2021</td>\n",
       "      <td>371.33</td>\n",
       "    </tr>\n",
       "    <tr>\n",
       "      <th>10</th>\n",
       "      <td>01 de noviembre de 2021</td>\n",
       "      <td>165.30</td>\n",
       "      <td>NaN</td>\n",
       "      <td>01 de noviembre de 2021</td>\n",
       "      <td>330.59</td>\n",
       "      <td>NaN</td>\n",
       "      <td>01 de noviembre de 2021</td>\n",
       "      <td>169.24</td>\n",
       "      <td>NaN</td>\n",
       "      <td>01 de noviembre de 2021</td>\n",
       "      <td>109.64</td>\n",
       "      <td>NaN</td>\n",
       "      <td>01 de noviembre de 2021</td>\n",
       "      <td>381.59</td>\n",
       "    </tr>\n",
       "    <tr>\n",
       "      <th>11</th>\n",
       "      <td>01 de diciembre 2021</td>\n",
       "      <td>177.57</td>\n",
       "      <td>NaN</td>\n",
       "      <td>01 de diciembre 2021</td>\n",
       "      <td>336.32</td>\n",
       "      <td>NaN</td>\n",
       "      <td>01 de diciembre 2021</td>\n",
       "      <td>166.67</td>\n",
       "      <td>NaN</td>\n",
       "      <td>01 de diciembre 2021</td>\n",
       "      <td>116.97</td>\n",
       "      <td>NaN</td>\n",
       "      <td>01 de diciembre 2021</td>\n",
       "      <td>352.26</td>\n",
       "    </tr>\n",
       "    <tr>\n",
       "      <th>12</th>\n",
       "      <td>01 de enero de 2022</td>\n",
       "      <td>174.78</td>\n",
       "      <td>NaN</td>\n",
       "      <td>01 de enero de 2022</td>\n",
       "      <td>310.98</td>\n",
       "      <td>NaN</td>\n",
       "      <td>01 de enero de 2022</td>\n",
       "      <td>148.07</td>\n",
       "      <td>NaN</td>\n",
       "      <td>01 de enero de 2022</td>\n",
       "      <td>98.32</td>\n",
       "      <td>NaN</td>\n",
       "      <td>01 de enero de 2022</td>\n",
       "      <td>312.24</td>\n",
       "    </tr>\n",
       "    <tr>\n",
       "      <th>13</th>\n",
       "      <td>01 de febrero de 2022</td>\n",
       "      <td>165.12</td>\n",
       "      <td>NaN</td>\n",
       "      <td>01 de febrero de 2022</td>\n",
       "      <td>298.79</td>\n",
       "      <td>NaN</td>\n",
       "      <td>01 de febrero de 2022</td>\n",
       "      <td>136.55</td>\n",
       "      <td>NaN</td>\n",
       "      <td>01 de febrero de 2022</td>\n",
       "      <td>91.79</td>\n",
       "      <td>NaN</td>\n",
       "      <td>01 de febrero de 2022</td>\n",
       "      <td>290.14</td>\n",
       "    </tr>\n",
       "    <tr>\n",
       "      <th>14</th>\n",
       "      <td>01 de marzo de 2022</td>\n",
       "      <td>174.61</td>\n",
       "      <td>NaN</td>\n",
       "      <td>01 de marzo de 2022</td>\n",
       "      <td>308.31</td>\n",
       "      <td>NaN</td>\n",
       "      <td>01 de marzo de 2022</td>\n",
       "      <td>134.56</td>\n",
       "      <td>NaN</td>\n",
       "      <td>01 de marzo de 2022</td>\n",
       "      <td>90.97</td>\n",
       "      <td>NaN</td>\n",
       "      <td>01 de marzo de 2022</td>\n",
       "      <td>359.20</td>\n",
       "    </tr>\n",
       "    <tr>\n",
       "      <th>15</th>\n",
       "      <td>01 de abril de 2022</td>\n",
       "      <td>157.65</td>\n",
       "      <td>NaN</td>\n",
       "      <td>01 de abril de 2022</td>\n",
       "      <td>277.52</td>\n",
       "      <td>NaN</td>\n",
       "      <td>01 de abril de 2022</td>\n",
       "      <td>124.70</td>\n",
       "      <td>NaN</td>\n",
       "      <td>01 de abril de 2022</td>\n",
       "      <td>74.64</td>\n",
       "      <td>NaN</td>\n",
       "      <td>01 de abril de 2022</td>\n",
       "      <td>290.25</td>\n",
       "    </tr>\n",
       "    <tr>\n",
       "      <th>16</th>\n",
       "      <td>01 de mayo de 2022</td>\n",
       "      <td>148.84</td>\n",
       "      <td>NaN</td>\n",
       "      <td>01 de mayo de 2022</td>\n",
       "      <td>271.87</td>\n",
       "      <td>NaN</td>\n",
       "      <td>01 de mayo de 2022</td>\n",
       "      <td>118.85</td>\n",
       "      <td>NaN</td>\n",
       "      <td>01 de mayo de 2022</td>\n",
       "      <td>78.50</td>\n",
       "      <td>NaN</td>\n",
       "      <td>01 de mayo de 2022</td>\n",
       "      <td>252.75</td>\n",
       "    </tr>\n",
       "    <tr>\n",
       "      <th>17</th>\n",
       "      <td>01 de junio de 2022</td>\n",
       "      <td>136.72</td>\n",
       "      <td>NaN</td>\n",
       "      <td>01 de junio de 2022</td>\n",
       "      <td>256.83</td>\n",
       "      <td>NaN</td>\n",
       "      <td>01 de junio de 2022</td>\n",
       "      <td>102.20</td>\n",
       "      <td>NaN</td>\n",
       "      <td>01 de junio de 2022</td>\n",
       "      <td>76.39</td>\n",
       "      <td>NaN</td>\n",
       "      <td>01 de junio de 2022</td>\n",
       "      <td>224.47</td>\n",
       "    </tr>\n",
       "    <tr>\n",
       "      <th>18</th>\n",
       "      <td>01 de julio de 2022</td>\n",
       "      <td>162.51</td>\n",
       "      <td>NaN</td>\n",
       "      <td>01 de julio de 2022</td>\n",
       "      <td>280.56</td>\n",
       "      <td>NaN</td>\n",
       "      <td>01 de julio de 2022</td>\n",
       "      <td>114.92</td>\n",
       "      <td>NaN</td>\n",
       "      <td>01 de julio de 2022</td>\n",
       "      <td>84.78</td>\n",
       "      <td>NaN</td>\n",
       "      <td>01 de julio de 2022</td>\n",
       "      <td>297.15</td>\n",
       "    </tr>\n",
       "    <tr>\n",
       "      <th>19</th>\n",
       "      <td>01 de agosto de 2022</td>\n",
       "      <td>157.22</td>\n",
       "      <td>NaN</td>\n",
       "      <td>01 de agosto de 2022</td>\n",
       "      <td>261.47</td>\n",
       "      <td>NaN</td>\n",
       "      <td>01 de agosto de 2022</td>\n",
       "      <td>106.45</td>\n",
       "      <td>NaN</td>\n",
       "      <td>01 de agosto de 2022</td>\n",
       "      <td>84.07</td>\n",
       "      <td>NaN</td>\n",
       "      <td>01 de agosto de 2022</td>\n",
       "      <td>275.61</td>\n",
       "    </tr>\n",
       "    <tr>\n",
       "      <th>20</th>\n",
       "      <td>01 de septiembre de 2022</td>\n",
       "      <td>156.91</td>\n",
       "      <td>NaN</td>\n",
       "      <td>01 de septiembre de 2022</td>\n",
       "      <td>237.92</td>\n",
       "      <td>NaN</td>\n",
       "      <td>01 de septiembre de 2022</td>\n",
       "      <td>97.02</td>\n",
       "      <td>NaN</td>\n",
       "      <td>01 de septiembre de 2022</td>\n",
       "      <td>84.17</td>\n",
       "      <td>NaN</td>\n",
       "      <td>01 de septiembre de 2022</td>\n",
       "      <td>282.80</td>\n",
       "    </tr>\n",
       "  </tbody>\n",
       "</table>\n",
       "</div>"
      ],
      "text/plain": [
       "                       Fecha  Precios Apple  Unnamed: 2  \\\n",
       "0        01 de enero de 2021         131.96         NaN   \n",
       "1      01 de febrero de 2021         121.26         NaN   \n",
       "2        01 de marzo de 2021         122.15         NaN   \n",
       "3        01 de abril de 2021         131.46         NaN   \n",
       "4         01 de mayo de 2021         124.61         NaN   \n",
       "5        01 de junio de 2021         136.96         NaN   \n",
       "6        01 de julio de 2021         145.86         NaN   \n",
       "7       01 de agosto de 2021         151.83         NaN   \n",
       "8   01 de septiembre de 2021         141.50         NaN   \n",
       "9      01 de octubre de 2021         149.80         NaN   \n",
       "10   01 de noviembre de 2021         165.30         NaN   \n",
       "11      01 de diciembre 2021         177.57         NaN   \n",
       "12       01 de enero de 2022         174.78         NaN   \n",
       "13     01 de febrero de 2022         165.12         NaN   \n",
       "14       01 de marzo de 2022         174.61         NaN   \n",
       "15       01 de abril de 2022         157.65         NaN   \n",
       "16        01 de mayo de 2022         148.84         NaN   \n",
       "17       01 de junio de 2022         136.72         NaN   \n",
       "18       01 de julio de 2022         162.51         NaN   \n",
       "19      01 de agosto de 2022         157.22         NaN   \n",
       "20  01 de septiembre de 2022         156.91         NaN   \n",
       "\n",
       "                     Fecha.1  Precios Microsoft  Unnamed: 5  \\\n",
       "0        01 de enero de 2021             231.96         NaN   \n",
       "1      01 de febrero de 2021             232.38         NaN   \n",
       "2        01 de marzo de 2021             235.77         NaN   \n",
       "3        01 de abril de 2021             252.18         NaN   \n",
       "4         01 de mayo de 2021             249.68         NaN   \n",
       "5        01 de junio de 2021             270.90         NaN   \n",
       "6        01 de julio de 2021             284.91         NaN   \n",
       "7       01 de agosto de 2021             301.88         NaN   \n",
       "8   01 de septiembre de 2021             281.92         NaN   \n",
       "9      01 de octubre de 2021             331.62         NaN   \n",
       "10   01 de noviembre de 2021             330.59         NaN   \n",
       "11      01 de diciembre 2021             336.32         NaN   \n",
       "12       01 de enero de 2022             310.98         NaN   \n",
       "13     01 de febrero de 2022             298.79         NaN   \n",
       "14       01 de marzo de 2022             308.31         NaN   \n",
       "15       01 de abril de 2022             277.52         NaN   \n",
       "16        01 de mayo de 2022             271.87         NaN   \n",
       "17       01 de junio de 2022             256.83         NaN   \n",
       "18       01 de julio de 2022             280.56         NaN   \n",
       "19      01 de agosto de 2022             261.47         NaN   \n",
       "20  01 de septiembre de 2022             237.92         NaN   \n",
       "\n",
       "                     Fecha.2  Precios Nike  Unnamed: 8  \\\n",
       "0        01 de enero de 2021        133.59         NaN   \n",
       "1      01 de febrero de 2021        134.78         NaN   \n",
       "2        01 de marzo de 2021        132.89         NaN   \n",
       "3        01 de abril de 2021        132.62         NaN   \n",
       "4         01 de mayo de 2021        136.46         NaN   \n",
       "5        01 de junio de 2021        154.49         NaN   \n",
       "6        01 de julio de 2021        167.51         NaN   \n",
       "7       01 de agosto de 2021        164.74         NaN   \n",
       "8   01 de septiembre de 2021        145.23         NaN   \n",
       "9      01 de octubre de 2021        167.29         NaN   \n",
       "10   01 de noviembre de 2021        169.24         NaN   \n",
       "11      01 de diciembre 2021        166.67         NaN   \n",
       "12       01 de enero de 2022        148.07         NaN   \n",
       "13     01 de febrero de 2022        136.55         NaN   \n",
       "14       01 de marzo de 2022        134.56         NaN   \n",
       "15       01 de abril de 2022        124.70         NaN   \n",
       "16        01 de mayo de 2022        118.85         NaN   \n",
       "17       01 de junio de 2022        102.20         NaN   \n",
       "18       01 de julio de 2022        114.92         NaN   \n",
       "19      01 de agosto de 2022        106.45         NaN   \n",
       "20  01 de septiembre de 2022         97.02         NaN   \n",
       "\n",
       "                     Fecha.3  Precios Starbucks  Unnamed: 11  \\\n",
       "0        01 de enero de 2021              96.81          NaN   \n",
       "1      01 de febrero de 2021             108.03          NaN   \n",
       "2        01 de marzo de 2021             109.27          NaN   \n",
       "3        01 de abril de 2021             114.49          NaN   \n",
       "4         01 de mayo de 2021             113.88          NaN   \n",
       "5        01 de junio de 2021             111.81          NaN   \n",
       "6        01 de julio de 2021             121.43          NaN   \n",
       "7       01 de agosto de 2021             117.49          NaN   \n",
       "8   01 de septiembre de 2021             110.31          NaN   \n",
       "9      01 de octubre de 2021             106.07          NaN   \n",
       "10   01 de noviembre de 2021             109.64          NaN   \n",
       "11      01 de diciembre 2021             116.97          NaN   \n",
       "12       01 de enero de 2022              98.32          NaN   \n",
       "13     01 de febrero de 2022              91.79          NaN   \n",
       "14       01 de marzo de 2022              90.97          NaN   \n",
       "15       01 de abril de 2022              74.64          NaN   \n",
       "16        01 de mayo de 2022              78.50          NaN   \n",
       "17       01 de junio de 2022              76.39          NaN   \n",
       "18       01 de julio de 2022              84.78          NaN   \n",
       "19      01 de agosto de 2022              84.07          NaN   \n",
       "20  01 de septiembre de 2022              84.17          NaN   \n",
       "\n",
       "                     Fecha.4  Precios Tesla  \n",
       "0        01 de enero de 2021         264.51  \n",
       "1      01 de febrero de 2021         225.17  \n",
       "2        01 de marzo de 2021         222.64  \n",
       "3        01 de abril de 2021         236.48  \n",
       "4         01 de mayo de 2021         208.41  \n",
       "5        01 de junio de 2021         226.57  \n",
       "6        01 de julio de 2021         229.07  \n",
       "7       01 de agosto de 2021         245.24  \n",
       "8   01 de septiembre de 2021         258.49  \n",
       "9      01 de octubre de 2021         371.33  \n",
       "10   01 de noviembre de 2021         381.59  \n",
       "11      01 de diciembre 2021         352.26  \n",
       "12       01 de enero de 2022         312.24  \n",
       "13     01 de febrero de 2022         290.14  \n",
       "14       01 de marzo de 2022         359.20  \n",
       "15       01 de abril de 2022         290.25  \n",
       "16        01 de mayo de 2022         252.75  \n",
       "17       01 de junio de 2022         224.47  \n",
       "18       01 de julio de 2022         297.15  \n",
       "19      01 de agosto de 2022         275.61  \n",
       "20  01 de septiembre de 2022         282.80  "
      ]
     },
     "execution_count": 177,
     "metadata": {},
     "output_type": "execute_result"
    }
   ],
   "source": [
    "data3 = pd.read_excel('PreciosProyecto1.xlsx')\n",
    "data3"
   ]
  },
  {
   "cell_type": "code",
   "execution_count": 178,
   "id": "df9aff4d",
   "metadata": {},
   "outputs": [
    {
     "data": {
      "text/plain": [
       "0     133.59\n",
       "1     134.78\n",
       "2     132.89\n",
       "3     132.62\n",
       "4     136.46\n",
       "5     154.49\n",
       "6     167.51\n",
       "7     164.74\n",
       "8     145.23\n",
       "9     167.29\n",
       "10    169.24\n",
       "11    166.67\n",
       "12    148.07\n",
       "13    136.55\n",
       "14    134.56\n",
       "15    124.70\n",
       "16    118.85\n",
       "17    102.20\n",
       "18    114.92\n",
       "19    106.45\n",
       "20     97.02\n",
       "Name: Precios Nike, dtype: float64"
      ]
     },
     "execution_count": 178,
     "metadata": {},
     "output_type": "execute_result"
    }
   ],
   "source": [
    "dataNKE = data3['Precios Nike']\n",
    "dataNKE"
   ]
  },
  {
   "cell_type": "code",
   "execution_count": 179,
   "id": "d0e876f9",
   "metadata": {},
   "outputs": [
    {
     "data": {
      "text/plain": [
       "array([[133.59, 134.78, 132.89, 132.62, 136.46, 154.49, 167.51, 164.74,\n",
       "        145.23, 167.29, 169.24, 166.67, 148.07, 136.55, 134.56, 124.7 ,\n",
       "        118.85, 102.2 , 114.92, 106.45,  97.02]])"
      ]
     },
     "execution_count": 179,
     "metadata": {},
     "output_type": "execute_result"
    }
   ],
   "source": [
    "dataNike = np.array([dataNKE])\n",
    "dataNike"
   ]
  },
  {
   "cell_type": "markdown",
   "id": "10bd8ed6",
   "metadata": {},
   "source": [
    "**Modelo con polinomio de grado 4**"
   ]
  },
  {
   "cell_type": "code",
   "execution_count": 180,
   "id": "a7de430d",
   "metadata": {
    "scrolled": true
   },
   "outputs": [
    {
     "data": {
      "image/png": "[encoded data removed]",
      "text/plain": [
       "<Figure size 432x288 with 1 Axes>"
      ]
     },
     "metadata": {
      "needs_background": "light"
     },
     "output_type": "display_data"
    }
   ],
   "source": [
    "m = len(dataNKE)\n",
    "x = np.linspace(0, 20, m)\n",
    "y = dataNike\n",
    "\n",
    "%matplotlib inline\n",
    "plt.figure()\n",
    "plt.scatter(x, y, s = 100)\n",
    "plt.grid()"
   ]
  },
  {
   "cell_type": "markdown",
   "id": "2400f6d8",
   "metadata": {},
   "source": [
    "- La acción de Nike también parece tener mucha volatilidad"
   ]
  },
  {
   "cell_type": "code",
   "execution_count": 181,
   "id": "153d7164",
   "metadata": {},
   "outputs": [],
   "source": [
    "# Creamos función de precios\n",
    "\n",
    "def funcion_preciosN(beta, X, y) :\n",
    "    beta = np.reshape(beta, [5, -1])\n",
    "    pred = X @ beta\n",
    "    return ((y-pred).T @ (y-pred))[0][0]"
   ]
  },
  {
   "cell_type": "code",
   "execution_count": 182,
   "id": "0c807b1a",
   "metadata": {},
   "outputs": [
    {
     "data": {
      "text/plain": [
       "array([[1.00000e+00, 0.00000e+00, 0.00000e+00, 0.00000e+00, 0.00000e+00],\n",
       "       [1.00000e+00, 1.00000e+00, 1.00000e+00, 1.00000e+00, 1.00000e+00],\n",
       "       [1.00000e+00, 2.00000e+00, 4.00000e+00, 8.00000e+00, 1.60000e+01],\n",
       "       [1.00000e+00, 3.00000e+00, 9.00000e+00, 2.70000e+01, 8.10000e+01],\n",
       "       [1.00000e+00, 4.00000e+00, 1.60000e+01, 6.40000e+01, 2.56000e+02],\n",
       "       [1.00000e+00, 5.00000e+00, 2.50000e+01, 1.25000e+02, 6.25000e+02],\n",
       "       [1.00000e+00, 6.00000e+00, 3.60000e+01, 2.16000e+02, 1.29600e+03],\n",
       "       [1.00000e+00, 7.00000e+00, 4.90000e+01, 3.43000e+02, 2.40100e+03],\n",
       "       [1.00000e+00, 8.00000e+00, 6.40000e+01, 5.12000e+02, 4.09600e+03],\n",
       "       [1.00000e+00, 9.00000e+00, 8.10000e+01, 7.29000e+02, 6.56100e+03],\n",
       "       [1.00000e+00, 1.00000e+01, 1.00000e+02, 1.00000e+03, 1.00000e+04],\n",
       "       [1.00000e+00, 1.10000e+01, 1.21000e+02, 1.33100e+03, 1.46410e+04],\n",
       "       [1.00000e+00, 1.20000e+01, 1.44000e+02, 1.72800e+03, 2.07360e+04],\n",
       "       [1.00000e+00, 1.30000e+01, 1.69000e+02, 2.19700e+03, 2.85610e+04],\n",
       "       [1.00000e+00, 1.40000e+01, 1.96000e+02, 2.74400e+03, 3.84160e+04],\n",
       "       [1.00000e+00, 1.50000e+01, 2.25000e+02, 3.37500e+03, 5.06250e+04],\n",
       "       [1.00000e+00, 1.60000e+01, 2.56000e+02, 4.09600e+03, 6.55360e+04],\n",
       "       [1.00000e+00, 1.70000e+01, 2.89000e+02, 4.91300e+03, 8.35210e+04],\n",
       "       [1.00000e+00, 1.80000e+01, 3.24000e+02, 5.83200e+03, 1.04976e+05],\n",
       "       [1.00000e+00, 1.90000e+01, 3.61000e+02, 6.85900e+03, 1.30321e+05],\n",
       "       [1.00000e+00, 2.00000e+01, 4.00000e+02, 8.00000e+03, 1.60000e+05]])"
      ]
     },
     "execution_count": 182,
     "metadata": {},
     "output_type": "execute_result"
    }
   ],
   "source": [
    "# Creamos la matriz X\n",
    "\n",
    "ones = np.ones([m, 1])\n",
    "x_1 = np.reshape(x, [m, -1])\n",
    "x_2 = np.reshape(x**2, [m, -1])\n",
    "x_3 = np.reshape(x**3, [m, -1])\n",
    "x_4 = np.reshape(x**4, [m, -1])\n",
    "X = np.hstack((ones, x_1, x_2, x_3, x_4))\n",
    "X"
   ]
  },
  {
   "cell_type": "code",
   "execution_count": 183,
   "id": "8060a31c",
   "metadata": {},
   "outputs": [
    {
     "data": {
      "text/plain": [
       "43609617276.213715"
      ]
     },
     "execution_count": 183,
     "metadata": {},
     "output_type": "execute_result"
    }
   ],
   "source": [
    "beta_inicial = np.random.rand(5)\n",
    "y = np.reshape(y, [m, -1])\n",
    "funcion_preciosN(beta_inicial, X, y)"
   ]
  },
  {
   "cell_type": "code",
   "execution_count": 184,
   "id": "91b352bf",
   "metadata": {},
   "outputs": [
    {
     "data": {
      "text/plain": [
       "      fun: 1080.5006066652002\n",
       " hess_inv: array([[ 3.54092377e-01, -2.04176538e-01,  3.46673681e-02,\n",
       "        -2.25077843e-03,  4.94074795e-05],\n",
       "       [-2.04176538e-01,  1.88347457e-01, -3.81470173e-02,\n",
       "         2.72038414e-03, -6.33103722e-05],\n",
       "       [ 3.46673681e-02, -3.81470173e-02,  8.37275894e-03,\n",
       "        -6.26575482e-04,  1.50623081e-05],\n",
       "       [-2.25077843e-03,  2.72038414e-03, -6.26575481e-04,\n",
       "         4.83895982e-05, -1.18965604e-06],\n",
       "       [ 4.94074795e-05, -6.33103722e-05,  1.50623081e-05,\n",
       "        -1.18965604e-06,  2.97407547e-08]])\n",
       "      jac: array([-7.62939453e-05, -7.78198242e-04, -1.10321045e-02, -1.57135010e-01,\n",
       "       -2.14967346e+00])\n",
       "  message: 'Desired error not necessarily achieved due to precision loss.'\n",
       "     nfev: 246\n",
       "      nit: 9\n",
       "     njev: 39\n",
       "   status: 2\n",
       "  success: False\n",
       "        x: array([ 1.33016171e+02, -3.82573212e+00,  2.58202167e+00, -2.58737603e-01,\n",
       "        6.77881656e-03])"
      ]
     },
     "execution_count": 184,
     "metadata": {},
     "output_type": "execute_result"
    }
   ],
   "source": [
    "sol = opt.minimize(funcion_preciosN, \n",
    "                   beta_inicial, \n",
    "                   args = (X, y))\n",
    "sol"
   ]
  },
  {
   "cell_type": "code",
   "execution_count": 185,
   "id": "8b7e6d36",
   "metadata": {},
   "outputs": [
    {
     "data": {
      "text/plain": [
       "array([133.01617084, 131.52050161, 133.73135352, 138.34033835,\n",
       "       144.20175947, 150.33261186, 155.91258208, 160.2840483 ,\n",
       "       162.95208028, 163.58443939, 162.01157857, 158.22664238,\n",
       "       152.38546698, 144.80658012, 135.97120114, 126.52324099,\n",
       "       117.26930221, 109.17867895, 103.38335692, 101.17801349,\n",
       "       104.02001756])"
      ]
     },
     "execution_count": 185,
     "metadata": {},
     "output_type": "execute_result"
    }
   ],
   "source": [
    "y_predN1 = X @ sol.x\n",
    "y_predN1"
   ]
  },
  {
   "cell_type": "markdown",
   "id": "3f753574",
   "metadata": {},
   "source": [
    "**Modelo con polinomio de grado 5**"
   ]
  },
  {
   "cell_type": "code",
   "execution_count": 186,
   "id": "8e0145da",
   "metadata": {},
   "outputs": [],
   "source": [
    "# Creamos función de precios\n",
    "\n",
    "def funcion_preciosN(beta, X, y) :\n",
    "    beta = np.reshape(beta, [6, -1])\n",
    "    pred = X @ beta\n",
    "    return ((y-pred).T @ (y-pred))[0][0]"
   ]
  },
  {
   "cell_type": "code",
   "execution_count": 187,
   "id": "e06f0609",
   "metadata": {},
   "outputs": [
    {
     "data": {
      "text/plain": [
       "array([[1.000000e+00, 0.000000e+00, 0.000000e+00, 0.000000e+00,\n",
       "        0.000000e+00, 0.000000e+00],\n",
       "       [1.000000e+00, 1.000000e+00, 1.000000e+00, 1.000000e+00,\n",
       "        1.000000e+00, 1.000000e+00],\n",
       "       [1.000000e+00, 2.000000e+00, 4.000000e+00, 8.000000e+00,\n",
       "        1.600000e+01, 3.200000e+01],\n",
       "       [1.000000e+00, 3.000000e+00, 9.000000e+00, 2.700000e+01,\n",
       "        8.100000e+01, 2.430000e+02],\n",
       "       [1.000000e+00, 4.000000e+00, 1.600000e+01, 6.400000e+01,\n",
       "        2.560000e+02, 1.024000e+03],\n",
       "       [1.000000e+00, 5.000000e+00, 2.500000e+01, 1.250000e+02,\n",
       "        6.250000e+02, 3.125000e+03],\n",
       "       [1.000000e+00, 6.000000e+00, 3.600000e+01, 2.160000e+02,\n",
       "        1.296000e+03, 7.776000e+03],\n",
       "       [1.000000e+00, 7.000000e+00, 4.900000e+01, 3.430000e+02,\n",
       "        2.401000e+03, 1.680700e+04],\n",
       "       [1.000000e+00, 8.000000e+00, 6.400000e+01, 5.120000e+02,\n",
       "        4.096000e+03, 3.276800e+04],\n",
       "       [1.000000e+00, 9.000000e+00, 8.100000e+01, 7.290000e+02,\n",
       "        6.561000e+03, 5.904900e+04],\n",
       "       [1.000000e+00, 1.000000e+01, 1.000000e+02, 1.000000e+03,\n",
       "        1.000000e+04, 1.000000e+05],\n",
       "       [1.000000e+00, 1.100000e+01, 1.210000e+02, 1.331000e+03,\n",
       "        1.464100e+04, 1.610510e+05],\n",
       "       [1.000000e+00, 1.200000e+01, 1.440000e+02, 1.728000e+03,\n",
       "        2.073600e+04, 2.488320e+05],\n",
       "       [1.000000e+00, 1.300000e+01, 1.690000e+02, 2.197000e+03,\n",
       "        2.856100e+04, 3.712930e+05],\n",
       "       [1.000000e+00, 1.400000e+01, 1.960000e+02, 2.744000e+03,\n",
       "        3.841600e+04, 5.378240e+05],\n",
       "       [1.000000e+00, 1.500000e+01, 2.250000e+02, 3.375000e+03,\n",
       "        5.062500e+04, 7.593750e+05],\n",
       "       [1.000000e+00, 1.600000e+01, 2.560000e+02, 4.096000e+03,\n",
       "        6.553600e+04, 1.048576e+06],\n",
       "       [1.000000e+00, 1.700000e+01, 2.890000e+02, 4.913000e+03,\n",
       "        8.352100e+04, 1.419857e+06],\n",
       "       [1.000000e+00, 1.800000e+01, 3.240000e+02, 5.832000e+03,\n",
       "        1.049760e+05, 1.889568e+06],\n",
       "       [1.000000e+00, 1.900000e+01, 3.610000e+02, 6.859000e+03,\n",
       "        1.303210e+05, 2.476099e+06],\n",
       "       [1.000000e+00, 2.000000e+01, 4.000000e+02, 8.000000e+03,\n",
       "        1.600000e+05, 3.200000e+06]])"
      ]
     },
     "execution_count": 187,
     "metadata": {},
     "output_type": "execute_result"
    }
   ],
   "source": [
    "# Creamos la matriz X\n",
    "\n",
    "ones = np.ones([m, 1])\n",
    "x_1 = np.reshape(x, [m, -1])\n",
    "x_2 = np.reshape(x**2, [m, -1])\n",
    "x_3 = np.reshape(x**3, [m, -1])\n",
    "x_4 = np.reshape(x**4, [m, -1])\n",
    "x_5 = np.reshape(x**5, [m, -1])\n",
    "X = np.hstack((ones, x_1, x_2, x_3, x_4, x_5))\n",
    "X"
   ]
  },
  {
   "cell_type": "code",
   "execution_count": 188,
   "id": "85696885",
   "metadata": {},
   "outputs": [
    {
     "data": {
      "text/plain": [
       "21203924025433.28"
      ]
     },
     "execution_count": 188,
     "metadata": {},
     "output_type": "execute_result"
    }
   ],
   "source": [
    "beta_inicial = np.random.rand(6)\n",
    "y = np.reshape(y, [m, -1])\n",
    "funcion_preciosN(beta_inicial, X, y)"
   ]
  },
  {
   "cell_type": "code",
   "execution_count": 189,
   "id": "ae026ec5",
   "metadata": {},
   "outputs": [
    {
     "data": {
      "text/plain": [
       "      fun: 1028.9016605619606\n",
       " hess_inv: array([[ 1.56127533e-01, -1.64330274e-01,  4.43841957e-02,\n",
       "        -4.87087102e-03,  2.35107798e-04, -4.15055994e-06],\n",
       "       [-1.64330274e-01,  2.71763215e-01, -8.65514845e-02,\n",
       "         1.05104361e-02, -5.45442409e-04,  1.01800941e-05],\n",
       "       [ 4.43841957e-02, -8.65514845e-02,  3.08407761e-02,\n",
       "        -4.03199359e-03,  2.20343888e-04, -4.27223687e-06],\n",
       "       [-4.87087102e-03,  1.05104361e-02, -4.03199359e-03,\n",
       "         5.53421692e-04, -3.12965529e-05,  6.22363903e-07],\n",
       "       [ 2.35107798e-04, -5.45442409e-04,  2.20343888e-04,\n",
       "        -3.12965529e-05,  1.81348084e-06, -3.67281553e-08],\n",
       "       [-4.15055994e-06,  1.01800941e-05, -4.27223687e-06,\n",
       "         6.22363903e-07, -3.67281553e-08,  7.54292891e-10]])\n",
       "      jac: array([ 1.52587891e-05,  0.00000000e+00, -1.52587891e-04, -7.62939453e-04,\n",
       "       -2.74658203e-04,  2.60162354e-02])\n",
       "  message: 'Desired error not necessarily achieved due to precision loss.'\n",
       "     nfev: 418\n",
       "      nit: 15\n",
       "     njev: 58\n",
       "   status: 2\n",
       "  success: False\n",
       "        x: array([ 1.39229942e+02, -1.78199669e+01,  7.95454457e+00, -9.98920787e-01,\n",
       "        4.88612510e-02, -8.41648771e-04])"
      ]
     },
     "execution_count": 189,
     "metadata": {},
     "output_type": "execute_result"
    }
   ],
   "source": [
    "sol = opt.minimize(funcion_preciosN, \n",
    "                   beta_inicial, \n",
    "                   args = (X, y))\n",
    "sol"
   ]
  },
  {
   "cell_type": "code",
   "execution_count": 190,
   "id": "913fc9f4",
   "metadata": {},
   "outputs": [
    {
     "data": {
      "text/plain": [
       "array([139.22994215, 128.41361858, 128.1716675 , 134.14332188,\n",
       "       142.93848906, 152.03675281, 159.68637556, 164.80330045,\n",
       "       166.87015357, 165.83524605, 162.01157623, 155.97583179,\n",
       "       148.46739194, 140.28732951, 132.19741313, 124.81910937,\n",
       "       118.53258491, 113.37570865, 108.94305387, 104.2849004 ,\n",
       "        97.80623674])"
      ]
     },
     "execution_count": 190,
     "metadata": {},
     "output_type": "execute_result"
    }
   ],
   "source": [
    "y_predN2 = X @ sol.x\n",
    "y_predN2"
   ]
  },
  {
   "cell_type": "markdown",
   "id": "caa72ba8",
   "metadata": {},
   "source": [
    "**Solución y visualización del problema de optimización:**\n",
    "\n",
    "- Graficamos ambos modelos junto con los precios de la acción de Nike"
   ]
  },
  {
   "cell_type": "code",
   "execution_count": 191,
   "id": "38fdcbb2",
   "metadata": {},
   "outputs": [
    {
     "data": {
      "image/png": "[encoded data removed]",
      "text/plain": [
       "<Figure size 432x288 with 1 Axes>"
      ]
     },
     "metadata": {
      "needs_background": "light"
     },
     "output_type": "display_data"
    }
   ],
   "source": [
    "%matplotlib inline\n",
    "plt.figure()\n",
    "plt.scatter(x, y, s = 50)\n",
    "plt.plot(x, y_predN1, \"b\")\n",
    "plt.plot(x, y_predN2, \"r\")\n",
    "plt.grid()"
   ]
  },
  {
   "cell_type": "markdown",
   "id": "beb078ce",
   "metadata": {},
   "source": [
    "## Análisis de resultados:\n",
    "\n",
    "En el caso de Nike, nosotros determuinamos que el modelo que mejor se ajusta a los precios de la acción de Nike es el modelo `y_predN2`que es el modelo con polinomio de grado 5 (*la curva de color rojo*). Se acerca a más puntos de la gráfica, por lo que nosotros consideramos que es el modelo más representativo para esta empresa"
   ]
  },
  {
   "cell_type": "markdown",
   "id": "4d767688",
   "metadata": {},
   "source": [
    "---"
   ]
  },
  {
   "cell_type": "markdown",
   "id": "84014a69",
   "metadata": {},
   "source": [
    "# Starbucks Corp.\n",
    "\n",
    "Como ya observamos que los modelos con polinomios con grado 5 y 4 son más efectivos y útiles tanto con Apple, Microsoft y Nike. Vamos a proponer dos modelos de los mismos grados para los precios de la acción de Starbucks, y predecir los precios de la accíon de Starbucks para los siguientes 4 meses.\n",
    "\n",
    "Los datos de los precios de la accción de Starbucks en los últimos meses se obtuvieron de *Investing.com* y se cotejaron con *Factset* para verificar los datos."
   ]
  },
  {
   "cell_type": "markdown",
   "id": "2de4821c",
   "metadata": {},
   "source": [
    "**Modelo que representa el problema:**\n",
    "\n",
    "Se va a realizar el ajuste de curvas.\n",
    "Necesitamos las librerías para poder trabajar con ajuste de curvas. Necesitaremos un archivo de excel donde están los precios de la acción de cada empresa y leeremos el archivo de excel utilizando `pandas`. Después vamos a usar `numpy` para ordenar los datos de los precios de las acciones como un arreglo numérico y de esta manera poder trabajar con los datos. Después utilizaremos funciones de python junto con operaciones de álgebra lineal para definir los modelos para realizar el ajuste de curvas. Y al final usaremos `scipy.optimize` para encontrar las betas o los pesos de cada modelo. Y por último usaremos la librería de `matplotlib` para graficar los resultados obtenidos"
   ]
  },
  {
   "cell_type": "code",
   "execution_count": 192,
   "id": "296ff969",
   "metadata": {},
   "outputs": [],
   "source": [
    "# Importamos las librerías para trabajar con ajuste de curvas\n",
    "\n",
    "import numpy as np\n",
    "import pandas as pd\n",
    "import scipy.optimize as opt\n",
    "import matplotlib.pyplot as plt"
   ]
  },
  {
   "cell_type": "code",
   "execution_count": 193,
   "id": "378e8ec8",
   "metadata": {},
   "outputs": [
    {
     "data": {
      "text/html": [
       "<div>\n",
       "<style scoped>\n",
       "    .dataframe tbody tr th:only-of-type {\n",
       "        vertical-align: middle;\n",
       "    }\n",
       "\n",
       "    .dataframe tbody tr th {\n",
       "        vertical-align: top;\n",
       "    }\n",
       "\n",
       "    .dataframe thead th {\n",
       "        text-align: right;\n",
       "    }\n",
       "</style>\n",
       "<table border=\"1\" class=\"dataframe\">\n",
       "  <thead>\n",
       "    <tr style=\"text-align: right;\">\n",
       "      <th></th>\n",
       "      <th>Fecha</th>\n",
       "      <th>Precios Apple</th>\n",
       "      <th>Unnamed: 2</th>\n",
       "      <th>Fecha.1</th>\n",
       "      <th>Precios Microsoft</th>\n",
       "      <th>Unnamed: 5</th>\n",
       "      <th>Fecha.2</th>\n",
       "      <th>Precios Nike</th>\n",
       "      <th>Unnamed: 8</th>\n",
       "      <th>Fecha.3</th>\n",
       "      <th>Precios Starbucks</th>\n",
       "      <th>Unnamed: 11</th>\n",
       "      <th>Fecha.4</th>\n",
       "      <th>Precios Tesla</th>\n",
       "    </tr>\n",
       "  </thead>\n",
       "  <tbody>\n",
       "    <tr>\n",
       "      <th>0</th>\n",
       "      <td>01 de enero de 2021</td>\n",
       "      <td>131.96</td>\n",
       "      <td>NaN</td>\n",
       "      <td>01 de enero de 2021</td>\n",
       "      <td>231.96</td>\n",
       "      <td>NaN</td>\n",
       "      <td>01 de enero de 2021</td>\n",
       "      <td>133.59</td>\n",
       "      <td>NaN</td>\n",
       "      <td>01 de enero de 2021</td>\n",
       "      <td>96.81</td>\n",
       "      <td>NaN</td>\n",
       "      <td>01 de enero de 2021</td>\n",
       "      <td>264.51</td>\n",
       "    </tr>\n",
       "    <tr>\n",
       "      <th>1</th>\n",
       "      <td>01 de febrero de 2021</td>\n",
       "      <td>121.26</td>\n",
       "      <td>NaN</td>\n",
       "      <td>01 de febrero de 2021</td>\n",
       "      <td>232.38</td>\n",
       "      <td>NaN</td>\n",
       "      <td>01 de febrero de 2021</td>\n",
       "      <td>134.78</td>\n",
       "      <td>NaN</td>\n",
       "      <td>01 de febrero de 2021</td>\n",
       "      <td>108.03</td>\n",
       "      <td>NaN</td>\n",
       "      <td>01 de febrero de 2021</td>\n",
       "      <td>225.17</td>\n",
       "    </tr>\n",
       "    <tr>\n",
       "      <th>2</th>\n",
       "      <td>01 de marzo de 2021</td>\n",
       "      <td>122.15</td>\n",
       "      <td>NaN</td>\n",
       "      <td>01 de marzo de 2021</td>\n",
       "      <td>235.77</td>\n",
       "      <td>NaN</td>\n",
       "      <td>01 de marzo de 2021</td>\n",
       "      <td>132.89</td>\n",
       "      <td>NaN</td>\n",
       "      <td>01 de marzo de 2021</td>\n",
       "      <td>109.27</td>\n",
       "      <td>NaN</td>\n",
       "      <td>01 de marzo de 2021</td>\n",
       "      <td>222.64</td>\n",
       "    </tr>\n",
       "    <tr>\n",
       "      <th>3</th>\n",
       "      <td>01 de abril de 2021</td>\n",
       "      <td>131.46</td>\n",
       "      <td>NaN</td>\n",
       "      <td>01 de abril de 2021</td>\n",
       "      <td>252.18</td>\n",
       "      <td>NaN</td>\n",
       "      <td>01 de abril de 2021</td>\n",
       "      <td>132.62</td>\n",
       "      <td>NaN</td>\n",
       "      <td>01 de abril de 2021</td>\n",
       "      <td>114.49</td>\n",
       "      <td>NaN</td>\n",
       "      <td>01 de abril de 2021</td>\n",
       "      <td>236.48</td>\n",
       "    </tr>\n",
       "    <tr>\n",
       "      <th>4</th>\n",
       "      <td>01 de mayo de 2021</td>\n",
       "      <td>124.61</td>\n",
       "      <td>NaN</td>\n",
       "      <td>01 de mayo de 2021</td>\n",
       "      <td>249.68</td>\n",
       "      <td>NaN</td>\n",
       "      <td>01 de mayo de 2021</td>\n",
       "      <td>136.46</td>\n",
       "      <td>NaN</td>\n",
       "      <td>01 de mayo de 2021</td>\n",
       "      <td>113.88</td>\n",
       "      <td>NaN</td>\n",
       "      <td>01 de mayo de 2021</td>\n",
       "      <td>208.41</td>\n",
       "    </tr>\n",
       "    <tr>\n",
       "      <th>5</th>\n",
       "      <td>01 de junio de 2021</td>\n",
       "      <td>136.96</td>\n",
       "      <td>NaN</td>\n",
       "      <td>01 de junio de 2021</td>\n",
       "      <td>270.90</td>\n",
       "      <td>NaN</td>\n",
       "      <td>01 de junio de 2021</td>\n",
       "      <td>154.49</td>\n",
       "      <td>NaN</td>\n",
       "      <td>01 de junio de 2021</td>\n",
       "      <td>111.81</td>\n",
       "      <td>NaN</td>\n",
       "      <td>01 de junio de 2021</td>\n",
       "      <td>226.57</td>\n",
       "    </tr>\n",
       "    <tr>\n",
       "      <th>6</th>\n",
       "      <td>01 de julio de 2021</td>\n",
       "      <td>145.86</td>\n",
       "      <td>NaN</td>\n",
       "      <td>01 de julio de 2021</td>\n",
       "      <td>284.91</td>\n",
       "      <td>NaN</td>\n",
       "      <td>01 de julio de 2021</td>\n",
       "      <td>167.51</td>\n",
       "      <td>NaN</td>\n",
       "      <td>01 de julio de 2021</td>\n",
       "      <td>121.43</td>\n",
       "      <td>NaN</td>\n",
       "      <td>01 de julio de 2021</td>\n",
       "      <td>229.07</td>\n",
       "    </tr>\n",
       "    <tr>\n",
       "      <th>7</th>\n",
       "      <td>01 de agosto de 2021</td>\n",
       "      <td>151.83</td>\n",
       "      <td>NaN</td>\n",
       "      <td>01 de agosto de 2021</td>\n",
       "      <td>301.88</td>\n",
       "      <td>NaN</td>\n",
       "      <td>01 de agosto de 2021</td>\n",
       "      <td>164.74</td>\n",
       "      <td>NaN</td>\n",
       "      <td>01 de agosto de 2021</td>\n",
       "      <td>117.49</td>\n",
       "      <td>NaN</td>\n",
       "      <td>01 de agosto de 2021</td>\n",
       "      <td>245.24</td>\n",
       "    </tr>\n",
       "    <tr>\n",
       "      <th>8</th>\n",
       "      <td>01 de septiembre de 2021</td>\n",
       "      <td>141.50</td>\n",
       "      <td>NaN</td>\n",
       "      <td>01 de septiembre de 2021</td>\n",
       "      <td>281.92</td>\n",
       "      <td>NaN</td>\n",
       "      <td>01 de septiembre de 2021</td>\n",
       "      <td>145.23</td>\n",
       "      <td>NaN</td>\n",
       "      <td>01 de septiembre de 2021</td>\n",
       "      <td>110.31</td>\n",
       "      <td>NaN</td>\n",
       "      <td>01 de septiembre de 2021</td>\n",
       "      <td>258.49</td>\n",
       "    </tr>\n",
       "    <tr>\n",
       "      <th>9</th>\n",
       "      <td>01 de octubre de 2021</td>\n",
       "      <td>149.80</td>\n",
       "      <td>NaN</td>\n",
       "      <td>01 de octubre de 2021</td>\n",
       "      <td>331.62</td>\n",
       "      <td>NaN</td>\n",
       "      <td>01 de octubre de 2021</td>\n",
       "      <td>167.29</td>\n",
       "      <td>NaN</td>\n",
       "      <td>01 de octubre de 2021</td>\n",
       "      <td>106.07</td>\n",
       "      <td>NaN</td>\n",
       "      <td>01 de octubre de 2021</td>\n",
       "      <td>371.33</td>\n",
       "    </tr>\n",
       "    <tr>\n",
       "      <th>10</th>\n",
       "      <td>01 de noviembre de 2021</td>\n",
       "      <td>165.30</td>\n",
       "      <td>NaN</td>\n",
       "      <td>01 de noviembre de 2021</td>\n",
       "      <td>330.59</td>\n",
       "      <td>NaN</td>\n",
       "      <td>01 de noviembre de 2021</td>\n",
       "      <td>169.24</td>\n",
       "      <td>NaN</td>\n",
       "      <td>01 de noviembre de 2021</td>\n",
       "      <td>109.64</td>\n",
       "      <td>NaN</td>\n",
       "      <td>01 de noviembre de 2021</td>\n",
       "      <td>381.59</td>\n",
       "    </tr>\n",
       "    <tr>\n",
       "      <th>11</th>\n",
       "      <td>01 de diciembre 2021</td>\n",
       "      <td>177.57</td>\n",
       "      <td>NaN</td>\n",
       "      <td>01 de diciembre 2021</td>\n",
       "      <td>336.32</td>\n",
       "      <td>NaN</td>\n",
       "      <td>01 de diciembre 2021</td>\n",
       "      <td>166.67</td>\n",
       "      <td>NaN</td>\n",
       "      <td>01 de diciembre 2021</td>\n",
       "      <td>116.97</td>\n",
       "      <td>NaN</td>\n",
       "      <td>01 de diciembre 2021</td>\n",
       "      <td>352.26</td>\n",
       "    </tr>\n",
       "    <tr>\n",
       "      <th>12</th>\n",
       "      <td>01 de enero de 2022</td>\n",
       "      <td>174.78</td>\n",
       "      <td>NaN</td>\n",
       "      <td>01 de enero de 2022</td>\n",
       "      <td>310.98</td>\n",
       "      <td>NaN</td>\n",
       "      <td>01 de enero de 2022</td>\n",
       "      <td>148.07</td>\n",
       "      <td>NaN</td>\n",
       "      <td>01 de enero de 2022</td>\n",
       "      <td>98.32</td>\n",
       "      <td>NaN</td>\n",
       "      <td>01 de enero de 2022</td>\n",
       "      <td>312.24</td>\n",
       "    </tr>\n",
       "    <tr>\n",
       "      <th>13</th>\n",
       "      <td>01 de febrero de 2022</td>\n",
       "      <td>165.12</td>\n",
       "      <td>NaN</td>\n",
       "      <td>01 de febrero de 2022</td>\n",
       "      <td>298.79</td>\n",
       "      <td>NaN</td>\n",
       "      <td>01 de febrero de 2022</td>\n",
       "      <td>136.55</td>\n",
       "      <td>NaN</td>\n",
       "      <td>01 de febrero de 2022</td>\n",
       "      <td>91.79</td>\n",
       "      <td>NaN</td>\n",
       "      <td>01 de febrero de 2022</td>\n",
       "      <td>290.14</td>\n",
       "    </tr>\n",
       "    <tr>\n",
       "      <th>14</th>\n",
       "      <td>01 de marzo de 2022</td>\n",
       "      <td>174.61</td>\n",
       "      <td>NaN</td>\n",
       "      <td>01 de marzo de 2022</td>\n",
       "      <td>308.31</td>\n",
       "      <td>NaN</td>\n",
       "      <td>01 de marzo de 2022</td>\n",
       "      <td>134.56</td>\n",
       "      <td>NaN</td>\n",
       "      <td>01 de marzo de 2022</td>\n",
       "      <td>90.97</td>\n",
       "      <td>NaN</td>\n",
       "      <td>01 de marzo de 2022</td>\n",
       "      <td>359.20</td>\n",
       "    </tr>\n",
       "    <tr>\n",
       "      <th>15</th>\n",
       "      <td>01 de abril de 2022</td>\n",
       "      <td>157.65</td>\n",
       "      <td>NaN</td>\n",
       "      <td>01 de abril de 2022</td>\n",
       "      <td>277.52</td>\n",
       "      <td>NaN</td>\n",
       "      <td>01 de abril de 2022</td>\n",
       "      <td>124.70</td>\n",
       "      <td>NaN</td>\n",
       "      <td>01 de abril de 2022</td>\n",
       "      <td>74.64</td>\n",
       "      <td>NaN</td>\n",
       "      <td>01 de abril de 2022</td>\n",
       "      <td>290.25</td>\n",
       "    </tr>\n",
       "    <tr>\n",
       "      <th>16</th>\n",
       "      <td>01 de mayo de 2022</td>\n",
       "      <td>148.84</td>\n",
       "      <td>NaN</td>\n",
       "      <td>01 de mayo de 2022</td>\n",
       "      <td>271.87</td>\n",
       "      <td>NaN</td>\n",
       "      <td>01 de mayo de 2022</td>\n",
       "      <td>118.85</td>\n",
       "      <td>NaN</td>\n",
       "      <td>01 de mayo de 2022</td>\n",
       "      <td>78.50</td>\n",
       "      <td>NaN</td>\n",
       "      <td>01 de mayo de 2022</td>\n",
       "      <td>252.75</td>\n",
       "    </tr>\n",
       "    <tr>\n",
       "      <th>17</th>\n",
       "      <td>01 de junio de 2022</td>\n",
       "      <td>136.72</td>\n",
       "      <td>NaN</td>\n",
       "      <td>01 de junio de 2022</td>\n",
       "      <td>256.83</td>\n",
       "      <td>NaN</td>\n",
       "      <td>01 de junio de 2022</td>\n",
       "      <td>102.20</td>\n",
       "      <td>NaN</td>\n",
       "      <td>01 de junio de 2022</td>\n",
       "      <td>76.39</td>\n",
       "      <td>NaN</td>\n",
       "      <td>01 de junio de 2022</td>\n",
       "      <td>224.47</td>\n",
       "    </tr>\n",
       "    <tr>\n",
       "      <th>18</th>\n",
       "      <td>01 de julio de 2022</td>\n",
       "      <td>162.51</td>\n",
       "      <td>NaN</td>\n",
       "      <td>01 de julio de 2022</td>\n",
       "      <td>280.56</td>\n",
       "      <td>NaN</td>\n",
       "      <td>01 de julio de 2022</td>\n",
       "      <td>114.92</td>\n",
       "      <td>NaN</td>\n",
       "      <td>01 de julio de 2022</td>\n",
       "      <td>84.78</td>\n",
       "      <td>NaN</td>\n",
       "      <td>01 de julio de 2022</td>\n",
       "      <td>297.15</td>\n",
       "    </tr>\n",
       "    <tr>\n",
       "      <th>19</th>\n",
       "      <td>01 de agosto de 2022</td>\n",
       "      <td>157.22</td>\n",
       "      <td>NaN</td>\n",
       "      <td>01 de agosto de 2022</td>\n",
       "      <td>261.47</td>\n",
       "      <td>NaN</td>\n",
       "      <td>01 de agosto de 2022</td>\n",
       "      <td>106.45</td>\n",
       "      <td>NaN</td>\n",
       "      <td>01 de agosto de 2022</td>\n",
       "      <td>84.07</td>\n",
       "      <td>NaN</td>\n",
       "      <td>01 de agosto de 2022</td>\n",
       "      <td>275.61</td>\n",
       "    </tr>\n",
       "    <tr>\n",
       "      <th>20</th>\n",
       "      <td>01 de septiembre de 2022</td>\n",
       "      <td>156.91</td>\n",
       "      <td>NaN</td>\n",
       "      <td>01 de septiembre de 2022</td>\n",
       "      <td>237.92</td>\n",
       "      <td>NaN</td>\n",
       "      <td>01 de septiembre de 2022</td>\n",
       "      <td>97.02</td>\n",
       "      <td>NaN</td>\n",
       "      <td>01 de septiembre de 2022</td>\n",
       "      <td>84.17</td>\n",
       "      <td>NaN</td>\n",
       "      <td>01 de septiembre de 2022</td>\n",
       "      <td>282.80</td>\n",
       "    </tr>\n",
       "  </tbody>\n",
       "</table>\n",
       "</div>"
      ],
      "text/plain": [
       "                       Fecha  Precios Apple  Unnamed: 2  \\\n",
       "0        01 de enero de 2021         131.96         NaN   \n",
       "1      01 de febrero de 2021         121.26         NaN   \n",
       "2        01 de marzo de 2021         122.15         NaN   \n",
       "3        01 de abril de 2021         131.46         NaN   \n",
       "4         01 de mayo de 2021         124.61         NaN   \n",
       "5        01 de junio de 2021         136.96         NaN   \n",
       "6        01 de julio de 2021         145.86         NaN   \n",
       "7       01 de agosto de 2021         151.83         NaN   \n",
       "8   01 de septiembre de 2021         141.50         NaN   \n",
       "9      01 de octubre de 2021         149.80         NaN   \n",
       "10   01 de noviembre de 2021         165.30         NaN   \n",
       "11      01 de diciembre 2021         177.57         NaN   \n",
       "12       01 de enero de 2022         174.78         NaN   \n",
       "13     01 de febrero de 2022         165.12         NaN   \n",
       "14       01 de marzo de 2022         174.61         NaN   \n",
       "15       01 de abril de 2022         157.65         NaN   \n",
       "16        01 de mayo de 2022         148.84         NaN   \n",
       "17       01 de junio de 2022         136.72         NaN   \n",
       "18       01 de julio de 2022         162.51         NaN   \n",
       "19      01 de agosto de 2022         157.22         NaN   \n",
       "20  01 de septiembre de 2022         156.91         NaN   \n",
       "\n",
       "                     Fecha.1  Precios Microsoft  Unnamed: 5  \\\n",
       "0        01 de enero de 2021             231.96         NaN   \n",
       "1      01 de febrero de 2021             232.38         NaN   \n",
       "2        01 de marzo de 2021             235.77         NaN   \n",
       "3        01 de abril de 2021             252.18         NaN   \n",
       "4         01 de mayo de 2021             249.68         NaN   \n",
       "5        01 de junio de 2021             270.90         NaN   \n",
       "6        01 de julio de 2021             284.91         NaN   \n",
       "7       01 de agosto de 2021             301.88         NaN   \n",
       "8   01 de septiembre de 2021             281.92         NaN   \n",
       "9      01 de octubre de 2021             331.62         NaN   \n",
       "10   01 de noviembre de 2021             330.59         NaN   \n",
       "11      01 de diciembre 2021             336.32         NaN   \n",
       "12       01 de enero de 2022             310.98         NaN   \n",
       "13     01 de febrero de 2022             298.79         NaN   \n",
       "14       01 de marzo de 2022             308.31         NaN   \n",
       "15       01 de abril de 2022             277.52         NaN   \n",
       "16        01 de mayo de 2022             271.87         NaN   \n",
       "17       01 de junio de 2022             256.83         NaN   \n",
       "18       01 de julio de 2022             280.56         NaN   \n",
       "19      01 de agosto de 2022             261.47         NaN   \n",
       "20  01 de septiembre de 2022             237.92         NaN   \n",
       "\n",
       "                     Fecha.2  Precios Nike  Unnamed: 8  \\\n",
       "0        01 de enero de 2021        133.59         NaN   \n",
       "1      01 de febrero de 2021        134.78         NaN   \n",
       "2        01 de marzo de 2021        132.89         NaN   \n",
       "3        01 de abril de 2021        132.62         NaN   \n",
       "4         01 de mayo de 2021        136.46         NaN   \n",
       "5        01 de junio de 2021        154.49         NaN   \n",
       "6        01 de julio de 2021        167.51         NaN   \n",
       "7       01 de agosto de 2021        164.74         NaN   \n",
       "8   01 de septiembre de 2021        145.23         NaN   \n",
       "9      01 de octubre de 2021        167.29         NaN   \n",
       "10   01 de noviembre de 2021        169.24         NaN   \n",
       "11      01 de diciembre 2021        166.67         NaN   \n",
       "12       01 de enero de 2022        148.07         NaN   \n",
       "13     01 de febrero de 2022        136.55         NaN   \n",
       "14       01 de marzo de 2022        134.56         NaN   \n",
       "15       01 de abril de 2022        124.70         NaN   \n",
       "16        01 de mayo de 2022        118.85         NaN   \n",
       "17       01 de junio de 2022        102.20         NaN   \n",
       "18       01 de julio de 2022        114.92         NaN   \n",
       "19      01 de agosto de 2022        106.45         NaN   \n",
       "20  01 de septiembre de 2022         97.02         NaN   \n",
       "\n",
       "                     Fecha.3  Precios Starbucks  Unnamed: 11  \\\n",
       "0        01 de enero de 2021              96.81          NaN   \n",
       "1      01 de febrero de 2021             108.03          NaN   \n",
       "2        01 de marzo de 2021             109.27          NaN   \n",
       "3        01 de abril de 2021             114.49          NaN   \n",
       "4         01 de mayo de 2021             113.88          NaN   \n",
       "5        01 de junio de 2021             111.81          NaN   \n",
       "6        01 de julio de 2021             121.43          NaN   \n",
       "7       01 de agosto de 2021             117.49          NaN   \n",
       "8   01 de septiembre de 2021             110.31          NaN   \n",
       "9      01 de octubre de 2021             106.07          NaN   \n",
       "10   01 de noviembre de 2021             109.64          NaN   \n",
       "11      01 de diciembre 2021             116.97          NaN   \n",
       "12       01 de enero de 2022              98.32          NaN   \n",
       "13     01 de febrero de 2022              91.79          NaN   \n",
       "14       01 de marzo de 2022              90.97          NaN   \n",
       "15       01 de abril de 2022              74.64          NaN   \n",
       "16        01 de mayo de 2022              78.50          NaN   \n",
       "17       01 de junio de 2022              76.39          NaN   \n",
       "18       01 de julio de 2022              84.78          NaN   \n",
       "19      01 de agosto de 2022              84.07          NaN   \n",
       "20  01 de septiembre de 2022              84.17          NaN   \n",
       "\n",
       "                     Fecha.4  Precios Tesla  \n",
       "0        01 de enero de 2021         264.51  \n",
       "1      01 de febrero de 2021         225.17  \n",
       "2        01 de marzo de 2021         222.64  \n",
       "3        01 de abril de 2021         236.48  \n",
       "4         01 de mayo de 2021         208.41  \n",
       "5        01 de junio de 2021         226.57  \n",
       "6        01 de julio de 2021         229.07  \n",
       "7       01 de agosto de 2021         245.24  \n",
       "8   01 de septiembre de 2021         258.49  \n",
       "9      01 de octubre de 2021         371.33  \n",
       "10   01 de noviembre de 2021         381.59  \n",
       "11      01 de diciembre 2021         352.26  \n",
       "12       01 de enero de 2022         312.24  \n",
       "13     01 de febrero de 2022         290.14  \n",
       "14       01 de marzo de 2022         359.20  \n",
       "15       01 de abril de 2022         290.25  \n",
       "16        01 de mayo de 2022         252.75  \n",
       "17       01 de junio de 2022         224.47  \n",
       "18       01 de julio de 2022         297.15  \n",
       "19      01 de agosto de 2022         275.61  \n",
       "20  01 de septiembre de 2022         282.80  "
      ]
     },
     "execution_count": 193,
     "metadata": {},
     "output_type": "execute_result"
    }
   ],
   "source": [
    "data4 = pd.read_excel('PreciosProyecto1.xlsx')\n",
    "data4"
   ]
  },
  {
   "cell_type": "code",
   "execution_count": 194,
   "id": "127d3ace",
   "metadata": {},
   "outputs": [
    {
     "data": {
      "text/plain": [
       "0      96.81\n",
       "1     108.03\n",
       "2     109.27\n",
       "3     114.49\n",
       "4     113.88\n",
       "5     111.81\n",
       "6     121.43\n",
       "7     117.49\n",
       "8     110.31\n",
       "9     106.07\n",
       "10    109.64\n",
       "11    116.97\n",
       "12     98.32\n",
       "13     91.79\n",
       "14     90.97\n",
       "15     74.64\n",
       "16     78.50\n",
       "17     76.39\n",
       "18     84.78\n",
       "19     84.07\n",
       "20     84.17\n",
       "Name: Precios Starbucks, dtype: float64"
      ]
     },
     "execution_count": 194,
     "metadata": {},
     "output_type": "execute_result"
    }
   ],
   "source": [
    "dataSBUX = data4['Precios Starbucks']\n",
    "dataSBUX"
   ]
  },
  {
   "cell_type": "code",
   "execution_count": 195,
   "id": "90964552",
   "metadata": {},
   "outputs": [
    {
     "data": {
      "text/plain": [
       "array([[ 96.81, 108.03, 109.27, 114.49, 113.88, 111.81, 121.43, 117.49,\n",
       "        110.31, 106.07, 109.64, 116.97,  98.32,  91.79,  90.97,  74.64,\n",
       "         78.5 ,  76.39,  84.78,  84.07,  84.17]])"
      ]
     },
     "execution_count": 195,
     "metadata": {},
     "output_type": "execute_result"
    }
   ],
   "source": [
    "dataStarbucks = np.array([dataSBUX])\n",
    "dataStarbucks"
   ]
  },
  {
   "cell_type": "markdown",
   "id": "182e3329",
   "metadata": {},
   "source": [
    "- Graficamos los precios de la acción de Starbucks"
   ]
  },
  {
   "cell_type": "code",
   "execution_count": 196,
   "id": "9c1b2710",
   "metadata": {},
   "outputs": [
    {
     "data": {
      "image/png": "[encoded data removed]",
      "text/plain": [
       "<Figure size 432x288 with 1 Axes>"
      ]
     },
     "metadata": {
      "needs_background": "light"
     },
     "output_type": "display_data"
    }
   ],
   "source": [
    "m = len(dataSBUX)\n",
    "x = np.linspace(0, 20, m)\n",
    "y = dataStarbucks\n",
    "\n",
    "%matplotlib inline\n",
    "plt.figure()\n",
    "plt.scatter(x, y, s = 100)\n",
    "plt.grid()"
   ]
  },
  {
   "cell_type": "markdown",
   "id": "7a45353f",
   "metadata": {},
   "source": [
    "- La acción de Starbucks presenta mucha volatilidad"
   ]
  },
  {
   "cell_type": "markdown",
   "id": "a2fda93d",
   "metadata": {},
   "source": [
    "**Modelo con polinomio de grado 4**"
   ]
  },
  {
   "cell_type": "code",
   "execution_count": 197,
   "id": "035887da",
   "metadata": {},
   "outputs": [],
   "source": [
    "# Definimos la función de precios\n",
    "\n",
    "def funcion_preciosS(beta, X, y) :\n",
    "    beta = np.reshape(beta, [5, -1])\n",
    "    pred = X @ beta\n",
    "    return ((y-pred).T @ (y-pred))[0][0]"
   ]
  },
  {
   "cell_type": "code",
   "execution_count": 198,
   "id": "cc8fda65",
   "metadata": {},
   "outputs": [
    {
     "data": {
      "text/plain": [
       "array([[1.00000e+00, 0.00000e+00, 0.00000e+00, 0.00000e+00, 0.00000e+00],\n",
       "       [1.00000e+00, 1.00000e+00, 1.00000e+00, 1.00000e+00, 1.00000e+00],\n",
       "       [1.00000e+00, 2.00000e+00, 4.00000e+00, 8.00000e+00, 1.60000e+01],\n",
       "       [1.00000e+00, 3.00000e+00, 9.00000e+00, 2.70000e+01, 8.10000e+01],\n",
       "       [1.00000e+00, 4.00000e+00, 1.60000e+01, 6.40000e+01, 2.56000e+02],\n",
       "       [1.00000e+00, 5.00000e+00, 2.50000e+01, 1.25000e+02, 6.25000e+02],\n",
       "       [1.00000e+00, 6.00000e+00, 3.60000e+01, 2.16000e+02, 1.29600e+03],\n",
       "       [1.00000e+00, 7.00000e+00, 4.90000e+01, 3.43000e+02, 2.40100e+03],\n",
       "       [1.00000e+00, 8.00000e+00, 6.40000e+01, 5.12000e+02, 4.09600e+03],\n",
       "       [1.00000e+00, 9.00000e+00, 8.10000e+01, 7.29000e+02, 6.56100e+03],\n",
       "       [1.00000e+00, 1.00000e+01, 1.00000e+02, 1.00000e+03, 1.00000e+04],\n",
       "       [1.00000e+00, 1.10000e+01, 1.21000e+02, 1.33100e+03, 1.46410e+04],\n",
       "       [1.00000e+00, 1.20000e+01, 1.44000e+02, 1.72800e+03, 2.07360e+04],\n",
       "       [1.00000e+00, 1.30000e+01, 1.69000e+02, 2.19700e+03, 2.85610e+04],\n",
       "       [1.00000e+00, 1.40000e+01, 1.96000e+02, 2.74400e+03, 3.84160e+04],\n",
       "       [1.00000e+00, 1.50000e+01, 2.25000e+02, 3.37500e+03, 5.06250e+04],\n",
       "       [1.00000e+00, 1.60000e+01, 2.56000e+02, 4.09600e+03, 6.55360e+04],\n",
       "       [1.00000e+00, 1.70000e+01, 2.89000e+02, 4.91300e+03, 8.35210e+04],\n",
       "       [1.00000e+00, 1.80000e+01, 3.24000e+02, 5.83200e+03, 1.04976e+05],\n",
       "       [1.00000e+00, 1.90000e+01, 3.61000e+02, 6.85900e+03, 1.30321e+05],\n",
       "       [1.00000e+00, 2.00000e+01, 4.00000e+02, 8.00000e+03, 1.60000e+05]])"
      ]
     },
     "execution_count": 198,
     "metadata": {},
     "output_type": "execute_result"
    }
   ],
   "source": [
    "# Creamos la matriz X\n",
    "\n",
    "ones = np.ones([m, 1])\n",
    "x1 = np.reshape(x, [m, -1])\n",
    "x2 = np.reshape(x**2, [m, -1])\n",
    "x3 = np.reshape(x**3, [m, -1])\n",
    "x4 = np.reshape(x**4, [m, -1])\n",
    "X = np.hstack((ones, x1, x2, x3, x4))\n",
    "X"
   ]
  },
  {
   "cell_type": "code",
   "execution_count": 199,
   "id": "5b1314c3",
   "metadata": {},
   "outputs": [
    {
     "data": {
      "text/plain": [
       "51317233192.544174"
      ]
     },
     "execution_count": 199,
     "metadata": {},
     "output_type": "execute_result"
    }
   ],
   "source": [
    "beta_inicial = np.random.rand(5)\n",
    "y = np.reshape(y, [m, -1])\n",
    "funcion_preciosS(beta_inicial, X, y)"
   ]
  },
  {
   "cell_type": "code",
   "execution_count": 200,
   "id": "caa2ff25",
   "metadata": {},
   "outputs": [
    {
     "data": {
      "text/plain": [
       "      fun: 463.7725326365816\n",
       " hess_inv: array([[ 2.36891195e+00, -4.14519460e+00,  9.79109695e-01,\n",
       "        -7.52603879e-02,  1.83274919e-03],\n",
       "       [-4.14519460e+00,  7.26632271e+00, -1.71773033e+00,\n",
       "         1.32099919e-01, -3.21796428e-03],\n",
       "       [ 9.79109695e-01, -1.71773033e+00,  4.06454181e-01,\n",
       "        -3.12776398e-02,  7.62261050e-04],\n",
       "       [-7.52603879e-02,  1.32099919e-01, -3.12776398e-02,\n",
       "         2.40804989e-03, -5.87078121e-05],\n",
       "       [ 1.83274919e-03, -3.21796428e-03,  7.62261050e-04,\n",
       "        -5.87078121e-05,  1.43172365e-06]])\n",
       "      jac: array([ 3.81469727e-06,  3.81469727e-06,  3.81469727e-06,  0.00000000e+00,\n",
       "       -5.72204590e-05])\n",
       "  message: 'Desired error not necessarily achieved due to precision loss.'\n",
       "     nfev: 169\n",
       "      nit: 14\n",
       "     njev: 28\n",
       "   status: 2\n",
       "  success: False\n",
       "        x: array([ 9.95473541e+01,  5.03794073e+00, -1.03190191e-01, -5.38149921e-02,\n",
       "        2.24275808e-03])"
      ]
     },
     "execution_count": 200,
     "metadata": {},
     "output_type": "execute_result"
    }
   ],
   "source": [
    "sol = opt.minimize(funcion_preciosS, \n",
    "                   beta_inicial, \n",
    "                   args = (X, y))\n",
    "sol"
   ]
  },
  {
   "cell_type": "code",
   "execution_count": 201,
   "id": "d48c0e6b",
   "metadata": {},
   "outputs": [
    {
     "data": {
      "text/plain": [
       "array([ 99.54735415, 104.43053245, 108.81583904, 112.46112324,\n",
       "       115.17806059, 116.83215281, 117.34272783, 116.68293976,\n",
       "       114.8797689 , 112.01402177, 108.22033104, 103.68715562,\n",
       "        98.65678059,  93.42531722,  88.34270298,  83.81270154,\n",
       "        80.29290277,  78.2947227 ,  78.38340359,  81.17801388,\n",
       "        87.35144821])"
      ]
     },
     "execution_count": 201,
     "metadata": {},
     "output_type": "execute_result"
    }
   ],
   "source": [
    "y_predS1 = X @ sol.x\n",
    "y_predS1"
   ]
  },
  {
   "cell_type": "markdown",
   "id": "e3b733e0",
   "metadata": {},
   "source": [
    "**Modelo con polinomio de grado 5**"
   ]
  },
  {
   "cell_type": "code",
   "execution_count": 202,
   "id": "425a1a97",
   "metadata": {},
   "outputs": [],
   "source": [
    "# Definimos la función de precios\n",
    "\n",
    "def funcion_preciosS(beta, X, y) :\n",
    "    beta = np.reshape(beta, [6, -1])\n",
    "    pred = X @ beta\n",
    "    return ((y-pred).T @ (y-pred))[0][0]"
   ]
  },
  {
   "cell_type": "code",
   "execution_count": 203,
   "id": "b8dd28f8",
   "metadata": {},
   "outputs": [
    {
     "data": {
      "text/plain": [
       "array([[1.000000e+00, 0.000000e+00, 0.000000e+00, 0.000000e+00,\n",
       "        0.000000e+00, 0.000000e+00],\n",
       "       [1.000000e+00, 1.000000e+00, 1.000000e+00, 1.000000e+00,\n",
       "        1.000000e+00, 1.000000e+00],\n",
       "       [1.000000e+00, 2.000000e+00, 4.000000e+00, 8.000000e+00,\n",
       "        1.600000e+01, 3.200000e+01],\n",
       "       [1.000000e+00, 3.000000e+00, 9.000000e+00, 2.700000e+01,\n",
       "        8.100000e+01, 2.430000e+02],\n",
       "       [1.000000e+00, 4.000000e+00, 1.600000e+01, 6.400000e+01,\n",
       "        2.560000e+02, 1.024000e+03],\n",
       "       [1.000000e+00, 5.000000e+00, 2.500000e+01, 1.250000e+02,\n",
       "        6.250000e+02, 3.125000e+03],\n",
       "       [1.000000e+00, 6.000000e+00, 3.600000e+01, 2.160000e+02,\n",
       "        1.296000e+03, 7.776000e+03],\n",
       "       [1.000000e+00, 7.000000e+00, 4.900000e+01, 3.430000e+02,\n",
       "        2.401000e+03, 1.680700e+04],\n",
       "       [1.000000e+00, 8.000000e+00, 6.400000e+01, 5.120000e+02,\n",
       "        4.096000e+03, 3.276800e+04],\n",
       "       [1.000000e+00, 9.000000e+00, 8.100000e+01, 7.290000e+02,\n",
       "        6.561000e+03, 5.904900e+04],\n",
       "       [1.000000e+00, 1.000000e+01, 1.000000e+02, 1.000000e+03,\n",
       "        1.000000e+04, 1.000000e+05],\n",
       "       [1.000000e+00, 1.100000e+01, 1.210000e+02, 1.331000e+03,\n",
       "        1.464100e+04, 1.610510e+05],\n",
       "       [1.000000e+00, 1.200000e+01, 1.440000e+02, 1.728000e+03,\n",
       "        2.073600e+04, 2.488320e+05],\n",
       "       [1.000000e+00, 1.300000e+01, 1.690000e+02, 2.197000e+03,\n",
       "        2.856100e+04, 3.712930e+05],\n",
       "       [1.000000e+00, 1.400000e+01, 1.960000e+02, 2.744000e+03,\n",
       "        3.841600e+04, 5.378240e+05],\n",
       "       [1.000000e+00, 1.500000e+01, 2.250000e+02, 3.375000e+03,\n",
       "        5.062500e+04, 7.593750e+05],\n",
       "       [1.000000e+00, 1.600000e+01, 2.560000e+02, 4.096000e+03,\n",
       "        6.553600e+04, 1.048576e+06],\n",
       "       [1.000000e+00, 1.700000e+01, 2.890000e+02, 4.913000e+03,\n",
       "        8.352100e+04, 1.419857e+06],\n",
       "       [1.000000e+00, 1.800000e+01, 3.240000e+02, 5.832000e+03,\n",
       "        1.049760e+05, 1.889568e+06],\n",
       "       [1.000000e+00, 1.900000e+01, 3.610000e+02, 6.859000e+03,\n",
       "        1.303210e+05, 2.476099e+06],\n",
       "       [1.000000e+00, 2.000000e+01, 4.000000e+02, 8.000000e+03,\n",
       "        1.600000e+05, 3.200000e+06]])"
      ]
     },
     "execution_count": 203,
     "metadata": {},
     "output_type": "execute_result"
    }
   ],
   "source": [
    "# Creamos la matriz X\n",
    "\n",
    "ones = np.ones([m, 1])\n",
    "x1 = np.reshape(x, [m, -1])\n",
    "x2 = np.reshape(x**2, [m, -1])\n",
    "x3 = np.reshape(x**3, [m, -1])\n",
    "x4 = np.reshape(x**4, [m, -1])\n",
    "x5 = np.reshape(x**5, [m, -1])\n",
    "X = np.hstack((ones, x1, x2, x3, x4, x5))\n",
    "X"
   ]
  },
  {
   "cell_type": "code",
   "execution_count": 204,
   "id": "fd8f4fb9",
   "metadata": {},
   "outputs": [
    {
     "data": {
      "text/plain": [
       "21039873990.345642"
      ]
     },
     "execution_count": 204,
     "metadata": {},
     "output_type": "execute_result"
    }
   ],
   "source": [
    "beta_inicial = np.random.rand(6)\n",
    "y = np.reshape(y, [m, -1])\n",
    "funcion_preciosS(beta_inicial, X, y)"
   ]
  },
  {
   "cell_type": "code",
   "execution_count": 205,
   "id": "22d1e3cc",
   "metadata": {},
   "outputs": [
    {
     "data": {
      "text/plain": [
       "      fun: 503.8655236970188\n",
       " hess_inv: array([[ 4.67809777e-01, -3.96626601e-01,  1.03168255e-01,\n",
       "        -1.13500232e-02,  5.55608963e-04, -9.97831383e-06],\n",
       "       [-3.96626601e-01,  5.58950864e-01, -1.75180291e-01,\n",
       "         2.12687023e-02, -1.10688011e-03,  2.07264459e-05],\n",
       "       [ 1.03168255e-01, -1.75180291e-01,  5.95564138e-02,\n",
       "        -7.58800628e-03,  4.07835574e-04, -7.81542280e-06],\n",
       "       [-1.13500232e-02,  2.12687023e-02, -7.58800628e-03,\n",
       "         9.97352855e-04, -5.48023554e-05,  1.06771572e-06],\n",
       "       [ 5.55608963e-04, -1.10688011e-03,  4.07835574e-04,\n",
       "        -5.48023554e-05,  3.06098913e-06, -6.03990089e-08],\n",
       "       [-9.97831383e-06,  2.07264459e-05, -7.81542280e-06,\n",
       "         1.06771572e-06, -6.03990089e-08,  1.20387917e-09]])\n",
       "      jac: array([ 1.22815323e+00,  5.68148422e+00, -8.83732224e+00, -3.16319786e+02,\n",
       "       -5.76957100e+03, -1.07323527e+05])\n",
       "  message: 'Desired error not necessarily achieved due to precision loss.'\n",
       "     nfev: 348\n",
       "      nit: 7\n",
       "     njev: 48\n",
       "   status: 2\n",
       "  success: False\n",
       "        x: array([ 1.00769698e+02,  1.58460647e+00,  1.33957147e+00, -2.61655440e-01,\n",
       "        1.43882935e-02, -2.47458724e-04])"
      ]
     },
     "execution_count": 205,
     "metadata": {},
     "output_type": "execute_result"
    }
   ],
   "source": [
    "sol = opt.minimize(funcion_preciosS, \n",
    "                   beta_inicial, \n",
    "                   args = (X, y))\n",
    "sol"
   ]
  },
  {
   "cell_type": "code",
   "execution_count": 206,
   "id": "cecdd9d0",
   "metadata": {},
   "outputs": [
    {
     "data": {
      "text/plain": [
       "array([100.76969779, 103.44636112, 107.42624711, 111.62028286,\n",
       "       115.22532445, 117.69446185, 118.70732388, 118.14038319,\n",
       "       116.03726118, 112.57903298, 108.05453237, 102.83065676,\n",
       "        97.32267214,  91.96451803,  87.17911244,  83.34865678,\n",
       "        80.7849409 ,  79.69964794,  80.17465937,  82.13235989,\n",
       "        85.30594241])"
      ]
     },
     "execution_count": 206,
     "metadata": {},
     "output_type": "execute_result"
    }
   ],
   "source": [
    "y_predS2 = X @ sol.x\n",
    "y_predS2"
   ]
  },
  {
   "cell_type": "markdown",
   "id": "640d06c7",
   "metadata": {},
   "source": [
    "**Solución y visualización del problema de optimización:**\n",
    "\n",
    "- Graficamos los modelos junto con los precios de la acción de Starbucks"
   ]
  },
  {
   "cell_type": "code",
   "execution_count": 207,
   "id": "52e4f5cd",
   "metadata": {},
   "outputs": [
    {
     "data": {
      "image/png": "[encoded data removed]",
      "text/plain": [
       "<Figure size 432x288 with 1 Axes>"
      ]
     },
     "metadata": {
      "needs_background": "light"
     },
     "output_type": "display_data"
    }
   ],
   "source": [
    "%matplotlib inline\n",
    "plt.figure()\n",
    "plt.scatter(x, y, s = 50)\n",
    "plt.plot(x, y_predS1, \"b\")\n",
    "plt.plot(x, y_predS2, \"r\")\n",
    "plt.grid()"
   ]
  },
  {
   "cell_type": "markdown",
   "id": "dd4c8588",
   "metadata": {},
   "source": [
    "## Análisis de resultados:\n",
    "\n",
    "- Ambos modelos parecen ajustarse en la misma magnitud a los precios de la acción de Starbucks. Siendo el modelo de grado 4 la curva azul `y_predS1` y el modelo de grado 5 la curva roja `y_predS2`. Por lo que ambos pueden ser modelos representativos y nos pueden ser útiles para la predicción de los precios de la empresa."
   ]
  },
  {
   "cell_type": "markdown",
   "id": "e49851af",
   "metadata": {},
   "source": [
    "---"
   ]
  },
  {
   "cell_type": "markdown",
   "id": "20df1b13",
   "metadata": {},
   "source": [
    "# Tesla Inc.\n",
    "\n",
    "Como ya observamos que los modelos con polinomios con grado 5 y 4 son más efectivos y útiles tanto con Apple, Microsoft, Nike y Starbucks. Vamos a proponer dos modelos de los mismos grados para los precios de la acción de Tesla, y predecir los precios de la accíon de Tesla para los siguientes 4 meses.\n",
    "\n",
    "Los datos de los precios de la accción de Tesla en los últimos meses se obtuvieron de *Investing.com* y se cotejaron con *Factset* para verificar los datos."
   ]
  },
  {
   "cell_type": "markdown",
   "id": "7e3b8dda",
   "metadata": {},
   "source": [
    "**Modelo que representa el problema:**\n",
    "\n",
    "Se va a realizar el ajuste de curvas.\n",
    "Necesitamos las librerías para poder trabajar con ajuste de curvas. Necesitaremos un archivo de excel donde están los precios de la acción de cada empresa y leeremos el archivo de excel utilizando `pandas`. Después vamos a usar `numpy` para ordenar los datos de los precios de las acciones como un arreglo numérico y de esta manera poder trabajar con los datos. Después utilizaremos funciones de python junto con operaciones de álgebra lineal para definir los modelos para realizar el ajuste de curvas. Y al final usaremos `scipy.optimize` para encontrar las betas o los pesos de cada modelo. Y por último usaremos la librería de `matplotlib` para graficar los resultados obtenidos"
   ]
  },
  {
   "cell_type": "code",
   "execution_count": 208,
   "id": "e4fd6393",
   "metadata": {},
   "outputs": [],
   "source": [
    "# Importamos las librerías para trabajar con ajuste de curvas\n",
    "\n",
    "import numpy as np\n",
    "import pandas as pd\n",
    "import scipy.optimize as opt\n",
    "import matplotlib.pyplot as plt"
   ]
  },
  {
   "cell_type": "code",
   "execution_count": 209,
   "id": "3d01c840",
   "metadata": {},
   "outputs": [
    {
     "data": {
      "text/html": [
       "<div>\n",
       "<style scoped>\n",
       "    .dataframe tbody tr th:only-of-type {\n",
       "        vertical-align: middle;\n",
       "    }\n",
       "\n",
       "    .dataframe tbody tr th {\n",
       "        vertical-align: top;\n",
       "    }\n",
       "\n",
       "    .dataframe thead th {\n",
       "        text-align: right;\n",
       "    }\n",
       "</style>\n",
       "<table border=\"1\" class=\"dataframe\">\n",
       "  <thead>\n",
       "    <tr style=\"text-align: right;\">\n",
       "      <th></th>\n",
       "      <th>Fecha</th>\n",
       "      <th>Precios Apple</th>\n",
       "      <th>Unnamed: 2</th>\n",
       "      <th>Fecha.1</th>\n",
       "      <th>Precios Microsoft</th>\n",
       "      <th>Unnamed: 5</th>\n",
       "      <th>Fecha.2</th>\n",
       "      <th>Precios Nike</th>\n",
       "      <th>Unnamed: 8</th>\n",
       "      <th>Fecha.3</th>\n",
       "      <th>Precios Starbucks</th>\n",
       "      <th>Unnamed: 11</th>\n",
       "      <th>Fecha.4</th>\n",
       "      <th>Precios Tesla</th>\n",
       "    </tr>\n",
       "  </thead>\n",
       "  <tbody>\n",
       "    <tr>\n",
       "      <th>0</th>\n",
       "      <td>01 de enero de 2021</td>\n",
       "      <td>131.96</td>\n",
       "      <td>NaN</td>\n",
       "      <td>01 de enero de 2021</td>\n",
       "      <td>231.96</td>\n",
       "      <td>NaN</td>\n",
       "      <td>01 de enero de 2021</td>\n",
       "      <td>133.59</td>\n",
       "      <td>NaN</td>\n",
       "      <td>01 de enero de 2021</td>\n",
       "      <td>96.81</td>\n",
       "      <td>NaN</td>\n",
       "      <td>01 de enero de 2021</td>\n",
       "      <td>264.51</td>\n",
       "    </tr>\n",
       "    <tr>\n",
       "      <th>1</th>\n",
       "      <td>01 de febrero de 2021</td>\n",
       "      <td>121.26</td>\n",
       "      <td>NaN</td>\n",
       "      <td>01 de febrero de 2021</td>\n",
       "      <td>232.38</td>\n",
       "      <td>NaN</td>\n",
       "      <td>01 de febrero de 2021</td>\n",
       "      <td>134.78</td>\n",
       "      <td>NaN</td>\n",
       "      <td>01 de febrero de 2021</td>\n",
       "      <td>108.03</td>\n",
       "      <td>NaN</td>\n",
       "      <td>01 de febrero de 2021</td>\n",
       "      <td>225.17</td>\n",
       "    </tr>\n",
       "    <tr>\n",
       "      <th>2</th>\n",
       "      <td>01 de marzo de 2021</td>\n",
       "      <td>122.15</td>\n",
       "      <td>NaN</td>\n",
       "      <td>01 de marzo de 2021</td>\n",
       "      <td>235.77</td>\n",
       "      <td>NaN</td>\n",
       "      <td>01 de marzo de 2021</td>\n",
       "      <td>132.89</td>\n",
       "      <td>NaN</td>\n",
       "      <td>01 de marzo de 2021</td>\n",
       "      <td>109.27</td>\n",
       "      <td>NaN</td>\n",
       "      <td>01 de marzo de 2021</td>\n",
       "      <td>222.64</td>\n",
       "    </tr>\n",
       "    <tr>\n",
       "      <th>3</th>\n",
       "      <td>01 de abril de 2021</td>\n",
       "      <td>131.46</td>\n",
       "      <td>NaN</td>\n",
       "      <td>01 de abril de 2021</td>\n",
       "      <td>252.18</td>\n",
       "      <td>NaN</td>\n",
       "      <td>01 de abril de 2021</td>\n",
       "      <td>132.62</td>\n",
       "      <td>NaN</td>\n",
       "      <td>01 de abril de 2021</td>\n",
       "      <td>114.49</td>\n",
       "      <td>NaN</td>\n",
       "      <td>01 de abril de 2021</td>\n",
       "      <td>236.48</td>\n",
       "    </tr>\n",
       "    <tr>\n",
       "      <th>4</th>\n",
       "      <td>01 de mayo de 2021</td>\n",
       "      <td>124.61</td>\n",
       "      <td>NaN</td>\n",
       "      <td>01 de mayo de 2021</td>\n",
       "      <td>249.68</td>\n",
       "      <td>NaN</td>\n",
       "      <td>01 de mayo de 2021</td>\n",
       "      <td>136.46</td>\n",
       "      <td>NaN</td>\n",
       "      <td>01 de mayo de 2021</td>\n",
       "      <td>113.88</td>\n",
       "      <td>NaN</td>\n",
       "      <td>01 de mayo de 2021</td>\n",
       "      <td>208.41</td>\n",
       "    </tr>\n",
       "    <tr>\n",
       "      <th>5</th>\n",
       "      <td>01 de junio de 2021</td>\n",
       "      <td>136.96</td>\n",
       "      <td>NaN</td>\n",
       "      <td>01 de junio de 2021</td>\n",
       "      <td>270.90</td>\n",
       "      <td>NaN</td>\n",
       "      <td>01 de junio de 2021</td>\n",
       "      <td>154.49</td>\n",
       "      <td>NaN</td>\n",
       "      <td>01 de junio de 2021</td>\n",
       "      <td>111.81</td>\n",
       "      <td>NaN</td>\n",
       "      <td>01 de junio de 2021</td>\n",
       "      <td>226.57</td>\n",
       "    </tr>\n",
       "    <tr>\n",
       "      <th>6</th>\n",
       "      <td>01 de julio de 2021</td>\n",
       "      <td>145.86</td>\n",
       "      <td>NaN</td>\n",
       "      <td>01 de julio de 2021</td>\n",
       "      <td>284.91</td>\n",
       "      <td>NaN</td>\n",
       "      <td>01 de julio de 2021</td>\n",
       "      <td>167.51</td>\n",
       "      <td>NaN</td>\n",
       "      <td>01 de julio de 2021</td>\n",
       "      <td>121.43</td>\n",
       "      <td>NaN</td>\n",
       "      <td>01 de julio de 2021</td>\n",
       "      <td>229.07</td>\n",
       "    </tr>\n",
       "    <tr>\n",
       "      <th>7</th>\n",
       "      <td>01 de agosto de 2021</td>\n",
       "      <td>151.83</td>\n",
       "      <td>NaN</td>\n",
       "      <td>01 de agosto de 2021</td>\n",
       "      <td>301.88</td>\n",
       "      <td>NaN</td>\n",
       "      <td>01 de agosto de 2021</td>\n",
       "      <td>164.74</td>\n",
       "      <td>NaN</td>\n",
       "      <td>01 de agosto de 2021</td>\n",
       "      <td>117.49</td>\n",
       "      <td>NaN</td>\n",
       "      <td>01 de agosto de 2021</td>\n",
       "      <td>245.24</td>\n",
       "    </tr>\n",
       "    <tr>\n",
       "      <th>8</th>\n",
       "      <td>01 de septiembre de 2021</td>\n",
       "      <td>141.50</td>\n",
       "      <td>NaN</td>\n",
       "      <td>01 de septiembre de 2021</td>\n",
       "      <td>281.92</td>\n",
       "      <td>NaN</td>\n",
       "      <td>01 de septiembre de 2021</td>\n",
       "      <td>145.23</td>\n",
       "      <td>NaN</td>\n",
       "      <td>01 de septiembre de 2021</td>\n",
       "      <td>110.31</td>\n",
       "      <td>NaN</td>\n",
       "      <td>01 de septiembre de 2021</td>\n",
       "      <td>258.49</td>\n",
       "    </tr>\n",
       "    <tr>\n",
       "      <th>9</th>\n",
       "      <td>01 de octubre de 2021</td>\n",
       "      <td>149.80</td>\n",
       "      <td>NaN</td>\n",
       "      <td>01 de octubre de 2021</td>\n",
       "      <td>331.62</td>\n",
       "      <td>NaN</td>\n",
       "      <td>01 de octubre de 2021</td>\n",
       "      <td>167.29</td>\n",
       "      <td>NaN</td>\n",
       "      <td>01 de octubre de 2021</td>\n",
       "      <td>106.07</td>\n",
       "      <td>NaN</td>\n",
       "      <td>01 de octubre de 2021</td>\n",
       "      <td>371.33</td>\n",
       "    </tr>\n",
       "    <tr>\n",
       "      <th>10</th>\n",
       "      <td>01 de noviembre de 2021</td>\n",
       "      <td>165.30</td>\n",
       "      <td>NaN</td>\n",
       "      <td>01 de noviembre de 2021</td>\n",
       "      <td>330.59</td>\n",
       "      <td>NaN</td>\n",
       "      <td>01 de noviembre de 2021</td>\n",
       "      <td>169.24</td>\n",
       "      <td>NaN</td>\n",
       "      <td>01 de noviembre de 2021</td>\n",
       "      <td>109.64</td>\n",
       "      <td>NaN</td>\n",
       "      <td>01 de noviembre de 2021</td>\n",
       "      <td>381.59</td>\n",
       "    </tr>\n",
       "    <tr>\n",
       "      <th>11</th>\n",
       "      <td>01 de diciembre 2021</td>\n",
       "      <td>177.57</td>\n",
       "      <td>NaN</td>\n",
       "      <td>01 de diciembre 2021</td>\n",
       "      <td>336.32</td>\n",
       "      <td>NaN</td>\n",
       "      <td>01 de diciembre 2021</td>\n",
       "      <td>166.67</td>\n",
       "      <td>NaN</td>\n",
       "      <td>01 de diciembre 2021</td>\n",
       "      <td>116.97</td>\n",
       "      <td>NaN</td>\n",
       "      <td>01 de diciembre 2021</td>\n",
       "      <td>352.26</td>\n",
       "    </tr>\n",
       "    <tr>\n",
       "      <th>12</th>\n",
       "      <td>01 de enero de 2022</td>\n",
       "      <td>174.78</td>\n",
       "      <td>NaN</td>\n",
       "      <td>01 de enero de 2022</td>\n",
       "      <td>310.98</td>\n",
       "      <td>NaN</td>\n",
       "      <td>01 de enero de 2022</td>\n",
       "      <td>148.07</td>\n",
       "      <td>NaN</td>\n",
       "      <td>01 de enero de 2022</td>\n",
       "      <td>98.32</td>\n",
       "      <td>NaN</td>\n",
       "      <td>01 de enero de 2022</td>\n",
       "      <td>312.24</td>\n",
       "    </tr>\n",
       "    <tr>\n",
       "      <th>13</th>\n",
       "      <td>01 de febrero de 2022</td>\n",
       "      <td>165.12</td>\n",
       "      <td>NaN</td>\n",
       "      <td>01 de febrero de 2022</td>\n",
       "      <td>298.79</td>\n",
       "      <td>NaN</td>\n",
       "      <td>01 de febrero de 2022</td>\n",
       "      <td>136.55</td>\n",
       "      <td>NaN</td>\n",
       "      <td>01 de febrero de 2022</td>\n",
       "      <td>91.79</td>\n",
       "      <td>NaN</td>\n",
       "      <td>01 de febrero de 2022</td>\n",
       "      <td>290.14</td>\n",
       "    </tr>\n",
       "    <tr>\n",
       "      <th>14</th>\n",
       "      <td>01 de marzo de 2022</td>\n",
       "      <td>174.61</td>\n",
       "      <td>NaN</td>\n",
       "      <td>01 de marzo de 2022</td>\n",
       "      <td>308.31</td>\n",
       "      <td>NaN</td>\n",
       "      <td>01 de marzo de 2022</td>\n",
       "      <td>134.56</td>\n",
       "      <td>NaN</td>\n",
       "      <td>01 de marzo de 2022</td>\n",
       "      <td>90.97</td>\n",
       "      <td>NaN</td>\n",
       "      <td>01 de marzo de 2022</td>\n",
       "      <td>359.20</td>\n",
       "    </tr>\n",
       "    <tr>\n",
       "      <th>15</th>\n",
       "      <td>01 de abril de 2022</td>\n",
       "      <td>157.65</td>\n",
       "      <td>NaN</td>\n",
       "      <td>01 de abril de 2022</td>\n",
       "      <td>277.52</td>\n",
       "      <td>NaN</td>\n",
       "      <td>01 de abril de 2022</td>\n",
       "      <td>124.70</td>\n",
       "      <td>NaN</td>\n",
       "      <td>01 de abril de 2022</td>\n",
       "      <td>74.64</td>\n",
       "      <td>NaN</td>\n",
       "      <td>01 de abril de 2022</td>\n",
       "      <td>290.25</td>\n",
       "    </tr>\n",
       "    <tr>\n",
       "      <th>16</th>\n",
       "      <td>01 de mayo de 2022</td>\n",
       "      <td>148.84</td>\n",
       "      <td>NaN</td>\n",
       "      <td>01 de mayo de 2022</td>\n",
       "      <td>271.87</td>\n",
       "      <td>NaN</td>\n",
       "      <td>01 de mayo de 2022</td>\n",
       "      <td>118.85</td>\n",
       "      <td>NaN</td>\n",
       "      <td>01 de mayo de 2022</td>\n",
       "      <td>78.50</td>\n",
       "      <td>NaN</td>\n",
       "      <td>01 de mayo de 2022</td>\n",
       "      <td>252.75</td>\n",
       "    </tr>\n",
       "    <tr>\n",
       "      <th>17</th>\n",
       "      <td>01 de junio de 2022</td>\n",
       "      <td>136.72</td>\n",
       "      <td>NaN</td>\n",
       "      <td>01 de junio de 2022</td>\n",
       "      <td>256.83</td>\n",
       "      <td>NaN</td>\n",
       "      <td>01 de junio de 2022</td>\n",
       "      <td>102.20</td>\n",
       "      <td>NaN</td>\n",
       "      <td>01 de junio de 2022</td>\n",
       "      <td>76.39</td>\n",
       "      <td>NaN</td>\n",
       "      <td>01 de junio de 2022</td>\n",
       "      <td>224.47</td>\n",
       "    </tr>\n",
       "    <tr>\n",
       "      <th>18</th>\n",
       "      <td>01 de julio de 2022</td>\n",
       "      <td>162.51</td>\n",
       "      <td>NaN</td>\n",
       "      <td>01 de julio de 2022</td>\n",
       "      <td>280.56</td>\n",
       "      <td>NaN</td>\n",
       "      <td>01 de julio de 2022</td>\n",
       "      <td>114.92</td>\n",
       "      <td>NaN</td>\n",
       "      <td>01 de julio de 2022</td>\n",
       "      <td>84.78</td>\n",
       "      <td>NaN</td>\n",
       "      <td>01 de julio de 2022</td>\n",
       "      <td>297.15</td>\n",
       "    </tr>\n",
       "    <tr>\n",
       "      <th>19</th>\n",
       "      <td>01 de agosto de 2022</td>\n",
       "      <td>157.22</td>\n",
       "      <td>NaN</td>\n",
       "      <td>01 de agosto de 2022</td>\n",
       "      <td>261.47</td>\n",
       "      <td>NaN</td>\n",
       "      <td>01 de agosto de 2022</td>\n",
       "      <td>106.45</td>\n",
       "      <td>NaN</td>\n",
       "      <td>01 de agosto de 2022</td>\n",
       "      <td>84.07</td>\n",
       "      <td>NaN</td>\n",
       "      <td>01 de agosto de 2022</td>\n",
       "      <td>275.61</td>\n",
       "    </tr>\n",
       "    <tr>\n",
       "      <th>20</th>\n",
       "      <td>01 de septiembre de 2022</td>\n",
       "      <td>156.91</td>\n",
       "      <td>NaN</td>\n",
       "      <td>01 de septiembre de 2022</td>\n",
       "      <td>237.92</td>\n",
       "      <td>NaN</td>\n",
       "      <td>01 de septiembre de 2022</td>\n",
       "      <td>97.02</td>\n",
       "      <td>NaN</td>\n",
       "      <td>01 de septiembre de 2022</td>\n",
       "      <td>84.17</td>\n",
       "      <td>NaN</td>\n",
       "      <td>01 de septiembre de 2022</td>\n",
       "      <td>282.80</td>\n",
       "    </tr>\n",
       "  </tbody>\n",
       "</table>\n",
       "</div>"
      ],
      "text/plain": [
       "                       Fecha  Precios Apple  Unnamed: 2  \\\n",
       "0        01 de enero de 2021         131.96         NaN   \n",
       "1      01 de febrero de 2021         121.26         NaN   \n",
       "2        01 de marzo de 2021         122.15         NaN   \n",
       "3        01 de abril de 2021         131.46         NaN   \n",
       "4         01 de mayo de 2021         124.61         NaN   \n",
       "5        01 de junio de 2021         136.96         NaN   \n",
       "6        01 de julio de 2021         145.86         NaN   \n",
       "7       01 de agosto de 2021         151.83         NaN   \n",
       "8   01 de septiembre de 2021         141.50         NaN   \n",
       "9      01 de octubre de 2021         149.80         NaN   \n",
       "10   01 de noviembre de 2021         165.30         NaN   \n",
       "11      01 de diciembre 2021         177.57         NaN   \n",
       "12       01 de enero de 2022         174.78         NaN   \n",
       "13     01 de febrero de 2022         165.12         NaN   \n",
       "14       01 de marzo de 2022         174.61         NaN   \n",
       "15       01 de abril de 2022         157.65         NaN   \n",
       "16        01 de mayo de 2022         148.84         NaN   \n",
       "17       01 de junio de 2022         136.72         NaN   \n",
       "18       01 de julio de 2022         162.51         NaN   \n",
       "19      01 de agosto de 2022         157.22         NaN   \n",
       "20  01 de septiembre de 2022         156.91         NaN   \n",
       "\n",
       "                     Fecha.1  Precios Microsoft  Unnamed: 5  \\\n",
       "0        01 de enero de 2021             231.96         NaN   \n",
       "1      01 de febrero de 2021             232.38         NaN   \n",
       "2        01 de marzo de 2021             235.77         NaN   \n",
       "3        01 de abril de 2021             252.18         NaN   \n",
       "4         01 de mayo de 2021             249.68         NaN   \n",
       "5        01 de junio de 2021             270.90         NaN   \n",
       "6        01 de julio de 2021             284.91         NaN   \n",
       "7       01 de agosto de 2021             301.88         NaN   \n",
       "8   01 de septiembre de 2021             281.92         NaN   \n",
       "9      01 de octubre de 2021             331.62         NaN   \n",
       "10   01 de noviembre de 2021             330.59         NaN   \n",
       "11      01 de diciembre 2021             336.32         NaN   \n",
       "12       01 de enero de 2022             310.98         NaN   \n",
       "13     01 de febrero de 2022             298.79         NaN   \n",
       "14       01 de marzo de 2022             308.31         NaN   \n",
       "15       01 de abril de 2022             277.52         NaN   \n",
       "16        01 de mayo de 2022             271.87         NaN   \n",
       "17       01 de junio de 2022             256.83         NaN   \n",
       "18       01 de julio de 2022             280.56         NaN   \n",
       "19      01 de agosto de 2022             261.47         NaN   \n",
       "20  01 de septiembre de 2022             237.92         NaN   \n",
       "\n",
       "                     Fecha.2  Precios Nike  Unnamed: 8  \\\n",
       "0        01 de enero de 2021        133.59         NaN   \n",
       "1      01 de febrero de 2021        134.78         NaN   \n",
       "2        01 de marzo de 2021        132.89         NaN   \n",
       "3        01 de abril de 2021        132.62         NaN   \n",
       "4         01 de mayo de 2021        136.46         NaN   \n",
       "5        01 de junio de 2021        154.49         NaN   \n",
       "6        01 de julio de 2021        167.51         NaN   \n",
       "7       01 de agosto de 2021        164.74         NaN   \n",
       "8   01 de septiembre de 2021        145.23         NaN   \n",
       "9      01 de octubre de 2021        167.29         NaN   \n",
       "10   01 de noviembre de 2021        169.24         NaN   \n",
       "11      01 de diciembre 2021        166.67         NaN   \n",
       "12       01 de enero de 2022        148.07         NaN   \n",
       "13     01 de febrero de 2022        136.55         NaN   \n",
       "14       01 de marzo de 2022        134.56         NaN   \n",
       "15       01 de abril de 2022        124.70         NaN   \n",
       "16        01 de mayo de 2022        118.85         NaN   \n",
       "17       01 de junio de 2022        102.20         NaN   \n",
       "18       01 de julio de 2022        114.92         NaN   \n",
       "19      01 de agosto de 2022        106.45         NaN   \n",
       "20  01 de septiembre de 2022         97.02         NaN   \n",
       "\n",
       "                     Fecha.3  Precios Starbucks  Unnamed: 11  \\\n",
       "0        01 de enero de 2021              96.81          NaN   \n",
       "1      01 de febrero de 2021             108.03          NaN   \n",
       "2        01 de marzo de 2021             109.27          NaN   \n",
       "3        01 de abril de 2021             114.49          NaN   \n",
       "4         01 de mayo de 2021             113.88          NaN   \n",
       "5        01 de junio de 2021             111.81          NaN   \n",
       "6        01 de julio de 2021             121.43          NaN   \n",
       "7       01 de agosto de 2021             117.49          NaN   \n",
       "8   01 de septiembre de 2021             110.31          NaN   \n",
       "9      01 de octubre de 2021             106.07          NaN   \n",
       "10   01 de noviembre de 2021             109.64          NaN   \n",
       "11      01 de diciembre 2021             116.97          NaN   \n",
       "12       01 de enero de 2022              98.32          NaN   \n",
       "13     01 de febrero de 2022              91.79          NaN   \n",
       "14       01 de marzo de 2022              90.97          NaN   \n",
       "15       01 de abril de 2022              74.64          NaN   \n",
       "16        01 de mayo de 2022              78.50          NaN   \n",
       "17       01 de junio de 2022              76.39          NaN   \n",
       "18       01 de julio de 2022              84.78          NaN   \n",
       "19      01 de agosto de 2022              84.07          NaN   \n",
       "20  01 de septiembre de 2022              84.17          NaN   \n",
       "\n",
       "                     Fecha.4  Precios Tesla  \n",
       "0        01 de enero de 2021         264.51  \n",
       "1      01 de febrero de 2021         225.17  \n",
       "2        01 de marzo de 2021         222.64  \n",
       "3        01 de abril de 2021         236.48  \n",
       "4         01 de mayo de 2021         208.41  \n",
       "5        01 de junio de 2021         226.57  \n",
       "6        01 de julio de 2021         229.07  \n",
       "7       01 de agosto de 2021         245.24  \n",
       "8   01 de septiembre de 2021         258.49  \n",
       "9      01 de octubre de 2021         371.33  \n",
       "10   01 de noviembre de 2021         381.59  \n",
       "11      01 de diciembre 2021         352.26  \n",
       "12       01 de enero de 2022         312.24  \n",
       "13     01 de febrero de 2022         290.14  \n",
       "14       01 de marzo de 2022         359.20  \n",
       "15       01 de abril de 2022         290.25  \n",
       "16        01 de mayo de 2022         252.75  \n",
       "17       01 de junio de 2022         224.47  \n",
       "18       01 de julio de 2022         297.15  \n",
       "19      01 de agosto de 2022         275.61  \n",
       "20  01 de septiembre de 2022         282.80  "
      ]
     },
     "execution_count": 209,
     "metadata": {},
     "output_type": "execute_result"
    }
   ],
   "source": [
    "data5 = pd.read_excel('PreciosProyecto1.xlsx')\n",
    "data5"
   ]
  },
  {
   "cell_type": "code",
   "execution_count": 210,
   "id": "496cbf92",
   "metadata": {},
   "outputs": [
    {
     "data": {
      "text/plain": [
       "0     264.51\n",
       "1     225.17\n",
       "2     222.64\n",
       "3     236.48\n",
       "4     208.41\n",
       "5     226.57\n",
       "6     229.07\n",
       "7     245.24\n",
       "8     258.49\n",
       "9     371.33\n",
       "10    381.59\n",
       "11    352.26\n",
       "12    312.24\n",
       "13    290.14\n",
       "14    359.20\n",
       "15    290.25\n",
       "16    252.75\n",
       "17    224.47\n",
       "18    297.15\n",
       "19    275.61\n",
       "20    282.80\n",
       "Name: Precios Tesla, dtype: float64"
      ]
     },
     "execution_count": 210,
     "metadata": {},
     "output_type": "execute_result"
    }
   ],
   "source": [
    "dataTSLA = data5['Precios Tesla']\n",
    "dataTSLA"
   ]
  },
  {
   "cell_type": "code",
   "execution_count": 211,
   "id": "cfab259d",
   "metadata": {},
   "outputs": [
    {
     "data": {
      "text/plain": [
       "array([[264.51, 225.17, 222.64, 236.48, 208.41, 226.57, 229.07, 245.24,\n",
       "        258.49, 371.33, 381.59, 352.26, 312.24, 290.14, 359.2 , 290.25,\n",
       "        252.75, 224.47, 297.15, 275.61, 282.8 ]])"
      ]
     },
     "execution_count": 211,
     "metadata": {},
     "output_type": "execute_result"
    }
   ],
   "source": [
    "dataTesla = np.array([dataTSLA])\n",
    "dataTesla"
   ]
  },
  {
   "cell_type": "markdown",
   "id": "ed71dd57",
   "metadata": {},
   "source": [
    "- Graficamos los precios de las acciones de Tesla"
   ]
  },
  {
   "cell_type": "code",
   "execution_count": 212,
   "id": "2d8856ad",
   "metadata": {},
   "outputs": [
    {
     "data": {
      "image/png": "[encoded data removed]",
      "text/plain": [
       "<Figure size 432x288 with 1 Axes>"
      ]
     },
     "metadata": {
      "needs_background": "light"
     },
     "output_type": "display_data"
    }
   ],
   "source": [
    "m = len(dataTSLA)\n",
    "x = np.linspace(0, 20, m)\n",
    "y = dataTesla\n",
    "\n",
    "%matplotlib inline\n",
    "plt.figure()\n",
    "plt.scatter(x, y, s = 100)\n",
    "plt.grid()"
   ]
  },
  {
   "cell_type": "markdown",
   "id": "2eb10df4",
   "metadata": {},
   "source": [
    "**Modelo con polinomio de grado 4**"
   ]
  },
  {
   "cell_type": "code",
   "execution_count": 213,
   "id": "f95d08ff",
   "metadata": {},
   "outputs": [],
   "source": [
    "# Definimos la función de precios\n",
    "\n",
    "def funcion_preciosT(beta, X, y) :\n",
    "    beta = np.reshape(beta, [5, -1])\n",
    "    pred = X @ beta\n",
    "    return ((y-pred).T @ (y-pred))[0][0]"
   ]
  },
  {
   "cell_type": "code",
   "execution_count": 214,
   "id": "559b8bc8",
   "metadata": {},
   "outputs": [
    {
     "data": {
      "text/plain": [
       "array([[1.00000e+00, 0.00000e+00, 0.00000e+00, 0.00000e+00, 0.00000e+00],\n",
       "       [1.00000e+00, 1.00000e+00, 1.00000e+00, 1.00000e+00, 1.00000e+00],\n",
       "       [1.00000e+00, 2.00000e+00, 4.00000e+00, 8.00000e+00, 1.60000e+01],\n",
       "       [1.00000e+00, 3.00000e+00, 9.00000e+00, 2.70000e+01, 8.10000e+01],\n",
       "       [1.00000e+00, 4.00000e+00, 1.60000e+01, 6.40000e+01, 2.56000e+02],\n",
       "       [1.00000e+00, 5.00000e+00, 2.50000e+01, 1.25000e+02, 6.25000e+02],\n",
       "       [1.00000e+00, 6.00000e+00, 3.60000e+01, 2.16000e+02, 1.29600e+03],\n",
       "       [1.00000e+00, 7.00000e+00, 4.90000e+01, 3.43000e+02, 2.40100e+03],\n",
       "       [1.00000e+00, 8.00000e+00, 6.40000e+01, 5.12000e+02, 4.09600e+03],\n",
       "       [1.00000e+00, 9.00000e+00, 8.10000e+01, 7.29000e+02, 6.56100e+03],\n",
       "       [1.00000e+00, 1.00000e+01, 1.00000e+02, 1.00000e+03, 1.00000e+04],\n",
       "       [1.00000e+00, 1.10000e+01, 1.21000e+02, 1.33100e+03, 1.46410e+04],\n",
       "       [1.00000e+00, 1.20000e+01, 1.44000e+02, 1.72800e+03, 2.07360e+04],\n",
       "       [1.00000e+00, 1.30000e+01, 1.69000e+02, 2.19700e+03, 2.85610e+04],\n",
       "       [1.00000e+00, 1.40000e+01, 1.96000e+02, 2.74400e+03, 3.84160e+04],\n",
       "       [1.00000e+00, 1.50000e+01, 2.25000e+02, 3.37500e+03, 5.06250e+04],\n",
       "       [1.00000e+00, 1.60000e+01, 2.56000e+02, 4.09600e+03, 6.55360e+04],\n",
       "       [1.00000e+00, 1.70000e+01, 2.89000e+02, 4.91300e+03, 8.35210e+04],\n",
       "       [1.00000e+00, 1.80000e+01, 3.24000e+02, 5.83200e+03, 1.04976e+05],\n",
       "       [1.00000e+00, 1.90000e+01, 3.61000e+02, 6.85900e+03, 1.30321e+05],\n",
       "       [1.00000e+00, 2.00000e+01, 4.00000e+02, 8.00000e+03, 1.60000e+05]])"
      ]
     },
     "execution_count": 214,
     "metadata": {},
     "output_type": "execute_result"
    }
   ],
   "source": [
    "# Creamos la matriz X\n",
    "\n",
    "ones = np.ones([m, 1])\n",
    "x1 = np.reshape(x, [m, -1])\n",
    "x2 = np.reshape(x**2, [m, -1])\n",
    "x3 = np.reshape(x**3, [m, -1])\n",
    "x4 = np.reshape(x**4, [m, -1])\n",
    "X = np.hstack((ones, x1, x2, x3, x4))\n",
    "X"
   ]
  },
  {
   "cell_type": "code",
   "execution_count": 215,
   "id": "1df85541",
   "metadata": {},
   "outputs": [
    {
     "data": {
      "text/plain": [
       "7300993316.470444"
      ]
     },
     "execution_count": 215,
     "metadata": {},
     "output_type": "execute_result"
    }
   ],
   "source": [
    "beta_inicial = np.random.rand(5)\n",
    "y = np.reshape(y, [m, -1])\n",
    "funcion_preciosT(beta_inicial, X, y)"
   ]
  },
  {
   "cell_type": "code",
   "execution_count": 216,
   "id": "ba24b71b",
   "metadata": {},
   "outputs": [
    {
     "data": {
      "text/plain": [
       "      fun: 18858.79020019309\n",
       " hess_inv: array([[ 3.56826405e-01, -2.05898888e-01,  3.48906985e-02,\n",
       "        -2.26040807e-03,  4.95246107e-05],\n",
       "       [-2.05898888e-01,  1.89496118e-01, -3.83019871e-02,\n",
       "         2.72746297e-03, -6.34071203e-05],\n",
       "       [ 3.48906985e-02, -3.83019871e-02,  8.39437889e-03,\n",
       "        -6.27613133e-04,  1.50778074e-05],\n",
       "       [-2.26040807e-03,  2.72746297e-03, -6.27613133e-04,\n",
       "         4.84429517e-05, -1.19054342e-06],\n",
       "       [ 4.95246107e-05, -6.34071203e-05,  1.50778074e-05,\n",
       "        -1.19054342e-06,  2.97576791e-08]])\n",
       "      jac: array([ 0.00952148,  0.06030273,  0.23852539, -0.04418945, -0.0300293 ])\n",
       "  message: 'Desired error not necessarily achieved due to precision loss.'\n",
       "     nfev: 282\n",
       "      nit: 9\n",
       "     njev: 45\n",
       "   status: 2\n",
       "  success: False\n",
       "        x: array([ 2.78128994e+02, -6.57749754e+01,  1.70106853e+01, -1.29436029e+00,\n",
       "        3.04968444e-02])"
      ]
     },
     "execution_count": 216,
     "metadata": {},
     "output_type": "execute_result"
    }
   ],
   "source": [
    "sol = opt.minimize(funcion_preciosT, \n",
    "                   beta_inicial, \n",
    "                   args = (X, y))\n",
    "sol"
   ]
  },
  {
   "cell_type": "code",
   "execution_count": 217,
   "id": "7df8c100",
   "metadata": {},
   "outputs": [
    {
     "data": {
      "text/plain": [
       "array([278.12899412, 228.10084063, 204.75485188, 201.42275252,\n",
       "       212.16819149, 231.78674197, 255.80590143, 280.48509157,\n",
       "       302.81565839, 320.52087213, 332.05592731, 336.60794271,\n",
       "       334.09596137, 325.1709506 , 311.21580197, 294.34533132,\n",
       "       277.40627876, 263.97730865, 258.36900962, 265.62389458,\n",
       "       291.51640067])"
      ]
     },
     "execution_count": 217,
     "metadata": {},
     "output_type": "execute_result"
    }
   ],
   "source": [
    "y_predT1 = X @ sol.x\n",
    "y_predT1"
   ]
  },
  {
   "cell_type": "markdown",
   "id": "54b69fdc",
   "metadata": {},
   "source": [
    "**Modelo con polinomio de grado 5**"
   ]
  },
  {
   "cell_type": "code",
   "execution_count": 218,
   "id": "5969d5c6",
   "metadata": {},
   "outputs": [],
   "source": [
    "# Definimos la función de precios\n",
    "\n",
    "def funcion_preciosT(beta, X, y) :\n",
    "    beta = np.reshape(beta, [6, -1])\n",
    "    pred = X @ beta\n",
    "    return ((y-pred).T @ (y-pred))[0][0]"
   ]
  },
  {
   "cell_type": "code",
   "execution_count": 219,
   "id": "5d401589",
   "metadata": {},
   "outputs": [
    {
     "data": {
      "text/plain": [
       "array([[1.000000e+00, 0.000000e+00, 0.000000e+00, 0.000000e+00,\n",
       "        0.000000e+00, 0.000000e+00],\n",
       "       [1.000000e+00, 1.000000e+00, 1.000000e+00, 1.000000e+00,\n",
       "        1.000000e+00, 1.000000e+00],\n",
       "       [1.000000e+00, 2.000000e+00, 4.000000e+00, 8.000000e+00,\n",
       "        1.600000e+01, 3.200000e+01],\n",
       "       [1.000000e+00, 3.000000e+00, 9.000000e+00, 2.700000e+01,\n",
       "        8.100000e+01, 2.430000e+02],\n",
       "       [1.000000e+00, 4.000000e+00, 1.600000e+01, 6.400000e+01,\n",
       "        2.560000e+02, 1.024000e+03],\n",
       "       [1.000000e+00, 5.000000e+00, 2.500000e+01, 1.250000e+02,\n",
       "        6.250000e+02, 3.125000e+03],\n",
       "       [1.000000e+00, 6.000000e+00, 3.600000e+01, 2.160000e+02,\n",
       "        1.296000e+03, 7.776000e+03],\n",
       "       [1.000000e+00, 7.000000e+00, 4.900000e+01, 3.430000e+02,\n",
       "        2.401000e+03, 1.680700e+04],\n",
       "       [1.000000e+00, 8.000000e+00, 6.400000e+01, 5.120000e+02,\n",
       "        4.096000e+03, 3.276800e+04],\n",
       "       [1.000000e+00, 9.000000e+00, 8.100000e+01, 7.290000e+02,\n",
       "        6.561000e+03, 5.904900e+04],\n",
       "       [1.000000e+00, 1.000000e+01, 1.000000e+02, 1.000000e+03,\n",
       "        1.000000e+04, 1.000000e+05],\n",
       "       [1.000000e+00, 1.100000e+01, 1.210000e+02, 1.331000e+03,\n",
       "        1.464100e+04, 1.610510e+05],\n",
       "       [1.000000e+00, 1.200000e+01, 1.440000e+02, 1.728000e+03,\n",
       "        2.073600e+04, 2.488320e+05],\n",
       "       [1.000000e+00, 1.300000e+01, 1.690000e+02, 2.197000e+03,\n",
       "        2.856100e+04, 3.712930e+05],\n",
       "       [1.000000e+00, 1.400000e+01, 1.960000e+02, 2.744000e+03,\n",
       "        3.841600e+04, 5.378240e+05],\n",
       "       [1.000000e+00, 1.500000e+01, 2.250000e+02, 3.375000e+03,\n",
       "        5.062500e+04, 7.593750e+05],\n",
       "       [1.000000e+00, 1.600000e+01, 2.560000e+02, 4.096000e+03,\n",
       "        6.553600e+04, 1.048576e+06],\n",
       "       [1.000000e+00, 1.700000e+01, 2.890000e+02, 4.913000e+03,\n",
       "        8.352100e+04, 1.419857e+06],\n",
       "       [1.000000e+00, 1.800000e+01, 3.240000e+02, 5.832000e+03,\n",
       "        1.049760e+05, 1.889568e+06],\n",
       "       [1.000000e+00, 1.900000e+01, 3.610000e+02, 6.859000e+03,\n",
       "        1.303210e+05, 2.476099e+06],\n",
       "       [1.000000e+00, 2.000000e+01, 4.000000e+02, 8.000000e+03,\n",
       "        1.600000e+05, 3.200000e+06]])"
      ]
     },
     "execution_count": 219,
     "metadata": {},
     "output_type": "execute_result"
    }
   ],
   "source": [
    "# Creamos la matriz X\n",
    "\n",
    "ones = np.ones([m, 1])\n",
    "x1 = np.reshape(x, [m, -1])\n",
    "x2 = np.reshape(x**2, [m, -1])\n",
    "x3 = np.reshape(x**3, [m, -1])\n",
    "x4 = np.reshape(x**4, [m, -1])\n",
    "x5 = np.reshape(x**5, [m, -1])\n",
    "X = np.hstack((ones, x1, x2, x3, x4, x5))\n",
    "X"
   ]
  },
  {
   "cell_type": "code",
   "execution_count": 220,
   "id": "ce23cdb9",
   "metadata": {},
   "outputs": [
    {
     "data": {
      "text/plain": [
       "5650984869655.995"
      ]
     },
     "execution_count": 220,
     "metadata": {},
     "output_type": "execute_result"
    }
   ],
   "source": [
    "beta_inicial = np.random.rand(6)\n",
    "y = np.reshape(y, [m, -1])\n",
    "funcion_preciosT(beta_inicial, X, y)"
   ]
  },
  {
   "cell_type": "code",
   "execution_count": 221,
   "id": "6e2e8ce7",
   "metadata": {},
   "outputs": [
    {
     "data": {
      "text/plain": [
       "      fun: 18078.73199578092\n",
       " hess_inv: array([[ 4.17631674e-01, -3.41838148e-01,  8.75033838e-02,\n",
       "        -9.54182181e-03,  4.64531336e-04, -8.31191559e-06],\n",
       "       [-3.41838148e-01,  5.03075739e-01, -1.58797611e-01,\n",
       "         1.93165825e-02, -1.00578393e-03,  1.88336638e-05],\n",
       "       [ 8.75033838e-02, -1.58797611e-01,  5.46817501e-02,\n",
       "        -7.00188643e-03,  3.77299182e-04, -7.24127786e-06],\n",
       "       [-9.54182181e-03,  1.93165825e-02, -7.00188643e-03,\n",
       "         9.26639399e-04, -5.11127223e-05,  9.98293986e-07],\n",
       "       [ 4.64531336e-04, -1.00578393e-03,  3.77299182e-04,\n",
       "        -5.11127223e-05,  2.86842919e-06, -5.67765829e-08],\n",
       "       [-8.31191559e-06,  1.88336638e-05, -7.24127786e-06,\n",
       "         9.98293986e-07, -5.67765829e-08,  1.13576335e-09]])\n",
       "      jac: array([ 5.14892578e+00,  7.90478516e+00, -1.26677979e+02, -2.83851685e+03,\n",
       "       -5.24299041e+04, -9.79807489e+05])\n",
       "  message: 'Desired error not necessarily achieved due to precision loss.'\n",
       "     nfev: 460\n",
       "      nit: 7\n",
       "     njev: 64\n",
       "   status: 2\n",
       "  success: False\n",
       "        x: array([ 2.69864700e+02, -4.71587936e+01,  1.00017852e+01, -3.41267592e-01,\n",
       "       -2.32133075e-02,  1.06746596e-03])"
      ]
     },
     "execution_count": 221,
     "metadata": {},
     "output_type": "execute_result"
    }
   ],
   "source": [
    "sol = opt.minimize(funcion_preciosT, \n",
    "                   beta_inicial, \n",
    "                   args = (X, y))\n",
    "sol"
   ]
  },
  {
   "cell_type": "code",
   "execution_count": 222,
   "id": "990b1c56",
   "metadata": {},
   "outputs": [
    {
     "data": {
      "text/plain": [
       "array([269.86469953, 232.34427768, 212.4868583 , 207.56927664,\n",
       "       214.56744044, 230.28442577, 251.478573  , 274.99158267,\n",
       "       297.87661145, 317.52636805, 331.80120907, 339.15723501,\n",
       "       338.77438611, 330.68453832, 315.89959916, 296.53960369,\n",
       "       275.96081038, 258.88379706, 251.5215568 , 261.70759387,\n",
       "       299.02401959])"
      ]
     },
     "execution_count": 222,
     "metadata": {},
     "output_type": "execute_result"
    }
   ],
   "source": [
    "y_predT2 = X @ sol.x\n",
    "y_predT2"
   ]
  },
  {
   "cell_type": "markdown",
   "id": "6db547dd",
   "metadata": {},
   "source": [
    "**Solución y visualización del problema de optimización:**\n",
    "\n",
    "- Ahora graficamos ambos modelos junto con los precios de la acción de Tesla"
   ]
  },
  {
   "cell_type": "code",
   "execution_count": 223,
   "id": "6e85f3f6",
   "metadata": {},
   "outputs": [
    {
     "data": {
      "image/png": "[encoded data removed]",
      "text/plain": [
       "<Figure size 432x288 with 1 Axes>"
      ]
     },
     "metadata": {
      "needs_background": "light"
     },
     "output_type": "display_data"
    }
   ],
   "source": [
    "%matplotlib inline\n",
    "plt.figure()\n",
    "plt.scatter(x, y, s = 100)\n",
    "plt.plot(x, y_predT1, \"b\")\n",
    "plt.plot(x, y_predT2, \"r\")\n",
    "plt.grid()"
   ]
  },
  {
   "cell_type": "markdown",
   "id": "ad4dad72",
   "metadata": {},
   "source": [
    "## Análisis de resultados:\n",
    "\n",
    "- Ambos modelos parecen ajustarse en la misma magnitud a los precios de la acción de Tesla. Siendo el modelo de grado 4 la curva azul `y_predT1` y el modelo de grado 5 la curva roja `y_predT2`. Por lo que ambos pueden ser modelos representativos y nos pueden ser útiles para la predicción de los precios de la empresa."
   ]
  },
  {
   "cell_type": "markdown",
   "id": "9a5cdec3",
   "metadata": {},
   "source": [
    "---"
   ]
  },
  {
   "cell_type": "markdown",
   "id": "db795717",
   "metadata": {},
   "source": [
    "# Conclusiones:\n",
    "\n",
    "Después de hacer el proceso de ajuste de curvas de las 5 empresas, encontramos que los modelos que mejor se ajustan a los precios de las empresas son modelos con polinomios de grados 4 y 5. Esto quiere decir, que, si un inversionista decide usar ajuste de curvas para predecir el precio de la acción de una empresa, utilizando los precios al cierre de cada mes, para decidir si le conviene comprar o vender acciones de una empresa, podría empezar usando este proceso con modelos de grado 4 y 5.\n",
    "\n",
    "Nosotros consideramos que el ajuste de curvas puede ser una herramienta útil para la predicción de los precios de las empresas, pero hay más opciones y métodos para que un inversionista pueda tomar desiciones acerca de sus inversiones. Si se decide utilziar el ajuste de curvas, recomendamos que se utilicen los precios al cierre de cada día, con un plazo del último año para tener más precisión en nuestras predicciones. Pero necesitaría modelos con polinomios de mayor grado debido a que la cantidad de precios es mayor.\n",
    "\n",
    "Los inversionistas también podrían usar modelos de mayor grado, pero según nuestros resultados, estos modelos si se ajustarían a los precios de las acciones, pero según el modelo de grado 7 que propusimos para Apple, el modelo pierde precisión después de ajustarse al último precio de Apple, y después la función decrece de manera continua, por lo que no serviría para predecir los siguientes precios de la acción de una empresa, ya que el precio de la acción de esa empresa debería de desplomarse por completo y para que suceda eso tendría que haber un evento extraordinario o que se de un evento muy difícil de predecir, por ejemplo, la guerra entre Rusia y Ucrania."
   ]
  },
  {
   "cell_type": "markdown",
   "id": "36d8a607",
   "metadata": {},
   "source": [
    "---"
   ]
  },
  {
   "cell_type": "markdown",
   "id": "0ccbdea7",
   "metadata": {},
   "source": [
    "# Referencias:"
   ]
  },
  {
   "cell_type": "markdown",
   "id": "b105ba2e",
   "metadata": {},
   "source": [
    "- FactSet. (s. f.). Recuperado 26 de septiembre de 2022, de factset.com\n",
    "- (Apple Historical Price Data (AAPL), 2022): Apple Historical Price Data (AAPL). (2022, 26 septiembre). Investing.com. Recuperado 26 de septiembre de 2022, de https://www.investing.com/equities/apple-computer-inc-historical-data\n",
    "- (Microsoft Historical Price Data (MSFT), 2022): Microsoft Historical Price Data (MSFT). (2022, 26 septiembre). Investing.com. Recuperado 26 de septiembre de 2022, de https://www.investing.com/equities/microsoft-corp-historical-data\n",
    "- (Nike Historical Price Data (NKE), 2022): Nike Historical Price Data (NKE). (2022, 26 septiembre). Investing.com. Recuperado 26 de septiembre de 2022, de https://www.investing.com/equities/nike-historical-data\n",
    "- (Starbucks Historical Price Data (SBUX), 2022): Starbucks Historical Price Data (SBUX). (2022, 26 septiembre). Investing.com. Recuperado 26 de septiembre de 2022, de https://www.investing.com/equities/starbucks-corp-historical-data\n",
    "- (Tesla Historical Price Data (TSLA), 2022) : Tesla Historical Price Data (TSLA). (2022, 26 septiembre). Investing.com. Recuperado 26 de septiembre de 2022, de https://www.investing.com/equities/tesla-motors-historical-data\n",
    "- (NYSE, s. f.): NYSE. (s. f.). Recuperado 26 de septiembre de 2022, de https://www.nyse.com/quote/XNGS:AAPL\n",
    "- (NYSE, s. f.): NYSE. (s. f.-b). Recuperado 26 de septiembre de 2022, de https://www.nyse.com/quote/XNGS:MSFT\n",
    "- (NYSE, s. f.): NYSE. (s. f.-c). Recuperado 26 de septiembre de 2022, de https://www.nyse.com/quote/XNYS:NKE\n",
    "- (NYSE, s. f.): NYSE. (s. f.-d). Recuperado 26 de septiembre de 2022, de https://www.nyse.com/quote/XNGS:SBUX\n",
    "- (NYSE, s. f.): NYSE. (s. f.-e). Recuperado 26 de septiembre de 2022, de https://www.nyse.com/quote/XNGS:TSLA"
   ]
  },
  {
   "cell_type": "markdown",
   "id": "6d69213e",
   "metadata": {},
   "source": [
    "---"
   ]
  }
 ],
 "metadata": {
  "kernelspec": {
   "display_name": "Python 3 (ipykernel)",
   "language": "python",
   "name": "python3"
  },
  "language_info": {
   "codemirror_mode": {
    "name": "ipython",
    "version": 3
   },
   "file_extension": ".py",
   "mimetype": "text/x-python",
   "name": "python",
   "nbconvert_exporter": "python",
   "pygments_lexer": "ipython3",
   "version": "3.9.12"
  }
 },
 "nbformat": 4,
 "nbformat_minor": 5
}

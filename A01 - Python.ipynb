{
 "cells": [
  {
   "cell_type": "markdown",
   "id": "a0910448",
   "metadata": {},
   "source": [
    "# A01 - Python"
   ]
  },
  {
   "cell_type": "markdown",
   "id": "684bccb6",
   "metadata": {},
   "source": [
    "## Daniel Sánchez López"
   ]
  },
  {
   "cell_type": "markdown",
   "id": "d401491f",
   "metadata": {},
   "source": [
    "**1.** Genera una lista de 100 elementos con múltiplos de 3"
   ]
  },
  {
   "cell_type": "code",
   "execution_count": 17,
   "id": "8b1add7d",
   "metadata": {},
   "outputs": [],
   "source": [
    "a = 1"
   ]
  },
  {
   "cell_type": "code",
   "execution_count": 19,
   "id": "7e5fd0a4",
   "metadata": {},
   "outputs": [
    {
     "name": "stdout",
     "output_type": "stream",
     "text": [
      "0\n",
      "3\n",
      "6\n",
      "9\n",
      "12\n",
      "15\n",
      "18\n",
      "21\n",
      "24\n",
      "27\n",
      "30\n",
      "33\n",
      "36\n",
      "39\n",
      "42\n",
      "45\n",
      "48\n",
      "51\n",
      "54\n",
      "57\n",
      "60\n",
      "63\n",
      "66\n",
      "69\n",
      "72\n",
      "75\n",
      "78\n",
      "81\n",
      "84\n",
      "87\n",
      "90\n",
      "93\n",
      "96\n",
      "99\n",
      "102\n",
      "105\n",
      "108\n",
      "111\n",
      "114\n",
      "117\n",
      "120\n",
      "123\n",
      "126\n",
      "129\n",
      "132\n",
      "135\n",
      "138\n",
      "141\n",
      "144\n",
      "147\n",
      "150\n",
      "153\n",
      "156\n",
      "159\n",
      "162\n",
      "165\n",
      "168\n",
      "171\n",
      "174\n",
      "177\n",
      "180\n",
      "183\n",
      "186\n",
      "189\n",
      "192\n",
      "195\n",
      "198\n",
      "201\n",
      "204\n",
      "207\n",
      "210\n",
      "213\n",
      "216\n",
      "219\n",
      "222\n",
      "225\n",
      "228\n",
      "231\n",
      "234\n",
      "237\n",
      "240\n",
      "243\n",
      "246\n",
      "249\n",
      "252\n",
      "255\n",
      "258\n",
      "261\n",
      "264\n",
      "267\n",
      "270\n",
      "273\n",
      "276\n",
      "279\n",
      "282\n",
      "285\n",
      "288\n",
      "291\n",
      "294\n",
      "297\n"
     ]
    }
   ],
   "source": [
    "for a in range(100):\n",
    "    b = a*3\n",
    "    print(b)"
   ]
  },
  {
   "cell_type": "markdown",
   "id": "614f3cc8",
   "metadata": {},
   "source": [
    "**2.** Toma el archivo de datosPE.xlsx y calcula el índice de masa corporal de cada persona."
   ]
  },
  {
   "cell_type": "code",
   "execution_count": 2,
   "id": "5c3b955b",
   "metadata": {},
   "outputs": [],
   "source": [
    "import pandas as pd"
   ]
  },
  {
   "cell_type": "code",
   "execution_count": 3,
   "id": "fe4ab1d4",
   "metadata": {},
   "outputs": [],
   "source": [
    "data=pd.DataFrame(pd.read_excel('datosCT.xlsx'))"
   ]
  },
  {
   "cell_type": "code",
   "execution_count": 4,
   "id": "0430218d",
   "metadata": {},
   "outputs": [],
   "source": [
    "ingreso=data['Ingreso'].sum()"
   ]
  },
  {
   "cell_type": "code",
   "execution_count": 5,
   "id": "5345d682",
   "metadata": {},
   "outputs": [],
   "source": [
    "datab=data.values.tolist()"
   ]
  },
  {
   "cell_type": "code",
   "execution_count": 6,
   "id": "2523be0b",
   "metadata": {},
   "outputs": [],
   "source": [
    "i=0"
   ]
  },
  {
   "cell_type": "code",
   "execution_count": 7,
   "id": "4bfd13e5",
   "metadata": {},
   "outputs": [],
   "source": [
    "n=0"
   ]
  },
  {
   "cell_type": "code",
   "execution_count": 8,
   "id": "00ac11d0",
   "metadata": {},
   "outputs": [],
   "source": [
    "a=0"
   ]
  },
  {
   "cell_type": "code",
   "execution_count": 9,
   "id": "db8e08d7",
   "metadata": {},
   "outputs": [],
   "source": [
    "datac=[]"
   ]
  },
  {
   "cell_type": "code",
   "execution_count": 10,
   "id": "f52a43c5",
   "metadata": {},
   "outputs": [
    {
     "name": "stdout",
     "output_type": "stream",
     "text": [
      "La utilidad de la empresa por mes fue: \n"
     ]
    }
   ],
   "source": [
    "print(\"La utilidad de la empresa por mes fue: \")"
   ]
  },
  {
   "cell_type": "code",
   "execution_count": 13,
   "id": "4392f622",
   "metadata": {},
   "outputs": [
    {
     "ename": "SyntaxError",
     "evalue": "invalid syntax (1592052108.py, line 12)",
     "output_type": "error",
     "traceback": [
      "\u001b[1;36m  Input \u001b[1;32mIn [13]\u001b[1;36m\u001b[0m\n\u001b[1;33m    print(f \"La utilidad total de la empresa es: {acum} pesos\")\u001b[0m\n\u001b[1;37m            ^\u001b[0m\n\u001b[1;31mSyntaxError\u001b[0m\u001b[1;31m:\u001b[0m invalid syntax\n"
     ]
    }
   ],
   "source": [
    "for a in data:\n",
    "    aux = [0]\n",
    "    utilidad = a[1]-a[2]\n",
    "    a = a + utilidad\n",
    "    aux.append(a[0])\n",
    "    aux.append(a[1])\n",
    "    aux.append(a[2])\n",
    "    aux.append(a[utilidad])\n",
    "    datab.append(aux)\n",
    "    \n",
    "    print(str(a[a]) + \" : \" + str(utilidad))\n",
    "print(f \"La utilidad total de la empresa es: {acum} pesos\")"
   ]
  },
  {
   "cell_type": "code",
   "execution_count": 14,
   "id": "68b0ceb7",
   "metadata": {},
   "outputs": [
    {
     "ename": "IndexError",
     "evalue": "list index out of range",
     "output_type": "error",
     "traceback": [
      "\u001b[1;31m---------------------------------------------------------------------------\u001b[0m",
      "\u001b[1;31mIndexError\u001b[0m                                Traceback (most recent call last)",
      "Input \u001b[1;32mIn [14]\u001b[0m, in \u001b[0;36m<cell line: 1>\u001b[1;34m()\u001b[0m\n\u001b[0;32m      1\u001b[0m \u001b[38;5;28;01mfor\u001b[39;00m j \u001b[38;5;129;01min\u001b[39;00m datab:\n\u001b[1;32m----> 2\u001b[0m     \u001b[38;5;28;01mif\u001b[39;00m \u001b[43mj\u001b[49m\u001b[43m[\u001b[49m\u001b[38;5;241;43m3\u001b[39;49m\u001b[43m]\u001b[49m \u001b[38;5;241m<\u001b[39m\u001b[38;5;241m=\u001b[39m \u001b[38;5;241m0\u001b[39m:\n\u001b[0;32m      3\u001b[0m         i \u001b[38;5;241m=\u001b[39m i \u001b[38;5;241m+\u001b[39m \u001b[38;5;241m1\u001b[39m\n\u001b[0;32m      4\u001b[0m         n \u001b[38;5;241m=\u001b[39m n \u001b[38;5;241m+\u001b[39m j[\u001b[38;5;241m2\u001b[39m]\n",
      "\u001b[1;31mIndexError\u001b[0m: list index out of range"
     ]
    }
   ],
   "source": [
    "for j in datab:\n",
    "    if j[3] <= 0:\n",
    "        i = i + 1\n",
    "        n = n + j[2]"
   ]
  },
  {
   "cell_type": "code",
   "execution_count": 18,
   "id": "7266bd8f",
   "metadata": {},
   "outputs": [
    {
     "ename": "ZeroDivisionError",
     "evalue": "division by zero",
     "output_type": "error",
     "traceback": [
      "\u001b[1;31m---------------------------------------------------------------------------\u001b[0m",
      "\u001b[1;31mZeroDivisionError\u001b[0m                         Traceback (most recent call last)",
      "Input \u001b[1;32mIn [18]\u001b[0m, in \u001b[0;36m<cell line: 1>\u001b[1;34m()\u001b[0m\n\u001b[1;32m----> 1\u001b[0m prom_n \u001b[38;5;241m=\u001b[39m \u001b[38;5;28mround\u001b[39m(\u001b[43mn\u001b[49m\u001b[38;5;241;43m/\u001b[39;49m\u001b[43mi\u001b[49m,\u001b[38;5;241m2\u001b[39m)\n\u001b[0;32m      2\u001b[0m \u001b[38;5;28mprint\u001b[39m(\u001b[38;5;124m\"\u001b[39m\u001b[38;5;124mEl gasto promedio cuando la utilidad fue negativa es de: $\u001b[39m\u001b[38;5;132;01m{prom_n}\u001b[39;00m\u001b[38;5;124m \u001b[39m\u001b[38;5;124m\"\u001b[39m)\n\u001b[0;32m      4\u001b[0m \u001b[38;5;28mprint\u001b[39m(\u001b[38;5;124m\"\u001b[39m\u001b[38;5;124mEl ingreso total de la empresa fue de : \u001b[39m\u001b[38;5;132;01m{i}\u001b[39;00m\u001b[38;5;124m pesos\u001b[39m\u001b[38;5;124m\"\u001b[39m)\n",
      "\u001b[1;31mZeroDivisionError\u001b[0m: division by zero"
     ]
    }
   ],
   "source": [
    "prom_n = round(n/i,2)\n",
    "print(\"El gasto promedio cuando la utilidad fue negativa es de: ${prom_n} \")\n",
    "\n",
    "print(\"El ingreso total de la empresa fue de : {i} pesos\")"
   ]
  },
  {
   "cell_type": "code",
   "execution_count": null,
   "id": "ba2fc53f",
   "metadata": {},
   "outputs": [],
   "source": []
  }
 ],
 "metadata": {
  "kernelspec": {
   "display_name": "Python 3 (ipykernel)",
   "language": "python",
   "name": "python3"
  },
  "language_info": {
   "codemirror_mode": {
    "name": "ipython",
    "version": 3
   },
   "file_extension": ".py",
   "mimetype": "text/x-python",
   "name": "python",
   "nbconvert_exporter": "python",
   "pygments_lexer": "ipython3",
   "version": "3.9.12"
  }
 },
 "nbformat": 4,
 "nbformat_minor": 5
}

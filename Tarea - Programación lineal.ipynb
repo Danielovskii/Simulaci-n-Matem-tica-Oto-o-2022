{
 "cells": [
  {
   "cell_type": "markdown",
   "metadata": {},
   "source": [
    "# Tarea - Programación lineal"
   ]
  },
  {
   "cell_type": "markdown",
   "metadata": {},
   "source": [
    "## Daniel Sánchez López"
   ]
  },
  {
   "cell_type": "markdown",
   "metadata": {},
   "source": [
    "### Diseño de la Dieta Óptima\n",
    "\n",
    "Se quiere producir comida para gatos de la manera más barata, no obstante se debe también asegurar que se cumplan los datos requeridos de analisis nutricional. Por lo que se quiere variar la cantidad de cada ingrediente para cumplir con los estandares nutricionales. Los requisitos que se tienen es que en $100$ gramos, se deben tener **por lo menos** $8$ gramos de proteína y $6$ gramos de grasa. Así mismo, no se debe tener más de $2$ gramos de fibra y $0.4$ gramos de sal.  \n",
    "\n",
    "Los datos nutricionales se pueden obtener de la siguiente tabla:\n",
    "\n",
    "Ingrediente|Proteína|Grasa|Fibra|Sal\n",
    ":----|----|----|----|----\n",
    "Pollo|  10.0%|08.0%|00.1%|00.2%\n",
    "Carne|  20.0%|10.0%|00.5%|00.5%\n",
    "Cordero|15.0%|11.0%|00.5%|00.7%\n",
    "Arroz|  00.0%|01.0%|10.0%|00.2%\n",
    "Trigo|  04.0%|01.0%|15.0%|00.8%\n",
    "Gel|    00.0%|00.0%|00.0%|00.0%\n",
    "\n",
    "Los costos de cada producto son:\n",
    "\n",
    "Ingrediente|Costo por gramo\n",
    ":----|----\n",
    "Pollo|$\\$$0.013\n",
    "Carne|$\\$$0.008\n",
    "Cordero|$\\$$0.010\n",
    "Arroz|$\\$$0.002\n",
    "Trigo|$\\$$0.005\n",
    "Gel|$\\$$0.001    \n",
    "\n",
    "Lo que se busca optimizar en este caso es la cantidad de productos que se debe utilizar en la comida de gato, minimizando el costo total. Para simplificar la notación use las siguientes variables: \n",
    "\n",
    "+ $x_1:$ Gramos de pollo  \n",
    "+ $x_2:$ Gramos de carne  \n",
    "+ $x_3:$ Gramos de cordero  \n",
    "+ $x_4:$ Gramos de arroz  \n",
    "+ $x_5:$ Gramos de trigo  \n",
    "+ $x_6:$ Gramos de gel\n",
    "\n",
    "La tarea consiste en plantear el problema de programación lineal que permita satisfacer las necesidades alimenticias del gato al tiempo que minimice el costo total y resolverlo con `linprog`."
   ]
  },
  {
   "cell_type": "code",
   "execution_count": 18,
   "metadata": {},
   "outputs": [],
   "source": [
    "import numpy as np\n",
    "import scipy.optimize as opt\n",
    "opt.linprog?"
   ]
  },
  {
   "cell_type": "code",
   "execution_count": 22,
   "metadata": {},
   "outputs": [
    {
     "data": {
      "text/plain": [
       "     con: array([3.02975423e-11])\n",
       "     fun: 0.520000000021657\n",
       " message: 'Optimization terminated successfully.'\n",
       "     nit: 8\n",
       "   slack: array([4.00000000e+00, 7.70556952e-11, 1.70000000e+00, 1.00000000e-01])\n",
       "  status: 0\n",
       " success: True\n",
       "       x: array([4.50819665e-10, 6.00000000e+01, 4.08653401e-09, 2.29072687e-08,\n",
       "       3.70730008e-10, 4.00000000e+01])"
      ]
     },
     "execution_count": 22,
     "metadata": {},
     "output_type": "execute_result"
    }
   ],
   "source": [
    "c = np.array([0.013, \n",
    "              0.008, \n",
    "              0.010, \n",
    "              0.002, \n",
    "              0.005, \n",
    "              0.001])\n",
    "\n",
    "A = np.array([\n",
    "    [-.1, -.2, -.15, -0, -.04, -0],\n",
    "    [-.08, -.1, -.11, -.01, -.01, 0],\n",
    "    [.001, .005, .005, .1, .15, 0],\n",
    "    [.002, .005, .007, .002, .008, 0]\n",
    "])\n",
    "\n",
    "A2 = np.array([[1, \n",
    "                1, \n",
    "                1, \n",
    "                1, \n",
    "                1, \n",
    "                1]])\n",
    "\n",
    "b = np.array([-8, \n",
    "              -6, \n",
    "              2, \n",
    "              0.4])\n",
    "\n",
    "b2 = np.array([100])\n",
    "\n",
    "opt.linprog(c, A_ub = A, b_ub = b, A_eq = A2, b_eq = b2)"
   ]
  },
  {
   "cell_type": "markdown",
   "metadata": {},
   "source": [
    "Por lo tanto, el costo mínimo por *100 gramos* es de **$0.52 pesos**. También se incluyen la cantidad de ingredientes necesarios para cumplir con los estándares nutricionales requeridos para la comida de gato, los cuáles son:\n",
    "- **Carne (60 gramos)**\n",
    "- **Gel (40 gramos)**"
   ]
  },
  {
   "cell_type": "markdown",
   "metadata": {},
   "source": [
    "Procedimiento para la solución del problema de optimización:\n",
    "\n",
    "1. **Identificación de criterios a optimizar:**\n",
    "Minimizar el costo total (*min*)\n",
    "\n",
    "2. **Identificar información pertinente a la función de costo:**\n",
    "Ingrediente|Costo por gramo\n",
    ":----|----\n",
    "Pollo|$\\$$0.013\n",
    "Carne|$\\$$0.008\n",
    "Cordero|$\\$$0.010\n",
    "Arroz|$\\$$0.002\n",
    "Trigo|$\\$$0.005\n",
    "Gel|$\\$$0.001    \n",
    "\n",
    "3. **Identificar variables de optimización:**\n",
    "- $x_1$ = Pollo\n",
    "- $x_2$ = Carne\n",
    "- $x_3$ = Cordero\n",
    "- $x_4$ = Arroz\n",
    "- $x_5$ = Trigo\n",
    "- $x_6$ = Gel\n",
    "\n",
    "4. **Restricciones respecto a las variables:**\n",
    "- *Por cada 100 gramos*\n",
    "$$ x_1 + x_2 + x_3 + x_4 + x_5 + x_6 = 100 gramos $$\n",
    "\n",
    "\n",
    "- *Por lo menos 8 gramos de Proteína*\n",
    "$$ 10\\% x_1 + 20\\% x_2 + 15\\% x_3 + 0\\% x_4 + 4\\% x_5 + 0\\% x_6 \\geq 8 gramos $$\n",
    "\n",
    "\n",
    "- *Por lo menos 6 gramos de Grasa*\n",
    "$$ 8\\% x_1 + 10\\% x_2 + 11\\% x_3 + 1\\% x_4 + 1\\% x_5 + 0\\% x_6 \\geq 6 gramos $$\n",
    "\n",
    "\n",
    "- *No se debe tener más de 2 gramos*\n",
    "$$ 0.1\\% x_1 + 0.5\\% x_2 + 0.5\\% x_3 + 10\\% x_4 + 15\\% x_5 + 0\\% x_6 \\leq 2 gramos $$\n",
    "\n",
    "\n",
    "- *No se debe tner más de 0.4 gramos*\n",
    "$$ 0.2\\% x_1 + 0.5\\% x_2 + 0.7\\% x_3 + 0.2\\% x_4 + 0.8\\% x_5 + 0\\% x_6 \\leq 0.4 gramos $$\n",
    "\n",
    "\n",
    "5. **Representación matricial:**\n",
    "Ya se ve explicado en la solución del problema con `linprog`."
   ]
  },
  {
   "cell_type": "markdown",
   "metadata": {},
   "source": [
    "### Problema de distribución de energía eléctrica\n",
    "\n",
    "La Comisión Federal de Electricidad **(CFE)** dispone de cuatro plantas de generación para satisfacer la demanda diaria eléctrica en cuatro ciudades, Guadalajara, León y Morelia. Las plantas $1$, $2$ y $3$ pueden satisfacer $80$, $40$ y $60$ millones de KW al día respectivamente. Las necesidades de las ciudades de Guadalajara, León y Morelia son de $70$, $40$ y $70$ millones de Kw al día respectivamente. \n",
    "\n",
    "\n",
    "Los costos asociados al envío de suministro energético por cada millón de Kw entre cada planta y cada ciudad son los registrados en la siguiente tabla. \n",
    "\n",
    "-|Guadalajara|León|Morelia\n",
    ":----|----|----|----\n",
    "Planta 1|5|2|7\n",
    "Planta 2|3|6|6\n",
    "Planta 3|6|1|2\n",
    "\n",
    "Y por último, las restricciones del problema, van a estar dadas por las capacidades de oferta y demanda de cada planta (en millones de KW) y cada ciudad.\n",
    "\n",
    "Para simplificar la notación use las siguientes variables:\n",
    "\n",
    "+ $x_1$: Kw (en millones) distribuidos de la Planta 1 a Guadalajara\n",
    "+ $x_2$: Kw (en millones) distribuidos de la Planta 1 a León\n",
    "+ $x_3$: Kw (en millones) distribuidos de la Planta 1 a Morelia\n",
    "+ $x_4$: Kw (en millones) distribuidos de la Planta 2 a Guadalajara\n",
    "+ $x_5$: Kw (en millones) distribuidos de la Planta 2 a León\n",
    "+ $x_6$: Kw (en millones) distribuidos de la Planta 2 a Morelia\n",
    "+ $x_7$: Kw (en millones) distribuidos de la Planta 3 a Guadalajara\n",
    "+ $x_8$: Kw (en millones) distribuidos de la Planta 3 a León\n",
    "+ $x_9$: Kw (en millones) distribuidos de la Planta 3 a Morelia\n",
    "\n",
    "La tarea consiste en plantear el problema de programación lineal que permita satisfacer las necesidades de todas las ciudades al tiempo que minimice los costos asociados a la distribución y resolverlo con `linprog`."
   ]
  },
  {
   "cell_type": "code",
   "execution_count": 10,
   "metadata": {},
   "outputs": [],
   "source": [
    "import scipy.optimize as plt\n",
    "import numpy as np"
   ]
  },
  {
   "cell_type": "code",
   "execution_count": 11,
   "metadata": {},
   "outputs": [
    {
     "name": "stderr",
     "output_type": "stream",
     "text": [
      "C:\\Users\\Daniel\\AppData\\Local\\Temp\\ipykernel_65784\\2897961661.py:27: OptimizeWarning: A_eq does not appear to be of full row rank. To improve performance, check the problem formulation for redundant equality constraints.\n",
      "  plt.linprog(c, A_eq = A, b_eq = b)\n"
     ]
    },
    {
     "data": {
      "text/plain": [
       "     con: array([4.36318999e-08, 2.40952076e-08, 4.36318430e-08, 5.01441377e-08,\n",
       "       2.40952005e-08, 3.71196123e-08])\n",
       "     fun: 539.9999996922681\n",
       " message: 'Optimization terminated successfully.'\n",
       "     nit: 6\n",
       "   slack: array([], dtype=float64)\n",
       "  status: 0\n",
       " success: True\n",
       "       x: array([3.00000000e+01, 4.00000000e+01, 9.99999999e+00, 4.00000000e+01,\n",
       "       2.02191856e-09, 1.95252140e-09, 1.39861285e-09, 1.94417264e-09,\n",
       "       6.00000000e+01])"
      ]
     },
     "execution_count": 11,
     "metadata": {},
     "output_type": "execute_result"
    }
   ],
   "source": [
    "c = np.array([5, \n",
    "              2, \n",
    "              7, \n",
    "              3, \n",
    "              6, \n",
    "              6, \n",
    "              6, \n",
    "              1, \n",
    "              2])\n",
    "\n",
    "A = np.array([\n",
    "    [1, 0, 0, 1, 0, 0, 1, 0, 0],\n",
    "    [0, 1, 0, 0, 1, 0, 0, 1, 0],\n",
    "    [0, 0, 1, 0, 0, 1, 0, 0, 1],\n",
    "    [1, 1, 1, 0, 0, 0, 0, 0, 0],\n",
    "    [0, 0, 0, 1, 1, 1, 0, 0, 0],\n",
    "    [0, 0, 0, 0, 0, 0, 1, 1, 1]\n",
    "])\n",
    "\n",
    "b = np.array([70, \n",
    "              40, \n",
    "              70, \n",
    "              80, \n",
    "              40, \n",
    "              60])\n",
    "\n",
    "plt.linprog(c, A_eq = A, b_eq = b)"
   ]
  },
  {
   "cell_type": "markdown",
   "metadata": {},
   "source": [
    "El costo mínimo para abastecer de electricidad a las ciudades de Guadalajara, León y Morelia es de **$540.00 pesos**\n",
    "La cantidad que tiene que abastecer cada planta es la siguiente:\n",
    "\n",
    "- Planta 1 a Guadalajara: 30 (millones) Kw\n",
    "- Planta 1 a León: 40 (millones) Kw\n",
    "- Planta 1 a Morelia: 10 (millones) Kw\n",
    "- Planta 2 a Guadalajara: 40 (millones) Kw\n",
    "- Planta 3 a Morelia: 60 (millones) Kw\n",
    "\n",
    "En total se cumple con la necesidad de energíra eléctrica de cada ciudad:\n",
    "\n",
    "- **Guadalajara: 70 (millones) Kw**\n",
    "- **León: 10 (millones) Kw**\n",
    "- **Morelia: 70 (millones) Kw**"
   ]
  },
  {
   "cell_type": "markdown",
   "metadata": {},
   "source": [
    "Procedimiento para la solución del problema de optimización:\n",
    "\n",
    "1. **Identificación de criterios a optimizar:**\n",
    "Minimizar el costo total (*min*)\n",
    "\n",
    "2. **Identificar información pertinente a la función de costo:**\n",
    "-|Guadalajara|León|Morelia\n",
    ":----|----|----|----\n",
    "Planta 1|5|2|7\n",
    "Planta 2|3|6|6\n",
    "Planta 3|6|1|2 \n",
    "\n",
    "3. **Identificar variables de optimización:**\n",
    "+ $x_1$: Kw (en millones) distribuidos de la Planta 1 a Guadalajara\n",
    "+ $x_2$: Kw (en millones) distribuidos de la Planta 1 a León\n",
    "+ $x_3$: Kw (en millones) distribuidos de la Planta 1 a Morelia\n",
    "+ $x_4$: Kw (en millones) distribuidos de la Planta 2 a Guadalajara\n",
    "+ $x_5$: Kw (en millones) distribuidos de la Planta 2 a León\n",
    "+ $x_6$: Kw (en millones) distribuidos de la Planta 2 a Morelia\n",
    "+ $x_7$: Kw (en millones) distribuidos de la Planta 3 a Guadalajara\n",
    "+ $x_8$: Kw (en millones) distribuidos de la Planta 3 a León\n",
    "+ $x_9$: Kw (en millones) distribuidos de la Planta 3 a Morelia\n",
    "\n",
    "4. **Restricciones respecto a las variables:**\n",
    "- *Necesidad de energía de Guadalajara*\n",
    "$$ x_1 + x_4 + x_7 = 70 Kw $$\n",
    "\n",
    "\n",
    "- *Necesidad de energía de León*\n",
    "$$ x_2 + x_5 + x_8 = 10 Kw $$\n",
    "\n",
    "\n",
    "- *Necesidad de energía de Morelia*\n",
    "$$ x_3 + x_6 + x_9 = 70 Kw $$\n",
    "\n",
    "\n",
    "- *Capacidad de abastecimiento de energía de Planta 1*\n",
    "$$ x_1 + x_2 + x_3 = 80 Kw $$\n",
    "\n",
    "\n",
    "- *Capacidad de abastecimiento de energía de Planta 2*\n",
    "$$ x_4 + x_5 + x_6 = 40 Kw $$\n",
    "\n",
    "\n",
    "- *Capacidad de abastecimiento de energía de Planta 3*\n",
    "$$ x_7 + x_8 + x_9 = 60 Kw $$\n",
    "\n",
    "\n",
    "5. **Representación matricial:**\n",
    "Ya se ve explicado en la solución del problema con `linprog`."
   ]
  },
  {
   "cell_type": "code",
   "execution_count": null,
   "metadata": {},
   "outputs": [],
   "source": []
  }
 ],
 "metadata": {
  "kernelspec": {
   "display_name": "Python 3 (ipykernel)",
   "language": "python",
   "name": "python3"
  },
  "language_info": {
   "codemirror_mode": {
    "name": "ipython",
    "version": 3
   },
   "file_extension": ".py",
   "mimetype": "text/x-python",
   "name": "python",
   "nbconvert_exporter": "python",
   "pygments_lexer": "ipython3",
   "version": "3.9.12"
  }
 },
 "nbformat": 4,
 "nbformat_minor": 2
}

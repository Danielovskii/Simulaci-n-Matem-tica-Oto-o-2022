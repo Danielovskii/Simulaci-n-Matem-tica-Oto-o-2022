{
 "cells": [
  {
   "cell_type": "markdown",
   "id": "949cbe73",
   "metadata": {},
   "source": [
    "# T01 - Markdown"
   ]
  },
  {
   "cell_type": "markdown",
   "id": "e010dd7c",
   "metadata": {},
   "source": [
    "# Introducción personal"
   ]
  },
  {
   "cell_type": "markdown",
   "id": "b4670a12",
   "metadata": {},
   "source": [
    "## Alumno: Daniel Sánchez López"
   ]
  },
  {
   "cell_type": "markdown",
   "id": "d089e602",
   "metadata": {},
   "source": [
    "Soy Daniel Sánchez López, pero me pueden decir **Dani**, así me dicen todos, tengo 19 años y estudio *Ingeniería Financiera* en el ***ITESO***, algunos de mis hobbies o de lo que me gusta hacer son los siguientes:"
   ]
  },
  {
   "cell_type": "markdown",
   "id": "0ff867bc",
   "metadata": {},
   "source": [
    "- Tocar guitarra\n",
    "- Salir en bici\n",
    "- Fórmula 1\n",
    "- Futbol Americano (NFL)\n",
    "- Correr Karts"
   ]
  },
  {
   "cell_type": "markdown",
   "id": "dfaf8036",
   "metadata": {},
   "source": [
    "De la carrera, las materias que he cursado y que más me han gustado don las siguientes:"
   ]
  },
  {
   "cell_type": "markdown",
   "id": "1b57bf84",
   "metadata": {},
   "source": [
    "1. Bolsa de Valores\n",
    "2. Álgebra lineal\n",
    "3. Información Financiera\n",
    "4. Matemáticas Financieras\n",
    "5. Simulación Matemática"
   ]
  },
  {
   "cell_type": "markdown",
   "id": "bf800a21",
   "metadata": {},
   "source": [
    "Cursé **Álgebra lineal** en este verano, y me ayudó bastante para alivianar la carga académica para este tercer semestre, ya que se junta con la materia de cálculo multivariable, dos materias que exigen mucho matemáticamente, ya que por ejemplo vez matrices y ecuaciones donde puedes resolver un sistema de ecuaciones $ 3x - 2y + 5z = 4 $ , $ 7x - z = 9 $ con matrices y método de Gauss, eso también se ve en *cálculo multivariable*."
   ]
  },
  {
   "cell_type": "markdown",
   "id": "b5b57692",
   "metadata": {},
   "source": [
    "Unos de los temas que más me gustaron y que están relacionados con mi carrera, son los **Portafolios de Inversión**, los cuales nos ayudan a gestionar nuestras inversiones. Un portafolio de inversión es un conjunto de activos financieros en los cuales invertimos nuestro dinero. El propósito de que sean un conjunto o varios activos finacieros es mitigar los riesgos de perder nuestro dinero, si un activo nos da pérdidas, se contrarresta con los demás activos, buscando que esa pérdida de dinero sea mínima. Los portafolios de inversión cuentan con instrumentos de renta fija (valores gubernamentales) e instrumentos de renta variable (acciones en la bolsa de valores). Y contamos con tres tipos principales de portafolios de inversión, los portafolios *conservadores*, *moderados* y *agresivos*."
   ]
  },
  {
   "cell_type": "markdown",
   "id": "2a31c724",
   "metadata": {},
   "source": [
    "![](https://www.bbva.mx/content/dam/public-web/mexico/images/Grafica_EModerada.png.img.2400.1519842342972.png)"
   ]
  }
 ],
 "metadata": {
  "kernelspec": {
   "display_name": "Python 3 (ipykernel)",
   "language": "python",
   "name": "python3"
  },
  "language_info": {
   "codemirror_mode": {
    "name": "ipython",
    "version": 3
   },
   "file_extension": ".py",
   "mimetype": "text/x-python",
   "name": "python",
   "nbconvert_exporter": "python",
   "pygments_lexer": "ipython3",
   "version": "3.9.12"
  }
 },
 "nbformat": 4,
 "nbformat_minor": 5
}

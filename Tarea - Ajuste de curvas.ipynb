{
 "cells": [
  {
   "cell_type": "markdown",
   "metadata": {},
   "source": [
    "# Tarea - Ajuste de curvas"
   ]
  },
  {
   "cell_type": "code",
   "execution_count": 1,
   "metadata": {},
   "outputs": [],
   "source": [
    "import numpy as np\n",
    "import pandas as pd\n",
    "import matplotlib.pyplot as plt"
   ]
  },
  {
   "cell_type": "markdown",
   "metadata": {},
   "source": [
    "---\n",
    "### Problema 1\n",
    "\n",
    "Los siguientes datos representan el costo en dólares de la electricidad según Western Electricity Coordinating Council desde el 2014 (y su pronóstico para el 2040)\n",
    "\n",
    "Tomado de:\n",
    "https://www.quandl.com/data/EIA/AEO_2016_REF_NO_CPP_PRCE_NA_COMM_NA_ELC_NA_WECCRKS_NCNTPKWH_A-Electricity-End-Use-Prices-Commercial-Western-Electricity-Coordinating-Council-Rockies-No-CPP-AEO2016"
   ]
  },
  {
   "cell_type": "code",
   "execution_count": 4,
   "metadata": {},
   "outputs": [],
   "source": [
    "import numpy as np\n",
    "# Datos extraidos de la página de quandl\n",
    "data = np.array([10.051101,  9.259127,  9.444813,  9.557723,  9.977324, 10.298326,\n",
    "       10.447217, 10.550506, 10.590784, 10.657418, 10.743085, 10.831965,\n",
    "       10.988435, 11.153055, 11.313326, 11.557165, 11.860136, 12.122511,\n",
    "       12.356448, 12.611391, 12.814569, 13.111372, 13.357134, 13.559012,\n",
    "       13.85861 , 14.135924, 14.436149])"
   ]
  },
  {
   "cell_type": "markdown",
   "metadata": {},
   "source": [
    "1. Ajuste estos datos a polinomios de grado 1 hasta 3 (los datos en $x$ corresponden a los años de 2014 a 2040, sin embargo son valores muy grandes para elevarlos a una potencia, use una representación para estos años, por ejemplo $2014 \\rightarrow 0$ y $2040\\rightarrow 26$).\n",
    "\n",
    "2. Muestre las tres curvas ajustadas junto a los datos de los costos en un solo gráfico"
   ]
  },
  {
   "cell_type": "code",
   "execution_count": 69,
   "metadata": {},
   "outputs": [
    {
     "data": {
      "image/png": "[encoded data removed]",
      "text/plain": [
       "<Figure size 432x288 with 1 Axes>"
      ]
     },
     "metadata": {
      "needs_background": "light"
     },
     "output_type": "display_data"
    }
   ],
   "source": [
    "import numpy as np\n",
    "import pandas as pd\n",
    "import matplotlib.pyplot as plt\n",
    "\n",
    "m = 27 # El número de muestras son 26, que son los datos del 2014 al 2040\n",
    "x = np.linspace(0, 20, m)\n",
    "y = np.array([10.051101,  9.259127,  9.444813,  9.557723,  9.977324, 10.298326,\n",
    "       10.447217, 10.550506, 10.590784, 10.657418, 10.743085, 10.831965,\n",
    "       10.988435, 11.153055, 11.313326, 11.557165, 11.860136, 12.122511,\n",
    "       12.356448, 12.611391, 12.814569, 13.111372, 13.357134, 13.559012,\n",
    "       13.85861 , 14.135924, 14.436149])\n",
    "\n",
    "%matplotlib inline\n",
    "plt.figure()\n",
    "plt.scatter(x, y, s = 50)\n",
    "plt.grid()"
   ]
  },
  {
   "cell_type": "code",
   "execution_count": 14,
   "metadata": {},
   "outputs": [],
   "source": [
    "def funcion_de_costo(beta, X, y) :\n",
    "    beta = np.reshape(beta, [2, -1])\n",
    "    pred = X @ beta\n",
    "    costo = (y-pred).T @ (y-pred)\n",
    "    return costo[0][0]"
   ]
  },
  {
   "cell_type": "code",
   "execution_count": 15,
   "metadata": {},
   "outputs": [],
   "source": [
    "# Matriz X de polinomio de grado 1\n",
    "ones = np.ones([m, 1])\n",
    "x_1 = np.reshape(x, [m, -1])\n",
    "X = np.hstack( (ones, x_1) )"
   ]
  },
  {
   "cell_type": "code",
   "execution_count": 16,
   "metadata": {},
   "outputs": [],
   "source": [
    "beta_inicial = np.random.rand(2) # vector aleatorio de 2 porque beta tiene 2 elementos\n",
    "y = np.reshape(y, [m, -1])"
   ]
  },
  {
   "cell_type": "code",
   "execution_count": 17,
   "metadata": {},
   "outputs": [
    {
     "data": {
      "text/plain": [
       "1548.804776064021"
      ]
     },
     "execution_count": 17,
     "metadata": {},
     "output_type": "execute_result"
    }
   ],
   "source": [
    "funcion_de_costo(beta_inicial, X, y)"
   ]
  },
  {
   "cell_type": "code",
   "execution_count": 18,
   "metadata": {},
   "outputs": [
    {
     "data": {
      "text/plain": [
       "      fun: 2.3704889518148637\n",
       " hess_inv: array([[ 0.07010662, -0.0051589 ],\n",
       "       [-0.0051589 ,  0.00051591]])\n",
       "      jac: array([2.98023224e-08, 2.08616257e-07])\n",
       "  message: 'Optimization terminated successfully.'\n",
       "     nfev: 21\n",
       "      nit: 6\n",
       "     njev: 7\n",
       "   status: 0\n",
       "  success: True\n",
       "        x: array([9.11567625, 0.24267173])"
      ]
     },
     "execution_count": 18,
     "metadata": {},
     "output_type": "execute_result"
    }
   ],
   "source": [
    "import scipy.optimize as opt\n",
    "sol = opt.minimize(funcion_de_costo, \n",
    "                  beta_inicial,\n",
    "                  args = (X, y))\n",
    "sol"
   ]
  },
  {
   "cell_type": "code",
   "execution_count": 21,
   "metadata": {},
   "outputs": [],
   "source": [
    "y_pred1 = 9.11567625 + 0.24267173*x"
   ]
  },
  {
   "cell_type": "code",
   "execution_count": 22,
   "metadata": {},
   "outputs": [
    {
     "data": {
      "text/plain": [
       "166226.10760168216"
      ]
     },
     "execution_count": 22,
     "metadata": {},
     "output_type": "execute_result"
    }
   ],
   "source": [
    "def funcion_de_costo(beta, X, y) :\n",
    "    beta = np.reshape(beta, [3, -1]) #porque pára este caso beta es un vector con 3 elementos, estamos forzando que sea un vector columna, para eso es el reshape\n",
    "    pred = X @ beta\n",
    "    costo = (y-pred).T @ (y-pred)\n",
    "    return costo[0][0]\n",
    "\n",
    "# Matriz X\n",
    "ones = np.ones([m, 1])\n",
    "x_1 = np.reshape(x, [m, -1])\n",
    "x_2 = np.reshape(x**2, [m, -1])\n",
    "X = np.hstack( (ones, x_1, x_2) )\n",
    "\n",
    "beta_inicial = np.random.rand(3)\n",
    "y = np.reshape(y, [m, -1])\n",
    "\n",
    "funcion_de_costo(beta_inicial, X, y)"
   ]
  },
  {
   "cell_type": "code",
   "execution_count": 23,
   "metadata": {
    "scrolled": false
   },
   "outputs": [
    {
     "data": {
      "text/plain": [
       "      fun: 0.8443845166074282\n",
       " hess_inv: array([[ 1.44225510e-01, -2.82840730e-02,  1.15626713e-03],\n",
       "       [-2.82840730e-02,  7.73097987e-03, -3.60755341e-04],\n",
       "       [ 1.15626713e-03, -3.60755341e-04,  1.80377670e-05]])\n",
       "      jac: array([0.00000000e+00, 1.26659870e-07, 4.47034836e-08])\n",
       "  message: 'Optimization terminated successfully.'\n",
       "     nfev: 32\n",
       "      nit: 4\n",
       "     njev: 8\n",
       "   status: 0\n",
       "  success: True\n",
       "        x: array([9.59129685e+00, 9.42781029e-02, 7.41968137e-03])"
      ]
     },
     "execution_count": 23,
     "metadata": {},
     "output_type": "execute_result"
    }
   ],
   "source": [
    "import scipy.optimize as opt\n",
    "sol = opt.minimize(funcion_de_costo, \n",
    "                  beta_inicial,\n",
    "                  args = (X, y))\n",
    "sol"
   ]
  },
  {
   "cell_type": "code",
   "execution_count": 24,
   "metadata": {},
   "outputs": [],
   "source": [
    "y_pred_2 = 9.59129685e+00 + 9.42781029e-02*x + 7.41968137e-03*x**2"
   ]
  },
  {
   "cell_type": "code",
   "execution_count": 6,
   "metadata": {},
   "outputs": [
    {
     "data": {
      "text/plain": [
       "50137235.65478173"
      ]
     },
     "execution_count": 6,
     "metadata": {},
     "output_type": "execute_result"
    }
   ],
   "source": [
    "import numpy as np\n",
    "m = 27\n",
    "x = np.linspace(0, 20, m)\n",
    "y = np.array([10.051101,  9.259127,  9.444813,  9.557723,  9.977324, 10.298326,\n",
    "       10.447217, 10.550506, 10.590784, 10.657418, 10.743085, 10.831965,\n",
    "       10.988435, 11.153055, 11.313326, 11.557165, 11.860136, 12.122511,\n",
    "       12.356448, 12.611391, 12.814569, 13.111372, 13.357134, 13.559012,\n",
    "       13.85861 , 14.135924, 14.436149])\n",
    "\n",
    "\n",
    "\n",
    "def funcion_de_costo(beta, X, y) :\n",
    "    beta = np.reshape(beta, [4, -1]) #porque pára este caso beta es un vector con 4 elementos, estamos forzando que sea un vector columna, para eso es el reshape\n",
    "    pred = X @ beta\n",
    "    costo = (y-pred).T @ (y-pred)\n",
    "    return costo[0][0]\n",
    "\n",
    "# Matriz X\n",
    "ones = np.ones([m, 1])\n",
    "x_1 = np.reshape(x, [m, -1])\n",
    "x_2 = np.reshape(x**2, [m, -1])\n",
    "x_3 = np.reshape(x**3, [m, -1])\n",
    "X = np.hstack( (ones, x_1, x_2, x_3) )\n",
    "\n",
    "beta_inicial = np.random.rand(4)\n",
    "y = np.reshape(y, [m, -1])\n",
    "\n",
    "funcion_de_costo(beta_inicial, X, y)"
   ]
  },
  {
   "cell_type": "code",
   "execution_count": 7,
   "metadata": {},
   "outputs": [
    {
     "data": {
      "text/plain": [
       "      fun: 0.8404169183092955\n",
       " hess_inv: array([[ 2.27239543e-01, -8.33500526e-02,  8.17095366e-03,\n",
       "        -2.33822887e-04],\n",
       "       [-8.33500526e-02,  4.42580810e-02, -5.01383085e-03,\n",
       "         1.55102518e-04],\n",
       "       [ 8.17095366e-03, -5.01383085e-03,  6.10778797e-04,\n",
       "        -1.97580344e-05],\n",
       "       [-2.33822887e-04,  1.55102518e-04, -1.97580344e-05,\n",
       "         6.58601150e-07]])\n",
       "      jac: array([-7.45058060e-09, -2.45869160e-07, -2.98023224e-08, -1.04308128e-07])\n",
       "  message: 'Optimization terminated successfully.'\n",
       "     nfev: 50\n",
       "      nit: 5\n",
       "     njev: 10\n",
       "   status: 0\n",
       "  success: True\n",
       "        x: array([9.56646842e+00, 1.10747629e-01, 5.32167883e-03, 6.99334210e-05])"
      ]
     },
     "execution_count": 7,
     "metadata": {},
     "output_type": "execute_result"
    }
   ],
   "source": [
    "import scipy.optimize as opt\n",
    "sol = opt.minimize(funcion_de_costo, \n",
    "                  beta_inicial,\n",
    "                  args = (X, y))\n",
    "sol"
   ]
  },
  {
   "cell_type": "code",
   "execution_count": null,
   "metadata": {},
   "outputs": [],
   "source": [
    "y_pred3 = 9.56646842e+00 + 1.10747629e-01*x + 5.32167883e-03*x**2 + 6.99334210e-05**x*3"
   ]
  },
  {
   "cell_type": "code",
   "execution_count": 25,
   "metadata": {},
   "outputs": [
    {
     "data": {
      "image/png": "[encoded data removed]",
      "text/plain": [
       "<Figure size 432x288 with 1 Axes>"
      ]
     },
     "metadata": {
      "needs_background": "light"
     },
     "output_type": "display_data"
    }
   ],
   "source": [
    "y_pred1 = 9.11567625 + 0.24267173*x\n",
    "y_pred2 = 9.59129685e+00 + 9.42781029e-02*x + 7.41968137e-03*x**2\n",
    "y_pred3 = 9.56646842e+00 + 1.10747629e-01*x + 5.32167883e-03*x**2 + 6.99334210e-05**x*3\n",
    "\n",
    "import matplotlib.pyplot as plt\n",
    "\n",
    "plt.figure()\n",
    "plt.scatter(x, y, s = 100)\n",
    "plt.plot(x, y_pred1, \"r\")\n",
    "plt.plot(x, y_pred2, \"g\")\n",
    "plt.plot(x, y_pred3, \"b\")\n",
    "plt.grid()"
   ]
  },
  {
   "cell_type": "markdown",
   "metadata": {},
   "source": [
    "## Resultados\n",
    "\n",
    "Para este ejercicio propuse tres modelos, un modelo basado en un polinimio de grado 1, un modelo de polinomio de grado 2 y un modelo de polinomio de grado 3. Los modelos obtenidos fueron los siguientes:\n",
    "\n",
    "- $ y = 0.24267173x + 9.1156762 $\n",
    "- $ y = 7.41968137e-03x^2 + 9.42781029e-02x + 9.59129685e+00 $\n",
    "- $ y = 6.99334210e-05x^3 + 5.32167883e-03x^2 + 1.10747629e-01x + 9.56646842e+00 $\n",
    "\n",
    "Viendo el gráfico obtenido, el polinomio de grado **2** y grado **3** son los modelos que mejor se ajustan a los puntos"
   ]
  },
  {
   "cell_type": "markdown",
   "metadata": {},
   "source": [
    "---"
   ]
  },
  {
   "cell_type": "markdown",
   "metadata": {},
   "source": [
    "___\n",
    "### Problema 2\n",
    "\n",
    "El archivo `population_data.csv` contiene información histórica anual de México relativa a la población, nacimientos y muertes desde el año 1950 hasta el año 2015. La primer columna corresponde a los años, la segunda a la población, la tercera a los nacimientos y la última a los decesos.\n",
    "\n",
    "Tomado de: https://en.wikipedia.org/wiki/Demographics_of_Mexico.\n",
    "\n",
    "Importe estos datos usando la función `read_csv` del paquete `pandas`\n",
    "\n",
    "1. Usando los años como variable independiente $x$ y la población como variable dependiente $y$, ajustar polinomios de grado 1 hasta grado 3.\n",
    "\n",
    "    * Mostrar en un solo gráfico los datos de población contra los años, y los polinomios ajustados.\n",
    "\n",
    "    * Graficar el error cuadrático acumulado contra el número de términos.\n",
    "\n",
    "2. Repetir el punto 1 usando los nacimientos como variable dependiente $y$. Grafique las curvas ajustadas junto con los datos de nacimientos. Vea en un gráfico el error acumulado."
   ]
  },
  {
   "cell_type": "markdown",
   "metadata": {},
   "source": [
    "---"
   ]
  },
  {
   "cell_type": "code",
   "execution_count": 4,
   "metadata": {},
   "outputs": [],
   "source": [
    "import pandas as pd\n",
    "pd.read_csv?"
   ]
  },
  {
   "cell_type": "code",
   "execution_count": 5,
   "metadata": {},
   "outputs": [],
   "source": [
    "data = pd.read_csv('population_data.csv')"
   ]
  },
  {
   "cell_type": "code",
   "execution_count": 6,
   "metadata": {},
   "outputs": [
    {
     "data": {
      "text/html": [
       "<div>\n",
       "<style scoped>\n",
       "    .dataframe tbody tr th:only-of-type {\n",
       "        vertical-align: middle;\n",
       "    }\n",
       "\n",
       "    .dataframe tbody tr th {\n",
       "        vertical-align: top;\n",
       "    }\n",
       "\n",
       "    .dataframe thead th {\n",
       "        text-align: right;\n",
       "    }\n",
       "</style>\n",
       "<table border=\"1\" class=\"dataframe\">\n",
       "  <thead>\n",
       "    <tr style=\"text-align: right;\">\n",
       "      <th></th>\n",
       "      <th>Year</th>\n",
       "      <th>Poblacion</th>\n",
       "      <th>Nacimientos</th>\n",
       "      <th>Decesos</th>\n",
       "    </tr>\n",
       "  </thead>\n",
       "  <tbody>\n",
       "    <tr>\n",
       "      <th>0</th>\n",
       "      <td>1950</td>\n",
       "      <td>28296</td>\n",
       "      <td>1174947</td>\n",
       "      <td>418430</td>\n",
       "    </tr>\n",
       "    <tr>\n",
       "      <th>1</th>\n",
       "      <td>1951</td>\n",
       "      <td>29110</td>\n",
       "      <td>1183788</td>\n",
       "      <td>458238</td>\n",
       "    </tr>\n",
       "    <tr>\n",
       "      <th>2</th>\n",
       "      <td>1952</td>\n",
       "      <td>29980</td>\n",
       "      <td>1195209</td>\n",
       "      <td>408823</td>\n",
       "    </tr>\n",
       "    <tr>\n",
       "      <th>3</th>\n",
       "      <td>1953</td>\n",
       "      <td>30904</td>\n",
       "      <td>1261775</td>\n",
       "      <td>446127</td>\n",
       "    </tr>\n",
       "    <tr>\n",
       "      <th>4</th>\n",
       "      <td>1954</td>\n",
       "      <td>31880</td>\n",
       "      <td>1339837</td>\n",
       "      <td>378752</td>\n",
       "    </tr>\n",
       "    <tr>\n",
       "      <th>...</th>\n",
       "      <td>...</td>\n",
       "      <td>...</td>\n",
       "      <td>...</td>\n",
       "      <td>...</td>\n",
       "    </tr>\n",
       "    <tr>\n",
       "      <th>61</th>\n",
       "      <td>2011</td>\n",
       "      <td>115683</td>\n",
       "      <td>2586287</td>\n",
       "      <td>590693</td>\n",
       "    </tr>\n",
       "    <tr>\n",
       "      <th>62</th>\n",
       "      <td>2012</td>\n",
       "      <td>117054</td>\n",
       "      <td>2498880</td>\n",
       "      <td>602354</td>\n",
       "    </tr>\n",
       "    <tr>\n",
       "      <th>63</th>\n",
       "      <td>2013</td>\n",
       "      <td>118395</td>\n",
       "      <td>2478889</td>\n",
       "      <td>623599</td>\n",
       "    </tr>\n",
       "    <tr>\n",
       "      <th>64</th>\n",
       "      <td>2014</td>\n",
       "      <td>119713</td>\n",
       "      <td>2463420</td>\n",
       "      <td>633641</td>\n",
       "    </tr>\n",
       "    <tr>\n",
       "      <th>65</th>\n",
       "      <td>2015</td>\n",
       "      <td>121005</td>\n",
       "      <td>2353596</td>\n",
       "      <td>655694</td>\n",
       "    </tr>\n",
       "  </tbody>\n",
       "</table>\n",
       "<p>66 rows × 4 columns</p>\n",
       "</div>"
      ],
      "text/plain": [
       "    Year  Poblacion  Nacimientos  Decesos\n",
       "0   1950      28296      1174947   418430\n",
       "1   1951      29110      1183788   458238\n",
       "2   1952      29980      1195209   408823\n",
       "3   1953      30904      1261775   446127\n",
       "4   1954      31880      1339837   378752\n",
       "..   ...        ...          ...      ...\n",
       "61  2011     115683      2586287   590693\n",
       "62  2012     117054      2498880   602354\n",
       "63  2013     118395      2478889   623599\n",
       "64  2014     119713      2463420   633641\n",
       "65  2015     121005      2353596   655694\n",
       "\n",
       "[66 rows x 4 columns]"
      ]
     },
     "execution_count": 6,
     "metadata": {},
     "output_type": "execute_result"
    }
   ],
   "source": [
    "data"
   ]
  },
  {
   "cell_type": "code",
   "execution_count": 48,
   "metadata": {},
   "outputs": [],
   "source": [
    "import numpy as np\n",
    "import matplotlib.pyplot as plt\n",
    "\n",
    "x_1 = np.array(data[\"Year\"])\n",
    "y_1 = np.array(data[\"Poblacion\"])\n",
    "m = 66"
   ]
  },
  {
   "cell_type": "code",
   "execution_count": 18,
   "metadata": {},
   "outputs": [
    {
     "data": {
      "text/plain": [
       "array([1950, 1951, 1952, 1953, 1954, 1955, 1956, 1957, 1958, 1959, 1960,\n",
       "       1961, 1962, 1963, 1964, 1965, 1966, 1967, 1968, 1969, 1970, 1971,\n",
       "       1972, 1973, 1974, 1975, 1976, 1977, 1978, 1979, 1980, 1981, 1982,\n",
       "       1983, 1984, 1985, 1986, 1987, 1988, 1989, 1990, 1991, 1992, 1993,\n",
       "       1994, 1995, 1996, 1997, 1998, 1999, 2000, 2001, 2002, 2003, 2004,\n",
       "       2005, 2006, 2007, 2008, 2009, 2010, 2011, 2012, 2013, 2014, 2015],\n",
       "      dtype=int64)"
      ]
     },
     "execution_count": 18,
     "metadata": {},
     "output_type": "execute_result"
    }
   ],
   "source": [
    "x_1"
   ]
  },
  {
   "cell_type": "code",
   "execution_count": 21,
   "metadata": {},
   "outputs": [
    {
     "data": {
      "text/plain": [
       "array([  296,  1110,  1980,  2904,  3880,  4906,  5978,  7095,  8253,\n",
       "        9448, 10677, 11939, 13234, 14564, 15931, 17339, 18784, 20264,\n",
       "       21788, 23361, 24988, 26669, 28396, 30156, 31931, 33708, 35486,\n",
       "       37261, 39013, 40715, 42353, 43916, 45416, 46880, 48351, 49859,\n",
       "       51410, 52999, 54635, 56327, 58077, 59890, 61758, 63654, 65542,\n",
       "       67393, 69202, 70969, 72679, 74317, 75874, 77340, 78724, 80056,\n",
       "       81382, 82732, 84117, 85530, 86968, 88423, 86255, 87683, 89054,\n",
       "       90395, 91713, 93005], dtype=int64)"
      ]
     },
     "execution_count": 21,
     "metadata": {},
     "output_type": "execute_result"
    }
   ],
   "source": [
    "y_1"
   ]
  },
  {
   "cell_type": "code",
   "execution_count": 49,
   "metadata": {},
   "outputs": [
    {
     "data": {
      "image/png": "[encoded data removed]",
      "text/plain": [
       "<Figure size 432x288 with 1 Axes>"
      ]
     },
     "metadata": {
      "needs_background": "light"
     },
     "output_type": "display_data"
    }
   ],
   "source": [
    "%matplotlib inline\n",
    "plt.figure()\n",
    "plt.scatter(x_1, y_1, s = 10)\n",
    "plt.grid()"
   ]
  },
  {
   "cell_type": "code",
   "execution_count": 28,
   "metadata": {},
   "outputs": [
    {
     "data": {
      "text/plain": [
       "198652728796.83246"
      ]
     },
     "execution_count": 28,
     "metadata": {},
     "output_type": "execute_result"
    }
   ],
   "source": [
    "import numpy as np\n",
    "import matplotlib.pyplot as plt\n",
    "\n",
    "x = np.array(data[\"Year\"]) - 1940\n",
    "y = np.array(data[\"Poblacion\"]) - 28000\n",
    "m = 66\n",
    "\n",
    "def funcion_poblacion_contra_años(beta, X, y) :\n",
    "    beta = np.reshape(beta, [2, -1])\n",
    "    pred = X @ beta\n",
    "    resultado = (y-pred).T @ (y-pred)\n",
    "    return resultado[0][0]\n",
    "\n",
    "# Matriz X\n",
    "ones = np.ones([m, 1])\n",
    "x_1 = np.reshape(x, [m, -1])\n",
    "X = np.hstack( (ones, x_1) )\n",
    "\n",
    "beta_inicial = np.random.rand(2)\n",
    "y = np.reshape(y, [m, -1])\n",
    "\n",
    "funcion_poblacion_contra_años(beta_inicial, X, y)"
   ]
  },
  {
   "cell_type": "code",
   "execution_count": 29,
   "metadata": {},
   "outputs": [
    {
     "data": {
      "text/plain": [
       "      fun: 212137169.61297113\n",
       " hess_inv: array([[ 4.52491887e-02, -8.86508501e-04],\n",
       "       [-8.86508501e-04,  2.08606390e-05]])\n",
       "      jac: array([ 0., -2.])\n",
       "  message: 'Desired error not necessarily achieved due to precision loss.'\n",
       "     nfev: 144\n",
       "      nit: 6\n",
       "     njev: 45\n",
       "   status: 2\n",
       "  success: False\n",
       "        x: array([-19301.63935453,   1543.97186089])"
      ]
     },
     "execution_count": 29,
     "metadata": {},
     "output_type": "execute_result"
    }
   ],
   "source": [
    "import scipy.optimize as opt\n",
    "sol = opt.minimize(funcion_poblacion_contra_años, \n",
    "                  beta_inicial,\n",
    "                  args = (X, y))\n",
    "sol"
   ]
  },
  {
   "cell_type": "code",
   "execution_count": 63,
   "metadata": {},
   "outputs": [],
   "source": [
    "y1 = -19301.63935453 + 1543.97186089*x"
   ]
  },
  {
   "cell_type": "code",
   "execution_count": 30,
   "metadata": {},
   "outputs": [
    {
     "data": {
      "text/plain": [
       "182367116944.04236"
      ]
     },
     "execution_count": 30,
     "metadata": {},
     "output_type": "execute_result"
    }
   ],
   "source": [
    "def funcion_poblacion_contra_años(beta, X, y) :\n",
    "    beta = np.reshape(beta, [3, -1])\n",
    "    pred = X @ beta\n",
    "    resultado = (y-pred).T @ (y-pred)\n",
    "    return resultado[0][0]\n",
    "\n",
    "# Matriz X\n",
    "ones = np.ones([m, 1])\n",
    "x_1 = np.reshape(x, [m, -1])\n",
    "x_2 = np.reshape(x**2, [m, -1])\n",
    "X = np.hstack( (ones, x_1, x_2) )\n",
    "\n",
    "beta_inicial = np.random.rand(3)\n",
    "y = np.reshape(y, [m, -1])\n",
    "\n",
    "funcion_poblacion_contra_años(beta_inicial, X, y)"
   ]
  },
  {
   "cell_type": "code",
   "execution_count": 31,
   "metadata": {},
   "outputs": [
    {
     "data": {
      "text/plain": [
       "      fun: 210941621.45661366\n",
       " hess_inv: array([[ 1.04299708e-01, -5.23308753e-03,  5.61943057e-05],\n",
       "       [-5.23308753e-03,  3.19725532e-04, -3.76532871e-06],\n",
       "       [ 5.61943057e-05, -3.76532871e-06,  4.69484718e-08]])\n",
       "      jac: array([  0.,   0., -12.])\n",
       "  message: 'Desired error not necessarily achieved due to precision loss.'\n",
       "     nfev: 216\n",
       "      nit: 10\n",
       "     njev: 51\n",
       "   status: 2\n",
       "  success: False\n",
       "        x: array([-1.87029992e+04,  1.50871454e+03,  4.14806784e-01])"
      ]
     },
     "execution_count": 31,
     "metadata": {},
     "output_type": "execute_result"
    }
   ],
   "source": [
    "import scipy.optimize as opt\n",
    "sol = opt.minimize(funcion_poblacion_contra_años, \n",
    "                  beta_inicial,\n",
    "                  args = (X, y))\n",
    "sol"
   ]
  },
  {
   "cell_type": "code",
   "execution_count": 64,
   "metadata": {},
   "outputs": [],
   "source": [
    "y2 = -1.87029992e+04 + 1.50871454e+03*x + 4.14806784e-01*x**2"
   ]
  },
  {
   "cell_type": "code",
   "execution_count": 36,
   "metadata": {},
   "outputs": [
    {
     "data": {
      "text/plain": [
       "483239239221.9454"
      ]
     },
     "execution_count": 36,
     "metadata": {},
     "output_type": "execute_result"
    }
   ],
   "source": [
    "def funcion_poblacion_contra_años(beta, X, y) :\n",
    "    beta = np.reshape(beta, [4, -1])\n",
    "    pred = X @ beta\n",
    "    resultado = (y-pred).T @ (y-pred)\n",
    "    return resultado[0][0]\n",
    "\n",
    "# Matriz X\n",
    "ones = np.ones([m, 1])\n",
    "x_1 = np.reshape(x, [m, -1])\n",
    "x_2 = np.reshape(x**2, [m, -1])\n",
    "x_3 = np.reshape(x**3, [m, -1])\n",
    "X = np.hstack( (ones, x_1, x_2, x_3) )\n",
    "\n",
    "beta_inicial = np.random.rand(4)\n",
    "y = np.reshape(y, [m, -1])\n",
    "\n",
    "funcion_poblacion_contra_años(beta_inicial, X, y)"
   ]
  },
  {
   "cell_type": "code",
   "execution_count": 37,
   "metadata": {},
   "outputs": [
    {
     "data": {
      "text/plain": [
       "      fun: 25240442.70940326\n",
       " hess_inv: array([[ 8.14011213e-01, -6.98894597e-02,  1.71376634e-03,\n",
       "        -1.26268696e-05],\n",
       "       [-6.98894597e-02,  6.39202591e-03, -1.62660499e-04,\n",
       "         1.22780542e-06],\n",
       "       [ 1.71376634e-03, -1.62660499e-04,  4.26010641e-06,\n",
       "        -3.28483307e-08],\n",
       "       [-1.26268696e-05,  1.22780542e-06, -3.28483307e-08,\n",
       "         2.57634030e-10]])\n",
       "      jac: array([0., 0., 0., 0.])\n",
       "  message: 'Optimization terminated successfully.'\n",
       "     nfev: 160\n",
       "      nit: 7\n",
       "     njev: 32\n",
       "   status: 0\n",
       "  success: True\n",
       "        x: array([-3.54711510e+03,  3.49926723e+01,  3.98423509e+01, -3.09235981e-01])"
      ]
     },
     "execution_count": 37,
     "metadata": {},
     "output_type": "execute_result"
    }
   ],
   "source": [
    "import scipy.optimize as opt\n",
    "sol = opt.minimize(funcion_poblacion_contra_años, \n",
    "                  beta_inicial,\n",
    "                  args = (X, y))\n",
    "sol"
   ]
  },
  {
   "cell_type": "code",
   "execution_count": 70,
   "metadata": {},
   "outputs": [],
   "source": [
    "y3 = -3.54711510e+03 +  3.49926723e+01*x + 3.98423509e+01*x**2 + -3.09235981e-01*x**3"
   ]
  },
  {
   "cell_type": "code",
   "execution_count": 40,
   "metadata": {},
   "outputs": [
    {
     "data": {
      "image/png": "[encoded data removed]",
      "text/plain": [
       "<Figure size 432x288 with 1 Axes>"
      ]
     },
     "metadata": {
      "needs_background": "light"
     },
     "output_type": "display_data"
    }
   ],
   "source": [
    "y1 = -19301.63935453 + 1543.97186089*x\n",
    "y2 = -1.87029992e+04 + 1.50871454e+03*x + 4.14806784e-01*x**2\n",
    "y3 = -3.54711510e+03 +  3.49926723e+01*x + 3.98423509e+01*x**2 + -3.09235981e-01*x**3\n",
    "\n",
    "import matplotlib.pyplot as plt\n",
    "%matplotlib inline\n",
    "plt.figure()\n",
    "plt.scatter(x, y, s = 10)\n",
    "plt.plot(x, y1, \"r\")\n",
    "plt.plot(x, y2, \"g\")\n",
    "plt.plot(x, y3, \"b\")\n",
    "plt.grid()"
   ]
  },
  {
   "cell_type": "markdown",
   "metadata": {},
   "source": [
    "## Resultados:\n",
    "\n",
    "Se utilizaron los datos del archivo `csv`, y se acomodaron en listas con `np.array` para que los valores obtenidos no fueran números grandes.\n",
    "\n",
    "Se utilizaron tres modelos diferentes, un modelo de polinomio de grado 1, un polinomio de grado 2, y un polinomio de grado 3\n",
    "\n",
    "Los modelos con las betas obtenidas fueron las siguientes:\n",
    "\n",
    "1. Modelo 1: $ y = -19301.63935453 + 1543.97186089x $\n",
    "2. Modelo 2: $ y = -1.87029992e+04 + 1.50871454e+03x + 4.14806784e-01x^2 $\n",
    "3. Modelo 3: $ y = -3.54711510e+03 + 3.49926723e+01x + 3.98423509e+01x^2 + -3.09235981e-01x^3 $\n",
    "\n",
    "Según la gráfica y las tres curvas ajustadas, los tres modelos propuestos parecen tener un error mínimo con los puntos de los datos utilizados. Para obtener el modelo con el menor error, se obtendrá el error cuadrático de cada uno de los modelos o de las curvas."
   ]
  },
  {
   "cell_type": "code",
   "execution_count": null,
   "metadata": {},
   "outputs": [],
   "source": []
  },
  {
   "cell_type": "markdown",
   "metadata": {},
   "source": [
    "---"
   ]
  },
  {
   "cell_type": "markdown",
   "metadata": {},
   "source": [
    "## Parte 2\n",
    "\n",
    "Repetición del punto 1, pero con los datos de Nacimientos como variable dependiete $y$"
   ]
  },
  {
   "cell_type": "code",
   "execution_count": 43,
   "metadata": {},
   "outputs": [],
   "source": [
    "import pandas as pd"
   ]
  },
  {
   "cell_type": "code",
   "execution_count": 44,
   "metadata": {},
   "outputs": [],
   "source": [
    "data = pd.read_csv('population_data.csv')"
   ]
  },
  {
   "cell_type": "code",
   "execution_count": 51,
   "metadata": {},
   "outputs": [],
   "source": [
    "import numpy as np\n",
    "import matplotlib.pyplot as plt\n",
    "\n",
    "x2 = np.array(data[\"Year\"])\n",
    "y2 = np.array(data[\"Nacimientos\"])\n",
    "m = 66"
   ]
  },
  {
   "cell_type": "code",
   "execution_count": 52,
   "metadata": {},
   "outputs": [
    {
     "data": {
      "image/png": "[encoded data removed]",
      "text/plain": [
       "<Figure size 432x288 with 1 Axes>"
      ]
     },
     "metadata": {
      "needs_background": "light"
     },
     "output_type": "display_data"
    }
   ],
   "source": [
    "%matplotlib inline\n",
    "plt.figure()\n",
    "plt.scatter(x2, y2, s = 10)\n",
    "plt.grid()"
   ]
  },
  {
   "cell_type": "code",
   "execution_count": 55,
   "metadata": {},
   "outputs": [
    {
     "data": {
      "text/plain": [
       "96632700401066.03"
      ]
     },
     "execution_count": 55,
     "metadata": {},
     "output_type": "execute_result"
    }
   ],
   "source": [
    "x = np.array(data[\"Year\"]) - 1940\n",
    "y = np.array(data[\"Nacimientos\"]) - 1174000\n",
    "m = 66\n",
    "\n",
    "def funcion_poblacion_contra_años(beta, X, y) :\n",
    "    beta = np.reshape(beta, [2, -1])\n",
    "    pred = X @ beta\n",
    "    resultado = (y-pred).T @ (y-pred)\n",
    "    return resultado[0][0]\n",
    "\n",
    "# Matriz X\n",
    "ones = np.ones([m, 1])\n",
    "x_1 = np.reshape(x, [m, -1])\n",
    "X = np.hstack( (ones, x_1) )\n",
    "\n",
    "beta_inicial = np.random.rand(2)\n",
    "y = np.reshape(y, [m, -1])\n",
    "\n",
    "funcion_poblacion_contra_años(beta_inicial, X, y)"
   ]
  },
  {
   "cell_type": "code",
   "execution_count": 56,
   "metadata": {},
   "outputs": [
    {
     "data": {
      "text/plain": [
       "      fun: 4737918466370.432\n",
       " hess_inv: array([[ 4.50552385e-02, -8.82935939e-04],\n",
       "       [-8.82935939e-04,  2.07943739e-05]])\n",
       "      jac: array([0., 0.])\n",
       "  message: 'Optimization terminated successfully.'\n",
       "     nfev: 39\n",
       "      nit: 5\n",
       "     njev: 13\n",
       "   status: 0\n",
       "  success: True\n",
       "        x: array([168478.91614236,  21991.06854949])"
      ]
     },
     "execution_count": 56,
     "metadata": {},
     "output_type": "execute_result"
    }
   ],
   "source": [
    "import scipy.optimize as opt\n",
    "sol = opt.minimize(funcion_poblacion_contra_años, \n",
    "                  beta_inicial,\n",
    "                  args = (X, y))\n",
    "sol"
   ]
  },
  {
   "cell_type": "code",
   "execution_count": 57,
   "metadata": {},
   "outputs": [],
   "source": [
    "y_1 = 168478.91614236 + 21991.06854949*x"
   ]
  },
  {
   "cell_type": "code",
   "execution_count": 60,
   "metadata": {},
   "outputs": [
    {
     "data": {
      "text/plain": [
       "96278043269014.78"
      ]
     },
     "execution_count": 60,
     "metadata": {},
     "output_type": "execute_result"
    }
   ],
   "source": [
    "x = np.array(data[\"Year\"]) - 1940\n",
    "y = np.array(data[\"Nacimientos\"]) - 1174000\n",
    "m = 66\n",
    "\n",
    "def funcion_poblacion_contra_años(beta, X, y) :\n",
    "    beta = np.reshape(beta, [3, -1])\n",
    "    pred = X @ beta\n",
    "    resultado = (y-pred).T @ (y-pred)\n",
    "    return resultado[0][0]\n",
    "\n",
    "# Matriz X\n",
    "ones = np.ones([m, 1])\n",
    "x_1 = np.reshape(x, [m, -1])\n",
    "x_2 = np.reshape(x**2, [m, -1])\n",
    "X = np.hstack( (ones, x_1, x_2) )\n",
    "\n",
    "beta_inicial = np.random.rand(3)\n",
    "y = np.reshape(y, [m, -1])\n",
    "\n",
    "funcion_poblacion_contra_años(beta_inicial, X, y)"
   ]
  },
  {
   "cell_type": "code",
   "execution_count": 61,
   "metadata": {},
   "outputs": [
    {
     "data": {
      "text/plain": [
       "      fun: 492921050195.33826\n",
       " hess_inv: array([[ 5.19077870e-02, -2.52650573e-03,  2.69563204e-05],\n",
       "       [-2.52650573e-03,  1.73558859e-04, -2.13069575e-06],\n",
       "       [ 2.69563204e-05, -2.13069575e-06,  2.82125403e-08]])\n",
       "      jac: array([     0.,   8192., 417792.])\n",
       "  message: 'Desired error not necessarily achieved due to precision loss.'\n",
       "     nfev: 224\n",
       "      nit: 9\n",
       "     njev: 53\n",
       "   status: 2\n",
       "  success: False\n",
       "        x: array([-9.58806610e+05,  8.84082484e+04, -7.81552502e+02])"
      ]
     },
     "execution_count": 61,
     "metadata": {},
     "output_type": "execute_result"
    }
   ],
   "source": [
    "import scipy.optimize as opt\n",
    "sol = opt.minimize(funcion_poblacion_contra_años, \n",
    "                  beta_inicial,\n",
    "                  args = (X, y))\n",
    "sol"
   ]
  },
  {
   "cell_type": "code",
   "execution_count": 62,
   "metadata": {},
   "outputs": [],
   "source": [
    "y_2 = -9.58806610e+05 + 8.84082484e+04*x + -7.81552502e+02*x**2"
   ]
  },
  {
   "cell_type": "code",
   "execution_count": 63,
   "metadata": {},
   "outputs": [
    {
     "data": {
      "text/plain": [
       "77662282712320.44"
      ]
     },
     "execution_count": 63,
     "metadata": {},
     "output_type": "execute_result"
    }
   ],
   "source": [
    "def funcion_poblacion_contra_años(beta, X, y) :\n",
    "    beta = np.reshape(beta, [4, -1])\n",
    "    pred = X @ beta\n",
    "    resultado = (y-pred).T @ (y-pred)\n",
    "    return resultado[0][0]\n",
    "\n",
    "# Matriz X\n",
    "ones = np.ones([m, 1])\n",
    "x_1 = np.reshape(x, [m, -1])\n",
    "x_2 = np.reshape(x**2, [m, -1])\n",
    "x_3 = np.reshape(x**3, [m, -1])\n",
    "X = np.hstack( (ones, x_1, x_2, x_3) )\n",
    "\n",
    "beta_inicial = np.random.rand(4)\n",
    "y = np.reshape(y, [m, -1])\n",
    "\n",
    "funcion_poblacion_contra_años(beta_inicial, X, y)"
   ]
  },
  {
   "cell_type": "code",
   "execution_count": 64,
   "metadata": {},
   "outputs": [
    {
     "data": {
      "text/plain": [
       "      fun: 441783032451.658\n",
       " hess_inv: array([[ 6.56110905e-01, -5.64171107e-02,  1.38413728e-03,\n",
       "        -1.02036576e-05],\n",
       "       [-5.64171107e-02,  5.23871242e-03, -1.34355581e-04,\n",
       "         1.01938019e-06],\n",
       "       [ 1.38413728e-03, -1.34355581e-04,  3.56388419e-06,\n",
       "        -2.77146033e-08],\n",
       "       [-1.02036576e-05,  1.01938019e-06, -2.77146033e-08,\n",
       "         2.19749913e-10]])\n",
       "      jac: array([0.00000000e+00, 4.50560000e+04, 4.58342400e+06, 2.72314368e+08])\n",
       "  message: 'Desired error not necessarily achieved due to precision loss.'\n",
       "     nfev: 317\n",
       "      nit: 11\n",
       "     njev: 61\n",
       "   status: 2\n",
       "  success: False\n",
       "        x: array([-7.08241165e+05,  6.40203522e+04, -1.28725400e+02, -5.12192855e+00])"
      ]
     },
     "execution_count": 64,
     "metadata": {},
     "output_type": "execute_result"
    }
   ],
   "source": [
    "import scipy.optimize as opt\n",
    "sol = opt.minimize(funcion_poblacion_contra_años, \n",
    "                  beta_inicial,\n",
    "                  args = (X, y))\n",
    "sol"
   ]
  },
  {
   "cell_type": "code",
   "execution_count": 66,
   "metadata": {},
   "outputs": [],
   "source": [
    "y3 = -7.08241165e+05 + 6.40203522e+04*x +  -1.28725400e+02*x**2 + -5.12192855e+00*x**3"
   ]
  },
  {
   "cell_type": "code",
   "execution_count": 67,
   "metadata": {},
   "outputs": [
    {
     "data": {
      "image/png": "[encoded data removed]",
      "text/plain": [
       "<Figure size 432x288 with 1 Axes>"
      ]
     },
     "metadata": {
      "needs_background": "light"
     },
     "output_type": "display_data"
    }
   ],
   "source": [
    "y1 = 168478.91614236 + 21991.06854949*x\n",
    "y2 = -9.58806610e+05 + 8.84082484e+04*x + -7.81552502e+02*x**2\n",
    "y3 = -7.08241165e+05 + 6.40203522e+04*x +  -1.28725400e+02*x**2 + -5.12192855e+00*x**3\n",
    "\n",
    "\n",
    "import matplotlib.pyplot as plt\n",
    "%matplotlib inline\n",
    "plt.figure()\n",
    "plt.scatter(x, y, s = 10)\n",
    "plt.plot(x, y1, \"r\")\n",
    "plt.plot(x, y2, \"g\")\n",
    "plt.plot(x, y3, \"b\")\n",
    "plt.grid()"
   ]
  },
  {
   "cell_type": "markdown",
   "metadata": {},
   "source": [
    "## Resultados:\n",
    "\n",
    "Se utilizaron los datos del archivo `csv`, y se acomodaron en listas con `np.array` para que los valores obtenidos no fueran números grandes.\n",
    "\n",
    "Se utilizaron tres modelos diferentes, un modelo de polinomio de grado 1, un polinomio de grado 2, y un polinomio de grado 3\n",
    "\n",
    "Los modelos con las betas obtenidas fueron las siguientes:\n",
    "\n",
    "1. Modelo 1: $ y = 168478.91614236 + 21991.06854949x $\n",
    "2. Modelo 2: $ y = -9.58806610e+05 + 8.84082484e+04x + -7.81552502e+02x^2 $\n",
    "3. Modelo 3: $ y = -7.08241165e+05 + 6.40203522e+04x +  -1.28725400e+02x^2 + -5.12192855e+00x^3 $\n",
    "\n",
    "Según la gráfica y las tres curvas ajustadas, el modelo de polinomio de grado 1 no se ajusta bien a los puntos de los datos, en cambio los modelos de polinomio de grado 2 y grado 3 se ajustan mejor. Para obtener el modelo con el menor error, se obtendrá el error cuadrático de los modelos o de las curvas de grado 2 y de grado 3.>"
   ]
  },
  {
   "cell_type": "code",
   "execution_count": null,
   "metadata": {},
   "outputs": [],
   "source": []
  }
 ],
 "metadata": {
  "kernelspec": {
   "display_name": "Python 3 (ipykernel)",
   "language": "python",
   "name": "python3"
  },
  "language_info": {
   "codemirror_mode": {
    "name": "ipython",
    "version": 3
   },
   "file_extension": ".py",
   "mimetype": "text/x-python",
   "name": "python",
   "nbconvert_exporter": "python",
   "pygments_lexer": "ipython3",
   "version": "3.9.12"
  }
 },
 "nbformat": 4,
 "nbformat_minor": 2
}

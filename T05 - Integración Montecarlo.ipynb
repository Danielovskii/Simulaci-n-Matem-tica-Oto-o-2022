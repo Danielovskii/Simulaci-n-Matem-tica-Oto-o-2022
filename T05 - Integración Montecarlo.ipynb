{
 "cells": [
  {
   "cell_type": "markdown",
   "metadata": {},
   "source": [
    "# TAREA"
   ]
  },
  {
   "cell_type": "markdown",
   "metadata": {},
   "source": [
    "## Integración Montecarlo"
   ]
  },
  {
   "cell_type": "markdown",
   "metadata": {},
   "source": [
    "1. Realizar las siguientes integrales. Poner los resultados en una tabla cuyas filas correspondan a la cantidad de términos utilizados en la aproximación (usar 10, 100, 1000, 10000 y 100000 términos) y cuyas columnas correspondan a las funciones.\n",
    "    + $\\int_{1}^{3} e^{x}\\log(x)\\text{d}x$.\n",
    "    + $\\int_1^3 \\sin(x)\\ln(x) \\text{d}x$"
   ]
  },
  {
   "cell_type": "code",
   "execution_count": 1,
   "metadata": {},
   "outputs": [
    {
     "data": {
      "text/html": [
       "<div>\n",
       "<style scoped>\n",
       "    .dataframe tbody tr th:only-of-type {\n",
       "        vertical-align: middle;\n",
       "    }\n",
       "\n",
       "    .dataframe tbody tr th {\n",
       "        vertical-align: top;\n",
       "    }\n",
       "\n",
       "    .dataframe thead th {\n",
       "        text-align: right;\n",
       "    }\n",
       "</style>\n",
       "<table border=\"1\" class=\"dataframe\">\n",
       "  <thead>\n",
       "    <tr style=\"text-align: right;\">\n",
       "      <th></th>\n",
       "      <th>Aproximación Función 1</th>\n",
       "      <th>Error Función 1</th>\n",
       "      <th>Aproximación Función 2</th>\n",
       "      <th>Error Función 2</th>\n",
       "    </tr>\n",
       "  </thead>\n",
       "  <tbody>\n",
       "    <tr>\n",
       "      <th>10.0</th>\n",
       "      <td>20.98702</td>\n",
       "      <td>6.95952</td>\n",
       "      <td>0.907047</td>\n",
       "      <td>0.037203</td>\n",
       "    </tr>\n",
       "    <tr>\n",
       "      <th>100.0</th>\n",
       "      <td>14.935384</td>\n",
       "      <td>0.907884</td>\n",
       "      <td>0.883197</td>\n",
       "      <td>0.013353</td>\n",
       "    </tr>\n",
       "    <tr>\n",
       "      <th>1000.0</th>\n",
       "      <td>14.514725</td>\n",
       "      <td>0.487225</td>\n",
       "      <td>0.87445</td>\n",
       "      <td>0.004606</td>\n",
       "    </tr>\n",
       "    <tr>\n",
       "      <th>10000.0</th>\n",
       "      <td>13.887676</td>\n",
       "      <td>0.139824</td>\n",
       "      <td>0.87197</td>\n",
       "      <td>0.002126</td>\n",
       "    </tr>\n",
       "    <tr>\n",
       "      <th>100000.0</th>\n",
       "      <td>14.018811</td>\n",
       "      <td>0.008689</td>\n",
       "      <td>0.870033</td>\n",
       "      <td>0.000189</td>\n",
       "    </tr>\n",
       "  </tbody>\n",
       "</table>\n",
       "</div>"
      ],
      "text/plain": [
       "         Aproximación Función 1 Error Función 1 Aproximación Función 2  \\\n",
       "10.0                   20.98702         6.95952               0.907047   \n",
       "100.0                 14.935384        0.907884               0.883197   \n",
       "1000.0                14.514725        0.487225                0.87445   \n",
       "10000.0               13.887676        0.139824                0.87197   \n",
       "100000.0              14.018811        0.008689               0.870033   \n",
       "\n",
       "         Error Función 2  \n",
       "10.0            0.037203  \n",
       "100.0           0.013353  \n",
       "1000.0          0.004606  \n",
       "10000.0         0.002126  \n",
       "100000.0        0.000189  "
      ]
     },
     "execution_count": 1,
     "metadata": {},
     "output_type": "execute_result"
    }
   ],
   "source": [
    "import numpy as np\n",
    "import random\n",
    "import pandas as pd\n",
    "\n",
    "def f1(x) :\n",
    "    return ( np.exp(x)*np.log(x) )\n",
    "\n",
    "def f2(x) :\n",
    "    return ( np.sin(x)*np.log(x) )\n",
    "\n",
    "N = np.logspace(1, 5, 5)\n",
    "table = pd.DataFrame(columns = ['Aproximación Función 1', 'Error Función 1', 'Aproximación Función 2', 'Error Función 2'], index = N )\n",
    "\n",
    "def montecarlo(f, N, a, b,) :\n",
    "    u = np.random.uniform(a, b, round(N))\n",
    "    return np.mean(f(u)) * (b - a)\n",
    "\n",
    "for i in N :\n",
    "    table.loc[i, 'Aproximación Función 1'] = montecarlo(f1, int(i), 1, 3)\n",
    "    table['Error Función 1'] = np.abs( 14.0275 - table['Aproximación Función 1'])\n",
    "    table.loc[i, 'Aproximación Función 2'] = montecarlo(f2, int(i), 1, 3)\n",
    "    table['Error Función 2'] = np.abs( 0.869844 - table['Aproximación Función 2'])\n",
    "table\n",
    "    "
   ]
  },
  {
   "cell_type": "code",
   "execution_count": 2,
   "metadata": {},
   "outputs": [],
   "source": [
    "np.log10?"
   ]
  },
  {
   "cell_type": "code",
   "execution_count": 3,
   "metadata": {},
   "outputs": [],
   "source": [
    "np.sin?"
   ]
  },
  {
   "cell_type": "markdown",
   "metadata": {},
   "source": [
    "---"
   ]
  },
  {
   "cell_type": "markdown",
   "metadata": {},
   "source": [
    "2. Aproximar el área de la región descrita por\n",
    "\n",
    "$$x^2+2y^2\\leq-2x+8y-7$$\n",
    "\n",
    "Poner los resultados en una tabla cuyas filas correspondan a la cantidad de términos utilizados en la aproximación (usar 10, 100, 1000, 10000 y 100000 términos) y en las columnas el valor de aproximación y el error relativo.\n",
    "\n",
    "Definir unos límites adecuados $a_1$, $b_1$, $a_2$ y $b_2$, para la región $R=\\left[a_1,b_1\\right]\\times\\left[a_2,b_2\\right]$"
   ]
  },
  {
   "cell_type": "markdown",
   "metadata": {},
   "source": [
    "**Primero definimos la función de Bernoulli y nuestra función de Montecarlo**"
   ]
  },
  {
   "cell_type": "code",
   "execution_count": 3,
   "metadata": {},
   "outputs": [],
   "source": [
    "import numpy as np\n",
    "import random\n",
    "\n",
    "def bernoulli(x, y) :\n",
    "    return ( x**2 + 2*y**2 ) <= ( -2*x + 8*y -7 )\n",
    "\n",
    "def montecarlo(region, ax, bx, ay, by, N) :\n",
    "    x = np.random.uniform(ax, bx, N)\n",
    "    y = np.random.uniform(ay, by, N)\n",
    "    B = region(x, y)\n",
    "    AR = (bx - ax) * (by - ay)\n",
    "    return np.mean(B)*AR"
   ]
  },
  {
   "cell_type": "markdown",
   "metadata": {},
   "source": [
    "**Graficamos el área de la región, tanteando los valores de los ejes $x$ y $y$**"
   ]
  },
  {
   "cell_type": "code",
   "execution_count": 5,
   "metadata": {
    "scrolled": false
   },
   "outputs": [
    {
     "data": {
      "text/plain": [
       "<matplotlib.collections.PathCollection at 0x22b724b5eb0>"
      ]
     },
     "execution_count": 5,
     "metadata": {},
     "output_type": "execute_result"
    },
    {
     "data": {
      "image/png": "[encoded data removed]",
      "text/plain": [
       "<Figure size 432x288 with 1 Axes>"
      ]
     },
     "metadata": {
      "needs_background": "light"
     },
     "output_type": "display_data"
    }
   ],
   "source": [
    "import matplotlib.pyplot as plt\n",
    "%matplotlib inline\n",
    "\n",
    "N = 100\n",
    "x = np.random.uniform(-2.75, 1, N)\n",
    "y = np.random.uniform(0.5, 3.5, N)\n",
    "X, Y = np.meshgrid(x, y)\n",
    "\n",
    "plt.figure()\n",
    "plt.scatter(X, Y, c=~bernoulli(X, Y))"
   ]
  },
  {
   "cell_type": "markdown",
   "metadata": {},
   "source": [
    "**Ahora aproximamos el área de la región usando 10 términos o 10 \"dardos\"**"
   ]
  },
  {
   "cell_type": "code",
   "execution_count": 17,
   "metadata": {
    "scrolled": true
   },
   "outputs": [
    {
     "data": {
      "text/plain": [
       "4.5"
      ]
     },
     "execution_count": 17,
     "metadata": {},
     "output_type": "execute_result"
    }
   ],
   "source": [
    "montecarlo(bernoulli, -2.75, 1, 0.5, 3.5, 10)"
   ]
  },
  {
   "cell_type": "markdown",
   "metadata": {},
   "source": [
    "**Aproximación de área de la región usando 100 términos o 100 dardos**"
   ]
  },
  {
   "cell_type": "code",
   "execution_count": 23,
   "metadata": {},
   "outputs": [
    {
     "data": {
      "text/plain": [
       "4.275"
      ]
     },
     "execution_count": 23,
     "metadata": {},
     "output_type": "execute_result"
    }
   ],
   "source": [
    "montecarlo(bernoulli, -2.75, 1, 0.5, 3.5, 100)"
   ]
  },
  {
   "cell_type": "markdown",
   "metadata": {},
   "source": [
    "**Aproximación de área de la región usando 1,000 términos o 1,000 dardos**"
   ]
  },
  {
   "cell_type": "code",
   "execution_count": 29,
   "metadata": {},
   "outputs": [
    {
     "data": {
      "text/plain": [
       "4.4437500000000005"
      ]
     },
     "execution_count": 29,
     "metadata": {},
     "output_type": "execute_result"
    }
   ],
   "source": [
    "montecarlo(bernoulli, -2.75, 1, 0.5, 3.5, 1000)"
   ]
  },
  {
   "cell_type": "markdown",
   "metadata": {},
   "source": [
    "**Aproximación de área de la región usando 10,000 términos o 10,000 dardos**"
   ]
  },
  {
   "cell_type": "code",
   "execution_count": 31,
   "metadata": {},
   "outputs": [
    {
     "data": {
      "text/plain": [
       "4.397625000000001"
      ]
     },
     "execution_count": 31,
     "metadata": {},
     "output_type": "execute_result"
    }
   ],
   "source": [
    "montecarlo(bernoulli, -2.75, 1, 0.5, 3.5, 10000)"
   ]
  },
  {
   "cell_type": "markdown",
   "metadata": {},
   "source": [
    "**Aproximación de área de la región usando 100,000 términos o 100,000 dardos**"
   ]
  },
  {
   "cell_type": "code",
   "execution_count": 37,
   "metadata": {},
   "outputs": [
    {
     "data": {
      "text/plain": [
       "4.4476875"
      ]
     },
     "execution_count": 37,
     "metadata": {},
     "output_type": "execute_result"
    }
   ],
   "source": [
    "montecarlo(bernoulli, -2.75, 1, 0.5, 3.5, 100000)"
   ]
  },
  {
   "cell_type": "markdown",
   "metadata": {},
   "source": [
    "Tenemos que la aproximación más precisa del área de la región descrita por: \n",
    "$$ x^2 + 2y^2 \\leq -2x + 8y -7 $$\n",
    "\n",
    "es de =~ 4.44 $u^2$ (unidades cuadradas de área)"
   ]
  },
  {
   "cell_type": "markdown",
   "metadata": {},
   "source": [
    "Tabla con las aproximaciones de área utilizando $N$ términos (que van de 10, 100, 1,000, 10,000 y 100,000) y sus respectivos errores"
   ]
  },
  {
   "cell_type": "code",
   "execution_count": 8,
   "metadata": {},
   "outputs": [
    {
     "data": {
      "text/html": [
       "<div>\n",
       "<style scoped>\n",
       "    .dataframe tbody tr th:only-of-type {\n",
       "        vertical-align: middle;\n",
       "    }\n",
       "\n",
       "    .dataframe tbody tr th {\n",
       "        vertical-align: top;\n",
       "    }\n",
       "\n",
       "    .dataframe thead th {\n",
       "        text-align: right;\n",
       "    }\n",
       "</style>\n",
       "<table border=\"1\" class=\"dataframe\">\n",
       "  <thead>\n",
       "    <tr style=\"text-align: right;\">\n",
       "      <th></th>\n",
       "      <th>Aproximación de área</th>\n",
       "      <th>Error</th>\n",
       "    </tr>\n",
       "  </thead>\n",
       "  <tbody>\n",
       "    <tr>\n",
       "      <th>10.0</th>\n",
       "      <td>3.375</td>\n",
       "      <td>1.072237</td>\n",
       "    </tr>\n",
       "    <tr>\n",
       "      <th>100.0</th>\n",
       "      <td>4.5</td>\n",
       "      <td>0.052763</td>\n",
       "    </tr>\n",
       "    <tr>\n",
       "      <th>1000.0</th>\n",
       "      <td>4.365</td>\n",
       "      <td>0.082237</td>\n",
       "    </tr>\n",
       "    <tr>\n",
       "      <th>10000.0</th>\n",
       "      <td>4.54725</td>\n",
       "      <td>0.100013</td>\n",
       "    </tr>\n",
       "    <tr>\n",
       "      <th>100000.0</th>\n",
       "      <td>4.449038</td>\n",
       "      <td>0.0018</td>\n",
       "    </tr>\n",
       "  </tbody>\n",
       "</table>\n",
       "</div>"
      ],
      "text/plain": [
       "         Aproximación de área     Error\n",
       "10.0                    3.375  1.072237\n",
       "100.0                     4.5  0.052763\n",
       "1000.0                  4.365  0.082237\n",
       "10000.0               4.54725  0.100013\n",
       "100000.0             4.449038    0.0018"
      ]
     },
     "execution_count": 8,
     "metadata": {},
     "output_type": "execute_result"
    }
   ],
   "source": [
    "import pandas as pd\n",
    "import numpy as np\n",
    "\n",
    "N = np.logspace(1, 5, 5)\n",
    "table = pd.DataFrame(columns=['Aproximación de área' , 'Error'], index = N)\n",
    "table\n",
    "\n",
    "for i in N :\n",
    "    table.loc[i, 'Aproximación de área'] = montecarlo(bernoulli, -2.75, 1, 0.5, 3.5, int(i))\n",
    "    table['Error'] = np.abs( np.mean(montecarlo(bernoulli, -2.75, 1, 0.5, 3.5, int(i))) - table['Aproximación de área'])\n",
    "table"
   ]
  },
  {
   "cell_type": "markdown",
   "metadata": {},
   "source": [
    "---"
   ]
  },
  {
   "cell_type": "markdown",
   "metadata": {},
   "source": [
    "3. Describe 3 casos de uso de integración Montecarlo en tu ingeniería.\n",
    "\n",
    "***Ingeniería Financiera***"
   ]
  },
  {
   "cell_type": "markdown",
   "metadata": {},
   "source": [
    "## Primer caso:\n",
    "\n",
    "Se puede usar para evaluar o calcular la rentabilidad de un portafolio de inverisión que se pueda expresar en una integral definida, la función de dicha integral puede describir o tomar en cuenta cualquiera de los siguientes criterios:\n",
    "- Los activos en los que se quiere invertir\n",
    "- El capital inicial de la inversión\n",
    "- El riesgo total de los activos\n",
    "- El tiempo o plazo total de la inversión\n",
    "\n",
    "Y los parámetros o límites de integración pueden expresar o delimitar lo siguiente:\n",
    "- El plazo de tiempo o de duración del portafolio\n",
    "- Porcentajes de redimiento\n",
    "- Pérdidas y ganancias esperadas.\n",
    "\n"
   ]
  },
  {
   "cell_type": "markdown",
   "metadata": {},
   "source": [
    "## Segundo caso: \n",
    "\n",
    "Se puede utilizar Integración Montecarlo para aproximar el rendimiento de una acción dentro de cierto tiempo (puede ser un mes, un año, cinco años, etc.), a la vez tomando en cuenta el error, que podría ser el riesgo de la acción.\n",
    "\n",
    "El rendimiento se podriá expresar en términos de porcentaje, o de capital, para que se exprese en capital se tendría que proponer un capital a invertir."
   ]
  },
  {
   "cell_type": "markdown",
   "metadata": {},
   "source": [
    "## Tercer caso:\n",
    "\n",
    "Se puede aproximar las ganancias netas de una empresa para el fin de cierto periodo, o también se puede aproximar el valor de algún índice financiero, por ejemplo, el índice S&P 500, que toma en cuenta las 500 empresas más importantes de Estados Unidos"
   ]
  },
  {
   "cell_type": "markdown",
   "metadata": {},
   "source": [
    "---"
   ]
  }
 ],
 "metadata": {
  "kernelspec": {
   "display_name": "Python 3 (ipykernel)",
   "language": "python",
   "name": "python3"
  },
  "language_info": {
   "codemirror_mode": {
    "name": "ipython",
    "version": 3
   },
   "file_extension": ".py",
   "mimetype": "text/x-python",
   "name": "python",
   "nbconvert_exporter": "python",
   "pygments_lexer": "ipython3",
   "version": "3.9.12"
  }
 },
 "nbformat": 4,
 "nbformat_minor": 2
}
